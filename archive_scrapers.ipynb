{
 "cells": [
  {
   "cell_type": "code",
   "execution_count": 4,
   "metadata": {},
   "outputs": [
    {
     "name": "stdout",
     "output_type": "stream",
     "text": [
      "🔍 large-language models: 962875 papers found\n",
      "🔍 gradient descent: 71693 papers found\n"
     ]
    }
   ],
   "source": [
    "import requests\n",
    "import xml.etree.ElementTree as ET\n",
    "\n",
    "def count_arxiv_papers(query):\n",
    "    url = f\"http://export.arxiv.org/api/query?search_query=all:{query}&max_results=1\"\n",
    "    response = requests.get(url)\n",
    "    \n",
    "    # Parse XML response\n",
    "    root = ET.fromstring(response.text)\n",
    "    \n",
    "    # uses OpenSearch namespace\n",
    "    total_results_tag = root.find(\".//{http://a9.com/-/spec/opensearch/1.1/}totalResults\")\n",
    "    \n",
    "    if total_results_tag is not None:\n",
    "        return int(total_results_tag.text)\n",
    "    else:\n",
    "        return 0\n",
    "\n",
    "# Example usage\n",
    "keywords = [\"large-language models\", \"gradient descent\"]\n",
    "for keyword in keywords:\n",
    "    count = count_arxiv_papers(keyword)\n",
    "    print(f\"🔍 {keyword}: {count} papers found\")\n",
    "\n"
   ]
  },
  {
   "cell_type": "code",
   "execution_count": 5,
   "metadata": {},
   "outputs": [
    {
     "name": "stdout",
     "output_type": "stream",
     "text": [
      "\n",
      "🔍 Papers for: LLM\n",
      "2010: 1 papers\n",
      "2022: 4 papers\n",
      "2023: 442 papers\n",
      "2024: 1418 papers\n",
      "2025: 135 papers\n",
      "\n",
      "🔍 Papers for: GRADIENT DESCENT\n",
      "1998: 1 papers\n",
      "1999: 1 papers\n",
      "2000: 1 papers\n",
      "2002: 2 papers\n",
      "2004: 1 papers\n",
      "2005: 1 papers\n",
      "2006: 2 papers\n",
      "2007: 1 papers\n",
      "2009: 2 papers\n",
      "2010: 4 papers\n",
      "2011: 8 papers\n",
      "2012: 13 papers\n",
      "2013: 20 papers\n",
      "2014: 29 papers\n",
      "2015: 49 papers\n",
      "2016: 69 papers\n",
      "2017: 108 papers\n",
      "2018: 177 papers\n",
      "2019: 224 papers\n",
      "2020: 252 papers\n",
      "2021: 221 papers\n",
      "2022: 256 papers\n",
      "2023: 237 papers\n",
      "2024: 284 papers\n",
      "2025: 37 papers\n"
     ]
    }
   ],
   "source": [
    "#Papers by Year\n",
    "\n",
    "import requests\n",
    "import xml.etree.ElementTree as ET\n",
    "from collections import Counter\n",
    "\n",
    "def count_arxiv_papers_by_year(query, max_results=2000):\n",
    "    \"\"\"\n",
    "    Fetches the number of ArXiv papers matching a search query, grouped by year.\n",
    "    :param query: The keyword(s) to search for.\n",
    "    :param max_results: Max number of papers to retrieve (2000 per request limit).\n",
    "    :return: Dictionary with years as keys and paper counts as values.\n",
    "    \"\"\"\n",
    "    base_url = \"http://export.arxiv.org/api/query\"\n",
    "    params = {\n",
    "        \"search_query\": f\"all:{query}\",\n",
    "        \"start\": 0,\n",
    "        \"max_results\": max_results  # Adjust based on your needs\n",
    "    }\n",
    "\n",
    "    response = requests.get(base_url, params=params)\n",
    "    root = ET.fromstring(response.text)\n",
    "    \n",
    "    year_counts = Counter()\n",
    "    \n",
    "    # Extract publication years from each paper\n",
    "    for entry in root.findall(\"{http://www.w3.org/2005/Atom}entry\"):\n",
    "        published_date = entry.find(\"{http://www.w3.org/2005/Atom}published\").text\n",
    "        year = published_date[:4]  # Extract YYYY\n",
    "        year_counts[year] += 1\n",
    "    \n",
    "    return dict(sorted(year_counts.items()))  # Return sorted results\n",
    "\n",
    "# Example: Get papers by year for multiple keywords\n",
    "keywords = [\"LLM\", \"gradient descent\"]\n",
    "for keyword in keywords:\n",
    "    print(f\"\\n🔍 Papers for: {keyword.upper()}\")\n",
    "    year_distribution = count_arxiv_papers_by_year(keyword)\n",
    "    for year, count in year_distribution.items():\n",
    "        print(f\"{year}: {count} papers\")\n"
   ]
  }
 ],
 "metadata": {
  "kernelspec": {
   "display_name": "Python 3",
   "language": "python",
   "name": "python3"
  },
  "language_info": {
   "codemirror_mode": {
    "name": "ipython",
    "version": 3
   },
   "file_extension": ".py",
   "mimetype": "text/x-python",
   "name": "python",
   "nbconvert_exporter": "python",
   "pygments_lexer": "ipython3",
   "version": "3.12.8"
  }
 },
 "nbformat": 4,
 "nbformat_minor": 2
}
