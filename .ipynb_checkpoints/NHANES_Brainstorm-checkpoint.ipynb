{
 "cells": [
  {
   "cell_type": "code",
   "execution_count": 10,
   "id": "9d5f2053-1584-4ed7-a8f3-291200b099a1",
   "metadata": {},
   "outputs": [
    {
     "name": "stdout",
     "output_type": "stream",
     "text": [
      "          SEQN  FSD032A  FSD032B  FSD032C  FSD041  FSD052  FSD061  FSD071  \\\n",
      "0      93703.0      3.0      3.0      3.0     NaN     NaN     NaN     NaN   \n",
      "1      93704.0      3.0      3.0      3.0     NaN     NaN     NaN     NaN   \n",
      "2      93705.0      3.0      3.0      3.0     NaN     NaN     NaN     NaN   \n",
      "3      93706.0      NaN      NaN      NaN     NaN     NaN     NaN     NaN   \n",
      "4      93707.0      1.0      1.0      2.0     1.0     2.0     1.0     1.0   \n",
      "...        ...      ...      ...      ...     ...     ...     ...     ...   \n",
      "9249  102952.0      2.0      2.0      3.0     2.0     NaN     1.0     1.0   \n",
      "9250  102953.0      2.0      3.0      3.0     2.0     NaN     2.0     2.0   \n",
      "9251  102954.0      2.0      2.0      2.0     1.0     2.0     2.0     2.0   \n",
      "9252  102955.0      1.0      1.0      1.0     1.0     2.0     1.0     1.0   \n",
      "9253  102956.0      2.0      2.0      2.0     1.0     2.0     1.0     1.0   \n",
      "\n",
      "      FSD081  FSD092  ...  FSD660ZC  FSD675  FSD680  FSD670ZC  FSQ690  FSQ695  \\\n",
      "0        NaN     NaN  ...       NaN     NaN     NaN       NaN     2.0     NaN   \n",
      "1        NaN     NaN  ...       NaN     NaN     NaN       NaN     2.0     NaN   \n",
      "2        NaN     NaN  ...       NaN     NaN     NaN       NaN     NaN     NaN   \n",
      "3        NaN     NaN  ...       NaN     NaN     NaN       NaN     NaN     NaN   \n",
      "4        2.0     2.0  ...       NaN     NaN     NaN       NaN     NaN     NaN   \n",
      "...      ...     ...  ...       ...     ...     ...       ...     ...     ...   \n",
      "9249     1.0     2.0  ...       NaN     NaN     NaN       NaN     NaN     NaN   \n",
      "9250     2.0     NaN  ...       NaN     NaN     NaN       NaN     NaN     NaN   \n",
      "9251     2.0     2.0  ...       NaN     NaN     NaN       NaN     NaN     NaN   \n",
      "9252     2.0     1.0  ...       NaN     NaN     NaN       NaN     NaN     NaN   \n",
      "9253     2.0     2.0  ...       NaN     NaN     NaN       NaN     NaN     NaN   \n",
      "\n",
      "      FSD652ZW  FSD672ZW  FSD652CW  FSD660ZW  \n",
      "0          NaN       NaN       NaN       NaN  \n",
      "1          NaN       NaN       NaN       NaN  \n",
      "2          NaN       NaN       NaN       NaN  \n",
      "3          NaN       NaN       NaN       NaN  \n",
      "4          NaN       NaN       NaN       NaN  \n",
      "...        ...       ...       ...       ...  \n",
      "9249       NaN       NaN       NaN       NaN  \n",
      "9250       NaN       NaN       NaN       NaN  \n",
      "9251       NaN       NaN       NaN       NaN  \n",
      "9252       NaN       NaN       NaN       NaN  \n",
      "9253       NaN       NaN       NaN       NaN  \n",
      "\n",
      "[9254 rows x 49 columns]\n"
     ]
    }
   ],
   "source": [
    "import pandas as pd\n",
    "\n",
    "weighthistory_df = pd.read_sas(\"WeightHistory_2017_18.xpt\")\n",
    "foodsecurity_df = pd.read_sas(\"FoodSecurity_2017_18.xpt\")\n",
    "smokinghist_df = pd.read_sas(\"SmokingHistory_CigUse_2017_18.xpt\")\n",
    "secondhandsmoke_df = pd.read_sas(\"SmokingHistorySecondHand_2017_18.xpt\")\n",
    "rxdrugs_df = pd.read_sas(\"PrescriptionDrugs_2017_18.xpt\")\n",
    "druguse_df = pd.read_sas(\"DrugUse_2017_18.xpt\")\n",
    "\n",
    "print(foodsecurity_df)\n",
    "#print(data)"
   ]
  },
  {
   "cell_type": "markdown",
   "id": "a4986845-5371-4d17-b61c-3904af426b04",
   "metadata": {},
   "source": [
    "Notes:\n",
    "\n",
    "Questionnaire data from : https://wwwn.cdc.gov/nchs/nhanes/search/datapage.aspx?Component=Questionnaire&CycleBeginYear=2017\n"
   ]
  },
  {
   "cell_type": "code",
   "execution_count": null,
   "id": "894922e3-6ed3-4df5-ab71-4174feb49aa9",
   "metadata": {},
   "outputs": [],
   "source": []
  }
 ],
 "metadata": {
  "kernelspec": {
   "display_name": "Python 3 (ipykernel)",
   "language": "python",
   "name": "python3"
  },
  "language_info": {
   "codemirror_mode": {
    "name": "ipython",
    "version": 3
   },
   "file_extension": ".py",
   "mimetype": "text/x-python",
   "name": "python",
   "nbconvert_exporter": "python",
   "pygments_lexer": "ipython3",
   "version": "3.12.8"
  }
 },
 "nbformat": 4,
 "nbformat_minor": 5
}
