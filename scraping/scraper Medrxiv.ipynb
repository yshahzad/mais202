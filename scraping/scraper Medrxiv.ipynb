{
 "cells": [
  {
   "cell_type": "code",
   "execution_count": null,
   "metadata": {},
   "outputs": [],
   "source": [
    "import paperscraper\n",
    "from paperscraper.arxiv import get_and_dump_arxiv_papers\n",
    "from paperscraper.get_dumps import medrxiv\n",
    "from paperscraper.xrxiv.xrxiv_query import XRXivQuery\n",
    "from paperscraper import dump_queries\n",
    "from paperscraper.get_dumps import arxiv\n",
    "import json\n",
    "import csv\n",
    "\n",
    "#medrxiv()\n",
    "#biorxiv()\n",
    "\n",
    "# Example of queries. Those in the same list means we look for one OR the other\n",
    "covid19 = ['COVID-19', 'SARS-CoV-2']\n",
    "ai = ['Artificial intelligence', 'Machine learning']\n",
    "mi = ['Medical imaging']\n",
    "time_series = ['ARIMA']\n",
    "physics = ['Astronomy']\n",
    "dyn = ['Dynamical systems']\n",
    "\n",
    "# Look for articles containing ALL the querys\n",
    "querys = [time_series, mi]\n",
    "\n",
    "\n",
    "def convert_to_csv(json_file, csv_file):\n",
    "    with open(json_file, 'r', encoding='utf-8') as file:\n",
    "        data = [json.loads(line) for line in file] \n",
    "# Define the CSV headers, excluding \"abstract\"\n",
    "    fieldnames = [\"doi\", \"date\", \"title\", \"authors\", \"journal\"]\n",
    "\n",
    "# Write to CSV file\n",
    "    with open(csv_file, mode='w', newline='', encoding='utf-8') as file:\n",
    "        writer = csv.DictWriter(file, fieldnames=fieldnames)\n",
    "        writer.writeheader()\n",
    "    \n",
    "    # Write each row, excluding \"abstract\"\n",
    "        for entry in data:\n",
    "            filtered_entry = {key: entry[key] for key in fieldnames}  # Remove \"abstract\"\n",
    "            writer.writerow(filtered_entry)\n",
    "\n",
    "def scrape(query, name):\n",
    "    '''will scrape for [query] and save a json and csv file as [name]'''\n",
    "    #change this to your local path where you dowloaded the biorxiv\n",
    "    file_path = \"C:/Users/charl/anaconda3/Lib/site-packages/paperscraper/server_dumps/medrxiv_2025-03-03.jsonl\"\n",
    "    \n",
    "    querier = XRXivQuery(file_path)\n",
    "    querier.search_keywords(query, output_filepath='Medrxiv json files/' + name + '.jsonl')\n",
    "    convert_to_csv('Medrxiv json files/' + name + '.jsonl', 'Medrxiv csv files/' + name + '.csv')\n",
    "\n",
    "\n",
    "#scrape(time_series,\"Arima\")"
   ]
  },
  {
   "cell_type": "code",
   "execution_count": 14,
   "metadata": {},
   "outputs": [
    {
     "data": {
      "text/html": [
       "<div>\n",
       "<style scoped>\n",
       "    .dataframe tbody tr th:only-of-type {\n",
       "        vertical-align: middle;\n",
       "    }\n",
       "\n",
       "    .dataframe tbody tr th {\n",
       "        vertical-align: top;\n",
       "    }\n",
       "\n",
       "    .dataframe thead th {\n",
       "        text-align: right;\n",
       "    }\n",
       "</style>\n",
       "<table border=\"1\" class=\"dataframe\">\n",
       "  <thead>\n",
       "    <tr style=\"text-align: right;\">\n",
       "      <th></th>\n",
       "      <th>title</th>\n",
       "      <th>doi</th>\n",
       "      <th>authors</th>\n",
       "      <th>abstract</th>\n",
       "      <th>date</th>\n",
       "      <th>journal</th>\n",
       "    </tr>\n",
       "  </thead>\n",
       "  <tbody>\n",
       "  </tbody>\n",
       "</table>\n",
       "</div>"
      ],
      "text/plain": [
       "Empty DataFrame\n",
       "Columns: [title, doi, authors, abstract, date, journal]\n",
       "Index: []"
      ]
     },
     "execution_count": 14,
     "metadata": {},
     "output_type": "execute_result"
    }
   ],
   "source": [
    "_"
   ]
  }
 ],
 "metadata": {
  "kernelspec": {
   "display_name": "base",
   "language": "python",
   "name": "python3"
  },
  "language_info": {
   "codemirror_mode": {
    "name": "ipython",
    "version": 3
   },
   "file_extension": ".py",
   "mimetype": "text/x-python",
   "name": "python",
   "nbconvert_exporter": "python",
   "pygments_lexer": "ipython3",
   "version": "3.12.7"
  }
 },
 "nbformat": 4,
 "nbformat_minor": 2
}
