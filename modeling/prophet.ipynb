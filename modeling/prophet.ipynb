{
 "cells": [
  {
   "cell_type": "code",
   "execution_count": 44,
   "metadata": {},
   "outputs": [],
   "source": [
    "import pandas as pd\n",
    "import polars as pl\n",
    "from prophet import Prophet\n",
    "from prophet.plot import plot_cross_validation_metric\n",
    "from prophet.diagnostics import cross_validation, performance_metrics\n",
    "from arxiv_categories import physics_categories, math_categories, cs_categories, astro_categories\n",
    "\n",
    "\n",
    "from tqdm import tqdm\n",
    "from datetime import datetime\n",
    "import seaborn as sns\n",
    "import matplotlib.pyplot as plt\n",
    "import os\n"
   ]
  },
  {
   "cell_type": "code",
   "execution_count": null,
   "metadata": {},
   "outputs": [],
   "source": [
    "\n",
    "def format_pubs_by_week(filepath, subdiscipline_code):\n",
    "\n",
    "    # Load the CSV file with schema\n",
    "    schema = {\n",
    "        \"id\": pl.Utf8,\n",
    "        \"authors\": pl.Utf8,\n",
    "        \"title\": pl.Utf8,\n",
    "        \"categories\": pl.Utf8,\n",
    "        \"comments\": pl.Utf8,\n",
    "        \"update_date\": pl.Date,  # Parsing standard date format\n",
    "        \"latest_created_date\": pl.Utf8,  # Read as string first for manual parsing\n",
    "    }\n",
    "    \n",
    "    # Read the CSV file with schema\n",
    "    try:\n",
    "        raw_df = pl.read_csv(filepath, schema=schema)\n",
    "    except Exception as e:\n",
    "        print(f\"Error reading file: {e}\")\n",
    "        return None\n",
    "\n",
    "    # Parse 'latest_created_date' to Datetime with specific format\n",
    "    df = raw_df.with_columns(\n",
    "        pl.col(\"latest_created_date\").str.strptime(\n",
    "            pl.Datetime(\"us\"), \n",
    "            format=\"%a, %d %b %Y %H:%M:%S %Z\",  # Using 'format' instead of 'fmt'\n",
    "            strict=False  # Allows partial parsing or missing values\n",
    "        )\n",
    "    ).drop_nulls(subset=[\"latest_created_date\"])\n",
    "\n",
    "    # Truncate to weeks\n",
    "    df = df.with_columns(\n",
    "        (pl.col(\"latest_created_date\").dt.truncate(\"1w\")).alias(\"year_week\")\n",
    "    )\n",
    "\n",
    "    # Filter the DataFrame for the specified subdiscipline code - using regex for exact match\n",
    "    pattern = fr\"\\b{subdiscipline_code}\\b\"\n",
    "    df = df.filter(pl.col(\"categories\").str.contains(pattern, literal=False))\n",
    "\n",
    "    # print(\"Checking unique weeks detected:\")\n",
    "    # print(df.select(pl.col(\"year_week\").unique()))\n",
    "\n",
    "    # Count publications per week\n",
    "    weekly_counts = df.group_by(\"year_week\").agg([\n",
    "        pl.col(\"id\").count().alias(\"publications_per_week\")\n",
    "    ])\n",
    "\n",
    "    # Adding the keyword to the DataFrame\n",
    "    weekly_counts = weekly_counts.with_columns(\n",
    "        pl.lit(subdiscipline_code).alias(\"keyword\")\n",
    "    )\n",
    "\n",
    "    weekly_counts = weekly_counts.sort(\"year_week\")\n",
    "\n",
    "    # Return the final DataFrame\n",
    "    return weekly_counts\n",
    "\n",
    "\n",
    "\n",
    "df = format_pubs_by_week(filepath=\"cs_arxiv_data.csv\", subdiscipline_code=\"cs.CG\")\n",
    "field_prophet_df = df.to_pandas()\n",
    "field_prophet_df = field_prophet_df[[\"year_week\", \"publications_per_week\"]]\n",
    "field_prophet_df = field_prophet_df.rename(columns={'year_week': 'ds', 'publications_per_week': 'y'})\n",
    "#print(field_prophet_df)"
   ]
  },
  {
   "cell_type": "code",
   "execution_count": null,
   "metadata": {},
   "outputs": [
    {
     "name": "stderr",
     "output_type": "stream",
     "text": [
      "03:22:21 - cmdstanpy - INFO - Chain [1] start processing\n",
      "03:22:21 - cmdstanpy - INFO - Chain [1] done processing\n"
     ]
    },
    {
     "data": {
      "application/vnd.jupyter.widget-view+json": {
       "model_id": "792e7b822ace4a998914ac4f40030eb4",
       "version_major": 2,
       "version_minor": 0
      },
      "text/plain": [
       "  0%|          | 0/15 [00:00<?, ?it/s]"
      ]
     },
     "metadata": {},
     "output_type": "display_data"
    },
    {
     "name": "stderr",
     "output_type": "stream",
     "text": [
      "03:22:21 - cmdstanpy - INFO - Chain [1] start processing\n",
      "03:22:21 - cmdstanpy - INFO - Chain [1] done processing\n",
      "03:22:21 - cmdstanpy - INFO - Chain [1] start processing\n",
      "03:22:22 - cmdstanpy - INFO - Chain [1] done processing\n",
      "03:22:22 - cmdstanpy - INFO - Chain [1] start processing\n",
      "03:22:22 - cmdstanpy - INFO - Chain [1] done processing\n",
      "03:22:22 - cmdstanpy - INFO - Chain [1] start processing\n",
      "03:22:22 - cmdstanpy - INFO - Chain [1] done processing\n",
      "03:22:22 - cmdstanpy - INFO - Chain [1] start processing\n",
      "03:22:22 - cmdstanpy - INFO - Chain [1] done processing\n",
      "03:22:22 - cmdstanpy - INFO - Chain [1] start processing\n",
      "03:22:22 - cmdstanpy - INFO - Chain [1] done processing\n",
      "03:22:23 - cmdstanpy - INFO - Chain [1] start processing\n",
      "03:22:23 - cmdstanpy - INFO - Chain [1] done processing\n",
      "03:22:23 - cmdstanpy - INFO - Chain [1] start processing\n",
      "03:22:23 - cmdstanpy - INFO - Chain [1] done processing\n",
      "03:22:23 - cmdstanpy - INFO - Chain [1] start processing\n",
      "03:22:23 - cmdstanpy - INFO - Chain [1] done processing\n",
      "03:22:23 - cmdstanpy - INFO - Chain [1] start processing\n",
      "03:22:23 - cmdstanpy - INFO - Chain [1] done processing\n",
      "03:22:23 - cmdstanpy - INFO - Chain [1] start processing\n",
      "03:22:23 - cmdstanpy - INFO - Chain [1] done processing\n",
      "03:22:23 - cmdstanpy - INFO - Chain [1] start processing\n",
      "03:22:23 - cmdstanpy - INFO - Chain [1] done processing\n",
      "03:22:24 - cmdstanpy - INFO - Chain [1] start processing\n",
      "03:22:24 - cmdstanpy - INFO - Chain [1] done processing\n",
      "03:22:24 - cmdstanpy - INFO - Chain [1] start processing\n",
      "03:22:24 - cmdstanpy - INFO - Chain [1] done processing\n",
      "03:22:24 - cmdstanpy - INFO - Chain [1] start processing\n",
      "03:22:24 - cmdstanpy - INFO - Chain [1] done processing\n"
     ]
    },
    {
     "ename": "UnboundLocalError",
     "evalue": "cannot access local variable 'results' where it is not associated with a value",
     "output_type": "error",
     "traceback": [
      "\u001b[0;31m---------------------------------------------------------------------------\u001b[0m",
      "\u001b[0;31mUnboundLocalError\u001b[0m                         Traceback (most recent call last)",
      "Cell \u001b[0;32mIn[35], line 53\u001b[0m\n\u001b[1;32m     48\u001b[0m     fig2 \u001b[38;5;241m=\u001b[39m plot_cross_validation_metric(df_cv, metric\u001b[38;5;241m=\u001b[39m\u001b[38;5;124m'\u001b[39m\u001b[38;5;124mrmse\u001b[39m\u001b[38;5;124m'\u001b[39m)\n\u001b[1;32m     51\u001b[0m     \u001b[38;5;66;03m#Evaluate\u001b[39;00m\n\u001b[0;32m---> 53\u001b[0m \u001b[43mevaluate_prophet\u001b[49m\u001b[43m(\u001b[49m\u001b[43mfield_prophet_df\u001b[49m\u001b[43m)\u001b[49m\n",
      "Cell \u001b[0;32mIn[35], line 18\u001b[0m, in \u001b[0;36mevaluate_prophet\u001b[0;34m(field_prophet_df, changepoint_val, seasonality_val)\u001b[0m\n\u001b[1;32m     15\u001b[0m \u001b[38;5;66;03m# Retrieve the RMSE metric and add it to the results DataFrame\u001b[39;00m\n\u001b[1;32m     16\u001b[0m rmse \u001b[38;5;241m=\u001b[39m df_performance[\u001b[38;5;124m'\u001b[39m\u001b[38;5;124mrmse\u001b[39m\u001b[38;5;124m'\u001b[39m]\u001b[38;5;241m.\u001b[39mmean()\n\u001b[0;32m---> 18\u001b[0m results \u001b[38;5;241m=\u001b[39m \u001b[43mresults\u001b[49m\u001b[38;5;241m.\u001b[39mappend({\n\u001b[1;32m     19\u001b[0m         \u001b[38;5;124m'\u001b[39m\u001b[38;5;124mchangepoint_prior_scale\u001b[39m\u001b[38;5;124m'\u001b[39m: changepoint_val,\n\u001b[1;32m     20\u001b[0m         \u001b[38;5;124m'\u001b[39m\u001b[38;5;124mseasonality_prior_scale\u001b[39m\u001b[38;5;124m'\u001b[39m: seasonality_val,\n\u001b[1;32m     21\u001b[0m         \u001b[38;5;124m'\u001b[39m\u001b[38;5;124mrmse\u001b[39m\u001b[38;5;124m'\u001b[39m: rmse\n\u001b[1;32m     22\u001b[0m     }, ignore_index\u001b[38;5;241m=\u001b[39m\u001b[38;5;28;01mTrue\u001b[39;00m)\n\u001b[1;32m     27\u001b[0m \u001b[38;5;66;03m# future_field = field.make_future_dataframe(periods=52)\u001b[39;00m\n\u001b[1;32m     28\u001b[0m \u001b[38;5;66;03m# future_field.tail()\u001b[39;00m\n\u001b[1;32m     29\u001b[0m \n\u001b[0;32m   (...)\u001b[0m\n\u001b[1;32m     43\u001b[0m \u001b[38;5;66;03m# df_performance = performance_metrics(df_cv)\u001b[39;00m\n\u001b[1;32m     44\u001b[0m \u001b[38;5;66;03m# print(df_performance.head())\u001b[39;00m\n\u001b[1;32m     47\u001b[0m fig1 \u001b[38;5;241m=\u001b[39m plot_cross_validation_metric(df_cv, metric\u001b[38;5;241m=\u001b[39m\u001b[38;5;124m'\u001b[39m\u001b[38;5;124mcoverage\u001b[39m\u001b[38;5;124m'\u001b[39m)\n",
      "\u001b[0;31mUnboundLocalError\u001b[0m: cannot access local variable 'results' where it is not associated with a value"
     ]
    }
   ],
   "source": [
    "\n",
    "def evaluate_prophet(field_prophet_df, changepoint_val=0.01, seasonality_val=0.1):\n",
    "\n",
    "    #Fit\n",
    "    model = Prophet(\n",
    "        changepoint_prior_scale=changepoint_val,\n",
    "        seasonality_prior_scale=seasonality_val\n",
    "    )\n",
    "\n",
    "    model.fit(field_prophet_df)\n",
    "\n",
    "    df_cv = cross_validation(model, initial='3650 days', horizon='365 days', period='180 days')\n",
    "\n",
    "    df_performance = performance_metrics(df_cv)\n",
    "\n",
    "    # Retrieve the RMSE metric and add it to the results DataFrame\n",
    "    rmse = df_performance['rmse'].mean()\n",
    "\n",
    "    results = results.append({\n",
    "            'changepoint_prior_scale': changepoint_val,\n",
    "            'seasonality_prior_scale': seasonality_val,\n",
    "            'rmse': rmse\n",
    "        }, ignore_index=True)\n",
    "\n",
    "\n",
    "    # future_field = field.make_future_dataframe(periods=52)\n",
    "    # future_field.tail()\n",
    "\n",
    "    # forecast_field = field.predict(future_field)\n",
    "    # forecast_field[['ds', 'yhat', 'yhat_lower', 'yhat_upper']].tail()\n",
    "\n",
    "    # fig1 = field.plot(forecast_field)\n",
    "    # fig2 = field.plot_components(forecast_field)\n",
    "\n",
    "    # df_cv = cross_validation(\n",
    "    # model=field,\n",
    "    # initial='3650 days',  # Initial training period (e.g., 10 years of weekly data)\n",
    "    # horizon='365 days',   # Forecasting horizon (e.g., 1 year)\n",
    "    # period='180 days'     # Spacing between cutoff dates (e.g., every 6 months)\n",
    "    # )\n",
    "\n",
    "    # df_performance = performance_metrics(df_cv)\n",
    "    # print(df_performance.head())\n",
    "\n",
    "    \n",
    "    fig1 = plot_cross_validation_metric(df_cv, metric='coverage')\n",
    "    fig2 = plot_cross_validation_metric(df_cv, metric='rmse')\n",
    "\n",
    "\n",
    "    #Evaluate\n",
    "\n",
    "evaluate_prophet(field_prophet_df)"
   ]
  },
  {
   "cell_type": "code",
   "execution_count": 50,
   "metadata": {},
   "outputs": [],
   "source": [
    "def hyperparameter_tuning(field_prophet_df):\n",
    "    changepoint_prior_scales = [0.01, 0.1, 0.5]\n",
    "    seasonality_prior_scales = [1.0, 10.0]\n",
    "\n",
    "    results = []  # Store results in a list for better performance\n",
    "\n",
    "    for changepoint_val in changepoint_prior_scales:\n",
    "        for seasonality_val in seasonality_prior_scales:\n",
    "            print(f\"Training with changepoint_prior_scale={changepoint_val}, seasonality_prior_scale={seasonality_val}\")\n",
    "            \n",
    "            # Initialize and fit the model\n",
    "            model = Prophet(\n",
    "                changepoint_prior_scale=changepoint_val,\n",
    "                seasonality_prior_scale=seasonality_val\n",
    "            )\n",
    "            \n",
    "            model.fit(field_prophet_df)\n",
    "\n",
    "            # Cross-validation\n",
    "            df_cv = cross_validation(\n",
    "                model,\n",
    "                initial='4380 days',  # 12 years of data\n",
    "                horizon='365 days',   # 1 year forecast window\n",
    "                period='180 days'     # Training window rolls forward every 6 months\n",
    "            )\n",
    "\n",
    "            # Performance metrics\n",
    "            df_performance = performance_metrics(df_cv)\n",
    "            rmse = df_performance['rmse'].mean()  # Calculate average RMSE\n",
    "\n",
    "            # Store the results\n",
    "            results.append({\n",
    "                'changepoint_prior_scale': changepoint_val,\n",
    "                'seasonality_prior_scale': seasonality_val,\n",
    "                'rmse': rmse\n",
    "            })\n",
    "\n",
    "    # Convert results to DataFrame\n",
    "    results_df = pd.DataFrame(results)\n",
    "    \n",
    "    # Find the best parameters\n",
    "    best_params = results_df.loc[results_df['rmse'].idxmin()]\n",
    "    print(\"\\nBest Parameters:\")\n",
    "    print(best_params)\n",
    "\n",
    "    return results_df\n",
    "\n",
    "# Assuming your field_prophet_df is already prepared\n",
    "#results_df = hyperparameter_tuning(field_prophet_df)\n",
    "\n",
    "\n",
    "           "
   ]
  },
  {
   "cell_type": "code",
   "execution_count": 52,
   "metadata": {},
   "outputs": [
    {
     "name": "stderr",
     "output_type": "stream",
     "text": [
      "Tuning cs subdisciplines:   0%|                            | 0/40 [00:00<?, ?it/s, Processing cs.AI]15:38:30 - cmdstanpy - INFO - Chain [1] start processing\n",
      "15:38:31 - cmdstanpy - INFO - Chain [1] done processing\n"
     ]
    },
    {
     "name": "stdout",
     "output_type": "stream",
     "text": [
      "Training with changepoint_prior_scale=0.01, seasonality_prior_scale=1.0\n"
     ]
    },
    {
     "data": {
      "application/vnd.jupyter.widget-view+json": {
       "model_id": "4229400ecc6c41368f3905715c323603",
       "version_major": 2,
       "version_minor": 0
      },
      "text/plain": [
       "  0%|          | 0/11 [00:00<?, ?it/s]"
      ]
     },
     "metadata": {},
     "output_type": "display_data"
    },
    {
     "name": "stderr",
     "output_type": "stream",
     "text": [
      "15:38:31 - cmdstanpy - INFO - Chain [1] start processing\n",
      "15:38:31 - cmdstanpy - INFO - Chain [1] done processing\n",
      "15:38:31 - cmdstanpy - INFO - Chain [1] start processing\n",
      "15:38:31 - cmdstanpy - INFO - Chain [1] done processing\n",
      "15:38:31 - cmdstanpy - INFO - Chain [1] start processing\n",
      "15:38:31 - cmdstanpy - INFO - Chain [1] done processing\n",
      "15:38:31 - cmdstanpy - INFO - Chain [1] start processing\n",
      "15:38:31 - cmdstanpy - INFO - Chain [1] done processing\n",
      "15:38:31 - cmdstanpy - INFO - Chain [1] start processing\n",
      "15:38:31 - cmdstanpy - INFO - Chain [1] done processing\n",
      "15:38:31 - cmdstanpy - INFO - Chain [1] start processing\n",
      "15:38:31 - cmdstanpy - INFO - Chain [1] done processing\n",
      "15:38:32 - cmdstanpy - INFO - Chain [1] start processing\n",
      "15:38:32 - cmdstanpy - INFO - Chain [1] done processing\n",
      "15:38:32 - cmdstanpy - INFO - Chain [1] start processing\n",
      "15:38:32 - cmdstanpy - INFO - Chain [1] done processing\n",
      "15:38:32 - cmdstanpy - INFO - Chain [1] start processing\n",
      "15:38:32 - cmdstanpy - INFO - Chain [1] done processing\n",
      "15:38:32 - cmdstanpy - INFO - Chain [1] start processing\n",
      "15:38:32 - cmdstanpy - INFO - Chain [1] done processing\n",
      "15:38:32 - cmdstanpy - INFO - Chain [1] start processing\n",
      "15:38:32 - cmdstanpy - INFO - Chain [1] done processing\n",
      "15:38:33 - cmdstanpy - INFO - Chain [1] start processing\n",
      "15:38:33 - cmdstanpy - INFO - Chain [1] done processing\n"
     ]
    },
    {
     "name": "stdout",
     "output_type": "stream",
     "text": [
      "Training with changepoint_prior_scale=0.01, seasonality_prior_scale=10.0\n"
     ]
    },
    {
     "data": {
      "application/vnd.jupyter.widget-view+json": {
       "model_id": "9128a6e0d06b47299dc44401dbf03960",
       "version_major": 2,
       "version_minor": 0
      },
      "text/plain": [
       "  0%|          | 0/11 [00:00<?, ?it/s]"
      ]
     },
     "metadata": {},
     "output_type": "display_data"
    },
    {
     "name": "stderr",
     "output_type": "stream",
     "text": [
      "15:38:33 - cmdstanpy - INFO - Chain [1] start processing\n",
      "15:38:33 - cmdstanpy - INFO - Chain [1] done processing\n",
      "15:38:33 - cmdstanpy - INFO - Chain [1] start processing\n",
      "15:38:33 - cmdstanpy - INFO - Chain [1] done processing\n",
      "15:38:33 - cmdstanpy - INFO - Chain [1] start processing\n",
      "15:38:33 - cmdstanpy - INFO - Chain [1] done processing\n",
      "15:38:33 - cmdstanpy - INFO - Chain [1] start processing\n",
      "15:38:33 - cmdstanpy - INFO - Chain [1] done processing\n",
      "15:38:33 - cmdstanpy - INFO - Chain [1] start processing\n",
      "15:38:34 - cmdstanpy - INFO - Chain [1] done processing\n",
      "15:38:34 - cmdstanpy - INFO - Chain [1] start processing\n",
      "15:38:34 - cmdstanpy - INFO - Chain [1] done processing\n",
      "15:38:34 - cmdstanpy - INFO - Chain [1] start processing\n",
      "15:38:34 - cmdstanpy - INFO - Chain [1] done processing\n",
      "15:38:34 - cmdstanpy - INFO - Chain [1] start processing\n",
      "15:38:34 - cmdstanpy - INFO - Chain [1] done processing\n",
      "15:38:34 - cmdstanpy - INFO - Chain [1] start processing\n",
      "15:38:34 - cmdstanpy - INFO - Chain [1] done processing\n",
      "15:38:34 - cmdstanpy - INFO - Chain [1] start processing\n",
      "15:38:34 - cmdstanpy - INFO - Chain [1] done processing\n",
      "15:38:35 - cmdstanpy - INFO - Chain [1] start processing\n",
      "15:38:35 - cmdstanpy - INFO - Chain [1] done processing\n",
      "15:38:35 - cmdstanpy - INFO - Chain [1] start processing\n",
      "15:38:35 - cmdstanpy - INFO - Chain [1] done processing\n"
     ]
    },
    {
     "name": "stdout",
     "output_type": "stream",
     "text": [
      "Training with changepoint_prior_scale=0.1, seasonality_prior_scale=1.0\n"
     ]
    },
    {
     "data": {
      "application/vnd.jupyter.widget-view+json": {
       "model_id": "a91b754ace1b404bb08c15faa11fe823",
       "version_major": 2,
       "version_minor": 0
      },
      "text/plain": [
       "  0%|          | 0/11 [00:00<?, ?it/s]"
      ]
     },
     "metadata": {},
     "output_type": "display_data"
    },
    {
     "name": "stderr",
     "output_type": "stream",
     "text": [
      "15:38:35 - cmdstanpy - INFO - Chain [1] start processing\n",
      "15:38:35 - cmdstanpy - INFO - Chain [1] done processing\n",
      "15:38:35 - cmdstanpy - INFO - Chain [1] start processing\n",
      "15:38:36 - cmdstanpy - INFO - Chain [1] done processing\n",
      "15:38:36 - cmdstanpy - INFO - Chain [1] start processing\n",
      "15:38:36 - cmdstanpy - INFO - Chain [1] done processing\n",
      "15:38:36 - cmdstanpy - INFO - Chain [1] start processing\n",
      "15:38:36 - cmdstanpy - INFO - Chain [1] done processing\n",
      "15:38:36 - cmdstanpy - INFO - Chain [1] start processing\n",
      "15:38:36 - cmdstanpy - INFO - Chain [1] done processing\n",
      "15:38:36 - cmdstanpy - INFO - Chain [1] start processing\n",
      "15:38:36 - cmdstanpy - INFO - Chain [1] done processing\n",
      "15:38:36 - cmdstanpy - INFO - Chain [1] start processing\n",
      "15:38:37 - cmdstanpy - INFO - Chain [1] done processing\n",
      "15:38:37 - cmdstanpy - INFO - Chain [1] start processing\n",
      "15:38:37 - cmdstanpy - INFO - Chain [1] done processing\n",
      "15:38:37 - cmdstanpy - INFO - Chain [1] start processing\n",
      "15:38:37 - cmdstanpy - INFO - Chain [1] done processing\n",
      "15:38:37 - cmdstanpy - INFO - Chain [1] start processing\n",
      "15:38:37 - cmdstanpy - INFO - Chain [1] done processing\n",
      "15:38:37 - cmdstanpy - INFO - Chain [1] start processing\n",
      "15:38:37 - cmdstanpy - INFO - Chain [1] done processing\n",
      "15:38:38 - cmdstanpy - INFO - Chain [1] start processing\n",
      "15:38:38 - cmdstanpy - INFO - Chain [1] done processing\n"
     ]
    },
    {
     "name": "stdout",
     "output_type": "stream",
     "text": [
      "Training with changepoint_prior_scale=0.1, seasonality_prior_scale=10.0\n"
     ]
    },
    {
     "data": {
      "application/vnd.jupyter.widget-view+json": {
       "model_id": "f94f5e0ca864430dbedb4e6ee3f7384a",
       "version_major": 2,
       "version_minor": 0
      },
      "text/plain": [
       "  0%|          | 0/11 [00:00<?, ?it/s]"
      ]
     },
     "metadata": {},
     "output_type": "display_data"
    },
    {
     "name": "stderr",
     "output_type": "stream",
     "text": [
      "15:38:38 - cmdstanpy - INFO - Chain [1] start processing\n",
      "15:38:38 - cmdstanpy - INFO - Chain [1] done processing\n",
      "15:38:38 - cmdstanpy - INFO - Chain [1] start processing\n",
      "15:38:38 - cmdstanpy - INFO - Chain [1] done processing\n",
      "15:38:38 - cmdstanpy - INFO - Chain [1] start processing\n",
      "15:38:38 - cmdstanpy - INFO - Chain [1] done processing\n",
      "15:38:38 - cmdstanpy - INFO - Chain [1] start processing\n",
      "15:38:39 - cmdstanpy - INFO - Chain [1] done processing\n",
      "15:38:39 - cmdstanpy - INFO - Chain [1] start processing\n",
      "15:38:39 - cmdstanpy - INFO - Chain [1] done processing\n",
      "15:38:39 - cmdstanpy - INFO - Chain [1] start processing\n",
      "15:38:39 - cmdstanpy - INFO - Chain [1] done processing\n",
      "15:38:39 - cmdstanpy - INFO - Chain [1] start processing\n",
      "15:38:39 - cmdstanpy - INFO - Chain [1] done processing\n",
      "15:38:39 - cmdstanpy - INFO - Chain [1] start processing\n",
      "15:38:39 - cmdstanpy - INFO - Chain [1] done processing\n",
      "15:38:39 - cmdstanpy - INFO - Chain [1] start processing\n",
      "15:38:40 - cmdstanpy - INFO - Chain [1] done processing\n",
      "15:38:40 - cmdstanpy - INFO - Chain [1] start processing\n",
      "15:38:40 - cmdstanpy - INFO - Chain [1] done processing\n",
      "15:38:40 - cmdstanpy - INFO - Chain [1] start processing\n",
      "15:38:40 - cmdstanpy - INFO - Chain [1] done processing\n"
     ]
    },
    {
     "name": "stdout",
     "output_type": "stream",
     "text": [
      "Training with changepoint_prior_scale=0.5, seasonality_prior_scale=1.0\n"
     ]
    },
    {
     "name": "stderr",
     "output_type": "stream",
     "text": [
      "15:38:41 - cmdstanpy - INFO - Chain [1] start processing\n",
      "15:38:41 - cmdstanpy - INFO - Chain [1] done processing\n"
     ]
    },
    {
     "data": {
      "application/vnd.jupyter.widget-view+json": {
       "model_id": "11533596823f414c88a35a4484f755a9",
       "version_major": 2,
       "version_minor": 0
      },
      "text/plain": [
       "  0%|          | 0/11 [00:00<?, ?it/s]"
      ]
     },
     "metadata": {},
     "output_type": "display_data"
    },
    {
     "name": "stderr",
     "output_type": "stream",
     "text": [
      "15:38:41 - cmdstanpy - INFO - Chain [1] start processing\n",
      "15:38:41 - cmdstanpy - INFO - Chain [1] done processing\n",
      "15:38:42 - cmdstanpy - INFO - Chain [1] start processing\n",
      "15:38:42 - cmdstanpy - INFO - Chain [1] done processing\n",
      "15:38:42 - cmdstanpy - INFO - Chain [1] start processing\n",
      "15:38:42 - cmdstanpy - INFO - Chain [1] done processing\n",
      "15:38:42 - cmdstanpy - INFO - Chain [1] start processing\n",
      "15:38:42 - cmdstanpy - INFO - Chain [1] done processing\n",
      "15:38:42 - cmdstanpy - INFO - Chain [1] start processing\n",
      "15:38:43 - cmdstanpy - INFO - Chain [1] done processing\n",
      "15:38:43 - cmdstanpy - INFO - Chain [1] start processing\n",
      "15:38:43 - cmdstanpy - INFO - Chain [1] done processing\n",
      "15:38:43 - cmdstanpy - INFO - Chain [1] start processing\n",
      "15:38:43 - cmdstanpy - INFO - Chain [1] done processing\n",
      "15:38:43 - cmdstanpy - INFO - Chain [1] start processing\n",
      "15:38:44 - cmdstanpy - INFO - Chain [1] done processing\n",
      "15:38:44 - cmdstanpy - INFO - Chain [1] start processing\n",
      "15:38:44 - cmdstanpy - INFO - Chain [1] done processing\n",
      "15:38:44 - cmdstanpy - INFO - Chain [1] start processing\n",
      "15:38:44 - cmdstanpy - INFO - Chain [1] done processing\n",
      "15:38:44 - cmdstanpy - INFO - Chain [1] start processing\n",
      "15:38:45 - cmdstanpy - INFO - Chain [1] done processing\n",
      "15:38:45 - cmdstanpy - INFO - Chain [1] start processing\n"
     ]
    },
    {
     "name": "stdout",
     "output_type": "stream",
     "text": [
      "Training with changepoint_prior_scale=0.5, seasonality_prior_scale=10.0\n"
     ]
    },
    {
     "name": "stderr",
     "output_type": "stream",
     "text": [
      "15:38:46 - cmdstanpy - INFO - Chain [1] done processing\n"
     ]
    },
    {
     "data": {
      "application/vnd.jupyter.widget-view+json": {
       "model_id": "5ccbeb603d424184a2b33889499ff3d3",
       "version_major": 2,
       "version_minor": 0
      },
      "text/plain": [
       "  0%|          | 0/11 [00:00<?, ?it/s]"
      ]
     },
     "metadata": {},
     "output_type": "display_data"
    },
    {
     "name": "stderr",
     "output_type": "stream",
     "text": [
      "15:38:46 - cmdstanpy - INFO - Chain [1] start processing\n",
      "15:38:46 - cmdstanpy - INFO - Chain [1] done processing\n",
      "15:38:46 - cmdstanpy - INFO - Chain [1] start processing\n",
      "15:38:46 - cmdstanpy - INFO - Chain [1] done processing\n",
      "15:38:46 - cmdstanpy - INFO - Chain [1] start processing\n",
      "15:38:47 - cmdstanpy - INFO - Chain [1] done processing\n",
      "15:38:47 - cmdstanpy - INFO - Chain [1] start processing\n",
      "15:38:47 - cmdstanpy - INFO - Chain [1] done processing\n",
      "15:38:47 - cmdstanpy - INFO - Chain [1] start processing\n",
      "15:38:47 - cmdstanpy - INFO - Chain [1] done processing\n",
      "15:38:47 - cmdstanpy - INFO - Chain [1] start processing\n",
      "15:38:48 - cmdstanpy - INFO - Chain [1] done processing\n",
      "15:38:48 - cmdstanpy - INFO - Chain [1] start processing\n",
      "15:38:48 - cmdstanpy - INFO - Chain [1] done processing\n",
      "15:38:48 - cmdstanpy - INFO - Chain [1] start processing\n",
      "15:38:48 - cmdstanpy - INFO - Chain [1] done processing\n",
      "15:38:48 - cmdstanpy - INFO - Chain [1] start processing\n",
      "15:38:49 - cmdstanpy - INFO - Chain [1] done processing\n",
      "15:38:49 - cmdstanpy - INFO - Chain [1] start processing\n",
      "15:38:49 - cmdstanpy - INFO - Chain [1] done processing\n",
      "15:38:49 - cmdstanpy - INFO - Chain [1] start processing\n",
      "15:38:50 - cmdstanpy - INFO - Chain [1] done processing\n",
      "Tuning cs subdisciplines:   2%|▌                   | 1/40 [00:20<13:00, 20.00s/it, Processing cs.AR]"
     ]
    },
    {
     "name": "stdout",
     "output_type": "stream",
     "text": [
      "\n",
      "Best Parameters:\n",
      "changepoint_prior_scale      0.100000\n",
      "seasonality_prior_scale      1.000000\n",
      "rmse                       132.098106\n",
      "Name: 2, dtype: float64\n"
     ]
    },
    {
     "name": "stderr",
     "output_type": "stream",
     "text": [
      "15:38:50 - cmdstanpy - INFO - Chain [1] start processing\n",
      "15:38:50 - cmdstanpy - INFO - Chain [1] done processing\n"
     ]
    },
    {
     "name": "stdout",
     "output_type": "stream",
     "text": [
      "Training with changepoint_prior_scale=0.01, seasonality_prior_scale=1.0\n"
     ]
    },
    {
     "data": {
      "application/vnd.jupyter.widget-view+json": {
       "model_id": "04de544cc7904fa49e4e7437ddf19cb9",
       "version_major": 2,
       "version_minor": 0
      },
      "text/plain": [
       "  0%|          | 0/11 [00:00<?, ?it/s]"
      ]
     },
     "metadata": {},
     "output_type": "display_data"
    },
    {
     "name": "stderr",
     "output_type": "stream",
     "text": [
      "15:38:50 - cmdstanpy - INFO - Chain [1] start processing\n",
      "15:38:50 - cmdstanpy - INFO - Chain [1] done processing\n",
      "15:38:51 - cmdstanpy - INFO - Chain [1] start processing\n",
      "15:38:51 - cmdstanpy - INFO - Chain [1] done processing\n",
      "15:38:51 - cmdstanpy - INFO - Chain [1] start processing\n",
      "15:38:51 - cmdstanpy - INFO - Chain [1] done processing\n",
      "15:38:51 - cmdstanpy - INFO - Chain [1] start processing\n",
      "15:38:51 - cmdstanpy - INFO - Chain [1] done processing\n",
      "15:38:51 - cmdstanpy - INFO - Chain [1] start processing\n",
      "15:38:51 - cmdstanpy - INFO - Chain [1] done processing\n",
      "15:38:51 - cmdstanpy - INFO - Chain [1] start processing\n",
      "15:38:51 - cmdstanpy - INFO - Chain [1] done processing\n",
      "15:38:51 - cmdstanpy - INFO - Chain [1] start processing\n",
      "15:38:51 - cmdstanpy - INFO - Chain [1] done processing\n",
      "15:38:51 - cmdstanpy - INFO - Chain [1] start processing\n",
      "15:38:51 - cmdstanpy - INFO - Chain [1] done processing\n",
      "15:38:51 - cmdstanpy - INFO - Chain [1] start processing\n",
      "15:38:52 - cmdstanpy - INFO - Chain [1] done processing\n",
      "15:38:52 - cmdstanpy - INFO - Chain [1] start processing\n",
      "15:38:52 - cmdstanpy - INFO - Chain [1] done processing\n",
      "15:38:52 - cmdstanpy - INFO - Chain [1] start processing\n",
      "15:38:52 - cmdstanpy - INFO - Chain [1] done processing\n",
      "15:38:52 - cmdstanpy - INFO - Chain [1] start processing\n",
      "15:38:52 - cmdstanpy - INFO - Chain [1] done processing\n"
     ]
    },
    {
     "name": "stdout",
     "output_type": "stream",
     "text": [
      "Training with changepoint_prior_scale=0.01, seasonality_prior_scale=10.0\n"
     ]
    },
    {
     "data": {
      "application/vnd.jupyter.widget-view+json": {
       "model_id": "01bd149ccff4471faf907311fd5e4ff4",
       "version_major": 2,
       "version_minor": 0
      },
      "text/plain": [
       "  0%|          | 0/11 [00:00<?, ?it/s]"
      ]
     },
     "metadata": {},
     "output_type": "display_data"
    },
    {
     "name": "stderr",
     "output_type": "stream",
     "text": [
      "15:38:52 - cmdstanpy - INFO - Chain [1] start processing\n",
      "15:38:52 - cmdstanpy - INFO - Chain [1] done processing\n",
      "15:38:52 - cmdstanpy - INFO - Chain [1] start processing\n",
      "15:38:52 - cmdstanpy - INFO - Chain [1] done processing\n",
      "15:38:52 - cmdstanpy - INFO - Chain [1] start processing\n",
      "15:38:52 - cmdstanpy - INFO - Chain [1] done processing\n",
      "15:38:53 - cmdstanpy - INFO - Chain [1] start processing\n",
      "15:38:53 - cmdstanpy - INFO - Chain [1] done processing\n",
      "15:38:53 - cmdstanpy - INFO - Chain [1] start processing\n",
      "15:38:53 - cmdstanpy - INFO - Chain [1] done processing\n",
      "15:38:53 - cmdstanpy - INFO - Chain [1] start processing\n",
      "15:38:53 - cmdstanpy - INFO - Chain [1] done processing\n",
      "15:38:53 - cmdstanpy - INFO - Chain [1] start processing\n",
      "15:38:53 - cmdstanpy - INFO - Chain [1] done processing\n",
      "15:38:53 - cmdstanpy - INFO - Chain [1] start processing\n",
      "15:38:53 - cmdstanpy - INFO - Chain [1] done processing\n",
      "15:38:53 - cmdstanpy - INFO - Chain [1] start processing\n",
      "15:38:53 - cmdstanpy - INFO - Chain [1] done processing\n",
      "15:38:53 - cmdstanpy - INFO - Chain [1] start processing\n",
      "15:38:53 - cmdstanpy - INFO - Chain [1] done processing\n",
      "15:38:54 - cmdstanpy - INFO - Chain [1] start processing\n",
      "15:38:54 - cmdstanpy - INFO - Chain [1] done processing\n",
      "15:38:54 - cmdstanpy - INFO - Chain [1] start processing\n",
      "15:38:54 - cmdstanpy - INFO - Chain [1] done processing\n"
     ]
    },
    {
     "name": "stdout",
     "output_type": "stream",
     "text": [
      "Training with changepoint_prior_scale=0.1, seasonality_prior_scale=1.0\n"
     ]
    },
    {
     "data": {
      "application/vnd.jupyter.widget-view+json": {
       "model_id": "4bdbf99e59d341829a04755279853e15",
       "version_major": 2,
       "version_minor": 0
      },
      "text/plain": [
       "  0%|          | 0/11 [00:00<?, ?it/s]"
      ]
     },
     "metadata": {},
     "output_type": "display_data"
    },
    {
     "name": "stderr",
     "output_type": "stream",
     "text": [
      "15:38:54 - cmdstanpy - INFO - Chain [1] start processing\n",
      "15:38:54 - cmdstanpy - INFO - Chain [1] done processing\n",
      "15:38:54 - cmdstanpy - INFO - Chain [1] start processing\n",
      "15:38:54 - cmdstanpy - INFO - Chain [1] done processing\n",
      "15:38:54 - cmdstanpy - INFO - Chain [1] start processing\n",
      "15:38:54 - cmdstanpy - INFO - Chain [1] done processing\n",
      "15:38:54 - cmdstanpy - INFO - Chain [1] start processing\n",
      "15:38:55 - cmdstanpy - INFO - Chain [1] done processing\n",
      "15:38:55 - cmdstanpy - INFO - Chain [1] start processing\n",
      "15:38:55 - cmdstanpy - INFO - Chain [1] done processing\n",
      "15:38:55 - cmdstanpy - INFO - Chain [1] start processing\n",
      "15:38:55 - cmdstanpy - INFO - Chain [1] done processing\n",
      "15:38:55 - cmdstanpy - INFO - Chain [1] start processing\n",
      "15:38:55 - cmdstanpy - INFO - Chain [1] done processing\n",
      "15:38:55 - cmdstanpy - INFO - Chain [1] start processing\n",
      "15:38:55 - cmdstanpy - INFO - Chain [1] done processing\n",
      "15:38:55 - cmdstanpy - INFO - Chain [1] start processing\n",
      "15:38:55 - cmdstanpy - INFO - Chain [1] done processing\n",
      "15:38:55 - cmdstanpy - INFO - Chain [1] start processing\n",
      "15:38:56 - cmdstanpy - INFO - Chain [1] done processing\n",
      "15:38:56 - cmdstanpy - INFO - Chain [1] start processing\n",
      "15:38:56 - cmdstanpy - INFO - Chain [1] done processing\n",
      "15:38:56 - cmdstanpy - INFO - Chain [1] start processing\n",
      "15:38:56 - cmdstanpy - INFO - Chain [1] done processing\n"
     ]
    },
    {
     "name": "stdout",
     "output_type": "stream",
     "text": [
      "Training with changepoint_prior_scale=0.1, seasonality_prior_scale=10.0\n"
     ]
    },
    {
     "data": {
      "application/vnd.jupyter.widget-view+json": {
       "model_id": "760f8cd1feb4486fa44f210c5b26dc6b",
       "version_major": 2,
       "version_minor": 0
      },
      "text/plain": [
       "  0%|          | 0/11 [00:00<?, ?it/s]"
      ]
     },
     "metadata": {},
     "output_type": "display_data"
    },
    {
     "name": "stderr",
     "output_type": "stream",
     "text": [
      "15:38:56 - cmdstanpy - INFO - Chain [1] start processing\n",
      "15:38:56 - cmdstanpy - INFO - Chain [1] done processing\n",
      "15:38:56 - cmdstanpy - INFO - Chain [1] start processing\n",
      "15:38:56 - cmdstanpy - INFO - Chain [1] done processing\n",
      "15:38:56 - cmdstanpy - INFO - Chain [1] start processing\n",
      "15:38:57 - cmdstanpy - INFO - Chain [1] done processing\n",
      "15:38:57 - cmdstanpy - INFO - Chain [1] start processing\n",
      "15:38:57 - cmdstanpy - INFO - Chain [1] done processing\n",
      "15:38:57 - cmdstanpy - INFO - Chain [1] start processing\n",
      "15:38:57 - cmdstanpy - INFO - Chain [1] done processing\n",
      "15:38:57 - cmdstanpy - INFO - Chain [1] start processing\n",
      "15:38:57 - cmdstanpy - INFO - Chain [1] done processing\n",
      "15:38:57 - cmdstanpy - INFO - Chain [1] start processing\n",
      "15:38:57 - cmdstanpy - INFO - Chain [1] done processing\n",
      "15:38:57 - cmdstanpy - INFO - Chain [1] start processing\n",
      "15:38:57 - cmdstanpy - INFO - Chain [1] done processing\n",
      "15:38:57 - cmdstanpy - INFO - Chain [1] start processing\n",
      "15:38:58 - cmdstanpy - INFO - Chain [1] done processing\n",
      "15:38:58 - cmdstanpy - INFO - Chain [1] start processing\n",
      "15:38:58 - cmdstanpy - INFO - Chain [1] done processing\n",
      "15:38:58 - cmdstanpy - INFO - Chain [1] start processing\n",
      "15:38:58 - cmdstanpy - INFO - Chain [1] done processing\n",
      "15:38:58 - cmdstanpy - INFO - Chain [1] start processing\n"
     ]
    },
    {
     "name": "stdout",
     "output_type": "stream",
     "text": [
      "Training with changepoint_prior_scale=0.5, seasonality_prior_scale=1.0\n"
     ]
    },
    {
     "name": "stderr",
     "output_type": "stream",
     "text": [
      "15:38:58 - cmdstanpy - INFO - Chain [1] done processing\n"
     ]
    },
    {
     "data": {
      "application/vnd.jupyter.widget-view+json": {
       "model_id": "5639738665934f2dba9242ff551aae0e",
       "version_major": 2,
       "version_minor": 0
      },
      "text/plain": [
       "  0%|          | 0/11 [00:00<?, ?it/s]"
      ]
     },
     "metadata": {},
     "output_type": "display_data"
    },
    {
     "name": "stderr",
     "output_type": "stream",
     "text": [
      "15:38:58 - cmdstanpy - INFO - Chain [1] start processing\n",
      "15:38:58 - cmdstanpy - INFO - Chain [1] done processing\n",
      "15:38:59 - cmdstanpy - INFO - Chain [1] start processing\n",
      "15:38:59 - cmdstanpy - INFO - Chain [1] done processing\n",
      "15:38:59 - cmdstanpy - INFO - Chain [1] start processing\n",
      "15:38:59 - cmdstanpy - INFO - Chain [1] done processing\n",
      "15:38:59 - cmdstanpy - INFO - Chain [1] start processing\n",
      "15:38:59 - cmdstanpy - INFO - Chain [1] done processing\n",
      "15:38:59 - cmdstanpy - INFO - Chain [1] start processing\n",
      "15:38:59 - cmdstanpy - INFO - Chain [1] done processing\n",
      "15:38:59 - cmdstanpy - INFO - Chain [1] start processing\n",
      "15:38:59 - cmdstanpy - INFO - Chain [1] done processing\n",
      "15:38:59 - cmdstanpy - INFO - Chain [1] start processing\n",
      "15:38:59 - cmdstanpy - INFO - Chain [1] done processing\n",
      "15:39:00 - cmdstanpy - INFO - Chain [1] start processing\n",
      "15:39:00 - cmdstanpy - INFO - Chain [1] done processing\n",
      "15:39:00 - cmdstanpy - INFO - Chain [1] start processing\n",
      "15:39:00 - cmdstanpy - INFO - Chain [1] done processing\n",
      "15:39:00 - cmdstanpy - INFO - Chain [1] start processing\n",
      "15:39:00 - cmdstanpy - INFO - Chain [1] done processing\n",
      "15:39:00 - cmdstanpy - INFO - Chain [1] start processing\n",
      "15:39:00 - cmdstanpy - INFO - Chain [1] done processing\n",
      "15:39:01 - cmdstanpy - INFO - Chain [1] start processing\n"
     ]
    },
    {
     "name": "stdout",
     "output_type": "stream",
     "text": [
      "Training with changepoint_prior_scale=0.5, seasonality_prior_scale=10.0\n"
     ]
    },
    {
     "name": "stderr",
     "output_type": "stream",
     "text": [
      "15:39:01 - cmdstanpy - INFO - Chain [1] done processing\n"
     ]
    },
    {
     "data": {
      "application/vnd.jupyter.widget-view+json": {
       "model_id": "1355e9ded05a4d43afc058e0e8827792",
       "version_major": 2,
       "version_minor": 0
      },
      "text/plain": [
       "  0%|          | 0/11 [00:00<?, ?it/s]"
      ]
     },
     "metadata": {},
     "output_type": "display_data"
    },
    {
     "name": "stderr",
     "output_type": "stream",
     "text": [
      "15:39:01 - cmdstanpy - INFO - Chain [1] start processing\n",
      "15:39:01 - cmdstanpy - INFO - Chain [1] done processing\n",
      "15:39:01 - cmdstanpy - INFO - Chain [1] start processing\n",
      "15:39:01 - cmdstanpy - INFO - Chain [1] done processing\n",
      "15:39:01 - cmdstanpy - INFO - Chain [1] start processing\n",
      "15:39:01 - cmdstanpy - INFO - Chain [1] done processing\n",
      "15:39:01 - cmdstanpy - INFO - Chain [1] start processing\n",
      "15:39:02 - cmdstanpy - INFO - Chain [1] done processing\n",
      "15:39:02 - cmdstanpy - INFO - Chain [1] start processing\n",
      "15:39:02 - cmdstanpy - INFO - Chain [1] done processing\n",
      "15:39:02 - cmdstanpy - INFO - Chain [1] start processing\n",
      "15:39:02 - cmdstanpy - INFO - Chain [1] done processing\n",
      "15:39:02 - cmdstanpy - INFO - Chain [1] start processing\n",
      "15:39:02 - cmdstanpy - INFO - Chain [1] done processing\n",
      "15:39:02 - cmdstanpy - INFO - Chain [1] start processing\n",
      "15:39:02 - cmdstanpy - INFO - Chain [1] done processing\n",
      "15:39:02 - cmdstanpy - INFO - Chain [1] start processing\n",
      "15:39:02 - cmdstanpy - INFO - Chain [1] done processing\n",
      "15:39:03 - cmdstanpy - INFO - Chain [1] start processing\n",
      "15:39:03 - cmdstanpy - INFO - Chain [1] done processing\n",
      "15:39:03 - cmdstanpy - INFO - Chain [1] start processing\n",
      "15:39:03 - cmdstanpy - INFO - Chain [1] done processing\n",
      "Tuning cs subdisciplines:   5%|█                   | 2/40 [00:33<10:09, 16.05s/it, Processing cs.CC]"
     ]
    },
    {
     "name": "stdout",
     "output_type": "stream",
     "text": [
      "\n",
      "Best Parameters:\n",
      "changepoint_prior_scale    0.500000\n",
      "seasonality_prior_scale    1.000000\n",
      "rmse                       7.288329\n",
      "Name: 4, dtype: float64\n"
     ]
    },
    {
     "name": "stderr",
     "output_type": "stream",
     "text": [
      "15:39:04 - cmdstanpy - INFO - Chain [1] start processing\n",
      "15:39:04 - cmdstanpy - INFO - Chain [1] done processing\n"
     ]
    },
    {
     "name": "stdout",
     "output_type": "stream",
     "text": [
      "Training with changepoint_prior_scale=0.01, seasonality_prior_scale=1.0\n"
     ]
    },
    {
     "data": {
      "application/vnd.jupyter.widget-view+json": {
       "model_id": "bda4f8a6248a490e9892d516c158a2b7",
       "version_major": 2,
       "version_minor": 0
      },
      "text/plain": [
       "  0%|          | 0/11 [00:00<?, ?it/s]"
      ]
     },
     "metadata": {},
     "output_type": "display_data"
    },
    {
     "name": "stderr",
     "output_type": "stream",
     "text": [
      "15:39:04 - cmdstanpy - INFO - Chain [1] start processing\n",
      "15:39:04 - cmdstanpy - INFO - Chain [1] done processing\n",
      "15:39:04 - cmdstanpy - INFO - Chain [1] start processing\n",
      "15:39:04 - cmdstanpy - INFO - Chain [1] done processing\n",
      "15:39:04 - cmdstanpy - INFO - Chain [1] start processing\n",
      "15:39:04 - cmdstanpy - INFO - Chain [1] done processing\n",
      "15:39:04 - cmdstanpy - INFO - Chain [1] start processing\n",
      "15:39:04 - cmdstanpy - INFO - Chain [1] done processing\n",
      "15:39:04 - cmdstanpy - INFO - Chain [1] start processing\n",
      "15:39:04 - cmdstanpy - INFO - Chain [1] done processing\n",
      "15:39:04 - cmdstanpy - INFO - Chain [1] start processing\n",
      "15:39:04 - cmdstanpy - INFO - Chain [1] done processing\n",
      "15:39:04 - cmdstanpy - INFO - Chain [1] start processing\n",
      "15:39:05 - cmdstanpy - INFO - Chain [1] done processing\n",
      "15:39:05 - cmdstanpy - INFO - Chain [1] start processing\n",
      "15:39:05 - cmdstanpy - INFO - Chain [1] done processing\n",
      "15:39:05 - cmdstanpy - INFO - Chain [1] start processing\n",
      "15:39:05 - cmdstanpy - INFO - Chain [1] done processing\n",
      "15:39:05 - cmdstanpy - INFO - Chain [1] start processing\n",
      "15:39:05 - cmdstanpy - INFO - Chain [1] done processing\n",
      "15:39:05 - cmdstanpy - INFO - Chain [1] start processing\n",
      "15:39:05 - cmdstanpy - INFO - Chain [1] done processing\n",
      "15:39:05 - cmdstanpy - INFO - Chain [1] start processing\n",
      "15:39:05 - cmdstanpy - INFO - Chain [1] done processing\n"
     ]
    },
    {
     "name": "stdout",
     "output_type": "stream",
     "text": [
      "Training with changepoint_prior_scale=0.01, seasonality_prior_scale=10.0\n"
     ]
    },
    {
     "data": {
      "application/vnd.jupyter.widget-view+json": {
       "model_id": "2fdb7ca7d6144a538a0639ac73329634",
       "version_major": 2,
       "version_minor": 0
      },
      "text/plain": [
       "  0%|          | 0/11 [00:00<?, ?it/s]"
      ]
     },
     "metadata": {},
     "output_type": "display_data"
    },
    {
     "name": "stderr",
     "output_type": "stream",
     "text": [
      "15:39:06 - cmdstanpy - INFO - Chain [1] start processing\n",
      "15:39:06 - cmdstanpy - INFO - Chain [1] done processing\n",
      "15:39:06 - cmdstanpy - INFO - Chain [1] start processing\n",
      "15:39:06 - cmdstanpy - INFO - Chain [1] done processing\n",
      "15:39:06 - cmdstanpy - INFO - Chain [1] start processing\n",
      "15:39:06 - cmdstanpy - INFO - Chain [1] done processing\n",
      "15:39:06 - cmdstanpy - INFO - Chain [1] start processing\n",
      "15:39:06 - cmdstanpy - INFO - Chain [1] done processing\n",
      "15:39:06 - cmdstanpy - INFO - Chain [1] start processing\n",
      "15:39:06 - cmdstanpy - INFO - Chain [1] done processing\n",
      "15:39:06 - cmdstanpy - INFO - Chain [1] start processing\n",
      "15:39:06 - cmdstanpy - INFO - Chain [1] done processing\n",
      "15:39:06 - cmdstanpy - INFO - Chain [1] start processing\n",
      "15:39:06 - cmdstanpy - INFO - Chain [1] done processing\n",
      "15:39:06 - cmdstanpy - INFO - Chain [1] start processing\n",
      "15:39:07 - cmdstanpy - INFO - Chain [1] done processing\n",
      "15:39:07 - cmdstanpy - INFO - Chain [1] start processing\n",
      "15:39:07 - cmdstanpy - INFO - Chain [1] done processing\n",
      "15:39:07 - cmdstanpy - INFO - Chain [1] start processing\n",
      "15:39:07 - cmdstanpy - INFO - Chain [1] done processing\n",
      "15:39:07 - cmdstanpy - INFO - Chain [1] start processing\n",
      "15:39:07 - cmdstanpy - INFO - Chain [1] done processing\n",
      "15:39:07 - cmdstanpy - INFO - Chain [1] start processing\n",
      "15:39:07 - cmdstanpy - INFO - Chain [1] done processing\n"
     ]
    },
    {
     "name": "stdout",
     "output_type": "stream",
     "text": [
      "Training with changepoint_prior_scale=0.1, seasonality_prior_scale=1.0\n"
     ]
    },
    {
     "data": {
      "application/vnd.jupyter.widget-view+json": {
       "model_id": "5aff535d929a4c8a98986c08b91213b9",
       "version_major": 2,
       "version_minor": 0
      },
      "text/plain": [
       "  0%|          | 0/11 [00:00<?, ?it/s]"
      ]
     },
     "metadata": {},
     "output_type": "display_data"
    },
    {
     "name": "stderr",
     "output_type": "stream",
     "text": [
      "15:39:07 - cmdstanpy - INFO - Chain [1] start processing\n",
      "15:39:07 - cmdstanpy - INFO - Chain [1] done processing\n",
      "15:39:08 - cmdstanpy - INFO - Chain [1] start processing\n",
      "15:39:08 - cmdstanpy - INFO - Chain [1] done processing\n",
      "15:39:08 - cmdstanpy - INFO - Chain [1] start processing\n",
      "15:39:08 - cmdstanpy - INFO - Chain [1] done processing\n",
      "15:39:08 - cmdstanpy - INFO - Chain [1] start processing\n",
      "15:39:08 - cmdstanpy - INFO - Chain [1] done processing\n",
      "15:39:08 - cmdstanpy - INFO - Chain [1] start processing\n",
      "15:39:08 - cmdstanpy - INFO - Chain [1] done processing\n",
      "15:39:08 - cmdstanpy - INFO - Chain [1] start processing\n",
      "15:39:08 - cmdstanpy - INFO - Chain [1] done processing\n",
      "15:39:08 - cmdstanpy - INFO - Chain [1] start processing\n",
      "15:39:08 - cmdstanpy - INFO - Chain [1] done processing\n",
      "15:39:08 - cmdstanpy - INFO - Chain [1] start processing\n",
      "15:39:09 - cmdstanpy - INFO - Chain [1] done processing\n",
      "15:39:09 - cmdstanpy - INFO - Chain [1] start processing\n",
      "15:39:09 - cmdstanpy - INFO - Chain [1] done processing\n",
      "15:39:09 - cmdstanpy - INFO - Chain [1] start processing\n",
      "15:39:09 - cmdstanpy - INFO - Chain [1] done processing\n",
      "15:39:09 - cmdstanpy - INFO - Chain [1] start processing\n",
      "15:39:09 - cmdstanpy - INFO - Chain [1] done processing\n",
      "15:39:09 - cmdstanpy - INFO - Chain [1] start processing\n",
      "15:39:09 - cmdstanpy - INFO - Chain [1] done processing\n"
     ]
    },
    {
     "name": "stdout",
     "output_type": "stream",
     "text": [
      "Training with changepoint_prior_scale=0.1, seasonality_prior_scale=10.0\n"
     ]
    },
    {
     "data": {
      "application/vnd.jupyter.widget-view+json": {
       "model_id": "7223d0f671944e4190bc2dc42ce28ff4",
       "version_major": 2,
       "version_minor": 0
      },
      "text/plain": [
       "  0%|          | 0/11 [00:00<?, ?it/s]"
      ]
     },
     "metadata": {},
     "output_type": "display_data"
    },
    {
     "name": "stderr",
     "output_type": "stream",
     "text": [
      "15:39:09 - cmdstanpy - INFO - Chain [1] start processing\n",
      "15:39:09 - cmdstanpy - INFO - Chain [1] done processing\n",
      "15:39:10 - cmdstanpy - INFO - Chain [1] start processing\n",
      "15:39:10 - cmdstanpy - INFO - Chain [1] done processing\n",
      "15:39:10 - cmdstanpy - INFO - Chain [1] start processing\n",
      "15:39:10 - cmdstanpy - INFO - Chain [1] done processing\n",
      "15:39:10 - cmdstanpy - INFO - Chain [1] start processing\n",
      "15:39:10 - cmdstanpy - INFO - Chain [1] done processing\n",
      "15:39:10 - cmdstanpy - INFO - Chain [1] start processing\n",
      "15:39:10 - cmdstanpy - INFO - Chain [1] done processing\n",
      "15:39:10 - cmdstanpy - INFO - Chain [1] start processing\n",
      "15:39:10 - cmdstanpy - INFO - Chain [1] done processing\n",
      "15:39:10 - cmdstanpy - INFO - Chain [1] start processing\n",
      "15:39:10 - cmdstanpy - INFO - Chain [1] done processing\n",
      "15:39:10 - cmdstanpy - INFO - Chain [1] start processing\n",
      "15:39:11 - cmdstanpy - INFO - Chain [1] done processing\n",
      "15:39:11 - cmdstanpy - INFO - Chain [1] start processing\n",
      "15:39:11 - cmdstanpy - INFO - Chain [1] done processing\n",
      "15:39:11 - cmdstanpy - INFO - Chain [1] start processing\n",
      "15:39:11 - cmdstanpy - INFO - Chain [1] done processing\n",
      "15:39:11 - cmdstanpy - INFO - Chain [1] start processing\n",
      "15:39:11 - cmdstanpy - INFO - Chain [1] done processing\n",
      "15:39:11 - cmdstanpy - INFO - Chain [1] start processing\n",
      "15:39:11 - cmdstanpy - INFO - Chain [1] done processing\n"
     ]
    },
    {
     "name": "stdout",
     "output_type": "stream",
     "text": [
      "Training with changepoint_prior_scale=0.5, seasonality_prior_scale=1.0\n"
     ]
    },
    {
     "data": {
      "application/vnd.jupyter.widget-view+json": {
       "model_id": "5817bf95277e4bc49f7e13e1e282e003",
       "version_major": 2,
       "version_minor": 0
      },
      "text/plain": [
       "  0%|          | 0/11 [00:00<?, ?it/s]"
      ]
     },
     "metadata": {},
     "output_type": "display_data"
    },
    {
     "name": "stderr",
     "output_type": "stream",
     "text": [
      "15:39:11 - cmdstanpy - INFO - Chain [1] start processing\n",
      "15:39:12 - cmdstanpy - INFO - Chain [1] done processing\n",
      "15:39:12 - cmdstanpy - INFO - Chain [1] start processing\n",
      "15:39:12 - cmdstanpy - INFO - Chain [1] done processing\n",
      "15:39:12 - cmdstanpy - INFO - Chain [1] start processing\n",
      "15:39:12 - cmdstanpy - INFO - Chain [1] done processing\n",
      "15:39:12 - cmdstanpy - INFO - Chain [1] start processing\n",
      "15:39:12 - cmdstanpy - INFO - Chain [1] done processing\n",
      "15:39:12 - cmdstanpy - INFO - Chain [1] start processing\n",
      "15:39:12 - cmdstanpy - INFO - Chain [1] done processing\n",
      "15:39:12 - cmdstanpy - INFO - Chain [1] start processing\n",
      "15:39:12 - cmdstanpy - INFO - Chain [1] done processing\n",
      "15:39:12 - cmdstanpy - INFO - Chain [1] start processing\n",
      "15:39:13 - cmdstanpy - INFO - Chain [1] done processing\n",
      "15:39:13 - cmdstanpy - INFO - Chain [1] start processing\n",
      "15:39:13 - cmdstanpy - INFO - Chain [1] done processing\n",
      "15:39:13 - cmdstanpy - INFO - Chain [1] start processing\n",
      "15:39:13 - cmdstanpy - INFO - Chain [1] done processing\n",
      "15:39:13 - cmdstanpy - INFO - Chain [1] start processing\n",
      "15:39:13 - cmdstanpy - INFO - Chain [1] done processing\n",
      "15:39:13 - cmdstanpy - INFO - Chain [1] start processing\n",
      "15:39:13 - cmdstanpy - INFO - Chain [1] done processing\n",
      "15:39:13 - cmdstanpy - INFO - Chain [1] start processing\n"
     ]
    },
    {
     "name": "stdout",
     "output_type": "stream",
     "text": [
      "Training with changepoint_prior_scale=0.5, seasonality_prior_scale=10.0\n"
     ]
    },
    {
     "name": "stderr",
     "output_type": "stream",
     "text": [
      "15:39:14 - cmdstanpy - INFO - Chain [1] done processing\n"
     ]
    },
    {
     "data": {
      "application/vnd.jupyter.widget-view+json": {
       "model_id": "4ad0d86c976844248c26c7cb98b4384f",
       "version_major": 2,
       "version_minor": 0
      },
      "text/plain": [
       "  0%|          | 0/11 [00:00<?, ?it/s]"
      ]
     },
     "metadata": {},
     "output_type": "display_data"
    },
    {
     "name": "stderr",
     "output_type": "stream",
     "text": [
      "15:39:14 - cmdstanpy - INFO - Chain [1] start processing\n",
      "15:39:14 - cmdstanpy - INFO - Chain [1] done processing\n",
      "15:39:14 - cmdstanpy - INFO - Chain [1] start processing\n",
      "15:39:14 - cmdstanpy - INFO - Chain [1] done processing\n",
      "15:39:14 - cmdstanpy - INFO - Chain [1] start processing\n",
      "15:39:14 - cmdstanpy - INFO - Chain [1] done processing\n",
      "15:39:14 - cmdstanpy - INFO - Chain [1] start processing\n",
      "15:39:14 - cmdstanpy - INFO - Chain [1] done processing\n",
      "15:39:14 - cmdstanpy - INFO - Chain [1] start processing\n",
      "15:39:15 - cmdstanpy - INFO - Chain [1] done processing\n",
      "15:39:15 - cmdstanpy - INFO - Chain [1] start processing\n",
      "15:39:15 - cmdstanpy - INFO - Chain [1] done processing\n",
      "15:39:15 - cmdstanpy - INFO - Chain [1] start processing\n",
      "15:39:15 - cmdstanpy - INFO - Chain [1] done processing\n",
      "15:39:15 - cmdstanpy - INFO - Chain [1] start processing\n",
      "15:39:15 - cmdstanpy - INFO - Chain [1] done processing\n",
      "15:39:15 - cmdstanpy - INFO - Chain [1] start processing\n",
      "15:39:15 - cmdstanpy - INFO - Chain [1] done processing\n",
      "15:39:15 - cmdstanpy - INFO - Chain [1] start processing\n",
      "15:39:15 - cmdstanpy - INFO - Chain [1] done processing\n",
      "15:39:16 - cmdstanpy - INFO - Chain [1] start processing\n",
      "15:39:16 - cmdstanpy - INFO - Chain [1] done processing\n",
      "Tuning cs subdisciplines:   8%|█▌                  | 3/40 [00:45<08:55, 14.48s/it, Processing cs.CE]"
     ]
    },
    {
     "name": "stdout",
     "output_type": "stream",
     "text": [
      "\n",
      "Best Parameters:\n",
      "changepoint_prior_scale    0.010000\n",
      "seasonality_prior_scale    1.000000\n",
      "rmse                       5.387323\n",
      "Name: 0, dtype: float64\n"
     ]
    },
    {
     "name": "stderr",
     "output_type": "stream",
     "text": [
      "15:39:16 - cmdstanpy - INFO - Chain [1] start processing\n",
      "15:39:16 - cmdstanpy - INFO - Chain [1] done processing\n"
     ]
    },
    {
     "name": "stdout",
     "output_type": "stream",
     "text": [
      "Training with changepoint_prior_scale=0.01, seasonality_prior_scale=1.0\n"
     ]
    },
    {
     "data": {
      "application/vnd.jupyter.widget-view+json": {
       "model_id": "7daca0bb98d44dd3af1143507ac0798f",
       "version_major": 2,
       "version_minor": 0
      },
      "text/plain": [
       "  0%|          | 0/11 [00:00<?, ?it/s]"
      ]
     },
     "metadata": {},
     "output_type": "display_data"
    },
    {
     "name": "stderr",
     "output_type": "stream",
     "text": [
      "15:39:16 - cmdstanpy - INFO - Chain [1] start processing\n",
      "15:39:16 - cmdstanpy - INFO - Chain [1] done processing\n",
      "15:39:16 - cmdstanpy - INFO - Chain [1] start processing\n",
      "15:39:16 - cmdstanpy - INFO - Chain [1] done processing\n",
      "15:39:17 - cmdstanpy - INFO - Chain [1] start processing\n",
      "15:39:17 - cmdstanpy - INFO - Chain [1] done processing\n",
      "15:39:17 - cmdstanpy - INFO - Chain [1] start processing\n",
      "15:39:17 - cmdstanpy - INFO - Chain [1] done processing\n",
      "15:39:17 - cmdstanpy - INFO - Chain [1] start processing\n",
      "15:39:17 - cmdstanpy - INFO - Chain [1] done processing\n",
      "15:39:17 - cmdstanpy - INFO - Chain [1] start processing\n",
      "15:39:17 - cmdstanpy - INFO - Chain [1] done processing\n",
      "15:39:17 - cmdstanpy - INFO - Chain [1] start processing\n",
      "15:39:17 - cmdstanpy - INFO - Chain [1] done processing\n",
      "15:39:17 - cmdstanpy - INFO - Chain [1] start processing\n",
      "15:39:17 - cmdstanpy - INFO - Chain [1] done processing\n",
      "15:39:17 - cmdstanpy - INFO - Chain [1] start processing\n",
      "15:39:17 - cmdstanpy - INFO - Chain [1] done processing\n",
      "15:39:18 - cmdstanpy - INFO - Chain [1] start processing\n",
      "15:39:18 - cmdstanpy - INFO - Chain [1] done processing\n",
      "15:39:18 - cmdstanpy - INFO - Chain [1] start processing\n",
      "15:39:18 - cmdstanpy - INFO - Chain [1] done processing\n",
      "15:39:18 - cmdstanpy - INFO - Chain [1] start processing\n",
      "15:39:18 - cmdstanpy - INFO - Chain [1] done processing\n"
     ]
    },
    {
     "name": "stdout",
     "output_type": "stream",
     "text": [
      "Training with changepoint_prior_scale=0.01, seasonality_prior_scale=10.0\n"
     ]
    },
    {
     "data": {
      "application/vnd.jupyter.widget-view+json": {
       "model_id": "3216cdc9f76f43618a987fe328320647",
       "version_major": 2,
       "version_minor": 0
      },
      "text/plain": [
       "  0%|          | 0/11 [00:00<?, ?it/s]"
      ]
     },
     "metadata": {},
     "output_type": "display_data"
    },
    {
     "name": "stderr",
     "output_type": "stream",
     "text": [
      "15:39:18 - cmdstanpy - INFO - Chain [1] start processing\n",
      "15:39:18 - cmdstanpy - INFO - Chain [1] done processing\n",
      "15:39:18 - cmdstanpy - INFO - Chain [1] start processing\n",
      "15:39:18 - cmdstanpy - INFO - Chain [1] done processing\n",
      "15:39:18 - cmdstanpy - INFO - Chain [1] start processing\n",
      "15:39:18 - cmdstanpy - INFO - Chain [1] done processing\n",
      "15:39:19 - cmdstanpy - INFO - Chain [1] start processing\n",
      "15:39:19 - cmdstanpy - INFO - Chain [1] done processing\n",
      "15:39:19 - cmdstanpy - INFO - Chain [1] start processing\n",
      "15:39:19 - cmdstanpy - INFO - Chain [1] done processing\n",
      "15:39:19 - cmdstanpy - INFO - Chain [1] start processing\n",
      "15:39:19 - cmdstanpy - INFO - Chain [1] done processing\n",
      "15:39:19 - cmdstanpy - INFO - Chain [1] start processing\n",
      "15:39:19 - cmdstanpy - INFO - Chain [1] done processing\n",
      "15:39:19 - cmdstanpy - INFO - Chain [1] start processing\n",
      "15:39:19 - cmdstanpy - INFO - Chain [1] done processing\n",
      "15:39:19 - cmdstanpy - INFO - Chain [1] start processing\n",
      "15:39:19 - cmdstanpy - INFO - Chain [1] done processing\n",
      "15:39:19 - cmdstanpy - INFO - Chain [1] start processing\n",
      "15:39:19 - cmdstanpy - INFO - Chain [1] done processing\n",
      "15:39:20 - cmdstanpy - INFO - Chain [1] start processing\n",
      "15:39:20 - cmdstanpy - INFO - Chain [1] done processing\n",
      "15:39:20 - cmdstanpy - INFO - Chain [1] start processing\n",
      "15:39:20 - cmdstanpy - INFO - Chain [1] done processing\n"
     ]
    },
    {
     "name": "stdout",
     "output_type": "stream",
     "text": [
      "Training with changepoint_prior_scale=0.1, seasonality_prior_scale=1.0\n"
     ]
    },
    {
     "data": {
      "application/vnd.jupyter.widget-view+json": {
       "model_id": "b2996e44fa55469085c62a14d5add99b",
       "version_major": 2,
       "version_minor": 0
      },
      "text/plain": [
       "  0%|          | 0/11 [00:00<?, ?it/s]"
      ]
     },
     "metadata": {},
     "output_type": "display_data"
    },
    {
     "name": "stderr",
     "output_type": "stream",
     "text": [
      "15:39:20 - cmdstanpy - INFO - Chain [1] start processing\n",
      "15:39:20 - cmdstanpy - INFO - Chain [1] done processing\n",
      "15:39:20 - cmdstanpy - INFO - Chain [1] start processing\n",
      "15:39:20 - cmdstanpy - INFO - Chain [1] done processing\n",
      "15:39:20 - cmdstanpy - INFO - Chain [1] start processing\n",
      "15:39:20 - cmdstanpy - INFO - Chain [1] done processing\n",
      "15:39:20 - cmdstanpy - INFO - Chain [1] start processing\n",
      "15:39:21 - cmdstanpy - INFO - Chain [1] done processing\n",
      "15:39:21 - cmdstanpy - INFO - Chain [1] start processing\n",
      "15:39:21 - cmdstanpy - INFO - Chain [1] done processing\n",
      "15:39:21 - cmdstanpy - INFO - Chain [1] start processing\n",
      "15:39:21 - cmdstanpy - INFO - Chain [1] done processing\n",
      "15:39:21 - cmdstanpy - INFO - Chain [1] start processing\n",
      "15:39:21 - cmdstanpy - INFO - Chain [1] done processing\n",
      "15:39:21 - cmdstanpy - INFO - Chain [1] start processing\n",
      "15:39:21 - cmdstanpy - INFO - Chain [1] done processing\n",
      "15:39:21 - cmdstanpy - INFO - Chain [1] start processing\n",
      "15:39:21 - cmdstanpy - INFO - Chain [1] done processing\n",
      "15:39:22 - cmdstanpy - INFO - Chain [1] start processing\n",
      "15:39:22 - cmdstanpy - INFO - Chain [1] done processing\n",
      "15:39:22 - cmdstanpy - INFO - Chain [1] start processing\n",
      "15:39:22 - cmdstanpy - INFO - Chain [1] done processing\n",
      "15:39:22 - cmdstanpy - INFO - Chain [1] start processing\n",
      "15:39:22 - cmdstanpy - INFO - Chain [1] done processing\n"
     ]
    },
    {
     "name": "stdout",
     "output_type": "stream",
     "text": [
      "Training with changepoint_prior_scale=0.1, seasonality_prior_scale=10.0\n"
     ]
    },
    {
     "data": {
      "application/vnd.jupyter.widget-view+json": {
       "model_id": "870e5a049af441bbbe708174dc7349b4",
       "version_major": 2,
       "version_minor": 0
      },
      "text/plain": [
       "  0%|          | 0/11 [00:00<?, ?it/s]"
      ]
     },
     "metadata": {},
     "output_type": "display_data"
    },
    {
     "name": "stderr",
     "output_type": "stream",
     "text": [
      "15:39:22 - cmdstanpy - INFO - Chain [1] start processing\n",
      "15:39:22 - cmdstanpy - INFO - Chain [1] done processing\n",
      "15:39:22 - cmdstanpy - INFO - Chain [1] start processing\n",
      "15:39:22 - cmdstanpy - INFO - Chain [1] done processing\n",
      "15:39:22 - cmdstanpy - INFO - Chain [1] start processing\n",
      "15:39:23 - cmdstanpy - INFO - Chain [1] done processing\n",
      "15:39:23 - cmdstanpy - INFO - Chain [1] start processing\n",
      "15:39:23 - cmdstanpy - INFO - Chain [1] done processing\n",
      "15:39:23 - cmdstanpy - INFO - Chain [1] start processing\n",
      "15:39:23 - cmdstanpy - INFO - Chain [1] done processing\n",
      "15:39:23 - cmdstanpy - INFO - Chain [1] start processing\n",
      "15:39:23 - cmdstanpy - INFO - Chain [1] done processing\n",
      "15:39:23 - cmdstanpy - INFO - Chain [1] start processing\n",
      "15:39:23 - cmdstanpy - INFO - Chain [1] done processing\n",
      "15:39:23 - cmdstanpy - INFO - Chain [1] start processing\n",
      "15:39:23 - cmdstanpy - INFO - Chain [1] done processing\n",
      "15:39:24 - cmdstanpy - INFO - Chain [1] start processing\n",
      "15:39:24 - cmdstanpy - INFO - Chain [1] done processing\n",
      "15:39:24 - cmdstanpy - INFO - Chain [1] start processing\n",
      "15:39:24 - cmdstanpy - INFO - Chain [1] done processing\n",
      "15:39:24 - cmdstanpy - INFO - Chain [1] start processing\n",
      "15:39:24 - cmdstanpy - INFO - Chain [1] done processing\n",
      "15:39:24 - cmdstanpy - INFO - Chain [1] start processing\n"
     ]
    },
    {
     "name": "stdout",
     "output_type": "stream",
     "text": [
      "Training with changepoint_prior_scale=0.5, seasonality_prior_scale=1.0\n"
     ]
    },
    {
     "name": "stderr",
     "output_type": "stream",
     "text": [
      "15:39:24 - cmdstanpy - INFO - Chain [1] done processing\n"
     ]
    },
    {
     "data": {
      "application/vnd.jupyter.widget-view+json": {
       "model_id": "1e13b410a0234d32a12904c407afdb45",
       "version_major": 2,
       "version_minor": 0
      },
      "text/plain": [
       "  0%|          | 0/11 [00:00<?, ?it/s]"
      ]
     },
     "metadata": {},
     "output_type": "display_data"
    },
    {
     "name": "stderr",
     "output_type": "stream",
     "text": [
      "15:39:25 - cmdstanpy - INFO - Chain [1] start processing\n",
      "15:39:25 - cmdstanpy - INFO - Chain [1] done processing\n",
      "15:39:25 - cmdstanpy - INFO - Chain [1] start processing\n",
      "15:39:25 - cmdstanpy - INFO - Chain [1] done processing\n",
      "15:39:25 - cmdstanpy - INFO - Chain [1] start processing\n",
      "15:39:25 - cmdstanpy - INFO - Chain [1] done processing\n",
      "15:39:25 - cmdstanpy - INFO - Chain [1] start processing\n",
      "15:39:25 - cmdstanpy - INFO - Chain [1] done processing\n",
      "15:39:25 - cmdstanpy - INFO - Chain [1] start processing\n",
      "15:39:25 - cmdstanpy - INFO - Chain [1] done processing\n",
      "15:39:25 - cmdstanpy - INFO - Chain [1] start processing\n",
      "15:39:26 - cmdstanpy - INFO - Chain [1] done processing\n",
      "15:39:26 - cmdstanpy - INFO - Chain [1] start processing\n",
      "15:39:26 - cmdstanpy - INFO - Chain [1] done processing\n",
      "15:39:26 - cmdstanpy - INFO - Chain [1] start processing\n",
      "15:39:26 - cmdstanpy - INFO - Chain [1] done processing\n",
      "15:39:26 - cmdstanpy - INFO - Chain [1] start processing\n",
      "15:39:26 - cmdstanpy - INFO - Chain [1] done processing\n",
      "15:39:26 - cmdstanpy - INFO - Chain [1] start processing\n",
      "15:39:26 - cmdstanpy - INFO - Chain [1] done processing\n",
      "15:39:27 - cmdstanpy - INFO - Chain [1] start processing\n",
      "15:39:27 - cmdstanpy - INFO - Chain [1] done processing\n",
      "15:39:27 - cmdstanpy - INFO - Chain [1] start processing\n"
     ]
    },
    {
     "name": "stdout",
     "output_type": "stream",
     "text": [
      "Training with changepoint_prior_scale=0.5, seasonality_prior_scale=10.0\n"
     ]
    },
    {
     "name": "stderr",
     "output_type": "stream",
     "text": [
      "15:39:27 - cmdstanpy - INFO - Chain [1] done processing\n"
     ]
    },
    {
     "data": {
      "application/vnd.jupyter.widget-view+json": {
       "model_id": "4d2b79ce378943c2aae7531d085a2f92",
       "version_major": 2,
       "version_minor": 0
      },
      "text/plain": [
       "  0%|          | 0/11 [00:00<?, ?it/s]"
      ]
     },
     "metadata": {},
     "output_type": "display_data"
    },
    {
     "name": "stderr",
     "output_type": "stream",
     "text": [
      "15:39:27 - cmdstanpy - INFO - Chain [1] start processing\n",
      "15:39:27 - cmdstanpy - INFO - Chain [1] done processing\n",
      "15:39:28 - cmdstanpy - INFO - Chain [1] start processing\n",
      "15:39:28 - cmdstanpy - INFO - Chain [1] done processing\n",
      "15:39:28 - cmdstanpy - INFO - Chain [1] start processing\n",
      "15:39:28 - cmdstanpy - INFO - Chain [1] done processing\n",
      "15:39:28 - cmdstanpy - INFO - Chain [1] start processing\n",
      "15:39:28 - cmdstanpy - INFO - Chain [1] done processing\n",
      "15:39:28 - cmdstanpy - INFO - Chain [1] start processing\n",
      "15:39:28 - cmdstanpy - INFO - Chain [1] done processing\n",
      "15:39:28 - cmdstanpy - INFO - Chain [1] start processing\n",
      "15:39:28 - cmdstanpy - INFO - Chain [1] done processing\n",
      "15:39:29 - cmdstanpy - INFO - Chain [1] start processing\n",
      "15:39:29 - cmdstanpy - INFO - Chain [1] done processing\n",
      "15:39:29 - cmdstanpy - INFO - Chain [1] start processing\n",
      "15:39:29 - cmdstanpy - INFO - Chain [1] done processing\n",
      "15:39:29 - cmdstanpy - INFO - Chain [1] start processing\n",
      "15:39:29 - cmdstanpy - INFO - Chain [1] done processing\n",
      "15:39:29 - cmdstanpy - INFO - Chain [1] start processing\n",
      "15:39:29 - cmdstanpy - INFO - Chain [1] done processing\n",
      "15:39:30 - cmdstanpy - INFO - Chain [1] start processing\n",
      "15:39:30 - cmdstanpy - INFO - Chain [1] done processing\n",
      "Tuning cs subdisciplines:  10%|██                  | 4/40 [01:00<08:38, 14.41s/it, Processing cs.CG]"
     ]
    },
    {
     "name": "stdout",
     "output_type": "stream",
     "text": [
      "\n",
      "Best Parameters:\n",
      "changepoint_prior_scale     0.010000\n",
      "seasonality_prior_scale    10.000000\n",
      "rmse                        7.206265\n",
      "Name: 1, dtype: float64\n"
     ]
    },
    {
     "name": "stderr",
     "output_type": "stream",
     "text": [
      "15:39:30 - cmdstanpy - INFO - Chain [1] start processing\n",
      "15:39:31 - cmdstanpy - INFO - Chain [1] done processing\n"
     ]
    },
    {
     "name": "stdout",
     "output_type": "stream",
     "text": [
      "Training with changepoint_prior_scale=0.01, seasonality_prior_scale=1.0\n"
     ]
    },
    {
     "data": {
      "application/vnd.jupyter.widget-view+json": {
       "model_id": "b6dd14a486ba4dd3a7b8768e1faa9a30",
       "version_major": 2,
       "version_minor": 0
      },
      "text/plain": [
       "  0%|          | 0/11 [00:00<?, ?it/s]"
      ]
     },
     "metadata": {},
     "output_type": "display_data"
    },
    {
     "name": "stderr",
     "output_type": "stream",
     "text": [
      "15:39:31 - cmdstanpy - INFO - Chain [1] start processing\n",
      "15:39:31 - cmdstanpy - INFO - Chain [1] done processing\n",
      "15:39:31 - cmdstanpy - INFO - Chain [1] start processing\n",
      "15:39:31 - cmdstanpy - INFO - Chain [1] done processing\n",
      "15:39:31 - cmdstanpy - INFO - Chain [1] start processing\n",
      "15:39:31 - cmdstanpy - INFO - Chain [1] done processing\n",
      "15:39:31 - cmdstanpy - INFO - Chain [1] start processing\n",
      "15:39:31 - cmdstanpy - INFO - Chain [1] done processing\n",
      "15:39:31 - cmdstanpy - INFO - Chain [1] start processing\n",
      "15:39:31 - cmdstanpy - INFO - Chain [1] done processing\n",
      "15:39:31 - cmdstanpy - INFO - Chain [1] start processing\n",
      "15:39:31 - cmdstanpy - INFO - Chain [1] done processing\n",
      "15:39:31 - cmdstanpy - INFO - Chain [1] start processing\n",
      "15:39:31 - cmdstanpy - INFO - Chain [1] done processing\n",
      "15:39:32 - cmdstanpy - INFO - Chain [1] start processing\n",
      "15:39:32 - cmdstanpy - INFO - Chain [1] done processing\n",
      "15:39:32 - cmdstanpy - INFO - Chain [1] start processing\n",
      "15:39:32 - cmdstanpy - INFO - Chain [1] done processing\n",
      "15:39:32 - cmdstanpy - INFO - Chain [1] start processing\n",
      "15:39:32 - cmdstanpy - INFO - Chain [1] done processing\n",
      "15:39:32 - cmdstanpy - INFO - Chain [1] start processing\n",
      "15:39:32 - cmdstanpy - INFO - Chain [1] done processing\n",
      "15:39:32 - cmdstanpy - INFO - Chain [1] start processing\n",
      "15:39:32 - cmdstanpy - INFO - Chain [1] done processing\n"
     ]
    },
    {
     "name": "stdout",
     "output_type": "stream",
     "text": [
      "Training with changepoint_prior_scale=0.01, seasonality_prior_scale=10.0\n"
     ]
    },
    {
     "data": {
      "application/vnd.jupyter.widget-view+json": {
       "model_id": "e88ac0988cb74c418064c04d5639fb3c",
       "version_major": 2,
       "version_minor": 0
      },
      "text/plain": [
       "  0%|          | 0/11 [00:00<?, ?it/s]"
      ]
     },
     "metadata": {},
     "output_type": "display_data"
    },
    {
     "name": "stderr",
     "output_type": "stream",
     "text": [
      "15:39:32 - cmdstanpy - INFO - Chain [1] start processing\n",
      "15:39:32 - cmdstanpy - INFO - Chain [1] done processing\n",
      "15:39:33 - cmdstanpy - INFO - Chain [1] start processing\n",
      "15:39:33 - cmdstanpy - INFO - Chain [1] done processing\n",
      "15:39:33 - cmdstanpy - INFO - Chain [1] start processing\n",
      "15:39:33 - cmdstanpy - INFO - Chain [1] done processing\n",
      "15:39:33 - cmdstanpy - INFO - Chain [1] start processing\n",
      "15:39:33 - cmdstanpy - INFO - Chain [1] done processing\n",
      "15:39:33 - cmdstanpy - INFO - Chain [1] start processing\n",
      "15:39:33 - cmdstanpy - INFO - Chain [1] done processing\n",
      "15:39:33 - cmdstanpy - INFO - Chain [1] start processing\n",
      "15:39:33 - cmdstanpy - INFO - Chain [1] done processing\n",
      "15:39:33 - cmdstanpy - INFO - Chain [1] start processing\n",
      "15:39:33 - cmdstanpy - INFO - Chain [1] done processing\n",
      "15:39:33 - cmdstanpy - INFO - Chain [1] start processing\n",
      "15:39:33 - cmdstanpy - INFO - Chain [1] done processing\n",
      "15:39:34 - cmdstanpy - INFO - Chain [1] start processing\n",
      "15:39:34 - cmdstanpy - INFO - Chain [1] done processing\n",
      "15:39:34 - cmdstanpy - INFO - Chain [1] start processing\n",
      "15:39:34 - cmdstanpy - INFO - Chain [1] done processing\n",
      "15:39:34 - cmdstanpy - INFO - Chain [1] start processing\n",
      "15:39:34 - cmdstanpy - INFO - Chain [1] done processing\n",
      "15:39:34 - cmdstanpy - INFO - Chain [1] start processing\n"
     ]
    },
    {
     "name": "stdout",
     "output_type": "stream",
     "text": [
      "Training with changepoint_prior_scale=0.1, seasonality_prior_scale=1.0\n"
     ]
    },
    {
     "name": "stderr",
     "output_type": "stream",
     "text": [
      "15:39:34 - cmdstanpy - INFO - Chain [1] done processing\n"
     ]
    },
    {
     "data": {
      "application/vnd.jupyter.widget-view+json": {
       "model_id": "8b57e35fd7224a51a447d7e6c9039c08",
       "version_major": 2,
       "version_minor": 0
      },
      "text/plain": [
       "  0%|          | 0/11 [00:00<?, ?it/s]"
      ]
     },
     "metadata": {},
     "output_type": "display_data"
    },
    {
     "name": "stderr",
     "output_type": "stream",
     "text": [
      "15:39:34 - cmdstanpy - INFO - Chain [1] start processing\n",
      "15:39:34 - cmdstanpy - INFO - Chain [1] done processing\n",
      "15:39:35 - cmdstanpy - INFO - Chain [1] start processing\n",
      "15:39:35 - cmdstanpy - INFO - Chain [1] done processing\n",
      "15:39:35 - cmdstanpy - INFO - Chain [1] start processing\n",
      "15:39:35 - cmdstanpy - INFO - Chain [1] done processing\n",
      "15:39:35 - cmdstanpy - INFO - Chain [1] start processing\n",
      "15:39:35 - cmdstanpy - INFO - Chain [1] done processing\n",
      "15:39:35 - cmdstanpy - INFO - Chain [1] start processing\n",
      "15:39:35 - cmdstanpy - INFO - Chain [1] done processing\n",
      "15:39:35 - cmdstanpy - INFO - Chain [1] start processing\n",
      "15:39:35 - cmdstanpy - INFO - Chain [1] done processing\n",
      "15:39:35 - cmdstanpy - INFO - Chain [1] start processing\n",
      "15:39:35 - cmdstanpy - INFO - Chain [1] done processing\n",
      "15:39:36 - cmdstanpy - INFO - Chain [1] start processing\n",
      "15:39:36 - cmdstanpy - INFO - Chain [1] done processing\n",
      "15:39:36 - cmdstanpy - INFO - Chain [1] start processing\n",
      "15:39:36 - cmdstanpy - INFO - Chain [1] done processing\n",
      "15:39:36 - cmdstanpy - INFO - Chain [1] start processing\n",
      "15:39:36 - cmdstanpy - INFO - Chain [1] done processing\n",
      "15:39:36 - cmdstanpy - INFO - Chain [1] start processing\n",
      "15:39:36 - cmdstanpy - INFO - Chain [1] done processing\n",
      "15:39:36 - cmdstanpy - INFO - Chain [1] start processing\n",
      "15:39:37 - cmdstanpy - INFO - Chain [1] done processing\n"
     ]
    },
    {
     "name": "stdout",
     "output_type": "stream",
     "text": [
      "Training with changepoint_prior_scale=0.1, seasonality_prior_scale=10.0\n"
     ]
    },
    {
     "data": {
      "application/vnd.jupyter.widget-view+json": {
       "model_id": "1a71f4761b1042b5b34b0a18979f1169",
       "version_major": 2,
       "version_minor": 0
      },
      "text/plain": [
       "  0%|          | 0/11 [00:00<?, ?it/s]"
      ]
     },
     "metadata": {},
     "output_type": "display_data"
    },
    {
     "name": "stderr",
     "output_type": "stream",
     "text": [
      "15:39:37 - cmdstanpy - INFO - Chain [1] start processing\n",
      "15:39:37 - cmdstanpy - INFO - Chain [1] done processing\n",
      "15:39:37 - cmdstanpy - INFO - Chain [1] start processing\n",
      "15:39:37 - cmdstanpy - INFO - Chain [1] done processing\n",
      "15:39:37 - cmdstanpy - INFO - Chain [1] start processing\n",
      "15:39:37 - cmdstanpy - INFO - Chain [1] done processing\n",
      "15:39:37 - cmdstanpy - INFO - Chain [1] start processing\n",
      "15:39:37 - cmdstanpy - INFO - Chain [1] done processing\n",
      "15:39:37 - cmdstanpy - INFO - Chain [1] start processing\n",
      "15:39:37 - cmdstanpy - INFO - Chain [1] done processing\n",
      "15:39:38 - cmdstanpy - INFO - Chain [1] start processing\n",
      "15:39:38 - cmdstanpy - INFO - Chain [1] done processing\n",
      "15:39:38 - cmdstanpy - INFO - Chain [1] start processing\n",
      "15:39:38 - cmdstanpy - INFO - Chain [1] done processing\n",
      "15:39:38 - cmdstanpy - INFO - Chain [1] start processing\n",
      "15:39:38 - cmdstanpy - INFO - Chain [1] done processing\n",
      "15:39:38 - cmdstanpy - INFO - Chain [1] start processing\n",
      "15:39:38 - cmdstanpy - INFO - Chain [1] done processing\n",
      "15:39:38 - cmdstanpy - INFO - Chain [1] start processing\n",
      "15:39:38 - cmdstanpy - INFO - Chain [1] done processing\n",
      "15:39:38 - cmdstanpy - INFO - Chain [1] start processing\n",
      "15:39:38 - cmdstanpy - INFO - Chain [1] done processing\n",
      "15:39:39 - cmdstanpy - INFO - Chain [1] start processing\n"
     ]
    },
    {
     "name": "stdout",
     "output_type": "stream",
     "text": [
      "Training with changepoint_prior_scale=0.5, seasonality_prior_scale=1.0\n"
     ]
    },
    {
     "name": "stderr",
     "output_type": "stream",
     "text": [
      "15:39:39 - cmdstanpy - INFO - Chain [1] done processing\n"
     ]
    },
    {
     "data": {
      "application/vnd.jupyter.widget-view+json": {
       "model_id": "e1f3d37fe8be4cc3905431f39d126ed7",
       "version_major": 2,
       "version_minor": 0
      },
      "text/plain": [
       "  0%|          | 0/11 [00:00<?, ?it/s]"
      ]
     },
     "metadata": {},
     "output_type": "display_data"
    },
    {
     "name": "stderr",
     "output_type": "stream",
     "text": [
      "15:39:39 - cmdstanpy - INFO - Chain [1] start processing\n",
      "15:39:39 - cmdstanpy - INFO - Chain [1] done processing\n",
      "15:39:39 - cmdstanpy - INFO - Chain [1] start processing\n",
      "15:39:39 - cmdstanpy - INFO - Chain [1] done processing\n",
      "15:39:39 - cmdstanpy - INFO - Chain [1] start processing\n",
      "15:39:39 - cmdstanpy - INFO - Chain [1] done processing\n",
      "15:39:40 - cmdstanpy - INFO - Chain [1] start processing\n",
      "15:39:40 - cmdstanpy - INFO - Chain [1] done processing\n",
      "15:39:40 - cmdstanpy - INFO - Chain [1] start processing\n",
      "15:39:40 - cmdstanpy - INFO - Chain [1] done processing\n",
      "15:39:40 - cmdstanpy - INFO - Chain [1] start processing\n",
      "15:39:40 - cmdstanpy - INFO - Chain [1] done processing\n",
      "15:39:40 - cmdstanpy - INFO - Chain [1] start processing\n",
      "15:39:40 - cmdstanpy - INFO - Chain [1] done processing\n",
      "15:39:40 - cmdstanpy - INFO - Chain [1] start processing\n",
      "15:39:40 - cmdstanpy - INFO - Chain [1] done processing\n",
      "15:39:40 - cmdstanpy - INFO - Chain [1] start processing\n",
      "15:39:41 - cmdstanpy - INFO - Chain [1] done processing\n",
      "15:39:41 - cmdstanpy - INFO - Chain [1] start processing\n",
      "15:39:41 - cmdstanpy - INFO - Chain [1] done processing\n",
      "15:39:41 - cmdstanpy - INFO - Chain [1] start processing\n",
      "15:39:41 - cmdstanpy - INFO - Chain [1] done processing\n",
      "15:39:41 - cmdstanpy - INFO - Chain [1] start processing\n"
     ]
    },
    {
     "name": "stdout",
     "output_type": "stream",
     "text": [
      "Training with changepoint_prior_scale=0.5, seasonality_prior_scale=10.0\n"
     ]
    },
    {
     "name": "stderr",
     "output_type": "stream",
     "text": [
      "15:39:42 - cmdstanpy - INFO - Chain [1] done processing\n"
     ]
    },
    {
     "data": {
      "application/vnd.jupyter.widget-view+json": {
       "model_id": "92640f58b0de4924aee8f9a157811307",
       "version_major": 2,
       "version_minor": 0
      },
      "text/plain": [
       "  0%|          | 0/11 [00:00<?, ?it/s]"
      ]
     },
     "metadata": {},
     "output_type": "display_data"
    },
    {
     "name": "stderr",
     "output_type": "stream",
     "text": [
      "15:39:42 - cmdstanpy - INFO - Chain [1] start processing\n",
      "15:39:42 - cmdstanpy - INFO - Chain [1] done processing\n",
      "15:39:42 - cmdstanpy - INFO - Chain [1] start processing\n",
      "15:39:42 - cmdstanpy - INFO - Chain [1] done processing\n",
      "15:39:42 - cmdstanpy - INFO - Chain [1] start processing\n",
      "15:39:42 - cmdstanpy - INFO - Chain [1] done processing\n",
      "15:39:42 - cmdstanpy - INFO - Chain [1] start processing\n",
      "15:39:42 - cmdstanpy - INFO - Chain [1] done processing\n",
      "15:39:42 - cmdstanpy - INFO - Chain [1] start processing\n",
      "15:39:42 - cmdstanpy - INFO - Chain [1] done processing\n",
      "15:39:43 - cmdstanpy - INFO - Chain [1] start processing\n",
      "15:39:43 - cmdstanpy - INFO - Chain [1] done processing\n",
      "15:39:43 - cmdstanpy - INFO - Chain [1] start processing\n",
      "15:39:43 - cmdstanpy - INFO - Chain [1] done processing\n",
      "15:39:43 - cmdstanpy - INFO - Chain [1] start processing\n",
      "15:39:43 - cmdstanpy - INFO - Chain [1] done processing\n",
      "15:39:43 - cmdstanpy - INFO - Chain [1] start processing\n",
      "15:39:43 - cmdstanpy - INFO - Chain [1] done processing\n",
      "15:39:43 - cmdstanpy - INFO - Chain [1] start processing\n",
      "15:39:44 - cmdstanpy - INFO - Chain [1] done processing\n",
      "15:39:44 - cmdstanpy - INFO - Chain [1] start processing\n",
      "15:39:44 - cmdstanpy - INFO - Chain [1] done processing\n",
      "Tuning cs subdisciplines:  12%|██▌                 | 5/40 [01:14<08:18, 14.25s/it, Processing cs.CL]"
     ]
    },
    {
     "name": "stdout",
     "output_type": "stream",
     "text": [
      "\n",
      "Best Parameters:\n",
      "changepoint_prior_scale    0.500000\n",
      "seasonality_prior_scale    1.000000\n",
      "rmse                       4.860145\n",
      "Name: 4, dtype: float64\n"
     ]
    },
    {
     "name": "stderr",
     "output_type": "stream",
     "text": [
      "15:39:44 - cmdstanpy - INFO - Chain [1] start processing\n",
      "15:39:45 - cmdstanpy - INFO - Chain [1] done processing\n"
     ]
    },
    {
     "name": "stdout",
     "output_type": "stream",
     "text": [
      "Training with changepoint_prior_scale=0.01, seasonality_prior_scale=1.0\n"
     ]
    },
    {
     "data": {
      "application/vnd.jupyter.widget-view+json": {
       "model_id": "18931030dc4947f994f7693bf42bf49d",
       "version_major": 2,
       "version_minor": 0
      },
      "text/plain": [
       "  0%|          | 0/11 [00:00<?, ?it/s]"
      ]
     },
     "metadata": {},
     "output_type": "display_data"
    },
    {
     "name": "stderr",
     "output_type": "stream",
     "text": [
      "15:39:45 - cmdstanpy - INFO - Chain [1] start processing\n",
      "15:39:45 - cmdstanpy - INFO - Chain [1] done processing\n",
      "15:39:45 - cmdstanpy - INFO - Chain [1] start processing\n",
      "15:39:45 - cmdstanpy - INFO - Chain [1] done processing\n",
      "15:39:45 - cmdstanpy - INFO - Chain [1] start processing\n",
      "15:39:45 - cmdstanpy - INFO - Chain [1] done processing\n",
      "15:39:45 - cmdstanpy - INFO - Chain [1] start processing\n",
      "15:39:45 - cmdstanpy - INFO - Chain [1] done processing\n",
      "15:39:45 - cmdstanpy - INFO - Chain [1] start processing\n",
      "15:39:46 - cmdstanpy - INFO - Chain [1] done processing\n",
      "15:39:46 - cmdstanpy - INFO - Chain [1] start processing\n",
      "15:39:46 - cmdstanpy - INFO - Chain [1] done processing\n",
      "15:39:46 - cmdstanpy - INFO - Chain [1] start processing\n",
      "15:39:46 - cmdstanpy - INFO - Chain [1] done processing\n",
      "15:39:46 - cmdstanpy - INFO - Chain [1] start processing\n",
      "15:39:46 - cmdstanpy - INFO - Chain [1] done processing\n",
      "15:39:47 - cmdstanpy - INFO - Chain [1] start processing\n",
      "15:39:47 - cmdstanpy - INFO - Chain [1] done processing\n",
      "15:39:47 - cmdstanpy - INFO - Chain [1] start processing\n",
      "15:39:47 - cmdstanpy - INFO - Chain [1] done processing\n",
      "15:39:47 - cmdstanpy - INFO - Chain [1] start processing\n",
      "15:39:47 - cmdstanpy - INFO - Chain [1] done processing\n",
      "15:39:47 - cmdstanpy - INFO - Chain [1] start processing\n",
      "15:39:47 - cmdstanpy - INFO - Chain [1] done processing\n"
     ]
    },
    {
     "name": "stdout",
     "output_type": "stream",
     "text": [
      "Training with changepoint_prior_scale=0.01, seasonality_prior_scale=10.0\n"
     ]
    },
    {
     "data": {
      "application/vnd.jupyter.widget-view+json": {
       "model_id": "ecf6ea5ca8e24492a495de276414d9d9",
       "version_major": 2,
       "version_minor": 0
      },
      "text/plain": [
       "  0%|          | 0/11 [00:00<?, ?it/s]"
      ]
     },
     "metadata": {},
     "output_type": "display_data"
    },
    {
     "name": "stderr",
     "output_type": "stream",
     "text": [
      "15:39:48 - cmdstanpy - INFO - Chain [1] start processing\n",
      "15:39:48 - cmdstanpy - INFO - Chain [1] done processing\n",
      "15:39:48 - cmdstanpy - INFO - Chain [1] start processing\n",
      "15:39:48 - cmdstanpy - INFO - Chain [1] done processing\n",
      "15:39:48 - cmdstanpy - INFO - Chain [1] start processing\n",
      "15:39:48 - cmdstanpy - INFO - Chain [1] done processing\n",
      "15:39:48 - cmdstanpy - INFO - Chain [1] start processing\n",
      "15:39:48 - cmdstanpy - INFO - Chain [1] done processing\n",
      "15:39:48 - cmdstanpy - INFO - Chain [1] start processing\n",
      "15:39:48 - cmdstanpy - INFO - Chain [1] done processing\n",
      "15:39:48 - cmdstanpy - INFO - Chain [1] start processing\n",
      "15:39:48 - cmdstanpy - INFO - Chain [1] done processing\n",
      "15:39:49 - cmdstanpy - INFO - Chain [1] start processing\n",
      "15:39:49 - cmdstanpy - INFO - Chain [1] done processing\n",
      "15:39:49 - cmdstanpy - INFO - Chain [1] start processing\n",
      "15:39:49 - cmdstanpy - INFO - Chain [1] done processing\n",
      "15:39:49 - cmdstanpy - INFO - Chain [1] start processing\n",
      "15:39:49 - cmdstanpy - INFO - Chain [1] done processing\n",
      "15:39:49 - cmdstanpy - INFO - Chain [1] start processing\n",
      "15:39:49 - cmdstanpy - INFO - Chain [1] done processing\n",
      "15:39:49 - cmdstanpy - INFO - Chain [1] start processing\n",
      "15:39:49 - cmdstanpy - INFO - Chain [1] done processing\n",
      "15:39:50 - cmdstanpy - INFO - Chain [1] start processing\n",
      "15:39:50 - cmdstanpy - INFO - Chain [1] done processing\n"
     ]
    },
    {
     "name": "stdout",
     "output_type": "stream",
     "text": [
      "Training with changepoint_prior_scale=0.1, seasonality_prior_scale=1.0\n"
     ]
    },
    {
     "data": {
      "application/vnd.jupyter.widget-view+json": {
       "model_id": "9c4b61dc5d494e22894cbfcefb21f389",
       "version_major": 2,
       "version_minor": 0
      },
      "text/plain": [
       "  0%|          | 0/11 [00:00<?, ?it/s]"
      ]
     },
     "metadata": {},
     "output_type": "display_data"
    },
    {
     "name": "stderr",
     "output_type": "stream",
     "text": [
      "15:39:50 - cmdstanpy - INFO - Chain [1] start processing\n",
      "15:39:50 - cmdstanpy - INFO - Chain [1] done processing\n",
      "15:39:50 - cmdstanpy - INFO - Chain [1] start processing\n",
      "15:39:50 - cmdstanpy - INFO - Chain [1] done processing\n",
      "15:39:50 - cmdstanpy - INFO - Chain [1] start processing\n",
      "15:39:50 - cmdstanpy - INFO - Chain [1] done processing\n",
      "15:39:50 - cmdstanpy - INFO - Chain [1] start processing\n",
      "15:39:50 - cmdstanpy - INFO - Chain [1] done processing\n",
      "15:39:51 - cmdstanpy - INFO - Chain [1] start processing\n",
      "15:39:51 - cmdstanpy - INFO - Chain [1] done processing\n",
      "15:39:51 - cmdstanpy - INFO - Chain [1] start processing\n",
      "15:39:51 - cmdstanpy - INFO - Chain [1] done processing\n",
      "15:39:51 - cmdstanpy - INFO - Chain [1] start processing\n",
      "15:39:51 - cmdstanpy - INFO - Chain [1] done processing\n",
      "15:39:51 - cmdstanpy - INFO - Chain [1] start processing\n",
      "15:39:51 - cmdstanpy - INFO - Chain [1] done processing\n",
      "15:39:51 - cmdstanpy - INFO - Chain [1] start processing\n",
      "15:39:51 - cmdstanpy - INFO - Chain [1] done processing\n",
      "15:39:51 - cmdstanpy - INFO - Chain [1] start processing\n",
      "15:39:52 - cmdstanpy - INFO - Chain [1] done processing\n",
      "15:39:52 - cmdstanpy - INFO - Chain [1] start processing\n",
      "15:39:52 - cmdstanpy - INFO - Chain [1] done processing\n",
      "15:39:52 - cmdstanpy - INFO - Chain [1] start processing\n",
      "15:39:52 - cmdstanpy - INFO - Chain [1] done processing\n"
     ]
    },
    {
     "name": "stdout",
     "output_type": "stream",
     "text": [
      "Training with changepoint_prior_scale=0.1, seasonality_prior_scale=10.0\n"
     ]
    },
    {
     "data": {
      "application/vnd.jupyter.widget-view+json": {
       "model_id": "0dd372b06eb9417b815a24d6a736bf14",
       "version_major": 2,
       "version_minor": 0
      },
      "text/plain": [
       "  0%|          | 0/11 [00:00<?, ?it/s]"
      ]
     },
     "metadata": {},
     "output_type": "display_data"
    },
    {
     "name": "stderr",
     "output_type": "stream",
     "text": [
      "15:39:52 - cmdstanpy - INFO - Chain [1] start processing\n",
      "15:39:53 - cmdstanpy - INFO - Chain [1] done processing\n",
      "15:39:53 - cmdstanpy - INFO - Chain [1] start processing\n",
      "15:39:53 - cmdstanpy - INFO - Chain [1] done processing\n",
      "15:39:53 - cmdstanpy - INFO - Chain [1] start processing\n",
      "15:39:53 - cmdstanpy - INFO - Chain [1] done processing\n",
      "15:39:53 - cmdstanpy - INFO - Chain [1] start processing\n",
      "15:39:53 - cmdstanpy - INFO - Chain [1] done processing\n",
      "15:39:53 - cmdstanpy - INFO - Chain [1] start processing\n",
      "15:39:54 - cmdstanpy - INFO - Chain [1] done processing\n",
      "15:39:54 - cmdstanpy - INFO - Chain [1] start processing\n",
      "15:39:54 - cmdstanpy - INFO - Chain [1] done processing\n",
      "15:39:54 - cmdstanpy - INFO - Chain [1] start processing\n",
      "15:39:54 - cmdstanpy - INFO - Chain [1] done processing\n",
      "15:39:54 - cmdstanpy - INFO - Chain [1] start processing\n",
      "15:39:54 - cmdstanpy - INFO - Chain [1] done processing\n",
      "15:39:54 - cmdstanpy - INFO - Chain [1] start processing\n",
      "15:39:54 - cmdstanpy - INFO - Chain [1] done processing\n",
      "15:39:54 - cmdstanpy - INFO - Chain [1] start processing\n",
      "15:39:55 - cmdstanpy - INFO - Chain [1] done processing\n",
      "15:39:55 - cmdstanpy - INFO - Chain [1] start processing\n",
      "15:39:55 - cmdstanpy - INFO - Chain [1] done processing\n",
      "15:39:55 - cmdstanpy - INFO - Chain [1] start processing\n"
     ]
    },
    {
     "name": "stdout",
     "output_type": "stream",
     "text": [
      "Training with changepoint_prior_scale=0.5, seasonality_prior_scale=1.0\n"
     ]
    },
    {
     "name": "stderr",
     "output_type": "stream",
     "text": [
      "15:39:55 - cmdstanpy - INFO - Chain [1] done processing\n"
     ]
    },
    {
     "data": {
      "application/vnd.jupyter.widget-view+json": {
       "model_id": "86acb87321f548ba8672876ab7fd2676",
       "version_major": 2,
       "version_minor": 0
      },
      "text/plain": [
       "  0%|          | 0/11 [00:00<?, ?it/s]"
      ]
     },
     "metadata": {},
     "output_type": "display_data"
    },
    {
     "name": "stderr",
     "output_type": "stream",
     "text": [
      "15:39:56 - cmdstanpy - INFO - Chain [1] start processing\n",
      "15:39:56 - cmdstanpy - INFO - Chain [1] done processing\n",
      "15:39:56 - cmdstanpy - INFO - Chain [1] start processing\n",
      "15:39:56 - cmdstanpy - INFO - Chain [1] done processing\n",
      "15:39:56 - cmdstanpy - INFO - Chain [1] start processing\n",
      "15:39:56 - cmdstanpy - INFO - Chain [1] done processing\n",
      "15:39:56 - cmdstanpy - INFO - Chain [1] start processing\n",
      "15:39:56 - cmdstanpy - INFO - Chain [1] done processing\n",
      "15:39:56 - cmdstanpy - INFO - Chain [1] start processing\n",
      "15:39:56 - cmdstanpy - INFO - Chain [1] done processing\n",
      "15:39:56 - cmdstanpy - INFO - Chain [1] start processing\n",
      "15:39:57 - cmdstanpy - INFO - Chain [1] done processing\n",
      "15:39:57 - cmdstanpy - INFO - Chain [1] start processing\n",
      "15:39:57 - cmdstanpy - INFO - Chain [1] done processing\n",
      "15:39:57 - cmdstanpy - INFO - Chain [1] start processing\n",
      "15:39:57 - cmdstanpy - INFO - Chain [1] done processing\n",
      "15:39:57 - cmdstanpy - INFO - Chain [1] start processing\n",
      "15:39:57 - cmdstanpy - INFO - Chain [1] done processing\n",
      "15:39:57 - cmdstanpy - INFO - Chain [1] start processing\n",
      "15:39:58 - cmdstanpy - INFO - Chain [1] done processing\n",
      "15:39:58 - cmdstanpy - INFO - Chain [1] start processing\n",
      "15:39:58 - cmdstanpy - INFO - Chain [1] done processing\n",
      "15:39:58 - cmdstanpy - INFO - Chain [1] start processing\n"
     ]
    },
    {
     "name": "stdout",
     "output_type": "stream",
     "text": [
      "Training with changepoint_prior_scale=0.5, seasonality_prior_scale=10.0\n"
     ]
    },
    {
     "name": "stderr",
     "output_type": "stream",
     "text": [
      "15:39:58 - cmdstanpy - INFO - Chain [1] done processing\n"
     ]
    },
    {
     "data": {
      "application/vnd.jupyter.widget-view+json": {
       "model_id": "243b6696e128492fb44c1f42d5a742ce",
       "version_major": 2,
       "version_minor": 0
      },
      "text/plain": [
       "  0%|          | 0/11 [00:00<?, ?it/s]"
      ]
     },
     "metadata": {},
     "output_type": "display_data"
    },
    {
     "name": "stderr",
     "output_type": "stream",
     "text": [
      "15:39:59 - cmdstanpy - INFO - Chain [1] start processing\n",
      "15:39:59 - cmdstanpy - INFO - Chain [1] done processing\n",
      "15:39:59 - cmdstanpy - INFO - Chain [1] start processing\n",
      "15:39:59 - cmdstanpy - INFO - Chain [1] done processing\n",
      "15:39:59 - cmdstanpy - INFO - Chain [1] start processing\n",
      "15:39:59 - cmdstanpy - INFO - Chain [1] done processing\n",
      "15:39:59 - cmdstanpy - INFO - Chain [1] start processing\n",
      "15:39:59 - cmdstanpy - INFO - Chain [1] done processing\n",
      "15:39:59 - cmdstanpy - INFO - Chain [1] start processing\n",
      "15:39:59 - cmdstanpy - INFO - Chain [1] done processing\n",
      "15:40:00 - cmdstanpy - INFO - Chain [1] start processing\n",
      "15:40:00 - cmdstanpy - INFO - Chain [1] done processing\n",
      "15:40:00 - cmdstanpy - INFO - Chain [1] start processing\n",
      "15:40:00 - cmdstanpy - INFO - Chain [1] done processing\n",
      "15:40:00 - cmdstanpy - INFO - Chain [1] start processing\n",
      "15:40:00 - cmdstanpy - INFO - Chain [1] done processing\n",
      "15:40:00 - cmdstanpy - INFO - Chain [1] start processing\n",
      "15:40:00 - cmdstanpy - INFO - Chain [1] done processing\n",
      "15:40:00 - cmdstanpy - INFO - Chain [1] start processing\n",
      "15:40:01 - cmdstanpy - INFO - Chain [1] done processing\n",
      "15:40:01 - cmdstanpy - INFO - Chain [1] start processing\n",
      "15:40:01 - cmdstanpy - INFO - Chain [1] done processing\n",
      "Tuning cs subdisciplines:  15%|███                 | 6/40 [01:31<08:37, 15.21s/it, Processing cs.CR]"
     ]
    },
    {
     "name": "stdout",
     "output_type": "stream",
     "text": [
      "\n",
      "Best Parameters:\n",
      "changepoint_prior_scale      0.010000\n",
      "seasonality_prior_scale     10.000000\n",
      "rmse                       103.504402\n",
      "Name: 1, dtype: float64\n"
     ]
    },
    {
     "name": "stderr",
     "output_type": "stream",
     "text": [
      "15:40:02 - cmdstanpy - INFO - Chain [1] start processing\n",
      "15:40:02 - cmdstanpy - INFO - Chain [1] done processing\n"
     ]
    },
    {
     "name": "stdout",
     "output_type": "stream",
     "text": [
      "Training with changepoint_prior_scale=0.01, seasonality_prior_scale=1.0\n"
     ]
    },
    {
     "data": {
      "application/vnd.jupyter.widget-view+json": {
       "model_id": "6c8fe79776884135b18226772e0b2a91",
       "version_major": 2,
       "version_minor": 0
      },
      "text/plain": [
       "  0%|          | 0/11 [00:00<?, ?it/s]"
      ]
     },
     "metadata": {},
     "output_type": "display_data"
    },
    {
     "name": "stderr",
     "output_type": "stream",
     "text": [
      "15:40:02 - cmdstanpy - INFO - Chain [1] start processing\n",
      "15:40:02 - cmdstanpy - INFO - Chain [1] done processing\n",
      "15:40:02 - cmdstanpy - INFO - Chain [1] start processing\n",
      "15:40:02 - cmdstanpy - INFO - Chain [1] done processing\n",
      "15:40:02 - cmdstanpy - INFO - Chain [1] start processing\n",
      "15:40:02 - cmdstanpy - INFO - Chain [1] done processing\n",
      "15:40:02 - cmdstanpy - INFO - Chain [1] start processing\n",
      "15:40:02 - cmdstanpy - INFO - Chain [1] done processing\n",
      "15:40:02 - cmdstanpy - INFO - Chain [1] start processing\n",
      "15:40:02 - cmdstanpy - INFO - Chain [1] done processing\n",
      "15:40:02 - cmdstanpy - INFO - Chain [1] start processing\n",
      "15:40:02 - cmdstanpy - INFO - Chain [1] done processing\n",
      "15:40:03 - cmdstanpy - INFO - Chain [1] start processing\n",
      "15:40:03 - cmdstanpy - INFO - Chain [1] done processing\n",
      "15:40:03 - cmdstanpy - INFO - Chain [1] start processing\n",
      "15:40:03 - cmdstanpy - INFO - Chain [1] done processing\n",
      "15:40:03 - cmdstanpy - INFO - Chain [1] start processing\n",
      "15:40:03 - cmdstanpy - INFO - Chain [1] done processing\n",
      "15:40:03 - cmdstanpy - INFO - Chain [1] start processing\n",
      "15:40:03 - cmdstanpy - INFO - Chain [1] done processing\n",
      "15:40:03 - cmdstanpy - INFO - Chain [1] start processing\n",
      "15:40:03 - cmdstanpy - INFO - Chain [1] done processing\n",
      "15:40:04 - cmdstanpy - INFO - Chain [1] start processing\n",
      "15:40:04 - cmdstanpy - INFO - Chain [1] done processing\n"
     ]
    },
    {
     "name": "stdout",
     "output_type": "stream",
     "text": [
      "Training with changepoint_prior_scale=0.01, seasonality_prior_scale=10.0\n"
     ]
    },
    {
     "data": {
      "application/vnd.jupyter.widget-view+json": {
       "model_id": "a8d451a9af28458ebd02bcf8eeb65072",
       "version_major": 2,
       "version_minor": 0
      },
      "text/plain": [
       "  0%|          | 0/11 [00:00<?, ?it/s]"
      ]
     },
     "metadata": {},
     "output_type": "display_data"
    },
    {
     "name": "stderr",
     "output_type": "stream",
     "text": [
      "15:40:04 - cmdstanpy - INFO - Chain [1] start processing\n",
      "15:40:04 - cmdstanpy - INFO - Chain [1] done processing\n",
      "15:40:04 - cmdstanpy - INFO - Chain [1] start processing\n",
      "15:40:04 - cmdstanpy - INFO - Chain [1] done processing\n",
      "15:40:04 - cmdstanpy - INFO - Chain [1] start processing\n",
      "15:40:04 - cmdstanpy - INFO - Chain [1] done processing\n",
      "15:40:04 - cmdstanpy - INFO - Chain [1] start processing\n",
      "15:40:04 - cmdstanpy - INFO - Chain [1] done processing\n",
      "15:40:04 - cmdstanpy - INFO - Chain [1] start processing\n",
      "15:40:04 - cmdstanpy - INFO - Chain [1] done processing\n",
      "15:40:04 - cmdstanpy - INFO - Chain [1] start processing\n",
      "15:40:05 - cmdstanpy - INFO - Chain [1] done processing\n",
      "15:40:05 - cmdstanpy - INFO - Chain [1] start processing\n",
      "15:40:05 - cmdstanpy - INFO - Chain [1] done processing\n",
      "15:40:05 - cmdstanpy - INFO - Chain [1] start processing\n",
      "15:40:05 - cmdstanpy - INFO - Chain [1] done processing\n",
      "15:40:05 - cmdstanpy - INFO - Chain [1] start processing\n",
      "15:40:05 - cmdstanpy - INFO - Chain [1] done processing\n",
      "15:40:05 - cmdstanpy - INFO - Chain [1] start processing\n",
      "15:40:05 - cmdstanpy - INFO - Chain [1] done processing\n",
      "15:40:05 - cmdstanpy - INFO - Chain [1] start processing\n",
      "15:40:05 - cmdstanpy - INFO - Chain [1] done processing\n",
      "15:40:06 - cmdstanpy - INFO - Chain [1] start processing\n",
      "15:40:06 - cmdstanpy - INFO - Chain [1] done processing\n"
     ]
    },
    {
     "name": "stdout",
     "output_type": "stream",
     "text": [
      "Training with changepoint_prior_scale=0.1, seasonality_prior_scale=1.0\n"
     ]
    },
    {
     "data": {
      "application/vnd.jupyter.widget-view+json": {
       "model_id": "11fb74a0f2184bee876fe0132009b949",
       "version_major": 2,
       "version_minor": 0
      },
      "text/plain": [
       "  0%|          | 0/11 [00:00<?, ?it/s]"
      ]
     },
     "metadata": {},
     "output_type": "display_data"
    },
    {
     "name": "stderr",
     "output_type": "stream",
     "text": [
      "15:40:06 - cmdstanpy - INFO - Chain [1] start processing\n",
      "15:40:06 - cmdstanpy - INFO - Chain [1] done processing\n",
      "15:40:06 - cmdstanpy - INFO - Chain [1] start processing\n",
      "15:40:06 - cmdstanpy - INFO - Chain [1] done processing\n",
      "15:40:06 - cmdstanpy - INFO - Chain [1] start processing\n",
      "15:40:06 - cmdstanpy - INFO - Chain [1] done processing\n",
      "15:40:06 - cmdstanpy - INFO - Chain [1] start processing\n",
      "15:40:06 - cmdstanpy - INFO - Chain [1] done processing\n",
      "15:40:06 - cmdstanpy - INFO - Chain [1] start processing\n",
      "15:40:07 - cmdstanpy - INFO - Chain [1] done processing\n",
      "15:40:07 - cmdstanpy - INFO - Chain [1] start processing\n",
      "15:40:07 - cmdstanpy - INFO - Chain [1] done processing\n",
      "15:40:07 - cmdstanpy - INFO - Chain [1] start processing\n",
      "15:40:07 - cmdstanpy - INFO - Chain [1] done processing\n",
      "15:40:07 - cmdstanpy - INFO - Chain [1] start processing\n",
      "15:40:07 - cmdstanpy - INFO - Chain [1] done processing\n",
      "15:40:07 - cmdstanpy - INFO - Chain [1] start processing\n",
      "15:40:07 - cmdstanpy - INFO - Chain [1] done processing\n",
      "15:40:07 - cmdstanpy - INFO - Chain [1] start processing\n",
      "15:40:08 - cmdstanpy - INFO - Chain [1] done processing\n",
      "15:40:08 - cmdstanpy - INFO - Chain [1] start processing\n",
      "15:40:08 - cmdstanpy - INFO - Chain [1] done processing\n",
      "15:40:08 - cmdstanpy - INFO - Chain [1] start processing\n",
      "15:40:08 - cmdstanpy - INFO - Chain [1] done processing\n"
     ]
    },
    {
     "name": "stdout",
     "output_type": "stream",
     "text": [
      "Training with changepoint_prior_scale=0.1, seasonality_prior_scale=10.0\n"
     ]
    },
    {
     "data": {
      "application/vnd.jupyter.widget-view+json": {
       "model_id": "53dab14cae3d4a669094a7940d35e678",
       "version_major": 2,
       "version_minor": 0
      },
      "text/plain": [
       "  0%|          | 0/11 [00:00<?, ?it/s]"
      ]
     },
     "metadata": {},
     "output_type": "display_data"
    },
    {
     "name": "stderr",
     "output_type": "stream",
     "text": [
      "15:40:08 - cmdstanpy - INFO - Chain [1] start processing\n",
      "15:40:08 - cmdstanpy - INFO - Chain [1] done processing\n",
      "15:40:08 - cmdstanpy - INFO - Chain [1] start processing\n",
      "15:40:09 - cmdstanpy - INFO - Chain [1] done processing\n",
      "15:40:09 - cmdstanpy - INFO - Chain [1] start processing\n",
      "15:40:09 - cmdstanpy - INFO - Chain [1] done processing\n",
      "15:40:09 - cmdstanpy - INFO - Chain [1] start processing\n",
      "15:40:09 - cmdstanpy - INFO - Chain [1] done processing\n",
      "15:40:09 - cmdstanpy - INFO - Chain [1] start processing\n",
      "15:40:09 - cmdstanpy - INFO - Chain [1] done processing\n",
      "15:40:09 - cmdstanpy - INFO - Chain [1] start processing\n",
      "15:40:09 - cmdstanpy - INFO - Chain [1] done processing\n",
      "15:40:09 - cmdstanpy - INFO - Chain [1] start processing\n",
      "15:40:09 - cmdstanpy - INFO - Chain [1] done processing\n",
      "15:40:09 - cmdstanpy - INFO - Chain [1] start processing\n",
      "15:40:10 - cmdstanpy - INFO - Chain [1] done processing\n",
      "15:40:10 - cmdstanpy - INFO - Chain [1] start processing\n",
      "15:40:10 - cmdstanpy - INFO - Chain [1] done processing\n",
      "15:40:10 - cmdstanpy - INFO - Chain [1] start processing\n",
      "15:40:10 - cmdstanpy - INFO - Chain [1] done processing\n",
      "15:40:10 - cmdstanpy - INFO - Chain [1] start processing\n",
      "15:40:10 - cmdstanpy - INFO - Chain [1] done processing\n",
      "15:40:10 - cmdstanpy - INFO - Chain [1] start processing\n"
     ]
    },
    {
     "name": "stdout",
     "output_type": "stream",
     "text": [
      "Training with changepoint_prior_scale=0.5, seasonality_prior_scale=1.0\n"
     ]
    },
    {
     "name": "stderr",
     "output_type": "stream",
     "text": [
      "15:40:11 - cmdstanpy - INFO - Chain [1] done processing\n"
     ]
    },
    {
     "data": {
      "application/vnd.jupyter.widget-view+json": {
       "model_id": "dd5825c53a3e405fb4a95f6d0ae729fa",
       "version_major": 2,
       "version_minor": 0
      },
      "text/plain": [
       "  0%|          | 0/11 [00:00<?, ?it/s]"
      ]
     },
     "metadata": {},
     "output_type": "display_data"
    },
    {
     "name": "stderr",
     "output_type": "stream",
     "text": [
      "15:40:11 - cmdstanpy - INFO - Chain [1] start processing\n",
      "15:40:11 - cmdstanpy - INFO - Chain [1] done processing\n",
      "15:40:11 - cmdstanpy - INFO - Chain [1] start processing\n",
      "15:40:11 - cmdstanpy - INFO - Chain [1] done processing\n",
      "15:40:12 - cmdstanpy - INFO - Chain [1] start processing\n",
      "15:40:12 - cmdstanpy - INFO - Chain [1] done processing\n",
      "15:40:12 - cmdstanpy - INFO - Chain [1] start processing\n",
      "15:40:12 - cmdstanpy - INFO - Chain [1] done processing\n",
      "15:40:12 - cmdstanpy - INFO - Chain [1] start processing\n",
      "15:40:12 - cmdstanpy - INFO - Chain [1] done processing\n",
      "15:40:12 - cmdstanpy - INFO - Chain [1] start processing\n",
      "15:40:12 - cmdstanpy - INFO - Chain [1] done processing\n",
      "15:40:12 - cmdstanpy - INFO - Chain [1] start processing\n",
      "15:40:13 - cmdstanpy - INFO - Chain [1] done processing\n",
      "15:40:13 - cmdstanpy - INFO - Chain [1] start processing\n",
      "15:40:13 - cmdstanpy - INFO - Chain [1] done processing\n",
      "15:40:13 - cmdstanpy - INFO - Chain [1] start processing\n",
      "15:40:13 - cmdstanpy - INFO - Chain [1] done processing\n",
      "15:40:13 - cmdstanpy - INFO - Chain [1] start processing\n",
      "15:40:13 - cmdstanpy - INFO - Chain [1] done processing\n",
      "15:40:13 - cmdstanpy - INFO - Chain [1] start processing\n",
      "15:40:14 - cmdstanpy - INFO - Chain [1] done processing\n",
      "15:40:14 - cmdstanpy - INFO - Chain [1] start processing\n"
     ]
    },
    {
     "name": "stdout",
     "output_type": "stream",
     "text": [
      "Training with changepoint_prior_scale=0.5, seasonality_prior_scale=10.0\n"
     ]
    },
    {
     "name": "stderr",
     "output_type": "stream",
     "text": [
      "15:40:15 - cmdstanpy - INFO - Chain [1] done processing\n"
     ]
    },
    {
     "data": {
      "application/vnd.jupyter.widget-view+json": {
       "model_id": "d3789b93c6854b9ab800c65af016bdb4",
       "version_major": 2,
       "version_minor": 0
      },
      "text/plain": [
       "  0%|          | 0/11 [00:00<?, ?it/s]"
      ]
     },
     "metadata": {},
     "output_type": "display_data"
    },
    {
     "name": "stderr",
     "output_type": "stream",
     "text": [
      "15:40:15 - cmdstanpy - INFO - Chain [1] start processing\n",
      "15:40:15 - cmdstanpy - INFO - Chain [1] done processing\n",
      "15:40:15 - cmdstanpy - INFO - Chain [1] start processing\n",
      "15:40:15 - cmdstanpy - INFO - Chain [1] done processing\n",
      "15:40:15 - cmdstanpy - INFO - Chain [1] start processing\n",
      "15:40:15 - cmdstanpy - INFO - Chain [1] done processing\n",
      "15:40:15 - cmdstanpy - INFO - Chain [1] start processing\n",
      "15:40:15 - cmdstanpy - INFO - Chain [1] done processing\n",
      "15:40:16 - cmdstanpy - INFO - Chain [1] start processing\n",
      "15:40:16 - cmdstanpy - INFO - Chain [1] done processing\n",
      "15:40:16 - cmdstanpy - INFO - Chain [1] start processing\n",
      "15:40:16 - cmdstanpy - INFO - Chain [1] done processing\n",
      "15:40:16 - cmdstanpy - INFO - Chain [1] start processing\n",
      "15:40:16 - cmdstanpy - INFO - Chain [1] done processing\n",
      "15:40:16 - cmdstanpy - INFO - Chain [1] start processing\n",
      "15:40:17 - cmdstanpy - INFO - Chain [1] done processing\n",
      "15:40:17 - cmdstanpy - INFO - Chain [1] start processing\n",
      "15:40:17 - cmdstanpy - INFO - Chain [1] done processing\n",
      "15:40:17 - cmdstanpy - INFO - Chain [1] start processing\n",
      "15:40:17 - cmdstanpy - INFO - Chain [1] done processing\n",
      "15:40:17 - cmdstanpy - INFO - Chain [1] start processing\n",
      "15:40:18 - cmdstanpy - INFO - Chain [1] done processing\n",
      "Tuning cs subdisciplines:  18%|███▌                | 7/40 [01:47<08:37, 15.68s/it, Processing cs.CV]"
     ]
    },
    {
     "name": "stdout",
     "output_type": "stream",
     "text": [
      "\n",
      "Best Parameters:\n",
      "changepoint_prior_scale     0.100000\n",
      "seasonality_prior_scale     1.000000\n",
      "rmse                       28.438083\n",
      "Name: 2, dtype: float64\n"
     ]
    },
    {
     "name": "stderr",
     "output_type": "stream",
     "text": [
      "15:40:18 - cmdstanpy - INFO - Chain [1] start processing\n",
      "15:40:18 - cmdstanpy - INFO - Chain [1] done processing\n"
     ]
    },
    {
     "name": "stdout",
     "output_type": "stream",
     "text": [
      "Training with changepoint_prior_scale=0.01, seasonality_prior_scale=1.0\n"
     ]
    },
    {
     "data": {
      "application/vnd.jupyter.widget-view+json": {
       "model_id": "91a9b471ba3447f58e4086e9eb2fe9cb",
       "version_major": 2,
       "version_minor": 0
      },
      "text/plain": [
       "  0%|          | 0/11 [00:00<?, ?it/s]"
      ]
     },
     "metadata": {},
     "output_type": "display_data"
    },
    {
     "name": "stderr",
     "output_type": "stream",
     "text": [
      "15:40:18 - cmdstanpy - INFO - Chain [1] start processing\n",
      "15:40:18 - cmdstanpy - INFO - Chain [1] done processing\n",
      "15:40:18 - cmdstanpy - INFO - Chain [1] start processing\n",
      "15:40:19 - cmdstanpy - INFO - Chain [1] done processing\n",
      "15:40:19 - cmdstanpy - INFO - Chain [1] start processing\n",
      "15:40:19 - cmdstanpy - INFO - Chain [1] done processing\n",
      "15:40:19 - cmdstanpy - INFO - Chain [1] start processing\n",
      "15:40:19 - cmdstanpy - INFO - Chain [1] done processing\n",
      "15:40:19 - cmdstanpy - INFO - Chain [1] start processing\n",
      "15:40:19 - cmdstanpy - INFO - Chain [1] done processing\n",
      "15:40:19 - cmdstanpy - INFO - Chain [1] start processing\n",
      "15:40:19 - cmdstanpy - INFO - Chain [1] done processing\n",
      "15:40:19 - cmdstanpy - INFO - Chain [1] start processing\n",
      "15:40:19 - cmdstanpy - INFO - Chain [1] done processing\n",
      "15:40:20 - cmdstanpy - INFO - Chain [1] start processing\n",
      "15:40:20 - cmdstanpy - INFO - Chain [1] done processing\n",
      "15:40:20 - cmdstanpy - INFO - Chain [1] start processing\n",
      "15:40:20 - cmdstanpy - INFO - Chain [1] done processing\n",
      "15:40:20 - cmdstanpy - INFO - Chain [1] start processing\n",
      "15:40:20 - cmdstanpy - INFO - Chain [1] done processing\n",
      "15:40:20 - cmdstanpy - INFO - Chain [1] start processing\n",
      "15:40:20 - cmdstanpy - INFO - Chain [1] done processing\n",
      "15:40:20 - cmdstanpy - INFO - Chain [1] start processing\n",
      "15:40:21 - cmdstanpy - INFO - Chain [1] done processing\n"
     ]
    },
    {
     "name": "stdout",
     "output_type": "stream",
     "text": [
      "Training with changepoint_prior_scale=0.01, seasonality_prior_scale=10.0\n"
     ]
    },
    {
     "data": {
      "application/vnd.jupyter.widget-view+json": {
       "model_id": "8984bb0cca1e4763a797b91a50fb1cb6",
       "version_major": 2,
       "version_minor": 0
      },
      "text/plain": [
       "  0%|          | 0/11 [00:00<?, ?it/s]"
      ]
     },
     "metadata": {},
     "output_type": "display_data"
    },
    {
     "name": "stderr",
     "output_type": "stream",
     "text": [
      "15:40:21 - cmdstanpy - INFO - Chain [1] start processing\n",
      "15:40:21 - cmdstanpy - INFO - Chain [1] done processing\n",
      "15:40:21 - cmdstanpy - INFO - Chain [1] start processing\n",
      "15:40:21 - cmdstanpy - INFO - Chain [1] done processing\n",
      "15:40:21 - cmdstanpy - INFO - Chain [1] start processing\n",
      "15:40:21 - cmdstanpy - INFO - Chain [1] done processing\n",
      "15:40:21 - cmdstanpy - INFO - Chain [1] start processing\n",
      "15:40:21 - cmdstanpy - INFO - Chain [1] done processing\n",
      "15:40:21 - cmdstanpy - INFO - Chain [1] start processing\n",
      "15:40:21 - cmdstanpy - INFO - Chain [1] done processing\n",
      "15:40:22 - cmdstanpy - INFO - Chain [1] start processing\n",
      "15:40:22 - cmdstanpy - INFO - Chain [1] done processing\n",
      "15:40:22 - cmdstanpy - INFO - Chain [1] start processing\n",
      "15:40:22 - cmdstanpy - INFO - Chain [1] done processing\n",
      "15:40:22 - cmdstanpy - INFO - Chain [1] start processing\n",
      "15:40:22 - cmdstanpy - INFO - Chain [1] done processing\n",
      "15:40:22 - cmdstanpy - INFO - Chain [1] start processing\n",
      "15:40:22 - cmdstanpy - INFO - Chain [1] done processing\n",
      "15:40:22 - cmdstanpy - INFO - Chain [1] start processing\n",
      "15:40:22 - cmdstanpy - INFO - Chain [1] done processing\n",
      "15:40:22 - cmdstanpy - INFO - Chain [1] start processing\n",
      "15:40:23 - cmdstanpy - INFO - Chain [1] done processing\n",
      "15:40:23 - cmdstanpy - INFO - Chain [1] start processing\n",
      "15:40:23 - cmdstanpy - INFO - Chain [1] done processing\n"
     ]
    },
    {
     "name": "stdout",
     "output_type": "stream",
     "text": [
      "Training with changepoint_prior_scale=0.1, seasonality_prior_scale=1.0\n"
     ]
    },
    {
     "data": {
      "application/vnd.jupyter.widget-view+json": {
       "model_id": "83d877cc78b34a589bbac905aa02bf14",
       "version_major": 2,
       "version_minor": 0
      },
      "text/plain": [
       "  0%|          | 0/11 [00:00<?, ?it/s]"
      ]
     },
     "metadata": {},
     "output_type": "display_data"
    },
    {
     "name": "stderr",
     "output_type": "stream",
     "text": [
      "15:40:23 - cmdstanpy - INFO - Chain [1] start processing\n",
      "15:40:23 - cmdstanpy - INFO - Chain [1] done processing\n",
      "15:40:23 - cmdstanpy - INFO - Chain [1] start processing\n",
      "15:40:23 - cmdstanpy - INFO - Chain [1] done processing\n",
      "15:40:23 - cmdstanpy - INFO - Chain [1] start processing\n",
      "15:40:23 - cmdstanpy - INFO - Chain [1] done processing\n",
      "15:40:24 - cmdstanpy - INFO - Chain [1] start processing\n",
      "15:40:24 - cmdstanpy - INFO - Chain [1] done processing\n",
      "15:40:24 - cmdstanpy - INFO - Chain [1] start processing\n",
      "15:40:24 - cmdstanpy - INFO - Chain [1] done processing\n",
      "15:40:24 - cmdstanpy - INFO - Chain [1] start processing\n",
      "15:40:24 - cmdstanpy - INFO - Chain [1] done processing\n",
      "15:40:24 - cmdstanpy - INFO - Chain [1] start processing\n",
      "15:40:24 - cmdstanpy - INFO - Chain [1] done processing\n",
      "15:40:24 - cmdstanpy - INFO - Chain [1] start processing\n",
      "15:40:24 - cmdstanpy - INFO - Chain [1] done processing\n",
      "15:40:25 - cmdstanpy - INFO - Chain [1] start processing\n",
      "15:40:25 - cmdstanpy - INFO - Chain [1] done processing\n",
      "15:40:25 - cmdstanpy - INFO - Chain [1] start processing\n",
      "15:40:25 - cmdstanpy - INFO - Chain [1] done processing\n",
      "15:40:25 - cmdstanpy - INFO - Chain [1] start processing\n",
      "15:40:25 - cmdstanpy - INFO - Chain [1] done processing\n",
      "15:40:25 - cmdstanpy - INFO - Chain [1] start processing\n",
      "15:40:25 - cmdstanpy - INFO - Chain [1] done processing\n"
     ]
    },
    {
     "name": "stdout",
     "output_type": "stream",
     "text": [
      "Training with changepoint_prior_scale=0.1, seasonality_prior_scale=10.0\n"
     ]
    },
    {
     "data": {
      "application/vnd.jupyter.widget-view+json": {
       "model_id": "07b21464c5924efea84973dbce6fc862",
       "version_major": 2,
       "version_minor": 0
      },
      "text/plain": [
       "  0%|          | 0/11 [00:00<?, ?it/s]"
      ]
     },
     "metadata": {},
     "output_type": "display_data"
    },
    {
     "name": "stderr",
     "output_type": "stream",
     "text": [
      "15:40:26 - cmdstanpy - INFO - Chain [1] start processing\n",
      "15:40:26 - cmdstanpy - INFO - Chain [1] done processing\n",
      "15:40:26 - cmdstanpy - INFO - Chain [1] start processing\n",
      "15:40:26 - cmdstanpy - INFO - Chain [1] done processing\n",
      "15:40:26 - cmdstanpy - INFO - Chain [1] start processing\n",
      "15:40:26 - cmdstanpy - INFO - Chain [1] done processing\n",
      "15:40:26 - cmdstanpy - INFO - Chain [1] start processing\n",
      "15:40:26 - cmdstanpy - INFO - Chain [1] done processing\n",
      "15:40:26 - cmdstanpy - INFO - Chain [1] start processing\n",
      "15:40:26 - cmdstanpy - INFO - Chain [1] done processing\n",
      "15:40:26 - cmdstanpy - INFO - Chain [1] start processing\n",
      "15:40:27 - cmdstanpy - INFO - Chain [1] done processing\n",
      "15:40:27 - cmdstanpy - INFO - Chain [1] start processing\n",
      "15:40:27 - cmdstanpy - INFO - Chain [1] done processing\n",
      "15:40:27 - cmdstanpy - INFO - Chain [1] start processing\n",
      "15:40:27 - cmdstanpy - INFO - Chain [1] done processing\n",
      "15:40:27 - cmdstanpy - INFO - Chain [1] start processing\n",
      "15:40:27 - cmdstanpy - INFO - Chain [1] done processing\n",
      "15:40:27 - cmdstanpy - INFO - Chain [1] start processing\n",
      "15:40:27 - cmdstanpy - INFO - Chain [1] done processing\n",
      "15:40:27 - cmdstanpy - INFO - Chain [1] start processing\n",
      "15:40:28 - cmdstanpy - INFO - Chain [1] done processing\n",
      "15:40:28 - cmdstanpy - INFO - Chain [1] start processing\n"
     ]
    },
    {
     "name": "stdout",
     "output_type": "stream",
     "text": [
      "Training with changepoint_prior_scale=0.5, seasonality_prior_scale=1.0\n"
     ]
    },
    {
     "name": "stderr",
     "output_type": "stream",
     "text": [
      "15:40:28 - cmdstanpy - INFO - Chain [1] done processing\n"
     ]
    },
    {
     "data": {
      "application/vnd.jupyter.widget-view+json": {
       "model_id": "3d13b486856a4ba6983de9c244a3a799",
       "version_major": 2,
       "version_minor": 0
      },
      "text/plain": [
       "  0%|          | 0/11 [00:00<?, ?it/s]"
      ]
     },
     "metadata": {},
     "output_type": "display_data"
    },
    {
     "name": "stderr",
     "output_type": "stream",
     "text": [
      "15:40:28 - cmdstanpy - INFO - Chain [1] start processing\n",
      "15:40:28 - cmdstanpy - INFO - Chain [1] done processing\n",
      "15:40:28 - cmdstanpy - INFO - Chain [1] start processing\n",
      "15:40:29 - cmdstanpy - INFO - Chain [1] done processing\n",
      "15:40:29 - cmdstanpy - INFO - Chain [1] start processing\n",
      "15:40:29 - cmdstanpy - INFO - Chain [1] done processing\n",
      "15:40:29 - cmdstanpy - INFO - Chain [1] start processing\n",
      "15:40:29 - cmdstanpy - INFO - Chain [1] done processing\n",
      "15:40:29 - cmdstanpy - INFO - Chain [1] start processing\n",
      "15:40:29 - cmdstanpy - INFO - Chain [1] done processing\n",
      "15:40:29 - cmdstanpy - INFO - Chain [1] start processing\n",
      "15:40:29 - cmdstanpy - INFO - Chain [1] done processing\n",
      "15:40:30 - cmdstanpy - INFO - Chain [1] start processing\n",
      "15:40:30 - cmdstanpy - INFO - Chain [1] done processing\n",
      "15:40:30 - cmdstanpy - INFO - Chain [1] start processing\n",
      "15:40:30 - cmdstanpy - INFO - Chain [1] done processing\n",
      "15:40:30 - cmdstanpy - INFO - Chain [1] start processing\n",
      "15:40:30 - cmdstanpy - INFO - Chain [1] done processing\n",
      "15:40:30 - cmdstanpy - INFO - Chain [1] start processing\n",
      "15:40:30 - cmdstanpy - INFO - Chain [1] done processing\n",
      "15:40:31 - cmdstanpy - INFO - Chain [1] start processing\n",
      "15:40:31 - cmdstanpy - INFO - Chain [1] done processing\n",
      "15:40:31 - cmdstanpy - INFO - Chain [1] start processing\n"
     ]
    },
    {
     "name": "stdout",
     "output_type": "stream",
     "text": [
      "Training with changepoint_prior_scale=0.5, seasonality_prior_scale=10.0\n"
     ]
    },
    {
     "name": "stderr",
     "output_type": "stream",
     "text": [
      "15:40:32 - cmdstanpy - INFO - Chain [1] done processing\n"
     ]
    },
    {
     "data": {
      "application/vnd.jupyter.widget-view+json": {
       "model_id": "ba7adc76c2f1479f92de4838a0c90a89",
       "version_major": 2,
       "version_minor": 0
      },
      "text/plain": [
       "  0%|          | 0/11 [00:00<?, ?it/s]"
      ]
     },
     "metadata": {},
     "output_type": "display_data"
    },
    {
     "name": "stderr",
     "output_type": "stream",
     "text": [
      "15:40:32 - cmdstanpy - INFO - Chain [1] start processing\n",
      "15:40:33 - cmdstanpy - INFO - Chain [1] done processing\n",
      "15:40:33 - cmdstanpy - INFO - Chain [1] start processing\n",
      "15:40:33 - cmdstanpy - INFO - Chain [1] done processing\n",
      "15:40:33 - cmdstanpy - INFO - Chain [1] start processing\n",
      "15:40:33 - cmdstanpy - INFO - Chain [1] done processing\n",
      "15:40:34 - cmdstanpy - INFO - Chain [1] start processing\n",
      "15:40:34 - cmdstanpy - INFO - Chain [1] done processing\n",
      "15:40:34 - cmdstanpy - INFO - Chain [1] start processing\n",
      "15:40:34 - cmdstanpy - INFO - Chain [1] done processing\n",
      "15:40:34 - cmdstanpy - INFO - Chain [1] start processing\n",
      "15:40:34 - cmdstanpy - INFO - Chain [1] done processing\n",
      "15:40:34 - cmdstanpy - INFO - Chain [1] start processing\n",
      "15:40:34 - cmdstanpy - INFO - Chain [1] done processing\n",
      "15:40:34 - cmdstanpy - INFO - Chain [1] start processing\n",
      "15:40:35 - cmdstanpy - INFO - Chain [1] done processing\n",
      "15:40:35 - cmdstanpy - INFO - Chain [1] start processing\n",
      "15:40:35 - cmdstanpy - INFO - Chain [1] done processing\n",
      "15:40:35 - cmdstanpy - INFO - Chain [1] start processing\n",
      "15:40:35 - cmdstanpy - INFO - Chain [1] done processing\n",
      "15:40:35 - cmdstanpy - INFO - Chain [1] start processing\n",
      "15:40:35 - cmdstanpy - INFO - Chain [1] done processing\n",
      "Tuning cs subdisciplines:  20%|████                | 8/40 [02:05<08:43, 16.35s/it, Processing cs.CY]"
     ]
    },
    {
     "name": "stdout",
     "output_type": "stream",
     "text": [
      "\n",
      "Best Parameters:\n",
      "changepoint_prior_scale      0.100000\n",
      "seasonality_prior_scale      1.000000\n",
      "rmse                       141.426797\n",
      "Name: 2, dtype: float64\n"
     ]
    },
    {
     "name": "stderr",
     "output_type": "stream",
     "text": [
      "15:40:36 - cmdstanpy - INFO - Chain [1] start processing\n",
      "15:40:36 - cmdstanpy - INFO - Chain [1] done processing\n"
     ]
    },
    {
     "name": "stdout",
     "output_type": "stream",
     "text": [
      "Training with changepoint_prior_scale=0.01, seasonality_prior_scale=1.0\n"
     ]
    },
    {
     "data": {
      "application/vnd.jupyter.widget-view+json": {
       "model_id": "e8eb99fc98e643e789216fda4fa3507c",
       "version_major": 2,
       "version_minor": 0
      },
      "text/plain": [
       "  0%|          | 0/11 [00:00<?, ?it/s]"
      ]
     },
     "metadata": {},
     "output_type": "display_data"
    },
    {
     "name": "stderr",
     "output_type": "stream",
     "text": [
      "15:40:36 - cmdstanpy - INFO - Chain [1] start processing\n",
      "15:40:36 - cmdstanpy - INFO - Chain [1] done processing\n",
      "15:40:36 - cmdstanpy - INFO - Chain [1] start processing\n",
      "15:40:36 - cmdstanpy - INFO - Chain [1] done processing\n",
      "15:40:36 - cmdstanpy - INFO - Chain [1] start processing\n",
      "15:40:37 - cmdstanpy - INFO - Chain [1] done processing\n",
      "15:40:37 - cmdstanpy - INFO - Chain [1] start processing\n",
      "15:40:37 - cmdstanpy - INFO - Chain [1] done processing\n",
      "15:40:37 - cmdstanpy - INFO - Chain [1] start processing\n",
      "15:40:37 - cmdstanpy - INFO - Chain [1] done processing\n",
      "15:40:37 - cmdstanpy - INFO - Chain [1] start processing\n",
      "15:40:37 - cmdstanpy - INFO - Chain [1] done processing\n",
      "15:40:37 - cmdstanpy - INFO - Chain [1] start processing\n",
      "15:40:37 - cmdstanpy - INFO - Chain [1] done processing\n",
      "15:40:37 - cmdstanpy - INFO - Chain [1] start processing\n",
      "15:40:37 - cmdstanpy - INFO - Chain [1] done processing\n",
      "15:40:37 - cmdstanpy - INFO - Chain [1] start processing\n",
      "15:40:38 - cmdstanpy - INFO - Chain [1] done processing\n",
      "15:40:38 - cmdstanpy - INFO - Chain [1] start processing\n",
      "15:40:38 - cmdstanpy - INFO - Chain [1] done processing\n",
      "15:40:38 - cmdstanpy - INFO - Chain [1] start processing\n",
      "15:40:38 - cmdstanpy - INFO - Chain [1] done processing\n",
      "15:40:38 - cmdstanpy - INFO - Chain [1] start processing\n",
      "15:40:38 - cmdstanpy - INFO - Chain [1] done processing\n"
     ]
    },
    {
     "name": "stdout",
     "output_type": "stream",
     "text": [
      "Training with changepoint_prior_scale=0.01, seasonality_prior_scale=10.0\n"
     ]
    },
    {
     "data": {
      "application/vnd.jupyter.widget-view+json": {
       "model_id": "4127ee9884ef41768aa57e6c56d84859",
       "version_major": 2,
       "version_minor": 0
      },
      "text/plain": [
       "  0%|          | 0/11 [00:00<?, ?it/s]"
      ]
     },
     "metadata": {},
     "output_type": "display_data"
    },
    {
     "name": "stderr",
     "output_type": "stream",
     "text": [
      "15:40:38 - cmdstanpy - INFO - Chain [1] start processing\n",
      "15:40:38 - cmdstanpy - INFO - Chain [1] done processing\n",
      "15:40:38 - cmdstanpy - INFO - Chain [1] start processing\n",
      "15:40:39 - cmdstanpy - INFO - Chain [1] done processing\n",
      "15:40:39 - cmdstanpy - INFO - Chain [1] start processing\n",
      "15:40:39 - cmdstanpy - INFO - Chain [1] done processing\n",
      "15:40:39 - cmdstanpy - INFO - Chain [1] start processing\n",
      "15:40:39 - cmdstanpy - INFO - Chain [1] done processing\n",
      "15:40:39 - cmdstanpy - INFO - Chain [1] start processing\n",
      "15:40:39 - cmdstanpy - INFO - Chain [1] done processing\n",
      "15:40:39 - cmdstanpy - INFO - Chain [1] start processing\n",
      "15:40:39 - cmdstanpy - INFO - Chain [1] done processing\n",
      "15:40:39 - cmdstanpy - INFO - Chain [1] start processing\n",
      "15:40:39 - cmdstanpy - INFO - Chain [1] done processing\n",
      "15:40:39 - cmdstanpy - INFO - Chain [1] start processing\n",
      "15:40:39 - cmdstanpy - INFO - Chain [1] done processing\n",
      "15:40:40 - cmdstanpy - INFO - Chain [1] start processing\n",
      "15:40:40 - cmdstanpy - INFO - Chain [1] done processing\n",
      "15:40:40 - cmdstanpy - INFO - Chain [1] start processing\n",
      "15:40:40 - cmdstanpy - INFO - Chain [1] done processing\n",
      "15:40:40 - cmdstanpy - INFO - Chain [1] start processing\n",
      "15:40:40 - cmdstanpy - INFO - Chain [1] done processing\n",
      "15:40:40 - cmdstanpy - INFO - Chain [1] start processing\n"
     ]
    },
    {
     "name": "stdout",
     "output_type": "stream",
     "text": [
      "Training with changepoint_prior_scale=0.1, seasonality_prior_scale=1.0\n"
     ]
    },
    {
     "name": "stderr",
     "output_type": "stream",
     "text": [
      "15:40:40 - cmdstanpy - INFO - Chain [1] done processing\n"
     ]
    },
    {
     "data": {
      "application/vnd.jupyter.widget-view+json": {
       "model_id": "840b61cf677c47538955c73ce654179d",
       "version_major": 2,
       "version_minor": 0
      },
      "text/plain": [
       "  0%|          | 0/11 [00:00<?, ?it/s]"
      ]
     },
     "metadata": {},
     "output_type": "display_data"
    },
    {
     "name": "stderr",
     "output_type": "stream",
     "text": [
      "15:40:41 - cmdstanpy - INFO - Chain [1] start processing\n",
      "15:40:41 - cmdstanpy - INFO - Chain [1] done processing\n",
      "15:40:41 - cmdstanpy - INFO - Chain [1] start processing\n",
      "15:40:41 - cmdstanpy - INFO - Chain [1] done processing\n",
      "15:40:41 - cmdstanpy - INFO - Chain [1] start processing\n",
      "15:40:41 - cmdstanpy - INFO - Chain [1] done processing\n",
      "15:40:41 - cmdstanpy - INFO - Chain [1] start processing\n",
      "15:40:41 - cmdstanpy - INFO - Chain [1] done processing\n",
      "15:40:41 - cmdstanpy - INFO - Chain [1] start processing\n",
      "15:40:41 - cmdstanpy - INFO - Chain [1] done processing\n",
      "15:40:41 - cmdstanpy - INFO - Chain [1] start processing\n",
      "15:40:41 - cmdstanpy - INFO - Chain [1] done processing\n",
      "15:40:42 - cmdstanpy - INFO - Chain [1] start processing\n",
      "15:40:42 - cmdstanpy - INFO - Chain [1] done processing\n",
      "15:40:42 - cmdstanpy - INFO - Chain [1] start processing\n",
      "15:40:42 - cmdstanpy - INFO - Chain [1] done processing\n",
      "15:40:42 - cmdstanpy - INFO - Chain [1] start processing\n",
      "15:40:42 - cmdstanpy - INFO - Chain [1] done processing\n",
      "15:40:42 - cmdstanpy - INFO - Chain [1] start processing\n",
      "15:40:42 - cmdstanpy - INFO - Chain [1] done processing\n",
      "15:40:42 - cmdstanpy - INFO - Chain [1] start processing\n",
      "15:40:42 - cmdstanpy - INFO - Chain [1] done processing\n",
      "15:40:43 - cmdstanpy - INFO - Chain [1] start processing\n"
     ]
    },
    {
     "name": "stdout",
     "output_type": "stream",
     "text": [
      "Training with changepoint_prior_scale=0.1, seasonality_prior_scale=10.0\n"
     ]
    },
    {
     "name": "stderr",
     "output_type": "stream",
     "text": [
      "15:40:43 - cmdstanpy - INFO - Chain [1] done processing\n"
     ]
    },
    {
     "data": {
      "application/vnd.jupyter.widget-view+json": {
       "model_id": "29a3a7226198449580fb1674a3ee137a",
       "version_major": 2,
       "version_minor": 0
      },
      "text/plain": [
       "  0%|          | 0/11 [00:00<?, ?it/s]"
      ]
     },
     "metadata": {},
     "output_type": "display_data"
    },
    {
     "name": "stderr",
     "output_type": "stream",
     "text": [
      "15:40:43 - cmdstanpy - INFO - Chain [1] start processing\n",
      "15:40:43 - cmdstanpy - INFO - Chain [1] done processing\n",
      "15:40:43 - cmdstanpy - INFO - Chain [1] start processing\n",
      "15:40:43 - cmdstanpy - INFO - Chain [1] done processing\n",
      "15:40:43 - cmdstanpy - INFO - Chain [1] start processing\n",
      "15:40:43 - cmdstanpy - INFO - Chain [1] done processing\n",
      "15:40:44 - cmdstanpy - INFO - Chain [1] start processing\n",
      "15:40:44 - cmdstanpy - INFO - Chain [1] done processing\n",
      "15:40:44 - cmdstanpy - INFO - Chain [1] start processing\n",
      "15:40:44 - cmdstanpy - INFO - Chain [1] done processing\n",
      "15:40:44 - cmdstanpy - INFO - Chain [1] start processing\n",
      "15:40:44 - cmdstanpy - INFO - Chain [1] done processing\n",
      "15:40:44 - cmdstanpy - INFO - Chain [1] start processing\n",
      "15:40:44 - cmdstanpy - INFO - Chain [1] done processing\n",
      "15:40:44 - cmdstanpy - INFO - Chain [1] start processing\n",
      "15:40:44 - cmdstanpy - INFO - Chain [1] done processing\n",
      "15:40:45 - cmdstanpy - INFO - Chain [1] start processing\n",
      "15:40:45 - cmdstanpy - INFO - Chain [1] done processing\n",
      "15:40:45 - cmdstanpy - INFO - Chain [1] start processing\n",
      "15:40:45 - cmdstanpy - INFO - Chain [1] done processing\n",
      "15:40:45 - cmdstanpy - INFO - Chain [1] start processing\n",
      "15:40:45 - cmdstanpy - INFO - Chain [1] done processing\n",
      "15:40:45 - cmdstanpy - INFO - Chain [1] start processing\n"
     ]
    },
    {
     "name": "stdout",
     "output_type": "stream",
     "text": [
      "Training with changepoint_prior_scale=0.5, seasonality_prior_scale=1.0\n"
     ]
    },
    {
     "name": "stderr",
     "output_type": "stream",
     "text": [
      "15:40:46 - cmdstanpy - INFO - Chain [1] done processing\n"
     ]
    },
    {
     "data": {
      "application/vnd.jupyter.widget-view+json": {
       "model_id": "56074a835838400daff2ed7cfd9cdb39",
       "version_major": 2,
       "version_minor": 0
      },
      "text/plain": [
       "  0%|          | 0/11 [00:00<?, ?it/s]"
      ]
     },
     "metadata": {},
     "output_type": "display_data"
    },
    {
     "name": "stderr",
     "output_type": "stream",
     "text": [
      "15:40:46 - cmdstanpy - INFO - Chain [1] start processing\n",
      "15:40:46 - cmdstanpy - INFO - Chain [1] done processing\n",
      "15:40:46 - cmdstanpy - INFO - Chain [1] start processing\n",
      "15:40:46 - cmdstanpy - INFO - Chain [1] done processing\n",
      "15:40:46 - cmdstanpy - INFO - Chain [1] start processing\n",
      "15:40:47 - cmdstanpy - INFO - Chain [1] done processing\n",
      "15:40:47 - cmdstanpy - INFO - Chain [1] start processing\n",
      "15:40:47 - cmdstanpy - INFO - Chain [1] done processing\n",
      "15:40:47 - cmdstanpy - INFO - Chain [1] start processing\n",
      "15:40:47 - cmdstanpy - INFO - Chain [1] done processing\n",
      "15:40:47 - cmdstanpy - INFO - Chain [1] start processing\n",
      "15:40:47 - cmdstanpy - INFO - Chain [1] done processing\n",
      "15:40:47 - cmdstanpy - INFO - Chain [1] start processing\n",
      "15:40:47 - cmdstanpy - INFO - Chain [1] done processing\n",
      "15:40:47 - cmdstanpy - INFO - Chain [1] start processing\n",
      "15:40:48 - cmdstanpy - INFO - Chain [1] done processing\n",
      "15:40:48 - cmdstanpy - INFO - Chain [1] start processing\n",
      "15:40:48 - cmdstanpy - INFO - Chain [1] done processing\n",
      "15:40:48 - cmdstanpy - INFO - Chain [1] start processing\n",
      "15:40:48 - cmdstanpy - INFO - Chain [1] done processing\n",
      "15:40:48 - cmdstanpy - INFO - Chain [1] start processing\n",
      "15:40:49 - cmdstanpy - INFO - Chain [1] done processing\n",
      "15:40:49 - cmdstanpy - INFO - Chain [1] start processing\n"
     ]
    },
    {
     "name": "stdout",
     "output_type": "stream",
     "text": [
      "Training with changepoint_prior_scale=0.5, seasonality_prior_scale=10.0\n"
     ]
    },
    {
     "name": "stderr",
     "output_type": "stream",
     "text": [
      "15:40:50 - cmdstanpy - INFO - Chain [1] done processing\n"
     ]
    },
    {
     "data": {
      "application/vnd.jupyter.widget-view+json": {
       "model_id": "62270531c75740d48f6fc7bb96ffd5e6",
       "version_major": 2,
       "version_minor": 0
      },
      "text/plain": [
       "  0%|          | 0/11 [00:00<?, ?it/s]"
      ]
     },
     "metadata": {},
     "output_type": "display_data"
    },
    {
     "name": "stderr",
     "output_type": "stream",
     "text": [
      "15:40:50 - cmdstanpy - INFO - Chain [1] start processing\n",
      "15:40:50 - cmdstanpy - INFO - Chain [1] done processing\n",
      "15:40:50 - cmdstanpy - INFO - Chain [1] start processing\n",
      "15:40:50 - cmdstanpy - INFO - Chain [1] done processing\n",
      "15:40:50 - cmdstanpy - INFO - Chain [1] start processing\n",
      "15:40:50 - cmdstanpy - INFO - Chain [1] done processing\n",
      "15:40:50 - cmdstanpy - INFO - Chain [1] start processing\n",
      "15:40:51 - cmdstanpy - INFO - Chain [1] done processing\n",
      "15:40:51 - cmdstanpy - INFO - Chain [1] start processing\n",
      "15:40:51 - cmdstanpy - INFO - Chain [1] done processing\n",
      "15:40:51 - cmdstanpy - INFO - Chain [1] start processing\n",
      "15:40:51 - cmdstanpy - INFO - Chain [1] done processing\n",
      "15:40:51 - cmdstanpy - INFO - Chain [1] start processing\n",
      "15:40:52 - cmdstanpy - INFO - Chain [1] done processing\n",
      "15:40:52 - cmdstanpy - INFO - Chain [1] start processing\n",
      "15:40:52 - cmdstanpy - INFO - Chain [1] done processing\n",
      "15:40:52 - cmdstanpy - INFO - Chain [1] start processing\n",
      "15:40:52 - cmdstanpy - INFO - Chain [1] done processing\n",
      "15:40:52 - cmdstanpy - INFO - Chain [1] start processing\n",
      "15:40:53 - cmdstanpy - INFO - Chain [1] done processing\n",
      "15:40:53 - cmdstanpy - INFO - Chain [1] start processing\n",
      "15:40:53 - cmdstanpy - INFO - Chain [1] done processing\n",
      "Tuning cs subdisciplines:  22%|████▌               | 9/40 [02:23<08:42, 16.86s/it, Processing cs.DB]"
     ]
    },
    {
     "name": "stdout",
     "output_type": "stream",
     "text": [
      "\n",
      "Best Parameters:\n",
      "changepoint_prior_scale     0.010000\n",
      "seasonality_prior_scale    10.000000\n",
      "rmse                       19.588185\n",
      "Name: 1, dtype: float64\n"
     ]
    },
    {
     "name": "stderr",
     "output_type": "stream",
     "text": [
      "15:40:54 - cmdstanpy - INFO - Chain [1] start processing\n",
      "15:40:54 - cmdstanpy - INFO - Chain [1] done processing\n"
     ]
    },
    {
     "name": "stdout",
     "output_type": "stream",
     "text": [
      "Training with changepoint_prior_scale=0.01, seasonality_prior_scale=1.0\n"
     ]
    },
    {
     "data": {
      "application/vnd.jupyter.widget-view+json": {
       "model_id": "e8f970dfe90644c2a81129f0806aa017",
       "version_major": 2,
       "version_minor": 0
      },
      "text/plain": [
       "  0%|          | 0/11 [00:00<?, ?it/s]"
      ]
     },
     "metadata": {},
     "output_type": "display_data"
    },
    {
     "name": "stderr",
     "output_type": "stream",
     "text": [
      "15:40:54 - cmdstanpy - INFO - Chain [1] start processing\n",
      "15:40:54 - cmdstanpy - INFO - Chain [1] done processing\n",
      "15:40:54 - cmdstanpy - INFO - Chain [1] start processing\n",
      "15:40:54 - cmdstanpy - INFO - Chain [1] done processing\n",
      "15:40:54 - cmdstanpy - INFO - Chain [1] start processing\n",
      "15:40:54 - cmdstanpy - INFO - Chain [1] done processing\n",
      "15:40:54 - cmdstanpy - INFO - Chain [1] start processing\n",
      "15:40:54 - cmdstanpy - INFO - Chain [1] done processing\n",
      "15:40:55 - cmdstanpy - INFO - Chain [1] start processing\n",
      "15:40:55 - cmdstanpy - INFO - Chain [1] done processing\n",
      "15:40:55 - cmdstanpy - INFO - Chain [1] start processing\n",
      "15:40:55 - cmdstanpy - INFO - Chain [1] done processing\n",
      "15:40:55 - cmdstanpy - INFO - Chain [1] start processing\n",
      "15:40:55 - cmdstanpy - INFO - Chain [1] done processing\n",
      "15:40:55 - cmdstanpy - INFO - Chain [1] start processing\n",
      "15:40:55 - cmdstanpy - INFO - Chain [1] done processing\n",
      "15:40:55 - cmdstanpy - INFO - Chain [1] start processing\n",
      "15:40:55 - cmdstanpy - INFO - Chain [1] done processing\n",
      "15:40:55 - cmdstanpy - INFO - Chain [1] start processing\n",
      "15:40:55 - cmdstanpy - INFO - Chain [1] done processing\n",
      "15:40:56 - cmdstanpy - INFO - Chain [1] start processing\n",
      "15:40:56 - cmdstanpy - INFO - Chain [1] done processing\n",
      "15:40:56 - cmdstanpy - INFO - Chain [1] start processing\n",
      "15:40:56 - cmdstanpy - INFO - Chain [1] done processing\n"
     ]
    },
    {
     "name": "stdout",
     "output_type": "stream",
     "text": [
      "Training with changepoint_prior_scale=0.01, seasonality_prior_scale=10.0\n"
     ]
    },
    {
     "data": {
      "application/vnd.jupyter.widget-view+json": {
       "model_id": "dbb684868ee54c2c9dd5437ba5d3d137",
       "version_major": 2,
       "version_minor": 0
      },
      "text/plain": [
       "  0%|          | 0/11 [00:00<?, ?it/s]"
      ]
     },
     "metadata": {},
     "output_type": "display_data"
    },
    {
     "name": "stderr",
     "output_type": "stream",
     "text": [
      "15:40:56 - cmdstanpy - INFO - Chain [1] start processing\n",
      "15:40:56 - cmdstanpy - INFO - Chain [1] done processing\n",
      "15:40:56 - cmdstanpy - INFO - Chain [1] start processing\n",
      "15:40:56 - cmdstanpy - INFO - Chain [1] done processing\n",
      "15:40:56 - cmdstanpy - INFO - Chain [1] start processing\n",
      "15:40:56 - cmdstanpy - INFO - Chain [1] done processing\n",
      "15:40:56 - cmdstanpy - INFO - Chain [1] start processing\n",
      "15:40:56 - cmdstanpy - INFO - Chain [1] done processing\n",
      "15:40:57 - cmdstanpy - INFO - Chain [1] start processing\n",
      "15:40:57 - cmdstanpy - INFO - Chain [1] done processing\n",
      "15:40:57 - cmdstanpy - INFO - Chain [1] start processing\n",
      "15:40:57 - cmdstanpy - INFO - Chain [1] done processing\n",
      "15:40:57 - cmdstanpy - INFO - Chain [1] start processing\n",
      "15:40:57 - cmdstanpy - INFO - Chain [1] done processing\n",
      "15:40:57 - cmdstanpy - INFO - Chain [1] start processing\n",
      "15:40:57 - cmdstanpy - INFO - Chain [1] done processing\n",
      "15:40:57 - cmdstanpy - INFO - Chain [1] start processing\n",
      "15:40:57 - cmdstanpy - INFO - Chain [1] done processing\n",
      "15:40:57 - cmdstanpy - INFO - Chain [1] start processing\n",
      "15:40:57 - cmdstanpy - INFO - Chain [1] done processing\n",
      "15:40:57 - cmdstanpy - INFO - Chain [1] start processing\n",
      "15:40:58 - cmdstanpy - INFO - Chain [1] done processing\n",
      "15:40:58 - cmdstanpy - INFO - Chain [1] start processing\n",
      "15:40:58 - cmdstanpy - INFO - Chain [1] done processing\n"
     ]
    },
    {
     "name": "stdout",
     "output_type": "stream",
     "text": [
      "Training with changepoint_prior_scale=0.1, seasonality_prior_scale=1.0\n"
     ]
    },
    {
     "data": {
      "application/vnd.jupyter.widget-view+json": {
       "model_id": "d89ac63285b449789e2f61bdb1b6ec80",
       "version_major": 2,
       "version_minor": 0
      },
      "text/plain": [
       "  0%|          | 0/11 [00:00<?, ?it/s]"
      ]
     },
     "metadata": {},
     "output_type": "display_data"
    },
    {
     "name": "stderr",
     "output_type": "stream",
     "text": [
      "15:40:58 - cmdstanpy - INFO - Chain [1] start processing\n",
      "15:40:58 - cmdstanpy - INFO - Chain [1] done processing\n",
      "15:40:58 - cmdstanpy - INFO - Chain [1] start processing\n",
      "15:40:58 - cmdstanpy - INFO - Chain [1] done processing\n",
      "15:40:58 - cmdstanpy - INFO - Chain [1] start processing\n",
      "15:40:58 - cmdstanpy - INFO - Chain [1] done processing\n",
      "15:40:59 - cmdstanpy - INFO - Chain [1] start processing\n",
      "15:40:59 - cmdstanpy - INFO - Chain [1] done processing\n",
      "15:40:59 - cmdstanpy - INFO - Chain [1] start processing\n",
      "15:40:59 - cmdstanpy - INFO - Chain [1] done processing\n",
      "15:40:59 - cmdstanpy - INFO - Chain [1] start processing\n",
      "15:40:59 - cmdstanpy - INFO - Chain [1] done processing\n",
      "15:40:59 - cmdstanpy - INFO - Chain [1] start processing\n",
      "15:40:59 - cmdstanpy - INFO - Chain [1] done processing\n",
      "15:41:00 - cmdstanpy - INFO - Chain [1] start processing\n",
      "15:41:00 - cmdstanpy - INFO - Chain [1] done processing\n",
      "15:41:00 - cmdstanpy - INFO - Chain [1] start processing\n",
      "15:41:00 - cmdstanpy - INFO - Chain [1] done processing\n",
      "15:41:00 - cmdstanpy - INFO - Chain [1] start processing\n",
      "15:41:00 - cmdstanpy - INFO - Chain [1] done processing\n",
      "15:41:00 - cmdstanpy - INFO - Chain [1] start processing\n",
      "15:41:00 - cmdstanpy - INFO - Chain [1] done processing\n",
      "15:41:00 - cmdstanpy - INFO - Chain [1] start processing\n",
      "15:41:01 - cmdstanpy - INFO - Chain [1] done processing\n"
     ]
    },
    {
     "name": "stdout",
     "output_type": "stream",
     "text": [
      "Training with changepoint_prior_scale=0.1, seasonality_prior_scale=10.0\n"
     ]
    },
    {
     "data": {
      "application/vnd.jupyter.widget-view+json": {
       "model_id": "1e820adbac6044fa92fc325355ffcde1",
       "version_major": 2,
       "version_minor": 0
      },
      "text/plain": [
       "  0%|          | 0/11 [00:00<?, ?it/s]"
      ]
     },
     "metadata": {},
     "output_type": "display_data"
    },
    {
     "name": "stderr",
     "output_type": "stream",
     "text": [
      "15:41:01 - cmdstanpy - INFO - Chain [1] start processing\n",
      "15:41:01 - cmdstanpy - INFO - Chain [1] done processing\n",
      "15:41:01 - cmdstanpy - INFO - Chain [1] start processing\n",
      "15:41:01 - cmdstanpy - INFO - Chain [1] done processing\n",
      "15:41:01 - cmdstanpy - INFO - Chain [1] start processing\n",
      "15:41:01 - cmdstanpy - INFO - Chain [1] done processing\n",
      "15:41:01 - cmdstanpy - INFO - Chain [1] start processing\n",
      "15:41:01 - cmdstanpy - INFO - Chain [1] done processing\n",
      "15:41:01 - cmdstanpy - INFO - Chain [1] start processing\n",
      "15:41:01 - cmdstanpy - INFO - Chain [1] done processing\n",
      "15:41:01 - cmdstanpy - INFO - Chain [1] start processing\n",
      "15:41:02 - cmdstanpy - INFO - Chain [1] done processing\n",
      "15:41:02 - cmdstanpy - INFO - Chain [1] start processing\n",
      "15:41:02 - cmdstanpy - INFO - Chain [1] done processing\n",
      "15:41:02 - cmdstanpy - INFO - Chain [1] start processing\n",
      "15:41:02 - cmdstanpy - INFO - Chain [1] done processing\n",
      "15:41:02 - cmdstanpy - INFO - Chain [1] start processing\n",
      "15:41:02 - cmdstanpy - INFO - Chain [1] done processing\n",
      "15:41:02 - cmdstanpy - INFO - Chain [1] start processing\n",
      "15:41:02 - cmdstanpy - INFO - Chain [1] done processing\n",
      "15:41:02 - cmdstanpy - INFO - Chain [1] start processing\n",
      "15:41:02 - cmdstanpy - INFO - Chain [1] done processing\n",
      "15:41:03 - cmdstanpy - INFO - Chain [1] start processing\n"
     ]
    },
    {
     "name": "stdout",
     "output_type": "stream",
     "text": [
      "Training with changepoint_prior_scale=0.5, seasonality_prior_scale=1.0\n"
     ]
    },
    {
     "name": "stderr",
     "output_type": "stream",
     "text": [
      "15:41:03 - cmdstanpy - INFO - Chain [1] done processing\n"
     ]
    },
    {
     "data": {
      "application/vnd.jupyter.widget-view+json": {
       "model_id": "e9c8d90a22ee4b05a548690a283379da",
       "version_major": 2,
       "version_minor": 0
      },
      "text/plain": [
       "  0%|          | 0/11 [00:00<?, ?it/s]"
      ]
     },
     "metadata": {},
     "output_type": "display_data"
    },
    {
     "name": "stderr",
     "output_type": "stream",
     "text": [
      "15:41:03 - cmdstanpy - INFO - Chain [1] start processing\n",
      "15:41:03 - cmdstanpy - INFO - Chain [1] done processing\n",
      "15:41:03 - cmdstanpy - INFO - Chain [1] start processing\n",
      "15:41:03 - cmdstanpy - INFO - Chain [1] done processing\n",
      "15:41:04 - cmdstanpy - INFO - Chain [1] start processing\n",
      "15:41:04 - cmdstanpy - INFO - Chain [1] done processing\n",
      "15:41:04 - cmdstanpy - INFO - Chain [1] start processing\n",
      "15:41:04 - cmdstanpy - INFO - Chain [1] done processing\n",
      "15:41:04 - cmdstanpy - INFO - Chain [1] start processing\n",
      "15:41:04 - cmdstanpy - INFO - Chain [1] done processing\n",
      "15:41:04 - cmdstanpy - INFO - Chain [1] start processing\n",
      "15:41:04 - cmdstanpy - INFO - Chain [1] done processing\n",
      "15:41:04 - cmdstanpy - INFO - Chain [1] start processing\n",
      "15:41:05 - cmdstanpy - INFO - Chain [1] done processing\n",
      "15:41:05 - cmdstanpy - INFO - Chain [1] start processing\n",
      "15:41:05 - cmdstanpy - INFO - Chain [1] done processing\n",
      "15:41:05 - cmdstanpy - INFO - Chain [1] start processing\n",
      "15:41:05 - cmdstanpy - INFO - Chain [1] done processing\n",
      "15:41:05 - cmdstanpy - INFO - Chain [1] start processing\n",
      "15:41:05 - cmdstanpy - INFO - Chain [1] done processing\n",
      "15:41:05 - cmdstanpy - INFO - Chain [1] start processing\n",
      "15:41:06 - cmdstanpy - INFO - Chain [1] done processing\n",
      "15:41:06 - cmdstanpy - INFO - Chain [1] start processing\n"
     ]
    },
    {
     "name": "stdout",
     "output_type": "stream",
     "text": [
      "Training with changepoint_prior_scale=0.5, seasonality_prior_scale=10.0\n"
     ]
    },
    {
     "name": "stderr",
     "output_type": "stream",
     "text": [
      "15:41:06 - cmdstanpy - INFO - Chain [1] done processing\n"
     ]
    },
    {
     "data": {
      "application/vnd.jupyter.widget-view+json": {
       "model_id": "b1a7382854104d7bbf7d6794a0b35d7e",
       "version_major": 2,
       "version_minor": 0
      },
      "text/plain": [
       "  0%|          | 0/11 [00:00<?, ?it/s]"
      ]
     },
     "metadata": {},
     "output_type": "display_data"
    },
    {
     "name": "stderr",
     "output_type": "stream",
     "text": [
      "15:41:06 - cmdstanpy - INFO - Chain [1] start processing\n",
      "15:41:06 - cmdstanpy - INFO - Chain [1] done processing\n",
      "15:41:06 - cmdstanpy - INFO - Chain [1] start processing\n",
      "15:41:07 - cmdstanpy - INFO - Chain [1] done processing\n",
      "15:41:07 - cmdstanpy - INFO - Chain [1] start processing\n",
      "15:41:07 - cmdstanpy - INFO - Chain [1] done processing\n",
      "15:41:07 - cmdstanpy - INFO - Chain [1] start processing\n",
      "15:41:07 - cmdstanpy - INFO - Chain [1] done processing\n",
      "15:41:07 - cmdstanpy - INFO - Chain [1] start processing\n",
      "15:41:07 - cmdstanpy - INFO - Chain [1] done processing\n",
      "15:41:08 - cmdstanpy - INFO - Chain [1] start processing\n",
      "15:41:08 - cmdstanpy - INFO - Chain [1] done processing\n",
      "15:41:08 - cmdstanpy - INFO - Chain [1] start processing\n",
      "15:41:08 - cmdstanpy - INFO - Chain [1] done processing\n",
      "15:41:08 - cmdstanpy - INFO - Chain [1] start processing\n",
      "15:41:08 - cmdstanpy - INFO - Chain [1] done processing\n",
      "15:41:08 - cmdstanpy - INFO - Chain [1] start processing\n",
      "15:41:09 - cmdstanpy - INFO - Chain [1] done processing\n",
      "15:41:09 - cmdstanpy - INFO - Chain [1] start processing\n",
      "15:41:09 - cmdstanpy - INFO - Chain [1] done processing\n",
      "15:41:09 - cmdstanpy - INFO - Chain [1] start processing\n",
      "15:41:09 - cmdstanpy - INFO - Chain [1] done processing\n",
      "Tuning cs subdisciplines:  25%|████▊              | 10/40 [02:39<08:14, 16.49s/it, Processing cs.DC]"
     ]
    },
    {
     "name": "stdout",
     "output_type": "stream",
     "text": [
      "\n",
      "Best Parameters:\n",
      "changepoint_prior_scale    0.50000\n",
      "seasonality_prior_scale    1.00000\n",
      "rmse                       6.80041\n",
      "Name: 4, dtype: float64\n"
     ]
    },
    {
     "name": "stderr",
     "output_type": "stream",
     "text": [
      "15:41:10 - cmdstanpy - INFO - Chain [1] start processing\n",
      "15:41:10 - cmdstanpy - INFO - Chain [1] done processing\n"
     ]
    },
    {
     "name": "stdout",
     "output_type": "stream",
     "text": [
      "Training with changepoint_prior_scale=0.01, seasonality_prior_scale=1.0\n"
     ]
    },
    {
     "data": {
      "application/vnd.jupyter.widget-view+json": {
       "model_id": "a2fccf89b68e41a19f1eb3d763d8d10b",
       "version_major": 2,
       "version_minor": 0
      },
      "text/plain": [
       "  0%|          | 0/11 [00:00<?, ?it/s]"
      ]
     },
     "metadata": {},
     "output_type": "display_data"
    },
    {
     "name": "stderr",
     "output_type": "stream",
     "text": [
      "15:41:10 - cmdstanpy - INFO - Chain [1] start processing\n",
      "15:41:10 - cmdstanpy - INFO - Chain [1] done processing\n",
      "15:41:10 - cmdstanpy - INFO - Chain [1] start processing\n",
      "15:41:10 - cmdstanpy - INFO - Chain [1] done processing\n",
      "15:41:10 - cmdstanpy - INFO - Chain [1] start processing\n",
      "15:41:10 - cmdstanpy - INFO - Chain [1] done processing\n",
      "15:41:10 - cmdstanpy - INFO - Chain [1] start processing\n",
      "15:41:10 - cmdstanpy - INFO - Chain [1] done processing\n",
      "15:41:11 - cmdstanpy - INFO - Chain [1] start processing\n",
      "15:41:11 - cmdstanpy - INFO - Chain [1] done processing\n",
      "15:41:11 - cmdstanpy - INFO - Chain [1] start processing\n",
      "15:41:11 - cmdstanpy - INFO - Chain [1] done processing\n",
      "15:41:11 - cmdstanpy - INFO - Chain [1] start processing\n",
      "15:41:11 - cmdstanpy - INFO - Chain [1] done processing\n",
      "15:41:11 - cmdstanpy - INFO - Chain [1] start processing\n",
      "15:41:11 - cmdstanpy - INFO - Chain [1] done processing\n",
      "15:41:12 - cmdstanpy - INFO - Chain [1] start processing\n",
      "15:41:12 - cmdstanpy - INFO - Chain [1] done processing\n",
      "15:41:12 - cmdstanpy - INFO - Chain [1] start processing\n",
      "15:41:12 - cmdstanpy - INFO - Chain [1] done processing\n",
      "15:41:12 - cmdstanpy - INFO - Chain [1] start processing\n",
      "15:41:12 - cmdstanpy - INFO - Chain [1] done processing\n",
      "15:41:13 - cmdstanpy - INFO - Chain [1] start processing\n",
      "15:41:13 - cmdstanpy - INFO - Chain [1] done processing\n"
     ]
    },
    {
     "name": "stdout",
     "output_type": "stream",
     "text": [
      "Training with changepoint_prior_scale=0.01, seasonality_prior_scale=10.0\n"
     ]
    },
    {
     "data": {
      "application/vnd.jupyter.widget-view+json": {
       "model_id": "829d30b960514ba1bda8e8867d654485",
       "version_major": 2,
       "version_minor": 0
      },
      "text/plain": [
       "  0%|          | 0/11 [00:00<?, ?it/s]"
      ]
     },
     "metadata": {},
     "output_type": "display_data"
    },
    {
     "name": "stderr",
     "output_type": "stream",
     "text": [
      "15:41:13 - cmdstanpy - INFO - Chain [1] start processing\n",
      "15:41:13 - cmdstanpy - INFO - Chain [1] done processing\n",
      "15:41:13 - cmdstanpy - INFO - Chain [1] start processing\n",
      "15:41:13 - cmdstanpy - INFO - Chain [1] done processing\n",
      "15:41:13 - cmdstanpy - INFO - Chain [1] start processing\n",
      "15:41:13 - cmdstanpy - INFO - Chain [1] done processing\n",
      "15:41:13 - cmdstanpy - INFO - Chain [1] start processing\n",
      "15:41:13 - cmdstanpy - INFO - Chain [1] done processing\n",
      "15:41:14 - cmdstanpy - INFO - Chain [1] start processing\n",
      "15:41:14 - cmdstanpy - INFO - Chain [1] done processing\n",
      "15:41:14 - cmdstanpy - INFO - Chain [1] start processing\n",
      "15:41:14 - cmdstanpy - INFO - Chain [1] done processing\n",
      "15:41:14 - cmdstanpy - INFO - Chain [1] start processing\n",
      "15:41:14 - cmdstanpy - INFO - Chain [1] done processing\n",
      "15:41:14 - cmdstanpy - INFO - Chain [1] start processing\n",
      "15:41:14 - cmdstanpy - INFO - Chain [1] done processing\n",
      "15:41:14 - cmdstanpy - INFO - Chain [1] start processing\n",
      "15:41:14 - cmdstanpy - INFO - Chain [1] done processing\n",
      "15:41:15 - cmdstanpy - INFO - Chain [1] start processing\n",
      "15:41:15 - cmdstanpy - INFO - Chain [1] done processing\n",
      "15:41:15 - cmdstanpy - INFO - Chain [1] start processing\n",
      "15:41:15 - cmdstanpy - INFO - Chain [1] done processing\n",
      "15:41:15 - cmdstanpy - INFO - Chain [1] start processing\n",
      "15:41:15 - cmdstanpy - INFO - Chain [1] done processing\n"
     ]
    },
    {
     "name": "stdout",
     "output_type": "stream",
     "text": [
      "Training with changepoint_prior_scale=0.1, seasonality_prior_scale=1.0\n"
     ]
    },
    {
     "data": {
      "application/vnd.jupyter.widget-view+json": {
       "model_id": "1ef6ddf201ce4899a18cc5c70b014fd4",
       "version_major": 2,
       "version_minor": 0
      },
      "text/plain": [
       "  0%|          | 0/11 [00:00<?, ?it/s]"
      ]
     },
     "metadata": {},
     "output_type": "display_data"
    },
    {
     "name": "stderr",
     "output_type": "stream",
     "text": [
      "15:41:15 - cmdstanpy - INFO - Chain [1] start processing\n",
      "15:41:15 - cmdstanpy - INFO - Chain [1] done processing\n",
      "15:41:16 - cmdstanpy - INFO - Chain [1] start processing\n",
      "15:41:16 - cmdstanpy - INFO - Chain [1] done processing\n",
      "15:41:16 - cmdstanpy - INFO - Chain [1] start processing\n",
      "15:41:16 - cmdstanpy - INFO - Chain [1] done processing\n",
      "15:41:16 - cmdstanpy - INFO - Chain [1] start processing\n",
      "15:41:16 - cmdstanpy - INFO - Chain [1] done processing\n",
      "15:41:16 - cmdstanpy - INFO - Chain [1] start processing\n",
      "15:41:16 - cmdstanpy - INFO - Chain [1] done processing\n",
      "15:41:16 - cmdstanpy - INFO - Chain [1] start processing\n",
      "15:41:16 - cmdstanpy - INFO - Chain [1] done processing\n",
      "15:41:17 - cmdstanpy - INFO - Chain [1] start processing\n",
      "15:41:17 - cmdstanpy - INFO - Chain [1] done processing\n",
      "15:41:17 - cmdstanpy - INFO - Chain [1] start processing\n",
      "15:41:17 - cmdstanpy - INFO - Chain [1] done processing\n",
      "15:41:17 - cmdstanpy - INFO - Chain [1] start processing\n",
      "15:41:17 - cmdstanpy - INFO - Chain [1] done processing\n",
      "15:41:17 - cmdstanpy - INFO - Chain [1] start processing\n",
      "15:41:17 - cmdstanpy - INFO - Chain [1] done processing\n",
      "15:41:17 - cmdstanpy - INFO - Chain [1] start processing\n",
      "15:41:17 - cmdstanpy - INFO - Chain [1] done processing\n",
      "15:41:18 - cmdstanpy - INFO - Chain [1] start processing\n",
      "15:41:18 - cmdstanpy - INFO - Chain [1] done processing\n"
     ]
    },
    {
     "name": "stdout",
     "output_type": "stream",
     "text": [
      "Training with changepoint_prior_scale=0.1, seasonality_prior_scale=10.0\n"
     ]
    },
    {
     "data": {
      "application/vnd.jupyter.widget-view+json": {
       "model_id": "24b1e19e648d4a8d826d2514fe151acf",
       "version_major": 2,
       "version_minor": 0
      },
      "text/plain": [
       "  0%|          | 0/11 [00:00<?, ?it/s]"
      ]
     },
     "metadata": {},
     "output_type": "display_data"
    },
    {
     "name": "stderr",
     "output_type": "stream",
     "text": [
      "15:41:18 - cmdstanpy - INFO - Chain [1] start processing\n",
      "15:41:18 - cmdstanpy - INFO - Chain [1] done processing\n",
      "15:41:18 - cmdstanpy - INFO - Chain [1] start processing\n",
      "15:41:18 - cmdstanpy - INFO - Chain [1] done processing\n",
      "15:41:18 - cmdstanpy - INFO - Chain [1] start processing\n",
      "15:41:18 - cmdstanpy - INFO - Chain [1] done processing\n",
      "15:41:18 - cmdstanpy - INFO - Chain [1] start processing\n",
      "15:41:18 - cmdstanpy - INFO - Chain [1] done processing\n",
      "15:41:19 - cmdstanpy - INFO - Chain [1] start processing\n",
      "15:41:19 - cmdstanpy - INFO - Chain [1] done processing\n",
      "15:41:19 - cmdstanpy - INFO - Chain [1] start processing\n",
      "15:41:19 - cmdstanpy - INFO - Chain [1] done processing\n",
      "15:41:19 - cmdstanpy - INFO - Chain [1] start processing\n",
      "15:41:19 - cmdstanpy - INFO - Chain [1] done processing\n",
      "15:41:19 - cmdstanpy - INFO - Chain [1] start processing\n",
      "15:41:19 - cmdstanpy - INFO - Chain [1] done processing\n",
      "15:41:19 - cmdstanpy - INFO - Chain [1] start processing\n",
      "15:41:19 - cmdstanpy - INFO - Chain [1] done processing\n",
      "15:41:19 - cmdstanpy - INFO - Chain [1] start processing\n",
      "15:41:20 - cmdstanpy - INFO - Chain [1] done processing\n",
      "15:41:20 - cmdstanpy - INFO - Chain [1] start processing\n",
      "15:41:20 - cmdstanpy - INFO - Chain [1] done processing\n",
      "15:41:20 - cmdstanpy - INFO - Chain [1] start processing\n"
     ]
    },
    {
     "name": "stdout",
     "output_type": "stream",
     "text": [
      "Training with changepoint_prior_scale=0.5, seasonality_prior_scale=1.0\n"
     ]
    },
    {
     "name": "stderr",
     "output_type": "stream",
     "text": [
      "15:41:20 - cmdstanpy - INFO - Chain [1] done processing\n"
     ]
    },
    {
     "data": {
      "application/vnd.jupyter.widget-view+json": {
       "model_id": "85b76fb0407e4206b6974c4c5857d063",
       "version_major": 2,
       "version_minor": 0
      },
      "text/plain": [
       "  0%|          | 0/11 [00:00<?, ?it/s]"
      ]
     },
     "metadata": {},
     "output_type": "display_data"
    },
    {
     "name": "stderr",
     "output_type": "stream",
     "text": [
      "15:41:20 - cmdstanpy - INFO - Chain [1] start processing\n",
      "15:41:20 - cmdstanpy - INFO - Chain [1] done processing\n",
      "15:41:21 - cmdstanpy - INFO - Chain [1] start processing\n",
      "15:41:21 - cmdstanpy - INFO - Chain [1] done processing\n",
      "15:41:21 - cmdstanpy - INFO - Chain [1] start processing\n",
      "15:41:21 - cmdstanpy - INFO - Chain [1] done processing\n",
      "15:41:21 - cmdstanpy - INFO - Chain [1] start processing\n",
      "15:41:21 - cmdstanpy - INFO - Chain [1] done processing\n",
      "15:41:21 - cmdstanpy - INFO - Chain [1] start processing\n",
      "15:41:21 - cmdstanpy - INFO - Chain [1] done processing\n",
      "15:41:21 - cmdstanpy - INFO - Chain [1] start processing\n",
      "15:41:21 - cmdstanpy - INFO - Chain [1] done processing\n",
      "15:41:21 - cmdstanpy - INFO - Chain [1] start processing\n",
      "15:41:22 - cmdstanpy - INFO - Chain [1] done processing\n",
      "15:41:22 - cmdstanpy - INFO - Chain [1] start processing\n",
      "15:41:22 - cmdstanpy - INFO - Chain [1] done processing\n",
      "15:41:22 - cmdstanpy - INFO - Chain [1] start processing\n",
      "15:41:22 - cmdstanpy - INFO - Chain [1] done processing\n",
      "15:41:22 - cmdstanpy - INFO - Chain [1] start processing\n",
      "15:41:23 - cmdstanpy - INFO - Chain [1] done processing\n",
      "15:41:23 - cmdstanpy - INFO - Chain [1] start processing\n",
      "15:41:23 - cmdstanpy - INFO - Chain [1] done processing\n",
      "15:41:23 - cmdstanpy - INFO - Chain [1] start processing\n"
     ]
    },
    {
     "name": "stdout",
     "output_type": "stream",
     "text": [
      "Training with changepoint_prior_scale=0.5, seasonality_prior_scale=10.0\n"
     ]
    },
    {
     "name": "stderr",
     "output_type": "stream",
     "text": [
      "15:41:24 - cmdstanpy - INFO - Chain [1] done processing\n"
     ]
    },
    {
     "data": {
      "application/vnd.jupyter.widget-view+json": {
       "model_id": "d55af6c4ff3645a28b056420aef6d162",
       "version_major": 2,
       "version_minor": 0
      },
      "text/plain": [
       "  0%|          | 0/11 [00:00<?, ?it/s]"
      ]
     },
     "metadata": {},
     "output_type": "display_data"
    },
    {
     "name": "stderr",
     "output_type": "stream",
     "text": [
      "15:41:24 - cmdstanpy - INFO - Chain [1] start processing\n",
      "15:41:24 - cmdstanpy - INFO - Chain [1] done processing\n",
      "15:41:24 - cmdstanpy - INFO - Chain [1] start processing\n",
      "15:41:24 - cmdstanpy - INFO - Chain [1] done processing\n",
      "15:41:24 - cmdstanpy - INFO - Chain [1] start processing\n",
      "15:41:24 - cmdstanpy - INFO - Chain [1] done processing\n",
      "15:41:24 - cmdstanpy - INFO - Chain [1] start processing\n",
      "15:41:24 - cmdstanpy - INFO - Chain [1] done processing\n",
      "15:41:25 - cmdstanpy - INFO - Chain [1] start processing\n",
      "15:41:25 - cmdstanpy - INFO - Chain [1] done processing\n",
      "15:41:25 - cmdstanpy - INFO - Chain [1] start processing\n",
      "15:41:25 - cmdstanpy - INFO - Chain [1] done processing\n",
      "15:41:25 - cmdstanpy - INFO - Chain [1] start processing\n",
      "15:41:25 - cmdstanpy - INFO - Chain [1] done processing\n",
      "15:41:25 - cmdstanpy - INFO - Chain [1] start processing\n",
      "15:41:25 - cmdstanpy - INFO - Chain [1] done processing\n",
      "15:41:26 - cmdstanpy - INFO - Chain [1] start processing\n",
      "15:41:26 - cmdstanpy - INFO - Chain [1] done processing\n",
      "15:41:26 - cmdstanpy - INFO - Chain [1] start processing\n",
      "15:41:26 - cmdstanpy - INFO - Chain [1] done processing\n",
      "15:41:26 - cmdstanpy - INFO - Chain [1] start processing\n",
      "15:41:27 - cmdstanpy - INFO - Chain [1] done processing\n",
      "Tuning cs subdisciplines:  28%|█████▏             | 11/40 [02:56<08:07, 16.80s/it, Processing cs.DL]"
     ]
    },
    {
     "name": "stdout",
     "output_type": "stream",
     "text": [
      "\n",
      "Best Parameters:\n",
      "changepoint_prior_scale     0.500000\n",
      "seasonality_prior_scale     1.000000\n",
      "rmse                       15.410143\n",
      "Name: 4, dtype: float64\n"
     ]
    },
    {
     "name": "stderr",
     "output_type": "stream",
     "text": [
      "15:41:27 - cmdstanpy - INFO - Chain [1] start processing\n",
      "15:41:27 - cmdstanpy - INFO - Chain [1] done processing\n"
     ]
    },
    {
     "name": "stdout",
     "output_type": "stream",
     "text": [
      "Training with changepoint_prior_scale=0.01, seasonality_prior_scale=1.0\n"
     ]
    },
    {
     "data": {
      "application/vnd.jupyter.widget-view+json": {
       "model_id": "e6846d4a66e445fb8d5f33177b3a6aea",
       "version_major": 2,
       "version_minor": 0
      },
      "text/plain": [
       "  0%|          | 0/11 [00:00<?, ?it/s]"
      ]
     },
     "metadata": {},
     "output_type": "display_data"
    },
    {
     "name": "stderr",
     "output_type": "stream",
     "text": [
      "15:41:27 - cmdstanpy - INFO - Chain [1] start processing\n",
      "15:41:27 - cmdstanpy - INFO - Chain [1] done processing\n",
      "15:41:27 - cmdstanpy - INFO - Chain [1] start processing\n",
      "15:41:27 - cmdstanpy - INFO - Chain [1] done processing\n",
      "15:41:27 - cmdstanpy - INFO - Chain [1] start processing\n",
      "15:41:28 - cmdstanpy - INFO - Chain [1] done processing\n",
      "15:41:28 - cmdstanpy - INFO - Chain [1] start processing\n",
      "15:41:28 - cmdstanpy - INFO - Chain [1] done processing\n",
      "15:41:28 - cmdstanpy - INFO - Chain [1] start processing\n",
      "15:41:28 - cmdstanpy - INFO - Chain [1] done processing\n",
      "15:41:28 - cmdstanpy - INFO - Chain [1] start processing\n",
      "15:41:28 - cmdstanpy - INFO - Chain [1] done processing\n",
      "15:41:28 - cmdstanpy - INFO - Chain [1] start processing\n",
      "15:41:28 - cmdstanpy - INFO - Chain [1] done processing\n",
      "15:41:28 - cmdstanpy - INFO - Chain [1] start processing\n",
      "15:41:28 - cmdstanpy - INFO - Chain [1] done processing\n",
      "15:41:28 - cmdstanpy - INFO - Chain [1] start processing\n",
      "15:41:28 - cmdstanpy - INFO - Chain [1] done processing\n",
      "15:41:28 - cmdstanpy - INFO - Chain [1] start processing\n",
      "15:41:28 - cmdstanpy - INFO - Chain [1] done processing\n",
      "15:41:29 - cmdstanpy - INFO - Chain [1] start processing\n",
      "15:41:29 - cmdstanpy - INFO - Chain [1] done processing\n",
      "15:41:29 - cmdstanpy - INFO - Chain [1] start processing\n",
      "15:41:29 - cmdstanpy - INFO - Chain [1] done processing\n"
     ]
    },
    {
     "name": "stdout",
     "output_type": "stream",
     "text": [
      "Training with changepoint_prior_scale=0.01, seasonality_prior_scale=10.0\n"
     ]
    },
    {
     "data": {
      "application/vnd.jupyter.widget-view+json": {
       "model_id": "e3b5233b3db64d52b99967fc311a2e6a",
       "version_major": 2,
       "version_minor": 0
      },
      "text/plain": [
       "  0%|          | 0/11 [00:00<?, ?it/s]"
      ]
     },
     "metadata": {},
     "output_type": "display_data"
    },
    {
     "name": "stderr",
     "output_type": "stream",
     "text": [
      "15:41:29 - cmdstanpy - INFO - Chain [1] start processing\n",
      "15:41:29 - cmdstanpy - INFO - Chain [1] done processing\n",
      "15:41:29 - cmdstanpy - INFO - Chain [1] start processing\n",
      "15:41:29 - cmdstanpy - INFO - Chain [1] done processing\n",
      "15:41:29 - cmdstanpy - INFO - Chain [1] start processing\n",
      "15:41:29 - cmdstanpy - INFO - Chain [1] done processing\n",
      "15:41:29 - cmdstanpy - INFO - Chain [1] start processing\n",
      "15:41:29 - cmdstanpy - INFO - Chain [1] done processing\n",
      "15:41:29 - cmdstanpy - INFO - Chain [1] start processing\n",
      "15:41:30 - cmdstanpy - INFO - Chain [1] done processing\n",
      "15:41:30 - cmdstanpy - INFO - Chain [1] start processing\n",
      "15:41:30 - cmdstanpy - INFO - Chain [1] done processing\n",
      "15:41:30 - cmdstanpy - INFO - Chain [1] start processing\n",
      "15:41:30 - cmdstanpy - INFO - Chain [1] done processing\n",
      "15:41:30 - cmdstanpy - INFO - Chain [1] start processing\n",
      "15:41:30 - cmdstanpy - INFO - Chain [1] done processing\n",
      "15:41:30 - cmdstanpy - INFO - Chain [1] start processing\n",
      "15:41:30 - cmdstanpy - INFO - Chain [1] done processing\n",
      "15:41:30 - cmdstanpy - INFO - Chain [1] start processing\n",
      "15:41:30 - cmdstanpy - INFO - Chain [1] done processing\n",
      "15:41:30 - cmdstanpy - INFO - Chain [1] start processing\n",
      "15:41:30 - cmdstanpy - INFO - Chain [1] done processing\n",
      "15:41:31 - cmdstanpy - INFO - Chain [1] start processing\n",
      "15:41:31 - cmdstanpy - INFO - Chain [1] done processing\n"
     ]
    },
    {
     "name": "stdout",
     "output_type": "stream",
     "text": [
      "Training with changepoint_prior_scale=0.1, seasonality_prior_scale=1.0\n"
     ]
    },
    {
     "data": {
      "application/vnd.jupyter.widget-view+json": {
       "model_id": "1ce583a3e2684fa69587e3d146e18ee1",
       "version_major": 2,
       "version_minor": 0
      },
      "text/plain": [
       "  0%|          | 0/11 [00:00<?, ?it/s]"
      ]
     },
     "metadata": {},
     "output_type": "display_data"
    },
    {
     "name": "stderr",
     "output_type": "stream",
     "text": [
      "15:41:31 - cmdstanpy - INFO - Chain [1] start processing\n",
      "15:41:31 - cmdstanpy - INFO - Chain [1] done processing\n",
      "15:41:31 - cmdstanpy - INFO - Chain [1] start processing\n",
      "15:41:31 - cmdstanpy - INFO - Chain [1] done processing\n",
      "15:41:31 - cmdstanpy - INFO - Chain [1] start processing\n",
      "15:41:31 - cmdstanpy - INFO - Chain [1] done processing\n",
      "15:41:31 - cmdstanpy - INFO - Chain [1] start processing\n",
      "15:41:31 - cmdstanpy - INFO - Chain [1] done processing\n",
      "15:41:31 - cmdstanpy - INFO - Chain [1] start processing\n",
      "15:41:32 - cmdstanpy - INFO - Chain [1] done processing\n",
      "15:41:32 - cmdstanpy - INFO - Chain [1] start processing\n",
      "15:41:32 - cmdstanpy - INFO - Chain [1] done processing\n",
      "15:41:32 - cmdstanpy - INFO - Chain [1] start processing\n",
      "15:41:32 - cmdstanpy - INFO - Chain [1] done processing\n",
      "15:41:32 - cmdstanpy - INFO - Chain [1] start processing\n",
      "15:41:32 - cmdstanpy - INFO - Chain [1] done processing\n",
      "15:41:32 - cmdstanpy - INFO - Chain [1] start processing\n",
      "15:41:32 - cmdstanpy - INFO - Chain [1] done processing\n",
      "15:41:32 - cmdstanpy - INFO - Chain [1] start processing\n",
      "15:41:32 - cmdstanpy - INFO - Chain [1] done processing\n",
      "15:41:32 - cmdstanpy - INFO - Chain [1] start processing\n",
      "15:41:32 - cmdstanpy - INFO - Chain [1] done processing\n",
      "15:41:33 - cmdstanpy - INFO - Chain [1] start processing\n",
      "15:41:33 - cmdstanpy - INFO - Chain [1] done processing\n"
     ]
    },
    {
     "name": "stdout",
     "output_type": "stream",
     "text": [
      "Training with changepoint_prior_scale=0.1, seasonality_prior_scale=10.0\n"
     ]
    },
    {
     "data": {
      "application/vnd.jupyter.widget-view+json": {
       "model_id": "60519a4a652b4eb4a6c60bd4b76edfc9",
       "version_major": 2,
       "version_minor": 0
      },
      "text/plain": [
       "  0%|          | 0/11 [00:00<?, ?it/s]"
      ]
     },
     "metadata": {},
     "output_type": "display_data"
    },
    {
     "name": "stderr",
     "output_type": "stream",
     "text": [
      "15:41:33 - cmdstanpy - INFO - Chain [1] start processing\n",
      "15:41:33 - cmdstanpy - INFO - Chain [1] done processing\n",
      "15:41:33 - cmdstanpy - INFO - Chain [1] start processing\n",
      "15:41:33 - cmdstanpy - INFO - Chain [1] done processing\n",
      "15:41:33 - cmdstanpy - INFO - Chain [1] start processing\n",
      "15:41:33 - cmdstanpy - INFO - Chain [1] done processing\n",
      "15:41:33 - cmdstanpy - INFO - Chain [1] start processing\n",
      "15:41:33 - cmdstanpy - INFO - Chain [1] done processing\n",
      "15:41:33 - cmdstanpy - INFO - Chain [1] start processing\n",
      "15:41:34 - cmdstanpy - INFO - Chain [1] done processing\n",
      "15:41:34 - cmdstanpy - INFO - Chain [1] start processing\n",
      "15:41:34 - cmdstanpy - INFO - Chain [1] done processing\n",
      "15:41:34 - cmdstanpy - INFO - Chain [1] start processing\n",
      "15:41:34 - cmdstanpy - INFO - Chain [1] done processing\n",
      "15:41:34 - cmdstanpy - INFO - Chain [1] start processing\n",
      "15:41:34 - cmdstanpy - INFO - Chain [1] done processing\n",
      "15:41:34 - cmdstanpy - INFO - Chain [1] start processing\n",
      "15:41:34 - cmdstanpy - INFO - Chain [1] done processing\n",
      "15:41:34 - cmdstanpy - INFO - Chain [1] start processing\n",
      "15:41:34 - cmdstanpy - INFO - Chain [1] done processing\n",
      "15:41:34 - cmdstanpy - INFO - Chain [1] start processing\n",
      "15:41:34 - cmdstanpy - INFO - Chain [1] done processing\n",
      "15:41:35 - cmdstanpy - INFO - Chain [1] start processing\n"
     ]
    },
    {
     "name": "stdout",
     "output_type": "stream",
     "text": [
      "Training with changepoint_prior_scale=0.5, seasonality_prior_scale=1.0\n"
     ]
    },
    {
     "name": "stderr",
     "output_type": "stream",
     "text": [
      "15:41:35 - cmdstanpy - INFO - Chain [1] done processing\n"
     ]
    },
    {
     "data": {
      "application/vnd.jupyter.widget-view+json": {
       "model_id": "fbe79a8b380d4d0cac400e476af0b092",
       "version_major": 2,
       "version_minor": 0
      },
      "text/plain": [
       "  0%|          | 0/11 [00:00<?, ?it/s]"
      ]
     },
     "metadata": {},
     "output_type": "display_data"
    },
    {
     "name": "stderr",
     "output_type": "stream",
     "text": [
      "15:41:35 - cmdstanpy - INFO - Chain [1] start processing\n",
      "15:41:35 - cmdstanpy - INFO - Chain [1] done processing\n",
      "15:41:35 - cmdstanpy - INFO - Chain [1] start processing\n",
      "15:41:35 - cmdstanpy - INFO - Chain [1] done processing\n",
      "15:41:35 - cmdstanpy - INFO - Chain [1] start processing\n",
      "15:41:35 - cmdstanpy - INFO - Chain [1] done processing\n",
      "15:41:36 - cmdstanpy - INFO - Chain [1] start processing\n",
      "15:41:36 - cmdstanpy - INFO - Chain [1] done processing\n",
      "15:41:36 - cmdstanpy - INFO - Chain [1] start processing\n",
      "15:41:36 - cmdstanpy - INFO - Chain [1] done processing\n",
      "15:41:36 - cmdstanpy - INFO - Chain [1] start processing\n",
      "15:41:36 - cmdstanpy - INFO - Chain [1] done processing\n",
      "15:41:36 - cmdstanpy - INFO - Chain [1] start processing\n",
      "15:41:36 - cmdstanpy - INFO - Chain [1] done processing\n",
      "15:41:37 - cmdstanpy - INFO - Chain [1] start processing\n",
      "15:41:37 - cmdstanpy - INFO - Chain [1] done processing\n",
      "15:41:37 - cmdstanpy - INFO - Chain [1] start processing\n",
      "15:41:37 - cmdstanpy - INFO - Chain [1] done processing\n",
      "15:41:37 - cmdstanpy - INFO - Chain [1] start processing\n",
      "15:41:37 - cmdstanpy - INFO - Chain [1] done processing\n",
      "15:41:37 - cmdstanpy - INFO - Chain [1] start processing\n",
      "15:41:37 - cmdstanpy - INFO - Chain [1] done processing\n",
      "15:41:38 - cmdstanpy - INFO - Chain [1] start processing\n"
     ]
    },
    {
     "name": "stdout",
     "output_type": "stream",
     "text": [
      "Training with changepoint_prior_scale=0.5, seasonality_prior_scale=10.0\n"
     ]
    },
    {
     "name": "stderr",
     "output_type": "stream",
     "text": [
      "15:41:38 - cmdstanpy - INFO - Chain [1] done processing\n"
     ]
    },
    {
     "data": {
      "application/vnd.jupyter.widget-view+json": {
       "model_id": "dc6449bab63740cd8c6833b2d98c2a92",
       "version_major": 2,
       "version_minor": 0
      },
      "text/plain": [
       "  0%|          | 0/11 [00:00<?, ?it/s]"
      ]
     },
     "metadata": {},
     "output_type": "display_data"
    },
    {
     "name": "stderr",
     "output_type": "stream",
     "text": [
      "15:41:38 - cmdstanpy - INFO - Chain [1] start processing\n",
      "15:41:38 - cmdstanpy - INFO - Chain [1] done processing\n",
      "15:41:38 - cmdstanpy - INFO - Chain [1] start processing\n",
      "15:41:38 - cmdstanpy - INFO - Chain [1] done processing\n",
      "15:41:39 - cmdstanpy - INFO - Chain [1] start processing\n",
      "15:41:39 - cmdstanpy - INFO - Chain [1] done processing\n",
      "15:41:39 - cmdstanpy - INFO - Chain [1] start processing\n",
      "15:41:39 - cmdstanpy - INFO - Chain [1] done processing\n",
      "15:41:39 - cmdstanpy - INFO - Chain [1] start processing\n",
      "15:41:39 - cmdstanpy - INFO - Chain [1] done processing\n",
      "15:41:39 - cmdstanpy - INFO - Chain [1] start processing\n",
      "15:41:39 - cmdstanpy - INFO - Chain [1] done processing\n",
      "15:41:39 - cmdstanpy - INFO - Chain [1] start processing\n",
      "15:41:40 - cmdstanpy - INFO - Chain [1] done processing\n",
      "15:41:40 - cmdstanpy - INFO - Chain [1] start processing\n",
      "15:41:40 - cmdstanpy - INFO - Chain [1] done processing\n",
      "15:41:40 - cmdstanpy - INFO - Chain [1] start processing\n",
      "15:41:40 - cmdstanpy - INFO - Chain [1] done processing\n",
      "15:41:40 - cmdstanpy - INFO - Chain [1] start processing\n",
      "15:41:40 - cmdstanpy - INFO - Chain [1] done processing\n",
      "15:41:40 - cmdstanpy - INFO - Chain [1] start processing\n",
      "15:41:41 - cmdstanpy - INFO - Chain [1] done processing\n",
      "Tuning cs subdisciplines:  30%|█████▋             | 12/40 [03:10<07:26, 15.94s/it, Processing cs.DM]"
     ]
    },
    {
     "name": "stdout",
     "output_type": "stream",
     "text": [
      "\n",
      "Best Parameters:\n",
      "changepoint_prior_scale     0.100000\n",
      "seasonality_prior_scale    10.000000\n",
      "rmse                        3.710928\n",
      "Name: 3, dtype: float64\n"
     ]
    },
    {
     "name": "stderr",
     "output_type": "stream",
     "text": [
      "15:41:41 - cmdstanpy - INFO - Chain [1] start processing\n",
      "15:41:41 - cmdstanpy - INFO - Chain [1] done processing\n"
     ]
    },
    {
     "name": "stdout",
     "output_type": "stream",
     "text": [
      "Training with changepoint_prior_scale=0.01, seasonality_prior_scale=1.0\n"
     ]
    },
    {
     "data": {
      "application/vnd.jupyter.widget-view+json": {
       "model_id": "967eb8fb444446b79c6899682c3cdf79",
       "version_major": 2,
       "version_minor": 0
      },
      "text/plain": [
       "  0%|          | 0/11 [00:00<?, ?it/s]"
      ]
     },
     "metadata": {},
     "output_type": "display_data"
    },
    {
     "name": "stderr",
     "output_type": "stream",
     "text": [
      "15:41:41 - cmdstanpy - INFO - Chain [1] start processing\n",
      "15:41:41 - cmdstanpy - INFO - Chain [1] done processing\n",
      "15:41:41 - cmdstanpy - INFO - Chain [1] start processing\n",
      "15:41:41 - cmdstanpy - INFO - Chain [1] done processing\n",
      "15:41:42 - cmdstanpy - INFO - Chain [1] start processing\n",
      "15:41:42 - cmdstanpy - INFO - Chain [1] done processing\n",
      "15:41:42 - cmdstanpy - INFO - Chain [1] start processing\n",
      "15:41:42 - cmdstanpy - INFO - Chain [1] done processing\n",
      "15:41:42 - cmdstanpy - INFO - Chain [1] start processing\n",
      "15:41:42 - cmdstanpy - INFO - Chain [1] done processing\n",
      "15:41:42 - cmdstanpy - INFO - Chain [1] start processing\n",
      "15:41:42 - cmdstanpy - INFO - Chain [1] done processing\n",
      "15:41:42 - cmdstanpy - INFO - Chain [1] start processing\n",
      "15:41:42 - cmdstanpy - INFO - Chain [1] done processing\n",
      "15:41:42 - cmdstanpy - INFO - Chain [1] start processing\n",
      "15:41:42 - cmdstanpy - INFO - Chain [1] done processing\n",
      "15:41:42 - cmdstanpy - INFO - Chain [1] start processing\n",
      "15:41:42 - cmdstanpy - INFO - Chain [1] done processing\n",
      "15:41:43 - cmdstanpy - INFO - Chain [1] start processing\n",
      "15:41:43 - cmdstanpy - INFO - Chain [1] done processing\n",
      "15:41:43 - cmdstanpy - INFO - Chain [1] start processing\n",
      "15:41:43 - cmdstanpy - INFO - Chain [1] done processing\n",
      "15:41:43 - cmdstanpy - INFO - Chain [1] start processing\n",
      "15:41:43 - cmdstanpy - INFO - Chain [1] done processing\n"
     ]
    },
    {
     "name": "stdout",
     "output_type": "stream",
     "text": [
      "Training with changepoint_prior_scale=0.01, seasonality_prior_scale=10.0\n"
     ]
    },
    {
     "data": {
      "application/vnd.jupyter.widget-view+json": {
       "model_id": "2d026ac3fab140e88705e406cfb6f75a",
       "version_major": 2,
       "version_minor": 0
      },
      "text/plain": [
       "  0%|          | 0/11 [00:00<?, ?it/s]"
      ]
     },
     "metadata": {},
     "output_type": "display_data"
    },
    {
     "name": "stderr",
     "output_type": "stream",
     "text": [
      "15:41:43 - cmdstanpy - INFO - Chain [1] start processing\n",
      "15:41:43 - cmdstanpy - INFO - Chain [1] done processing\n",
      "15:41:43 - cmdstanpy - INFO - Chain [1] start processing\n",
      "15:41:43 - cmdstanpy - INFO - Chain [1] done processing\n",
      "15:41:43 - cmdstanpy - INFO - Chain [1] start processing\n",
      "15:41:44 - cmdstanpy - INFO - Chain [1] done processing\n",
      "15:41:44 - cmdstanpy - INFO - Chain [1] start processing\n",
      "15:41:44 - cmdstanpy - INFO - Chain [1] done processing\n",
      "15:41:44 - cmdstanpy - INFO - Chain [1] start processing\n",
      "15:41:44 - cmdstanpy - INFO - Chain [1] done processing\n",
      "15:41:44 - cmdstanpy - INFO - Chain [1] start processing\n",
      "15:41:44 - cmdstanpy - INFO - Chain [1] done processing\n",
      "15:41:44 - cmdstanpy - INFO - Chain [1] start processing\n",
      "15:41:44 - cmdstanpy - INFO - Chain [1] done processing\n",
      "15:41:44 - cmdstanpy - INFO - Chain [1] start processing\n",
      "15:41:44 - cmdstanpy - INFO - Chain [1] done processing\n",
      "15:41:44 - cmdstanpy - INFO - Chain [1] start processing\n",
      "15:41:44 - cmdstanpy - INFO - Chain [1] done processing\n",
      "15:41:44 - cmdstanpy - INFO - Chain [1] start processing\n",
      "15:41:44 - cmdstanpy - INFO - Chain [1] done processing\n",
      "15:41:45 - cmdstanpy - INFO - Chain [1] start processing\n",
      "15:41:45 - cmdstanpy - INFO - Chain [1] done processing\n",
      "15:41:45 - cmdstanpy - INFO - Chain [1] start processing\n",
      "15:41:45 - cmdstanpy - INFO - Chain [1] done processing\n"
     ]
    },
    {
     "name": "stdout",
     "output_type": "stream",
     "text": [
      "Training with changepoint_prior_scale=0.1, seasonality_prior_scale=1.0\n"
     ]
    },
    {
     "data": {
      "application/vnd.jupyter.widget-view+json": {
       "model_id": "10711f31854741febc77d047e43c9502",
       "version_major": 2,
       "version_minor": 0
      },
      "text/plain": [
       "  0%|          | 0/11 [00:00<?, ?it/s]"
      ]
     },
     "metadata": {},
     "output_type": "display_data"
    },
    {
     "name": "stderr",
     "output_type": "stream",
     "text": [
      "15:41:45 - cmdstanpy - INFO - Chain [1] start processing\n",
      "15:41:45 - cmdstanpy - INFO - Chain [1] done processing\n",
      "15:41:45 - cmdstanpy - INFO - Chain [1] start processing\n",
      "15:41:45 - cmdstanpy - INFO - Chain [1] done processing\n",
      "15:41:45 - cmdstanpy - INFO - Chain [1] start processing\n",
      "15:41:46 - cmdstanpy - INFO - Chain [1] done processing\n",
      "15:41:46 - cmdstanpy - INFO - Chain [1] start processing\n",
      "15:41:46 - cmdstanpy - INFO - Chain [1] done processing\n",
      "15:41:46 - cmdstanpy - INFO - Chain [1] start processing\n",
      "15:41:46 - cmdstanpy - INFO - Chain [1] done processing\n",
      "15:41:46 - cmdstanpy - INFO - Chain [1] start processing\n",
      "15:41:46 - cmdstanpy - INFO - Chain [1] done processing\n",
      "15:41:46 - cmdstanpy - INFO - Chain [1] start processing\n",
      "15:41:46 - cmdstanpy - INFO - Chain [1] done processing\n",
      "15:41:46 - cmdstanpy - INFO - Chain [1] start processing\n",
      "15:41:46 - cmdstanpy - INFO - Chain [1] done processing\n",
      "15:41:46 - cmdstanpy - INFO - Chain [1] start processing\n",
      "15:41:47 - cmdstanpy - INFO - Chain [1] done processing\n",
      "15:41:47 - cmdstanpy - INFO - Chain [1] start processing\n",
      "15:41:47 - cmdstanpy - INFO - Chain [1] done processing\n",
      "15:41:47 - cmdstanpy - INFO - Chain [1] start processing\n",
      "15:41:47 - cmdstanpy - INFO - Chain [1] done processing\n",
      "15:41:47 - cmdstanpy - INFO - Chain [1] start processing\n",
      "15:41:47 - cmdstanpy - INFO - Chain [1] done processing\n"
     ]
    },
    {
     "name": "stdout",
     "output_type": "stream",
     "text": [
      "Training with changepoint_prior_scale=0.1, seasonality_prior_scale=10.0\n"
     ]
    },
    {
     "data": {
      "application/vnd.jupyter.widget-view+json": {
       "model_id": "21b65bee8ae0499aa1901d4572b6b80e",
       "version_major": 2,
       "version_minor": 0
      },
      "text/plain": [
       "  0%|          | 0/11 [00:00<?, ?it/s]"
      ]
     },
     "metadata": {},
     "output_type": "display_data"
    },
    {
     "name": "stderr",
     "output_type": "stream",
     "text": [
      "15:41:47 - cmdstanpy - INFO - Chain [1] start processing\n",
      "15:41:47 - cmdstanpy - INFO - Chain [1] done processing\n",
      "15:41:47 - cmdstanpy - INFO - Chain [1] start processing\n",
      "15:41:48 - cmdstanpy - INFO - Chain [1] done processing\n",
      "15:41:48 - cmdstanpy - INFO - Chain [1] start processing\n",
      "15:41:48 - cmdstanpy - INFO - Chain [1] done processing\n",
      "15:41:48 - cmdstanpy - INFO - Chain [1] start processing\n",
      "15:41:48 - cmdstanpy - INFO - Chain [1] done processing\n",
      "15:41:48 - cmdstanpy - INFO - Chain [1] start processing\n",
      "15:41:48 - cmdstanpy - INFO - Chain [1] done processing\n",
      "15:41:48 - cmdstanpy - INFO - Chain [1] start processing\n",
      "15:41:48 - cmdstanpy - INFO - Chain [1] done processing\n",
      "15:41:48 - cmdstanpy - INFO - Chain [1] start processing\n",
      "15:41:48 - cmdstanpy - INFO - Chain [1] done processing\n",
      "15:41:48 - cmdstanpy - INFO - Chain [1] start processing\n",
      "15:41:49 - cmdstanpy - INFO - Chain [1] done processing\n",
      "15:41:49 - cmdstanpy - INFO - Chain [1] start processing\n",
      "15:41:49 - cmdstanpy - INFO - Chain [1] done processing\n",
      "15:41:49 - cmdstanpy - INFO - Chain [1] start processing\n",
      "15:41:49 - cmdstanpy - INFO - Chain [1] done processing\n",
      "15:41:49 - cmdstanpy - INFO - Chain [1] start processing\n",
      "15:41:49 - cmdstanpy - INFO - Chain [1] done processing\n",
      "15:41:49 - cmdstanpy - INFO - Chain [1] start processing\n"
     ]
    },
    {
     "name": "stdout",
     "output_type": "stream",
     "text": [
      "Training with changepoint_prior_scale=0.5, seasonality_prior_scale=1.0\n"
     ]
    },
    {
     "name": "stderr",
     "output_type": "stream",
     "text": [
      "15:41:50 - cmdstanpy - INFO - Chain [1] done processing\n"
     ]
    },
    {
     "data": {
      "application/vnd.jupyter.widget-view+json": {
       "model_id": "e22ed291eeb74666a4da114acca9016f",
       "version_major": 2,
       "version_minor": 0
      },
      "text/plain": [
       "  0%|          | 0/11 [00:00<?, ?it/s]"
      ]
     },
     "metadata": {},
     "output_type": "display_data"
    },
    {
     "name": "stderr",
     "output_type": "stream",
     "text": [
      "15:41:50 - cmdstanpy - INFO - Chain [1] start processing\n",
      "15:41:50 - cmdstanpy - INFO - Chain [1] done processing\n",
      "15:41:50 - cmdstanpy - INFO - Chain [1] start processing\n",
      "15:41:50 - cmdstanpy - INFO - Chain [1] done processing\n",
      "15:41:50 - cmdstanpy - INFO - Chain [1] start processing\n",
      "15:41:50 - cmdstanpy - INFO - Chain [1] done processing\n",
      "15:41:50 - cmdstanpy - INFO - Chain [1] start processing\n",
      "15:41:50 - cmdstanpy - INFO - Chain [1] done processing\n",
      "15:41:50 - cmdstanpy - INFO - Chain [1] start processing\n",
      "15:41:50 - cmdstanpy - INFO - Chain [1] done processing\n",
      "15:41:51 - cmdstanpy - INFO - Chain [1] start processing\n",
      "15:41:51 - cmdstanpy - INFO - Chain [1] done processing\n",
      "15:41:51 - cmdstanpy - INFO - Chain [1] start processing\n",
      "15:41:51 - cmdstanpy - INFO - Chain [1] done processing\n",
      "15:41:51 - cmdstanpy - INFO - Chain [1] start processing\n",
      "15:41:51 - cmdstanpy - INFO - Chain [1] done processing\n",
      "15:41:51 - cmdstanpy - INFO - Chain [1] start processing\n",
      "15:41:51 - cmdstanpy - INFO - Chain [1] done processing\n",
      "15:41:51 - cmdstanpy - INFO - Chain [1] start processing\n",
      "15:41:52 - cmdstanpy - INFO - Chain [1] done processing\n",
      "15:41:52 - cmdstanpy - INFO - Chain [1] start processing\n",
      "15:41:52 - cmdstanpy - INFO - Chain [1] done processing\n",
      "15:41:52 - cmdstanpy - INFO - Chain [1] start processing\n"
     ]
    },
    {
     "name": "stdout",
     "output_type": "stream",
     "text": [
      "Training with changepoint_prior_scale=0.5, seasonality_prior_scale=10.0\n"
     ]
    },
    {
     "name": "stderr",
     "output_type": "stream",
     "text": [
      "15:41:52 - cmdstanpy - INFO - Chain [1] done processing\n"
     ]
    },
    {
     "data": {
      "application/vnd.jupyter.widget-view+json": {
       "model_id": "05cc97b03a094844a408db8194b48ad1",
       "version_major": 2,
       "version_minor": 0
      },
      "text/plain": [
       "  0%|          | 0/11 [00:00<?, ?it/s]"
      ]
     },
     "metadata": {},
     "output_type": "display_data"
    },
    {
     "name": "stderr",
     "output_type": "stream",
     "text": [
      "15:41:52 - cmdstanpy - INFO - Chain [1] start processing\n",
      "15:41:52 - cmdstanpy - INFO - Chain [1] done processing\n",
      "15:41:53 - cmdstanpy - INFO - Chain [1] start processing\n",
      "15:41:53 - cmdstanpy - INFO - Chain [1] done processing\n",
      "15:41:53 - cmdstanpy - INFO - Chain [1] start processing\n",
      "15:41:53 - cmdstanpy - INFO - Chain [1] done processing\n",
      "15:41:53 - cmdstanpy - INFO - Chain [1] start processing\n",
      "15:41:53 - cmdstanpy - INFO - Chain [1] done processing\n",
      "15:41:53 - cmdstanpy - INFO - Chain [1] start processing\n",
      "15:41:53 - cmdstanpy - INFO - Chain [1] done processing\n",
      "15:41:53 - cmdstanpy - INFO - Chain [1] start processing\n",
      "15:41:53 - cmdstanpy - INFO - Chain [1] done processing\n",
      "15:41:54 - cmdstanpy - INFO - Chain [1] start processing\n",
      "15:41:54 - cmdstanpy - INFO - Chain [1] done processing\n",
      "15:41:54 - cmdstanpy - INFO - Chain [1] start processing\n",
      "15:41:54 - cmdstanpy - INFO - Chain [1] done processing\n",
      "15:41:54 - cmdstanpy - INFO - Chain [1] start processing\n",
      "15:41:54 - cmdstanpy - INFO - Chain [1] done processing\n",
      "15:41:54 - cmdstanpy - INFO - Chain [1] start processing\n",
      "15:41:54 - cmdstanpy - INFO - Chain [1] done processing\n",
      "15:41:54 - cmdstanpy - INFO - Chain [1] start processing\n",
      "15:41:55 - cmdstanpy - INFO - Chain [1] done processing\n",
      "Tuning cs subdisciplines:  32%|██████▏            | 13/40 [03:24<06:54, 15.35s/it, Processing cs.DS]"
     ]
    },
    {
     "name": "stdout",
     "output_type": "stream",
     "text": [
      "\n",
      "Best Parameters:\n",
      "changepoint_prior_scale    0.010000\n",
      "seasonality_prior_scale    1.000000\n",
      "rmse                       6.286589\n",
      "Name: 0, dtype: float64\n"
     ]
    },
    {
     "name": "stderr",
     "output_type": "stream",
     "text": [
      "15:41:55 - cmdstanpy - INFO - Chain [1] start processing\n",
      "15:41:55 - cmdstanpy - INFO - Chain [1] done processing\n"
     ]
    },
    {
     "name": "stdout",
     "output_type": "stream",
     "text": [
      "Training with changepoint_prior_scale=0.01, seasonality_prior_scale=1.0\n"
     ]
    },
    {
     "data": {
      "application/vnd.jupyter.widget-view+json": {
       "model_id": "7208af076250401a95b65d7e5308198c",
       "version_major": 2,
       "version_minor": 0
      },
      "text/plain": [
       "  0%|          | 0/11 [00:00<?, ?it/s]"
      ]
     },
     "metadata": {},
     "output_type": "display_data"
    },
    {
     "name": "stderr",
     "output_type": "stream",
     "text": [
      "15:41:55 - cmdstanpy - INFO - Chain [1] start processing\n",
      "15:41:55 - cmdstanpy - INFO - Chain [1] done processing\n",
      "15:41:55 - cmdstanpy - INFO - Chain [1] start processing\n",
      "15:41:55 - cmdstanpy - INFO - Chain [1] done processing\n",
      "15:41:55 - cmdstanpy - INFO - Chain [1] start processing\n",
      "15:41:55 - cmdstanpy - INFO - Chain [1] done processing\n",
      "15:41:56 - cmdstanpy - INFO - Chain [1] start processing\n",
      "15:41:56 - cmdstanpy - INFO - Chain [1] done processing\n",
      "15:41:56 - cmdstanpy - INFO - Chain [1] start processing\n",
      "15:41:56 - cmdstanpy - INFO - Chain [1] done processing\n",
      "15:41:56 - cmdstanpy - INFO - Chain [1] start processing\n",
      "15:41:56 - cmdstanpy - INFO - Chain [1] done processing\n",
      "15:41:56 - cmdstanpy - INFO - Chain [1] start processing\n",
      "15:41:56 - cmdstanpy - INFO - Chain [1] done processing\n",
      "15:41:56 - cmdstanpy - INFO - Chain [1] start processing\n",
      "15:41:56 - cmdstanpy - INFO - Chain [1] done processing\n",
      "15:41:56 - cmdstanpy - INFO - Chain [1] start processing\n",
      "15:41:56 - cmdstanpy - INFO - Chain [1] done processing\n",
      "15:41:56 - cmdstanpy - INFO - Chain [1] start processing\n",
      "15:41:56 - cmdstanpy - INFO - Chain [1] done processing\n",
      "15:41:57 - cmdstanpy - INFO - Chain [1] start processing\n",
      "15:41:57 - cmdstanpy - INFO - Chain [1] done processing\n",
      "15:41:57 - cmdstanpy - INFO - Chain [1] start processing\n",
      "15:41:57 - cmdstanpy - INFO - Chain [1] done processing\n"
     ]
    },
    {
     "name": "stdout",
     "output_type": "stream",
     "text": [
      "Training with changepoint_prior_scale=0.01, seasonality_prior_scale=10.0\n"
     ]
    },
    {
     "data": {
      "application/vnd.jupyter.widget-view+json": {
       "model_id": "65a34243d37e41889d283dc385a88992",
       "version_major": 2,
       "version_minor": 0
      },
      "text/plain": [
       "  0%|          | 0/11 [00:00<?, ?it/s]"
      ]
     },
     "metadata": {},
     "output_type": "display_data"
    },
    {
     "name": "stderr",
     "output_type": "stream",
     "text": [
      "15:41:57 - cmdstanpy - INFO - Chain [1] start processing\n",
      "15:41:57 - cmdstanpy - INFO - Chain [1] done processing\n",
      "15:41:57 - cmdstanpy - INFO - Chain [1] start processing\n",
      "15:41:57 - cmdstanpy - INFO - Chain [1] done processing\n",
      "15:41:57 - cmdstanpy - INFO - Chain [1] start processing\n",
      "15:41:57 - cmdstanpy - INFO - Chain [1] done processing\n",
      "15:41:57 - cmdstanpy - INFO - Chain [1] start processing\n",
      "15:41:57 - cmdstanpy - INFO - Chain [1] done processing\n",
      "15:41:58 - cmdstanpy - INFO - Chain [1] start processing\n",
      "15:41:58 - cmdstanpy - INFO - Chain [1] done processing\n",
      "15:41:58 - cmdstanpy - INFO - Chain [1] start processing\n",
      "15:41:58 - cmdstanpy - INFO - Chain [1] done processing\n",
      "15:41:58 - cmdstanpy - INFO - Chain [1] start processing\n",
      "15:41:58 - cmdstanpy - INFO - Chain [1] done processing\n",
      "15:41:58 - cmdstanpy - INFO - Chain [1] start processing\n",
      "15:41:58 - cmdstanpy - INFO - Chain [1] done processing\n",
      "15:41:58 - cmdstanpy - INFO - Chain [1] start processing\n",
      "15:41:58 - cmdstanpy - INFO - Chain [1] done processing\n",
      "15:41:58 - cmdstanpy - INFO - Chain [1] start processing\n",
      "15:41:58 - cmdstanpy - INFO - Chain [1] done processing\n",
      "15:41:58 - cmdstanpy - INFO - Chain [1] start processing\n",
      "15:41:58 - cmdstanpy - INFO - Chain [1] done processing\n",
      "15:41:59 - cmdstanpy - INFO - Chain [1] start processing\n",
      "15:41:59 - cmdstanpy - INFO - Chain [1] done processing\n"
     ]
    },
    {
     "name": "stdout",
     "output_type": "stream",
     "text": [
      "Training with changepoint_prior_scale=0.1, seasonality_prior_scale=1.0\n"
     ]
    },
    {
     "data": {
      "application/vnd.jupyter.widget-view+json": {
       "model_id": "45a7eaea0ef44de99b9589e1d64f5b98",
       "version_major": 2,
       "version_minor": 0
      },
      "text/plain": [
       "  0%|          | 0/11 [00:00<?, ?it/s]"
      ]
     },
     "metadata": {},
     "output_type": "display_data"
    },
    {
     "name": "stderr",
     "output_type": "stream",
     "text": [
      "15:41:59 - cmdstanpy - INFO - Chain [1] start processing\n",
      "15:41:59 - cmdstanpy - INFO - Chain [1] done processing\n",
      "15:41:59 - cmdstanpy - INFO - Chain [1] start processing\n",
      "15:41:59 - cmdstanpy - INFO - Chain [1] done processing\n",
      "15:41:59 - cmdstanpy - INFO - Chain [1] start processing\n",
      "15:41:59 - cmdstanpy - INFO - Chain [1] done processing\n",
      "15:41:59 - cmdstanpy - INFO - Chain [1] start processing\n",
      "15:41:59 - cmdstanpy - INFO - Chain [1] done processing\n",
      "15:42:00 - cmdstanpy - INFO - Chain [1] start processing\n",
      "15:42:00 - cmdstanpy - INFO - Chain [1] done processing\n",
      "15:42:00 - cmdstanpy - INFO - Chain [1] start processing\n",
      "15:42:00 - cmdstanpy - INFO - Chain [1] done processing\n",
      "15:42:00 - cmdstanpy - INFO - Chain [1] start processing\n",
      "15:42:00 - cmdstanpy - INFO - Chain [1] done processing\n",
      "15:42:00 - cmdstanpy - INFO - Chain [1] start processing\n",
      "15:42:00 - cmdstanpy - INFO - Chain [1] done processing\n",
      "15:42:00 - cmdstanpy - INFO - Chain [1] start processing\n",
      "15:42:00 - cmdstanpy - INFO - Chain [1] done processing\n",
      "15:42:00 - cmdstanpy - INFO - Chain [1] start processing\n",
      "15:42:00 - cmdstanpy - INFO - Chain [1] done processing\n",
      "15:42:00 - cmdstanpy - INFO - Chain [1] start processing\n",
      "15:42:00 - cmdstanpy - INFO - Chain [1] done processing\n",
      "15:42:01 - cmdstanpy - INFO - Chain [1] start processing\n",
      "15:42:01 - cmdstanpy - INFO - Chain [1] done processing\n"
     ]
    },
    {
     "name": "stdout",
     "output_type": "stream",
     "text": [
      "Training with changepoint_prior_scale=0.1, seasonality_prior_scale=10.0\n"
     ]
    },
    {
     "data": {
      "application/vnd.jupyter.widget-view+json": {
       "model_id": "a15c3e11964b4a9cbe84d82e18214a64",
       "version_major": 2,
       "version_minor": 0
      },
      "text/plain": [
       "  0%|          | 0/11 [00:00<?, ?it/s]"
      ]
     },
     "metadata": {},
     "output_type": "display_data"
    },
    {
     "name": "stderr",
     "output_type": "stream",
     "text": [
      "15:42:01 - cmdstanpy - INFO - Chain [1] start processing\n",
      "15:42:01 - cmdstanpy - INFO - Chain [1] done processing\n",
      "15:42:01 - cmdstanpy - INFO - Chain [1] start processing\n",
      "15:42:01 - cmdstanpy - INFO - Chain [1] done processing\n",
      "15:42:01 - cmdstanpy - INFO - Chain [1] start processing\n",
      "15:42:01 - cmdstanpy - INFO - Chain [1] done processing\n",
      "15:42:01 - cmdstanpy - INFO - Chain [1] start processing\n",
      "15:42:01 - cmdstanpy - INFO - Chain [1] done processing\n",
      "15:42:02 - cmdstanpy - INFO - Chain [1] start processing\n",
      "15:42:02 - cmdstanpy - INFO - Chain [1] done processing\n",
      "15:42:02 - cmdstanpy - INFO - Chain [1] start processing\n",
      "15:42:02 - cmdstanpy - INFO - Chain [1] done processing\n",
      "15:42:02 - cmdstanpy - INFO - Chain [1] start processing\n",
      "15:42:02 - cmdstanpy - INFO - Chain [1] done processing\n",
      "15:42:02 - cmdstanpy - INFO - Chain [1] start processing\n",
      "15:42:02 - cmdstanpy - INFO - Chain [1] done processing\n",
      "15:42:02 - cmdstanpy - INFO - Chain [1] start processing\n",
      "15:42:02 - cmdstanpy - INFO - Chain [1] done processing\n",
      "15:42:02 - cmdstanpy - INFO - Chain [1] start processing\n",
      "15:42:02 - cmdstanpy - INFO - Chain [1] done processing\n",
      "15:42:03 - cmdstanpy - INFO - Chain [1] start processing\n",
      "15:42:03 - cmdstanpy - INFO - Chain [1] done processing\n",
      "15:42:03 - cmdstanpy - INFO - Chain [1] start processing\n"
     ]
    },
    {
     "name": "stdout",
     "output_type": "stream",
     "text": [
      "Training with changepoint_prior_scale=0.5, seasonality_prior_scale=1.0\n"
     ]
    },
    {
     "name": "stderr",
     "output_type": "stream",
     "text": [
      "15:42:03 - cmdstanpy - INFO - Chain [1] done processing\n"
     ]
    },
    {
     "data": {
      "application/vnd.jupyter.widget-view+json": {
       "model_id": "ec1ab3f90a9e4830907fc5b58362296d",
       "version_major": 2,
       "version_minor": 0
      },
      "text/plain": [
       "  0%|          | 0/11 [00:00<?, ?it/s]"
      ]
     },
     "metadata": {},
     "output_type": "display_data"
    },
    {
     "name": "stderr",
     "output_type": "stream",
     "text": [
      "15:42:03 - cmdstanpy - INFO - Chain [1] start processing\n",
      "15:42:03 - cmdstanpy - INFO - Chain [1] done processing\n",
      "15:42:03 - cmdstanpy - INFO - Chain [1] start processing\n",
      "15:42:03 - cmdstanpy - INFO - Chain [1] done processing\n",
      "15:42:04 - cmdstanpy - INFO - Chain [1] start processing\n",
      "15:42:04 - cmdstanpy - INFO - Chain [1] done processing\n",
      "15:42:04 - cmdstanpy - INFO - Chain [1] start processing\n",
      "15:42:04 - cmdstanpy - INFO - Chain [1] done processing\n",
      "15:42:04 - cmdstanpy - INFO - Chain [1] start processing\n",
      "15:42:04 - cmdstanpy - INFO - Chain [1] done processing\n",
      "15:42:04 - cmdstanpy - INFO - Chain [1] start processing\n",
      "15:42:04 - cmdstanpy - INFO - Chain [1] done processing\n",
      "15:42:04 - cmdstanpy - INFO - Chain [1] start processing\n",
      "15:42:04 - cmdstanpy - INFO - Chain [1] done processing\n",
      "15:42:05 - cmdstanpy - INFO - Chain [1] start processing\n",
      "15:42:05 - cmdstanpy - INFO - Chain [1] done processing\n",
      "15:42:05 - cmdstanpy - INFO - Chain [1] start processing\n",
      "15:42:05 - cmdstanpy - INFO - Chain [1] done processing\n",
      "15:42:05 - cmdstanpy - INFO - Chain [1] start processing\n",
      "15:42:05 - cmdstanpy - INFO - Chain [1] done processing\n",
      "15:42:05 - cmdstanpy - INFO - Chain [1] start processing\n",
      "15:42:05 - cmdstanpy - INFO - Chain [1] done processing\n",
      "15:42:06 - cmdstanpy - INFO - Chain [1] start processing\n"
     ]
    },
    {
     "name": "stdout",
     "output_type": "stream",
     "text": [
      "Training with changepoint_prior_scale=0.5, seasonality_prior_scale=10.0\n"
     ]
    },
    {
     "name": "stderr",
     "output_type": "stream",
     "text": [
      "15:42:06 - cmdstanpy - INFO - Chain [1] done processing\n"
     ]
    },
    {
     "data": {
      "application/vnd.jupyter.widget-view+json": {
       "model_id": "c50230dcec194e3f9658e8c20186bfd5",
       "version_major": 2,
       "version_minor": 0
      },
      "text/plain": [
       "  0%|          | 0/11 [00:00<?, ?it/s]"
      ]
     },
     "metadata": {},
     "output_type": "display_data"
    },
    {
     "name": "stderr",
     "output_type": "stream",
     "text": [
      "15:42:06 - cmdstanpy - INFO - Chain [1] start processing\n",
      "15:42:06 - cmdstanpy - INFO - Chain [1] done processing\n",
      "15:42:06 - cmdstanpy - INFO - Chain [1] start processing\n",
      "15:42:06 - cmdstanpy - INFO - Chain [1] done processing\n",
      "15:42:06 - cmdstanpy - INFO - Chain [1] start processing\n",
      "15:42:07 - cmdstanpy - INFO - Chain [1] done processing\n",
      "15:42:07 - cmdstanpy - INFO - Chain [1] start processing\n",
      "15:42:07 - cmdstanpy - INFO - Chain [1] done processing\n",
      "15:42:07 - cmdstanpy - INFO - Chain [1] start processing\n",
      "15:42:07 - cmdstanpy - INFO - Chain [1] done processing\n",
      "15:42:07 - cmdstanpy - INFO - Chain [1] start processing\n",
      "15:42:07 - cmdstanpy - INFO - Chain [1] done processing\n",
      "15:42:07 - cmdstanpy - INFO - Chain [1] start processing\n",
      "15:42:07 - cmdstanpy - INFO - Chain [1] done processing\n",
      "15:42:07 - cmdstanpy - INFO - Chain [1] start processing\n",
      "15:42:07 - cmdstanpy - INFO - Chain [1] done processing\n",
      "15:42:07 - cmdstanpy - INFO - Chain [1] start processing\n",
      "15:42:08 - cmdstanpy - INFO - Chain [1] done processing\n",
      "15:42:08 - cmdstanpy - INFO - Chain [1] start processing\n",
      "15:42:08 - cmdstanpy - INFO - Chain [1] done processing\n",
      "15:42:08 - cmdstanpy - INFO - Chain [1] start processing\n",
      "15:42:08 - cmdstanpy - INFO - Chain [1] done processing\n",
      "Tuning cs subdisciplines:  35%|██████▋            | 14/40 [03:38<06:24, 14.79s/it, Processing cs.ET]"
     ]
    },
    {
     "name": "stdout",
     "output_type": "stream",
     "text": [
      "\n",
      "Best Parameters:\n",
      "changepoint_prior_scale     0.500000\n",
      "seasonality_prior_scale    10.000000\n",
      "rmse                       14.245378\n",
      "Name: 5, dtype: float64\n"
     ]
    },
    {
     "name": "stderr",
     "output_type": "stream",
     "text": [
      "15:42:09 - cmdstanpy - INFO - Chain [1] start processing\n",
      "15:42:09 - cmdstanpy - INFO - Chain [1] done processing\n"
     ]
    },
    {
     "name": "stdout",
     "output_type": "stream",
     "text": [
      "Training with changepoint_prior_scale=0.01, seasonality_prior_scale=1.0\n"
     ]
    },
    {
     "data": {
      "application/vnd.jupyter.widget-view+json": {
       "model_id": "4db4aa6dcde9444b96534da792fd808d",
       "version_major": 2,
       "version_minor": 0
      },
      "text/plain": [
       "  0%|          | 0/10 [00:00<?, ?it/s]"
      ]
     },
     "metadata": {},
     "output_type": "display_data"
    },
    {
     "name": "stderr",
     "output_type": "stream",
     "text": [
      "15:42:09 - cmdstanpy - INFO - Chain [1] start processing\n",
      "15:42:09 - cmdstanpy - INFO - Chain [1] done processing\n",
      "15:42:09 - cmdstanpy - INFO - Chain [1] start processing\n",
      "15:42:09 - cmdstanpy - INFO - Chain [1] done processing\n",
      "15:42:09 - cmdstanpy - INFO - Chain [1] start processing\n",
      "15:42:09 - cmdstanpy - INFO - Chain [1] done processing\n",
      "15:42:09 - cmdstanpy - INFO - Chain [1] start processing\n",
      "15:42:09 - cmdstanpy - INFO - Chain [1] done processing\n",
      "15:42:09 - cmdstanpy - INFO - Chain [1] start processing\n",
      "15:42:09 - cmdstanpy - INFO - Chain [1] done processing\n",
      "15:42:09 - cmdstanpy - INFO - Chain [1] start processing\n",
      "15:42:09 - cmdstanpy - INFO - Chain [1] done processing\n",
      "15:42:09 - cmdstanpy - INFO - Chain [1] start processing\n",
      "15:42:09 - cmdstanpy - INFO - Chain [1] done processing\n",
      "15:42:10 - cmdstanpy - INFO - Chain [1] start processing\n",
      "15:42:10 - cmdstanpy - INFO - Chain [1] done processing\n",
      "15:42:10 - cmdstanpy - INFO - Chain [1] start processing\n",
      "15:42:10 - cmdstanpy - INFO - Chain [1] done processing\n",
      "15:42:10 - cmdstanpy - INFO - Chain [1] start processing\n",
      "15:42:10 - cmdstanpy - INFO - Chain [1] done processing\n",
      "15:42:10 - cmdstanpy - INFO - Chain [1] start processing\n",
      "15:42:10 - cmdstanpy - INFO - Chain [1] done processing\n"
     ]
    },
    {
     "name": "stdout",
     "output_type": "stream",
     "text": [
      "Training with changepoint_prior_scale=0.01, seasonality_prior_scale=10.0\n"
     ]
    },
    {
     "data": {
      "application/vnd.jupyter.widget-view+json": {
       "model_id": "48a8f479b68c488585da5fdc580f1cdc",
       "version_major": 2,
       "version_minor": 0
      },
      "text/plain": [
       "  0%|          | 0/10 [00:00<?, ?it/s]"
      ]
     },
     "metadata": {},
     "output_type": "display_data"
    },
    {
     "name": "stderr",
     "output_type": "stream",
     "text": [
      "15:42:10 - cmdstanpy - INFO - Chain [1] start processing\n",
      "15:42:10 - cmdstanpy - INFO - Chain [1] done processing\n",
      "15:42:10 - cmdstanpy - INFO - Chain [1] start processing\n",
      "15:42:10 - cmdstanpy - INFO - Chain [1] done processing\n",
      "15:42:10 - cmdstanpy - INFO - Chain [1] start processing\n",
      "15:42:10 - cmdstanpy - INFO - Chain [1] done processing\n",
      "15:42:11 - cmdstanpy - INFO - Chain [1] start processing\n",
      "15:42:11 - cmdstanpy - INFO - Chain [1] done processing\n",
      "15:42:11 - cmdstanpy - INFO - Chain [1] start processing\n",
      "15:42:11 - cmdstanpy - INFO - Chain [1] done processing\n",
      "15:42:11 - cmdstanpy - INFO - Chain [1] start processing\n",
      "15:42:11 - cmdstanpy - INFO - Chain [1] done processing\n",
      "15:42:11 - cmdstanpy - INFO - Chain [1] start processing\n",
      "15:42:11 - cmdstanpy - INFO - Chain [1] done processing\n",
      "15:42:11 - cmdstanpy - INFO - Chain [1] start processing\n",
      "15:42:11 - cmdstanpy - INFO - Chain [1] done processing\n",
      "15:42:11 - cmdstanpy - INFO - Chain [1] start processing\n",
      "15:42:11 - cmdstanpy - INFO - Chain [1] done processing\n",
      "15:42:11 - cmdstanpy - INFO - Chain [1] start processing\n",
      "15:42:11 - cmdstanpy - INFO - Chain [1] done processing\n",
      "15:42:12 - cmdstanpy - INFO - Chain [1] start processing\n",
      "15:42:12 - cmdstanpy - INFO - Chain [1] done processing\n"
     ]
    },
    {
     "name": "stdout",
     "output_type": "stream",
     "text": [
      "Training with changepoint_prior_scale=0.1, seasonality_prior_scale=1.0\n"
     ]
    },
    {
     "data": {
      "application/vnd.jupyter.widget-view+json": {
       "model_id": "0b0654bd8d05474eb7573e54678c2bee",
       "version_major": 2,
       "version_minor": 0
      },
      "text/plain": [
       "  0%|          | 0/10 [00:00<?, ?it/s]"
      ]
     },
     "metadata": {},
     "output_type": "display_data"
    },
    {
     "name": "stderr",
     "output_type": "stream",
     "text": [
      "15:42:12 - cmdstanpy - INFO - Chain [1] start processing\n",
      "15:42:12 - cmdstanpy - INFO - Chain [1] done processing\n",
      "15:42:12 - cmdstanpy - INFO - Chain [1] start processing\n",
      "15:42:12 - cmdstanpy - INFO - Chain [1] done processing\n",
      "15:42:12 - cmdstanpy - INFO - Chain [1] start processing\n",
      "15:42:12 - cmdstanpy - INFO - Chain [1] done processing\n",
      "15:42:12 - cmdstanpy - INFO - Chain [1] start processing\n",
      "15:42:12 - cmdstanpy - INFO - Chain [1] done processing\n",
      "15:42:12 - cmdstanpy - INFO - Chain [1] start processing\n",
      "15:42:12 - cmdstanpy - INFO - Chain [1] done processing\n",
      "15:42:12 - cmdstanpy - INFO - Chain [1] start processing\n",
      "15:42:12 - cmdstanpy - INFO - Chain [1] done processing\n",
      "15:42:13 - cmdstanpy - INFO - Chain [1] start processing\n",
      "15:42:13 - cmdstanpy - INFO - Chain [1] done processing\n",
      "15:42:13 - cmdstanpy - INFO - Chain [1] start processing\n",
      "15:42:13 - cmdstanpy - INFO - Chain [1] done processing\n",
      "15:42:13 - cmdstanpy - INFO - Chain [1] start processing\n",
      "15:42:13 - cmdstanpy - INFO - Chain [1] done processing\n",
      "15:42:13 - cmdstanpy - INFO - Chain [1] start processing\n",
      "15:42:13 - cmdstanpy - INFO - Chain [1] done processing\n",
      "15:42:13 - cmdstanpy - INFO - Chain [1] start processing\n",
      "15:42:13 - cmdstanpy - INFO - Chain [1] done processing\n"
     ]
    },
    {
     "name": "stdout",
     "output_type": "stream",
     "text": [
      "Training with changepoint_prior_scale=0.1, seasonality_prior_scale=10.0\n"
     ]
    },
    {
     "data": {
      "application/vnd.jupyter.widget-view+json": {
       "model_id": "dd250b0e9b2f47f5bc21cbb41bc228b9",
       "version_major": 2,
       "version_minor": 0
      },
      "text/plain": [
       "  0%|          | 0/10 [00:00<?, ?it/s]"
      ]
     },
     "metadata": {},
     "output_type": "display_data"
    },
    {
     "name": "stderr",
     "output_type": "stream",
     "text": [
      "15:42:13 - cmdstanpy - INFO - Chain [1] start processing\n",
      "15:42:14 - cmdstanpy - INFO - Chain [1] done processing\n",
      "15:42:14 - cmdstanpy - INFO - Chain [1] start processing\n",
      "15:42:14 - cmdstanpy - INFO - Chain [1] done processing\n",
      "15:42:14 - cmdstanpy - INFO - Chain [1] start processing\n",
      "15:42:14 - cmdstanpy - INFO - Chain [1] done processing\n",
      "15:42:14 - cmdstanpy - INFO - Chain [1] start processing\n",
      "15:42:14 - cmdstanpy - INFO - Chain [1] done processing\n",
      "15:42:14 - cmdstanpy - INFO - Chain [1] start processing\n",
      "15:42:14 - cmdstanpy - INFO - Chain [1] done processing\n",
      "15:42:14 - cmdstanpy - INFO - Chain [1] start processing\n",
      "15:42:14 - cmdstanpy - INFO - Chain [1] done processing\n",
      "15:42:14 - cmdstanpy - INFO - Chain [1] start processing\n",
      "15:42:14 - cmdstanpy - INFO - Chain [1] done processing\n",
      "15:42:14 - cmdstanpy - INFO - Chain [1] start processing\n",
      "15:42:14 - cmdstanpy - INFO - Chain [1] done processing\n",
      "15:42:15 - cmdstanpy - INFO - Chain [1] start processing\n",
      "15:42:15 - cmdstanpy - INFO - Chain [1] done processing\n",
      "15:42:15 - cmdstanpy - INFO - Chain [1] start processing\n",
      "15:42:15 - cmdstanpy - INFO - Chain [1] done processing\n",
      "15:42:15 - cmdstanpy - INFO - Chain [1] start processing\n",
      "15:42:15 - cmdstanpy - INFO - Chain [1] done processing\n"
     ]
    },
    {
     "name": "stdout",
     "output_type": "stream",
     "text": [
      "Training with changepoint_prior_scale=0.5, seasonality_prior_scale=1.0\n"
     ]
    },
    {
     "data": {
      "application/vnd.jupyter.widget-view+json": {
       "model_id": "f307124d674a4533be75aef5baf70590",
       "version_major": 2,
       "version_minor": 0
      },
      "text/plain": [
       "  0%|          | 0/10 [00:00<?, ?it/s]"
      ]
     },
     "metadata": {},
     "output_type": "display_data"
    },
    {
     "name": "stderr",
     "output_type": "stream",
     "text": [
      "15:42:15 - cmdstanpy - INFO - Chain [1] start processing\n",
      "15:42:15 - cmdstanpy - INFO - Chain [1] done processing\n",
      "15:42:15 - cmdstanpy - INFO - Chain [1] start processing\n",
      "15:42:15 - cmdstanpy - INFO - Chain [1] done processing\n",
      "15:42:15 - cmdstanpy - INFO - Chain [1] start processing\n",
      "15:42:15 - cmdstanpy - INFO - Chain [1] done processing\n",
      "15:42:16 - cmdstanpy - INFO - Chain [1] start processing\n",
      "15:42:16 - cmdstanpy - INFO - Chain [1] done processing\n",
      "15:42:16 - cmdstanpy - INFO - Chain [1] start processing\n",
      "15:42:16 - cmdstanpy - INFO - Chain [1] done processing\n",
      "15:42:16 - cmdstanpy - INFO - Chain [1] start processing\n",
      "15:42:16 - cmdstanpy - INFO - Chain [1] done processing\n",
      "15:42:16 - cmdstanpy - INFO - Chain [1] start processing\n",
      "15:42:16 - cmdstanpy - INFO - Chain [1] done processing\n",
      "15:42:16 - cmdstanpy - INFO - Chain [1] start processing\n",
      "15:42:16 - cmdstanpy - INFO - Chain [1] done processing\n",
      "15:42:16 - cmdstanpy - INFO - Chain [1] start processing\n",
      "15:42:16 - cmdstanpy - INFO - Chain [1] done processing\n",
      "15:42:16 - cmdstanpy - INFO - Chain [1] start processing\n",
      "15:42:17 - cmdstanpy - INFO - Chain [1] done processing\n",
      "15:42:17 - cmdstanpy - INFO - Chain [1] start processing\n"
     ]
    },
    {
     "name": "stdout",
     "output_type": "stream",
     "text": [
      "Training with changepoint_prior_scale=0.5, seasonality_prior_scale=10.0\n"
     ]
    },
    {
     "name": "stderr",
     "output_type": "stream",
     "text": [
      "15:42:17 - cmdstanpy - INFO - Chain [1] done processing\n"
     ]
    },
    {
     "data": {
      "application/vnd.jupyter.widget-view+json": {
       "model_id": "5acdaecf515f413abc55a62fa429ace9",
       "version_major": 2,
       "version_minor": 0
      },
      "text/plain": [
       "  0%|          | 0/10 [00:00<?, ?it/s]"
      ]
     },
     "metadata": {},
     "output_type": "display_data"
    },
    {
     "name": "stderr",
     "output_type": "stream",
     "text": [
      "15:42:17 - cmdstanpy - INFO - Chain [1] start processing\n",
      "15:42:17 - cmdstanpy - INFO - Chain [1] done processing\n",
      "15:42:17 - cmdstanpy - INFO - Chain [1] start processing\n",
      "15:42:17 - cmdstanpy - INFO - Chain [1] done processing\n",
      "15:42:17 - cmdstanpy - INFO - Chain [1] start processing\n",
      "15:42:17 - cmdstanpy - INFO - Chain [1] done processing\n",
      "15:42:18 - cmdstanpy - INFO - Chain [1] start processing\n",
      "15:42:18 - cmdstanpy - INFO - Chain [1] done processing\n",
      "15:42:18 - cmdstanpy - INFO - Chain [1] start processing\n",
      "15:42:18 - cmdstanpy - INFO - Chain [1] done processing\n",
      "15:42:18 - cmdstanpy - INFO - Chain [1] start processing\n",
      "15:42:18 - cmdstanpy - INFO - Chain [1] done processing\n",
      "15:42:18 - cmdstanpy - INFO - Chain [1] start processing\n",
      "15:42:18 - cmdstanpy - INFO - Chain [1] done processing\n",
      "15:42:18 - cmdstanpy - INFO - Chain [1] start processing\n",
      "15:42:18 - cmdstanpy - INFO - Chain [1] done processing\n",
      "15:42:18 - cmdstanpy - INFO - Chain [1] start processing\n",
      "15:42:18 - cmdstanpy - INFO - Chain [1] done processing\n",
      "15:42:18 - cmdstanpy - INFO - Chain [1] start processing\n",
      "15:42:19 - cmdstanpy - INFO - Chain [1] done processing\n",
      "Tuning cs subdisciplines:  38%|███████▏           | 15/40 [03:48<05:37, 13.51s/it, Processing cs.FL]"
     ]
    },
    {
     "name": "stdout",
     "output_type": "stream",
     "text": [
      "\n",
      "Best Parameters:\n",
      "changepoint_prior_scale    0.100000\n",
      "seasonality_prior_scale    1.000000\n",
      "rmse                       5.574858\n",
      "Name: 2, dtype: float64\n"
     ]
    },
    {
     "name": "stderr",
     "output_type": "stream",
     "text": [
      "15:42:19 - cmdstanpy - INFO - Chain [1] start processing\n",
      "15:42:19 - cmdstanpy - INFO - Chain [1] done processing\n"
     ]
    },
    {
     "name": "stdout",
     "output_type": "stream",
     "text": [
      "Training with changepoint_prior_scale=0.01, seasonality_prior_scale=1.0\n"
     ]
    },
    {
     "data": {
      "application/vnd.jupyter.widget-view+json": {
       "model_id": "16c9f482e8014f98b10b2c834e19ccb8",
       "version_major": 2,
       "version_minor": 0
      },
      "text/plain": [
       "  0%|          | 0/10 [00:00<?, ?it/s]"
      ]
     },
     "metadata": {},
     "output_type": "display_data"
    },
    {
     "name": "stderr",
     "output_type": "stream",
     "text": [
      "15:42:19 - cmdstanpy - INFO - Chain [1] start processing\n",
      "15:42:19 - cmdstanpy - INFO - Chain [1] done processing\n",
      "15:42:19 - cmdstanpy - INFO - Chain [1] start processing\n",
      "15:42:19 - cmdstanpy - INFO - Chain [1] done processing\n",
      "15:42:20 - cmdstanpy - INFO - Chain [1] start processing\n",
      "15:42:20 - cmdstanpy - INFO - Chain [1] done processing\n",
      "15:42:20 - cmdstanpy - INFO - Chain [1] start processing\n",
      "15:42:20 - cmdstanpy - INFO - Chain [1] done processing\n",
      "15:42:20 - cmdstanpy - INFO - Chain [1] start processing\n",
      "15:42:20 - cmdstanpy - INFO - Chain [1] done processing\n",
      "15:42:20 - cmdstanpy - INFO - Chain [1] start processing\n",
      "15:42:20 - cmdstanpy - INFO - Chain [1] done processing\n",
      "15:42:20 - cmdstanpy - INFO - Chain [1] start processing\n",
      "15:42:20 - cmdstanpy - INFO - Chain [1] done processing\n",
      "15:42:20 - cmdstanpy - INFO - Chain [1] start processing\n",
      "15:42:20 - cmdstanpy - INFO - Chain [1] done processing\n",
      "15:42:20 - cmdstanpy - INFO - Chain [1] start processing\n",
      "15:42:20 - cmdstanpy - INFO - Chain [1] done processing\n",
      "15:42:20 - cmdstanpy - INFO - Chain [1] start processing\n",
      "15:42:21 - cmdstanpy - INFO - Chain [1] done processing\n",
      "15:42:21 - cmdstanpy - INFO - Chain [1] start processing\n",
      "15:42:21 - cmdstanpy - INFO - Chain [1] done processing\n"
     ]
    },
    {
     "name": "stdout",
     "output_type": "stream",
     "text": [
      "Training with changepoint_prior_scale=0.01, seasonality_prior_scale=10.0\n"
     ]
    },
    {
     "data": {
      "application/vnd.jupyter.widget-view+json": {
       "model_id": "e155724444c542d8b16f7613550a2a88",
       "version_major": 2,
       "version_minor": 0
      },
      "text/plain": [
       "  0%|          | 0/10 [00:00<?, ?it/s]"
      ]
     },
     "metadata": {},
     "output_type": "display_data"
    },
    {
     "name": "stderr",
     "output_type": "stream",
     "text": [
      "15:42:21 - cmdstanpy - INFO - Chain [1] start processing\n",
      "15:42:21 - cmdstanpy - INFO - Chain [1] done processing\n",
      "15:42:21 - cmdstanpy - INFO - Chain [1] start processing\n",
      "15:42:21 - cmdstanpy - INFO - Chain [1] done processing\n",
      "15:42:21 - cmdstanpy - INFO - Chain [1] start processing\n",
      "15:42:21 - cmdstanpy - INFO - Chain [1] done processing\n",
      "15:42:21 - cmdstanpy - INFO - Chain [1] start processing\n",
      "15:42:21 - cmdstanpy - INFO - Chain [1] done processing\n",
      "15:42:22 - cmdstanpy - INFO - Chain [1] start processing\n",
      "15:42:22 - cmdstanpy - INFO - Chain [1] done processing\n",
      "15:42:22 - cmdstanpy - INFO - Chain [1] start processing\n",
      "15:42:22 - cmdstanpy - INFO - Chain [1] done processing\n",
      "15:42:22 - cmdstanpy - INFO - Chain [1] start processing\n",
      "15:42:22 - cmdstanpy - INFO - Chain [1] done processing\n",
      "15:42:22 - cmdstanpy - INFO - Chain [1] start processing\n",
      "15:42:22 - cmdstanpy - INFO - Chain [1] done processing\n",
      "15:42:22 - cmdstanpy - INFO - Chain [1] start processing\n",
      "15:42:22 - cmdstanpy - INFO - Chain [1] done processing\n",
      "15:42:22 - cmdstanpy - INFO - Chain [1] start processing\n",
      "15:42:22 - cmdstanpy - INFO - Chain [1] done processing\n",
      "15:42:23 - cmdstanpy - INFO - Chain [1] start processing\n",
      "15:42:23 - cmdstanpy - INFO - Chain [1] done processing\n"
     ]
    },
    {
     "name": "stdout",
     "output_type": "stream",
     "text": [
      "Training with changepoint_prior_scale=0.1, seasonality_prior_scale=1.0\n"
     ]
    },
    {
     "data": {
      "application/vnd.jupyter.widget-view+json": {
       "model_id": "825c3e3bdd9b4cbbaa9534d3fb16f872",
       "version_major": 2,
       "version_minor": 0
      },
      "text/plain": [
       "  0%|          | 0/10 [00:00<?, ?it/s]"
      ]
     },
     "metadata": {},
     "output_type": "display_data"
    },
    {
     "name": "stderr",
     "output_type": "stream",
     "text": [
      "15:42:23 - cmdstanpy - INFO - Chain [1] start processing\n",
      "15:42:23 - cmdstanpy - INFO - Chain [1] done processing\n",
      "15:42:23 - cmdstanpy - INFO - Chain [1] start processing\n",
      "15:42:23 - cmdstanpy - INFO - Chain [1] done processing\n",
      "15:42:23 - cmdstanpy - INFO - Chain [1] start processing\n",
      "15:42:23 - cmdstanpy - INFO - Chain [1] done processing\n",
      "15:42:23 - cmdstanpy - INFO - Chain [1] start processing\n",
      "15:42:23 - cmdstanpy - INFO - Chain [1] done processing\n",
      "15:42:23 - cmdstanpy - INFO - Chain [1] start processing\n",
      "15:42:23 - cmdstanpy - INFO - Chain [1] done processing\n",
      "15:42:23 - cmdstanpy - INFO - Chain [1] start processing\n",
      "15:42:23 - cmdstanpy - INFO - Chain [1] done processing\n",
      "15:42:24 - cmdstanpy - INFO - Chain [1] start processing\n",
      "15:42:24 - cmdstanpy - INFO - Chain [1] done processing\n",
      "15:42:24 - cmdstanpy - INFO - Chain [1] start processing\n",
      "15:42:24 - cmdstanpy - INFO - Chain [1] done processing\n",
      "15:42:24 - cmdstanpy - INFO - Chain [1] start processing\n",
      "15:42:24 - cmdstanpy - INFO - Chain [1] done processing\n",
      "15:42:24 - cmdstanpy - INFO - Chain [1] start processing\n",
      "15:42:24 - cmdstanpy - INFO - Chain [1] done processing\n",
      "15:42:24 - cmdstanpy - INFO - Chain [1] start processing\n",
      "15:42:24 - cmdstanpy - INFO - Chain [1] done processing\n"
     ]
    },
    {
     "name": "stdout",
     "output_type": "stream",
     "text": [
      "Training with changepoint_prior_scale=0.1, seasonality_prior_scale=10.0\n"
     ]
    },
    {
     "data": {
      "application/vnd.jupyter.widget-view+json": {
       "model_id": "629c00cb57c7410e86ad9a4fe6e78b6c",
       "version_major": 2,
       "version_minor": 0
      },
      "text/plain": [
       "  0%|          | 0/10 [00:00<?, ?it/s]"
      ]
     },
     "metadata": {},
     "output_type": "display_data"
    },
    {
     "name": "stderr",
     "output_type": "stream",
     "text": [
      "15:42:24 - cmdstanpy - INFO - Chain [1] start processing\n",
      "15:42:24 - cmdstanpy - INFO - Chain [1] done processing\n",
      "15:42:25 - cmdstanpy - INFO - Chain [1] start processing\n",
      "15:42:25 - cmdstanpy - INFO - Chain [1] done processing\n",
      "15:42:25 - cmdstanpy - INFO - Chain [1] start processing\n",
      "15:42:25 - cmdstanpy - INFO - Chain [1] done processing\n",
      "15:42:25 - cmdstanpy - INFO - Chain [1] start processing\n",
      "15:42:25 - cmdstanpy - INFO - Chain [1] done processing\n",
      "15:42:25 - cmdstanpy - INFO - Chain [1] start processing\n",
      "15:42:25 - cmdstanpy - INFO - Chain [1] done processing\n",
      "15:42:25 - cmdstanpy - INFO - Chain [1] start processing\n",
      "15:42:25 - cmdstanpy - INFO - Chain [1] done processing\n",
      "15:42:25 - cmdstanpy - INFO - Chain [1] start processing\n",
      "15:42:25 - cmdstanpy - INFO - Chain [1] done processing\n",
      "15:42:25 - cmdstanpy - INFO - Chain [1] start processing\n",
      "15:42:25 - cmdstanpy - INFO - Chain [1] done processing\n",
      "15:42:26 - cmdstanpy - INFO - Chain [1] start processing\n",
      "15:42:26 - cmdstanpy - INFO - Chain [1] done processing\n",
      "15:42:26 - cmdstanpy - INFO - Chain [1] start processing\n",
      "15:42:26 - cmdstanpy - INFO - Chain [1] done processing\n",
      "15:42:26 - cmdstanpy - INFO - Chain [1] start processing\n",
      "15:42:26 - cmdstanpy - INFO - Chain [1] done processing\n"
     ]
    },
    {
     "name": "stdout",
     "output_type": "stream",
     "text": [
      "Training with changepoint_prior_scale=0.5, seasonality_prior_scale=1.0\n"
     ]
    },
    {
     "data": {
      "application/vnd.jupyter.widget-view+json": {
       "model_id": "a02e929b79ef4467a2285d93b8a4d8d8",
       "version_major": 2,
       "version_minor": 0
      },
      "text/plain": [
       "  0%|          | 0/10 [00:00<?, ?it/s]"
      ]
     },
     "metadata": {},
     "output_type": "display_data"
    },
    {
     "name": "stderr",
     "output_type": "stream",
     "text": [
      "15:42:26 - cmdstanpy - INFO - Chain [1] start processing\n",
      "15:42:26 - cmdstanpy - INFO - Chain [1] done processing\n",
      "15:42:26 - cmdstanpy - INFO - Chain [1] start processing\n",
      "15:42:26 - cmdstanpy - INFO - Chain [1] done processing\n",
      "15:42:26 - cmdstanpy - INFO - Chain [1] start processing\n",
      "15:42:27 - cmdstanpy - INFO - Chain [1] done processing\n",
      "15:42:27 - cmdstanpy - INFO - Chain [1] start processing\n",
      "15:42:27 - cmdstanpy - INFO - Chain [1] done processing\n",
      "15:42:27 - cmdstanpy - INFO - Chain [1] start processing\n",
      "15:42:27 - cmdstanpy - INFO - Chain [1] done processing\n",
      "15:42:27 - cmdstanpy - INFO - Chain [1] start processing\n",
      "15:42:27 - cmdstanpy - INFO - Chain [1] done processing\n",
      "15:42:27 - cmdstanpy - INFO - Chain [1] start processing\n",
      "15:42:27 - cmdstanpy - INFO - Chain [1] done processing\n",
      "15:42:27 - cmdstanpy - INFO - Chain [1] start processing\n",
      "15:42:27 - cmdstanpy - INFO - Chain [1] done processing\n",
      "15:42:28 - cmdstanpy - INFO - Chain [1] start processing\n",
      "15:42:28 - cmdstanpy - INFO - Chain [1] done processing\n",
      "15:42:28 - cmdstanpy - INFO - Chain [1] start processing\n",
      "15:42:28 - cmdstanpy - INFO - Chain [1] done processing\n",
      "15:42:28 - cmdstanpy - INFO - Chain [1] start processing\n"
     ]
    },
    {
     "name": "stdout",
     "output_type": "stream",
     "text": [
      "Training with changepoint_prior_scale=0.5, seasonality_prior_scale=10.0\n"
     ]
    },
    {
     "name": "stderr",
     "output_type": "stream",
     "text": [
      "15:42:28 - cmdstanpy - INFO - Chain [1] done processing\n"
     ]
    },
    {
     "data": {
      "application/vnd.jupyter.widget-view+json": {
       "model_id": "519ea10211d74acb8221d500660bb548",
       "version_major": 2,
       "version_minor": 0
      },
      "text/plain": [
       "  0%|          | 0/10 [00:00<?, ?it/s]"
      ]
     },
     "metadata": {},
     "output_type": "display_data"
    },
    {
     "name": "stderr",
     "output_type": "stream",
     "text": [
      "15:42:28 - cmdstanpy - INFO - Chain [1] start processing\n",
      "15:42:28 - cmdstanpy - INFO - Chain [1] done processing\n",
      "15:42:28 - cmdstanpy - INFO - Chain [1] start processing\n",
      "15:42:29 - cmdstanpy - INFO - Chain [1] done processing\n",
      "15:42:29 - cmdstanpy - INFO - Chain [1] start processing\n",
      "15:42:29 - cmdstanpy - INFO - Chain [1] done processing\n",
      "15:42:29 - cmdstanpy - INFO - Chain [1] start processing\n",
      "15:42:29 - cmdstanpy - INFO - Chain [1] done processing\n",
      "15:42:29 - cmdstanpy - INFO - Chain [1] start processing\n",
      "15:42:29 - cmdstanpy - INFO - Chain [1] done processing\n",
      "15:42:29 - cmdstanpy - INFO - Chain [1] start processing\n",
      "15:42:29 - cmdstanpy - INFO - Chain [1] done processing\n",
      "15:42:29 - cmdstanpy - INFO - Chain [1] start processing\n",
      "15:42:30 - cmdstanpy - INFO - Chain [1] done processing\n",
      "15:42:30 - cmdstanpy - INFO - Chain [1] start processing\n",
      "15:42:30 - cmdstanpy - INFO - Chain [1] done processing\n",
      "15:42:30 - cmdstanpy - INFO - Chain [1] start processing\n",
      "15:42:30 - cmdstanpy - INFO - Chain [1] done processing\n",
      "15:42:30 - cmdstanpy - INFO - Chain [1] start processing\n",
      "15:42:30 - cmdstanpy - INFO - Chain [1] done processing\n",
      "Tuning cs subdisciplines:  40%|███████▌           | 16/40 [04:00<05:08, 12.87s/it, Processing cs.GL]"
     ]
    },
    {
     "name": "stdout",
     "output_type": "stream",
     "text": [
      "\n",
      "Best Parameters:\n",
      "changepoint_prior_scale    0.500000\n",
      "seasonality_prior_scale    1.000000\n",
      "rmse                       3.820308\n",
      "Name: 4, dtype: float64\n"
     ]
    },
    {
     "name": "stderr",
     "output_type": "stream",
     "text": [
      "15:42:30 - cmdstanpy - INFO - Chain [1] start processing\n",
      "15:42:30 - cmdstanpy - INFO - Chain [1] done processing\n"
     ]
    },
    {
     "name": "stdout",
     "output_type": "stream",
     "text": [
      "Training with changepoint_prior_scale=0.01, seasonality_prior_scale=1.0\n"
     ]
    },
    {
     "data": {
      "application/vnd.jupyter.widget-view+json": {
       "model_id": "d4041b6aea594b039adc02f17dcdcac2",
       "version_major": 2,
       "version_minor": 0
      },
      "text/plain": [
       "  0%|          | 0/10 [00:00<?, ?it/s]"
      ]
     },
     "metadata": {},
     "output_type": "display_data"
    },
    {
     "name": "stderr",
     "output_type": "stream",
     "text": [
      "15:42:31 - cmdstanpy - INFO - Chain [1] start processing\n",
      "15:42:31 - cmdstanpy - INFO - Chain [1] done processing\n",
      "15:42:31 - cmdstanpy - INFO - Chain [1] start processing\n",
      "15:42:31 - cmdstanpy - INFO - Chain [1] done processing\n",
      "15:42:31 - cmdstanpy - INFO - Chain [1] start processing\n",
      "15:42:31 - cmdstanpy - INFO - Chain [1] done processing\n",
      "15:42:31 - cmdstanpy - INFO - Chain [1] start processing\n",
      "15:42:31 - cmdstanpy - INFO - Chain [1] done processing\n",
      "15:42:32 - cmdstanpy - INFO - Chain [1] start processing\n",
      "15:42:32 - cmdstanpy - INFO - Chain [1] done processing\n",
      "15:42:32 - cmdstanpy - INFO - Chain [1] start processing\n",
      "15:42:32 - cmdstanpy - INFO - Chain [1] done processing\n",
      "15:42:32 - cmdstanpy - INFO - Chain [1] start processing\n",
      "15:42:32 - cmdstanpy - INFO - Chain [1] done processing\n",
      "15:42:32 - cmdstanpy - INFO - Chain [1] start processing\n",
      "15:42:32 - cmdstanpy - INFO - Chain [1] done processing\n",
      "15:42:32 - cmdstanpy - INFO - Chain [1] start processing\n",
      "15:42:32 - cmdstanpy - INFO - Chain [1] done processing\n",
      "15:42:32 - cmdstanpy - INFO - Chain [1] start processing\n",
      "15:42:32 - cmdstanpy - INFO - Chain [1] done processing\n",
      "15:42:32 - cmdstanpy - INFO - Chain [1] start processing\n",
      "15:42:32 - cmdstanpy - INFO - Chain [1] done processing\n"
     ]
    },
    {
     "name": "stdout",
     "output_type": "stream",
     "text": [
      "Training with changepoint_prior_scale=0.01, seasonality_prior_scale=10.0\n"
     ]
    },
    {
     "data": {
      "application/vnd.jupyter.widget-view+json": {
       "model_id": "521a3b08054b42d68c48476c04328de5",
       "version_major": 2,
       "version_minor": 0
      },
      "text/plain": [
       "  0%|          | 0/10 [00:00<?, ?it/s]"
      ]
     },
     "metadata": {},
     "output_type": "display_data"
    },
    {
     "name": "stderr",
     "output_type": "stream",
     "text": [
      "15:42:32 - cmdstanpy - INFO - Chain [1] start processing\n",
      "15:42:32 - cmdstanpy - INFO - Chain [1] done processing\n",
      "15:42:33 - cmdstanpy - INFO - Chain [1] start processing\n",
      "15:42:33 - cmdstanpy - INFO - Chain [1] done processing\n",
      "15:42:33 - cmdstanpy - INFO - Chain [1] start processing\n",
      "15:42:33 - cmdstanpy - INFO - Chain [1] done processing\n",
      "15:42:33 - cmdstanpy - INFO - Chain [1] start processing\n",
      "15:42:33 - cmdstanpy - INFO - Chain [1] done processing\n",
      "15:42:33 - cmdstanpy - INFO - Chain [1] start processing\n",
      "15:42:33 - cmdstanpy - INFO - Chain [1] done processing\n",
      "15:42:34 - cmdstanpy - INFO - Chain [1] start processing\n",
      "15:42:34 - cmdstanpy - INFO - Chain [1] done processing\n",
      "15:42:34 - cmdstanpy - INFO - Chain [1] start processing\n",
      "15:42:34 - cmdstanpy - INFO - Chain [1] done processing\n",
      "15:42:34 - cmdstanpy - INFO - Chain [1] start processing\n",
      "15:42:34 - cmdstanpy - INFO - Chain [1] done processing\n",
      "15:42:34 - cmdstanpy - INFO - Chain [1] start processing\n",
      "15:42:34 - cmdstanpy - INFO - Chain [1] done processing\n",
      "15:42:34 - cmdstanpy - INFO - Chain [1] start processing\n",
      "15:42:34 - cmdstanpy - INFO - Chain [1] done processing\n",
      "15:42:34 - cmdstanpy - INFO - Chain [1] start processing\n",
      "15:42:34 - cmdstanpy - INFO - Chain [1] done processing\n"
     ]
    },
    {
     "name": "stdout",
     "output_type": "stream",
     "text": [
      "Training with changepoint_prior_scale=0.1, seasonality_prior_scale=1.0\n"
     ]
    },
    {
     "data": {
      "application/vnd.jupyter.widget-view+json": {
       "model_id": "d7ca13e29175419ba47ea8ea403fd40a",
       "version_major": 2,
       "version_minor": 0
      },
      "text/plain": [
       "  0%|          | 0/10 [00:00<?, ?it/s]"
      ]
     },
     "metadata": {},
     "output_type": "display_data"
    },
    {
     "name": "stderr",
     "output_type": "stream",
     "text": [
      "15:42:34 - cmdstanpy - INFO - Chain [1] start processing\n",
      "15:42:34 - cmdstanpy - INFO - Chain [1] done processing\n",
      "15:42:35 - cmdstanpy - INFO - Chain [1] start processing\n",
      "15:42:35 - cmdstanpy - INFO - Chain [1] done processing\n",
      "15:42:35 - cmdstanpy - INFO - Chain [1] start processing\n",
      "15:42:35 - cmdstanpy - INFO - Chain [1] done processing\n",
      "15:42:35 - cmdstanpy - INFO - Chain [1] start processing\n",
      "15:42:36 - cmdstanpy - INFO - Chain [1] done processing\n",
      "15:42:36 - cmdstanpy - INFO - Chain [1] start processing\n",
      "15:42:36 - cmdstanpy - INFO - Chain [1] done processing\n",
      "15:42:36 - cmdstanpy - INFO - Chain [1] start processing\n",
      "15:42:36 - cmdstanpy - INFO - Chain [1] done processing\n",
      "15:42:36 - cmdstanpy - INFO - Chain [1] start processing\n",
      "15:42:36 - cmdstanpy - INFO - Chain [1] done processing\n",
      "15:42:36 - cmdstanpy - INFO - Chain [1] start processing\n",
      "15:42:36 - cmdstanpy - INFO - Chain [1] done processing\n",
      "15:42:36 - cmdstanpy - INFO - Chain [1] start processing\n",
      "15:42:36 - cmdstanpy - INFO - Chain [1] done processing\n",
      "15:42:36 - cmdstanpy - INFO - Chain [1] start processing\n",
      "15:42:36 - cmdstanpy - INFO - Chain [1] done processing\n",
      "15:42:37 - cmdstanpy - INFO - Chain [1] start processing\n",
      "15:42:37 - cmdstanpy - INFO - Chain [1] done processing\n"
     ]
    },
    {
     "name": "stdout",
     "output_type": "stream",
     "text": [
      "Training with changepoint_prior_scale=0.1, seasonality_prior_scale=10.0\n"
     ]
    },
    {
     "data": {
      "application/vnd.jupyter.widget-view+json": {
       "model_id": "a4013b7aba6a40dcbb0f3a9788eaadae",
       "version_major": 2,
       "version_minor": 0
      },
      "text/plain": [
       "  0%|          | 0/10 [00:00<?, ?it/s]"
      ]
     },
     "metadata": {},
     "output_type": "display_data"
    },
    {
     "name": "stderr",
     "output_type": "stream",
     "text": [
      "15:42:37 - cmdstanpy - INFO - Chain [1] start processing\n",
      "15:42:37 - cmdstanpy - INFO - Chain [1] done processing\n",
      "15:42:37 - cmdstanpy - INFO - Chain [1] start processing\n",
      "15:42:37 - cmdstanpy - INFO - Chain [1] done processing\n",
      "15:42:37 - cmdstanpy - INFO - Chain [1] start processing\n",
      "15:42:38 - cmdstanpy - INFO - Chain [1] done processing\n",
      "15:42:38 - cmdstanpy - INFO - Chain [1] start processing\n",
      "15:42:39 - cmdstanpy - INFO - Chain [1] done processing\n",
      "15:42:39 - cmdstanpy - INFO - Chain [1] start processing\n",
      "15:42:39 - cmdstanpy - INFO - Chain [1] done processing\n",
      "15:42:39 - cmdstanpy - INFO - Chain [1] start processing\n",
      "15:42:39 - cmdstanpy - INFO - Chain [1] done processing\n",
      "15:42:39 - cmdstanpy - INFO - Chain [1] start processing\n",
      "15:42:39 - cmdstanpy - INFO - Chain [1] done processing\n",
      "15:42:39 - cmdstanpy - INFO - Chain [1] start processing\n",
      "15:42:39 - cmdstanpy - INFO - Chain [1] done processing\n",
      "15:42:39 - cmdstanpy - INFO - Chain [1] start processing\n",
      "15:42:39 - cmdstanpy - INFO - Chain [1] done processing\n",
      "15:42:39 - cmdstanpy - INFO - Chain [1] start processing\n",
      "15:42:39 - cmdstanpy - INFO - Chain [1] done processing\n",
      "15:42:39 - cmdstanpy - INFO - Chain [1] start processing\n",
      "15:42:39 - cmdstanpy - INFO - Chain [1] done processing\n"
     ]
    },
    {
     "name": "stdout",
     "output_type": "stream",
     "text": [
      "Training with changepoint_prior_scale=0.5, seasonality_prior_scale=1.0\n"
     ]
    },
    {
     "data": {
      "application/vnd.jupyter.widget-view+json": {
       "model_id": "5c7db0092511454ca97e1fee6c5d302b",
       "version_major": 2,
       "version_minor": 0
      },
      "text/plain": [
       "  0%|          | 0/10 [00:00<?, ?it/s]"
      ]
     },
     "metadata": {},
     "output_type": "display_data"
    },
    {
     "name": "stderr",
     "output_type": "stream",
     "text": [
      "15:42:39 - cmdstanpy - INFO - Chain [1] start processing\n",
      "15:42:40 - cmdstanpy - INFO - Chain [1] done processing\n",
      "15:42:40 - cmdstanpy - INFO - Chain [1] start processing\n",
      "15:42:40 - cmdstanpy - INFO - Chain [1] done processing\n",
      "15:42:40 - cmdstanpy - INFO - Chain [1] start processing\n",
      "15:42:40 - cmdstanpy - INFO - Chain [1] done processing\n",
      "15:42:40 - cmdstanpy - INFO - Chain [1] start processing\n",
      "15:42:41 - cmdstanpy - INFO - Chain [1] done processing\n",
      "15:42:42 - cmdstanpy - INFO - Chain [1] start processing\n",
      "15:42:42 - cmdstanpy - INFO - Chain [1] done processing\n",
      "15:42:42 - cmdstanpy - INFO - Chain [1] start processing\n",
      "15:42:42 - cmdstanpy - INFO - Chain [1] done processing\n",
      "15:42:42 - cmdstanpy - INFO - Chain [1] start processing\n",
      "15:42:42 - cmdstanpy - INFO - Chain [1] done processing\n",
      "15:42:42 - cmdstanpy - INFO - Chain [1] start processing\n",
      "15:42:42 - cmdstanpy - INFO - Chain [1] done processing\n",
      "15:42:42 - cmdstanpy - INFO - Chain [1] start processing\n",
      "15:42:42 - cmdstanpy - INFO - Chain [1] done processing\n",
      "15:42:42 - cmdstanpy - INFO - Chain [1] start processing\n",
      "15:42:42 - cmdstanpy - INFO - Chain [1] done processing\n",
      "15:42:42 - cmdstanpy - INFO - Chain [1] start processing\n",
      "15:42:42 - cmdstanpy - INFO - Chain [1] done processing\n"
     ]
    },
    {
     "name": "stdout",
     "output_type": "stream",
     "text": [
      "Training with changepoint_prior_scale=0.5, seasonality_prior_scale=10.0\n"
     ]
    },
    {
     "data": {
      "application/vnd.jupyter.widget-view+json": {
       "model_id": "5510b8868f344a619500edd01b81ad52",
       "version_major": 2,
       "version_minor": 0
      },
      "text/plain": [
       "  0%|          | 0/10 [00:00<?, ?it/s]"
      ]
     },
     "metadata": {},
     "output_type": "display_data"
    },
    {
     "name": "stderr",
     "output_type": "stream",
     "text": [
      "15:42:42 - cmdstanpy - INFO - Chain [1] start processing\n",
      "15:42:42 - cmdstanpy - INFO - Chain [1] done processing\n",
      "15:42:42 - cmdstanpy - INFO - Chain [1] start processing\n",
      "15:42:43 - cmdstanpy - INFO - Chain [1] done processing\n",
      "15:42:43 - cmdstanpy - INFO - Chain [1] start processing\n",
      "15:42:44 - cmdstanpy - INFO - Chain [1] done processing\n",
      "15:42:44 - cmdstanpy - INFO - Chain [1] start processing\n",
      "15:42:45 - cmdstanpy - INFO - Chain [1] done processing\n",
      "15:42:45 - cmdstanpy - INFO - Chain [1] start processing\n",
      "15:42:45 - cmdstanpy - INFO - Chain [1] done processing\n",
      "15:42:45 - cmdstanpy - INFO - Chain [1] start processing\n",
      "15:42:45 - cmdstanpy - INFO - Chain [1] done processing\n",
      "15:42:45 - cmdstanpy - INFO - Chain [1] start processing\n",
      "15:42:45 - cmdstanpy - INFO - Chain [1] done processing\n",
      "15:42:45 - cmdstanpy - INFO - Chain [1] start processing\n",
      "15:42:45 - cmdstanpy - INFO - Chain [1] done processing\n",
      "15:42:45 - cmdstanpy - INFO - Chain [1] start processing\n",
      "15:42:45 - cmdstanpy - INFO - Chain [1] done processing\n",
      "15:42:45 - cmdstanpy - INFO - Chain [1] start processing\n",
      "15:42:45 - cmdstanpy - INFO - Chain [1] done processing\n",
      "Tuning cs subdisciplines:  42%|████████           | 17/40 [04:15<05:10, 13.50s/it, Processing cs.GR]"
     ]
    },
    {
     "name": "stdout",
     "output_type": "stream",
     "text": [
      "\n",
      "Best Parameters:\n",
      "changepoint_prior_scale    0.100000\n",
      "seasonality_prior_scale    1.000000\n",
      "rmse                       0.478342\n",
      "Name: 2, dtype: float64\n"
     ]
    },
    {
     "name": "stderr",
     "output_type": "stream",
     "text": [
      "15:42:46 - cmdstanpy - INFO - Chain [1] start processing\n",
      "15:42:46 - cmdstanpy - INFO - Chain [1] done processing\n"
     ]
    },
    {
     "name": "stdout",
     "output_type": "stream",
     "text": [
      "Training with changepoint_prior_scale=0.01, seasonality_prior_scale=1.0\n"
     ]
    },
    {
     "data": {
      "application/vnd.jupyter.widget-view+json": {
       "model_id": "ab46661b2aa74d6f808f42c16b247e9c",
       "version_major": 2,
       "version_minor": 0
      },
      "text/plain": [
       "  0%|          | 0/10 [00:00<?, ?it/s]"
      ]
     },
     "metadata": {},
     "output_type": "display_data"
    },
    {
     "name": "stderr",
     "output_type": "stream",
     "text": [
      "15:42:46 - cmdstanpy - INFO - Chain [1] start processing\n",
      "15:42:46 - cmdstanpy - INFO - Chain [1] done processing\n",
      "15:42:46 - cmdstanpy - INFO - Chain [1] start processing\n",
      "15:42:46 - cmdstanpy - INFO - Chain [1] done processing\n",
      "15:42:46 - cmdstanpy - INFO - Chain [1] start processing\n",
      "15:42:46 - cmdstanpy - INFO - Chain [1] done processing\n",
      "15:42:46 - cmdstanpy - INFO - Chain [1] start processing\n",
      "15:42:46 - cmdstanpy - INFO - Chain [1] done processing\n",
      "15:42:46 - cmdstanpy - INFO - Chain [1] start processing\n",
      "15:42:46 - cmdstanpy - INFO - Chain [1] done processing\n",
      "15:42:47 - cmdstanpy - INFO - Chain [1] start processing\n",
      "15:42:47 - cmdstanpy - INFO - Chain [1] done processing\n",
      "15:42:47 - cmdstanpy - INFO - Chain [1] start processing\n",
      "15:42:47 - cmdstanpy - INFO - Chain [1] done processing\n",
      "15:42:47 - cmdstanpy - INFO - Chain [1] start processing\n",
      "15:42:47 - cmdstanpy - INFO - Chain [1] done processing\n",
      "15:42:47 - cmdstanpy - INFO - Chain [1] start processing\n",
      "15:42:47 - cmdstanpy - INFO - Chain [1] done processing\n",
      "15:42:47 - cmdstanpy - INFO - Chain [1] start processing\n",
      "15:42:47 - cmdstanpy - INFO - Chain [1] done processing\n",
      "15:42:48 - cmdstanpy - INFO - Chain [1] start processing\n",
      "15:42:48 - cmdstanpy - INFO - Chain [1] done processing\n"
     ]
    },
    {
     "name": "stdout",
     "output_type": "stream",
     "text": [
      "Training with changepoint_prior_scale=0.01, seasonality_prior_scale=10.0\n"
     ]
    },
    {
     "data": {
      "application/vnd.jupyter.widget-view+json": {
       "model_id": "9227482650404c46aef6970cd9f10fae",
       "version_major": 2,
       "version_minor": 0
      },
      "text/plain": [
       "  0%|          | 0/10 [00:00<?, ?it/s]"
      ]
     },
     "metadata": {},
     "output_type": "display_data"
    },
    {
     "name": "stderr",
     "output_type": "stream",
     "text": [
      "15:42:48 - cmdstanpy - INFO - Chain [1] start processing\n",
      "15:42:48 - cmdstanpy - INFO - Chain [1] done processing\n",
      "15:42:48 - cmdstanpy - INFO - Chain [1] start processing\n",
      "15:42:48 - cmdstanpy - INFO - Chain [1] done processing\n",
      "15:42:48 - cmdstanpy - INFO - Chain [1] start processing\n",
      "15:42:48 - cmdstanpy - INFO - Chain [1] done processing\n",
      "15:42:48 - cmdstanpy - INFO - Chain [1] start processing\n",
      "15:42:48 - cmdstanpy - INFO - Chain [1] done processing\n",
      "15:42:48 - cmdstanpy - INFO - Chain [1] start processing\n",
      "15:42:48 - cmdstanpy - INFO - Chain [1] done processing\n",
      "15:42:48 - cmdstanpy - INFO - Chain [1] start processing\n",
      "15:42:48 - cmdstanpy - INFO - Chain [1] done processing\n",
      "15:42:49 - cmdstanpy - INFO - Chain [1] start processing\n",
      "15:42:49 - cmdstanpy - INFO - Chain [1] done processing\n",
      "15:42:49 - cmdstanpy - INFO - Chain [1] start processing\n",
      "15:42:49 - cmdstanpy - INFO - Chain [1] done processing\n",
      "15:42:49 - cmdstanpy - INFO - Chain [1] start processing\n",
      "15:42:49 - cmdstanpy - INFO - Chain [1] done processing\n",
      "15:42:49 - cmdstanpy - INFO - Chain [1] start processing\n",
      "15:42:49 - cmdstanpy - INFO - Chain [1] done processing\n",
      "15:42:49 - cmdstanpy - INFO - Chain [1] start processing\n",
      "15:42:50 - cmdstanpy - INFO - Chain [1] done processing\n"
     ]
    },
    {
     "name": "stdout",
     "output_type": "stream",
     "text": [
      "Training with changepoint_prior_scale=0.1, seasonality_prior_scale=1.0\n"
     ]
    },
    {
     "data": {
      "application/vnd.jupyter.widget-view+json": {
       "model_id": "2d6ddf57eccc491d8e400bb228fc0891",
       "version_major": 2,
       "version_minor": 0
      },
      "text/plain": [
       "  0%|          | 0/10 [00:00<?, ?it/s]"
      ]
     },
     "metadata": {},
     "output_type": "display_data"
    },
    {
     "name": "stderr",
     "output_type": "stream",
     "text": [
      "15:42:50 - cmdstanpy - INFO - Chain [1] start processing\n",
      "15:42:50 - cmdstanpy - INFO - Chain [1] done processing\n",
      "15:42:50 - cmdstanpy - INFO - Chain [1] start processing\n",
      "15:42:50 - cmdstanpy - INFO - Chain [1] done processing\n",
      "15:42:50 - cmdstanpy - INFO - Chain [1] start processing\n",
      "15:42:50 - cmdstanpy - INFO - Chain [1] done processing\n",
      "15:42:50 - cmdstanpy - INFO - Chain [1] start processing\n",
      "15:42:50 - cmdstanpy - INFO - Chain [1] done processing\n",
      "15:42:50 - cmdstanpy - INFO - Chain [1] start processing\n",
      "15:42:50 - cmdstanpy - INFO - Chain [1] done processing\n",
      "15:42:50 - cmdstanpy - INFO - Chain [1] start processing\n",
      "15:42:50 - cmdstanpy - INFO - Chain [1] done processing\n",
      "15:42:50 - cmdstanpy - INFO - Chain [1] start processing\n",
      "15:42:51 - cmdstanpy - INFO - Chain [1] done processing\n",
      "15:42:51 - cmdstanpy - INFO - Chain [1] start processing\n",
      "15:42:51 - cmdstanpy - INFO - Chain [1] done processing\n",
      "15:42:51 - cmdstanpy - INFO - Chain [1] start processing\n",
      "15:42:51 - cmdstanpy - INFO - Chain [1] done processing\n",
      "15:42:51 - cmdstanpy - INFO - Chain [1] start processing\n",
      "15:42:51 - cmdstanpy - INFO - Chain [1] done processing\n",
      "15:42:51 - cmdstanpy - INFO - Chain [1] start processing\n",
      "15:42:51 - cmdstanpy - INFO - Chain [1] done processing\n"
     ]
    },
    {
     "name": "stdout",
     "output_type": "stream",
     "text": [
      "Training with changepoint_prior_scale=0.1, seasonality_prior_scale=10.0\n"
     ]
    },
    {
     "data": {
      "application/vnd.jupyter.widget-view+json": {
       "model_id": "3f93dcb9540840289d5f3b5b2ee89e48",
       "version_major": 2,
       "version_minor": 0
      },
      "text/plain": [
       "  0%|          | 0/10 [00:00<?, ?it/s]"
      ]
     },
     "metadata": {},
     "output_type": "display_data"
    },
    {
     "name": "stderr",
     "output_type": "stream",
     "text": [
      "15:42:52 - cmdstanpy - INFO - Chain [1] start processing\n",
      "15:42:52 - cmdstanpy - INFO - Chain [1] done processing\n",
      "15:42:52 - cmdstanpy - INFO - Chain [1] start processing\n",
      "15:42:52 - cmdstanpy - INFO - Chain [1] done processing\n",
      "15:42:52 - cmdstanpy - INFO - Chain [1] start processing\n",
      "15:42:52 - cmdstanpy - INFO - Chain [1] done processing\n",
      "15:42:52 - cmdstanpy - INFO - Chain [1] start processing\n",
      "15:42:52 - cmdstanpy - INFO - Chain [1] done processing\n",
      "15:42:52 - cmdstanpy - INFO - Chain [1] start processing\n",
      "15:42:52 - cmdstanpy - INFO - Chain [1] done processing\n",
      "15:42:52 - cmdstanpy - INFO - Chain [1] start processing\n",
      "15:42:52 - cmdstanpy - INFO - Chain [1] done processing\n",
      "15:42:52 - cmdstanpy - INFO - Chain [1] start processing\n",
      "15:42:52 - cmdstanpy - INFO - Chain [1] done processing\n",
      "15:42:53 - cmdstanpy - INFO - Chain [1] start processing\n",
      "15:42:53 - cmdstanpy - INFO - Chain [1] done processing\n",
      "15:42:53 - cmdstanpy - INFO - Chain [1] start processing\n",
      "15:42:53 - cmdstanpy - INFO - Chain [1] done processing\n",
      "15:42:53 - cmdstanpy - INFO - Chain [1] start processing\n",
      "15:42:53 - cmdstanpy - INFO - Chain [1] done processing\n",
      "15:42:53 - cmdstanpy - INFO - Chain [1] start processing\n"
     ]
    },
    {
     "name": "stdout",
     "output_type": "stream",
     "text": [
      "Training with changepoint_prior_scale=0.5, seasonality_prior_scale=1.0\n"
     ]
    },
    {
     "name": "stderr",
     "output_type": "stream",
     "text": [
      "15:42:53 - cmdstanpy - INFO - Chain [1] done processing\n"
     ]
    },
    {
     "data": {
      "application/vnd.jupyter.widget-view+json": {
       "model_id": "c3e605e695ca45e592b9574ec238de4b",
       "version_major": 2,
       "version_minor": 0
      },
      "text/plain": [
       "  0%|          | 0/10 [00:00<?, ?it/s]"
      ]
     },
     "metadata": {},
     "output_type": "display_data"
    },
    {
     "name": "stderr",
     "output_type": "stream",
     "text": [
      "15:42:54 - cmdstanpy - INFO - Chain [1] start processing\n",
      "15:42:54 - cmdstanpy - INFO - Chain [1] done processing\n",
      "15:42:54 - cmdstanpy - INFO - Chain [1] start processing\n",
      "15:42:54 - cmdstanpy - INFO - Chain [1] done processing\n",
      "15:42:54 - cmdstanpy - INFO - Chain [1] start processing\n",
      "15:42:54 - cmdstanpy - INFO - Chain [1] done processing\n",
      "15:42:54 - cmdstanpy - INFO - Chain [1] start processing\n",
      "15:42:54 - cmdstanpy - INFO - Chain [1] done processing\n",
      "15:42:54 - cmdstanpy - INFO - Chain [1] start processing\n",
      "15:42:54 - cmdstanpy - INFO - Chain [1] done processing\n",
      "15:42:54 - cmdstanpy - INFO - Chain [1] start processing\n",
      "15:42:55 - cmdstanpy - INFO - Chain [1] done processing\n",
      "15:42:55 - cmdstanpy - INFO - Chain [1] start processing\n",
      "15:42:55 - cmdstanpy - INFO - Chain [1] done processing\n",
      "15:42:55 - cmdstanpy - INFO - Chain [1] start processing\n",
      "15:42:55 - cmdstanpy - INFO - Chain [1] done processing\n",
      "15:42:55 - cmdstanpy - INFO - Chain [1] start processing\n",
      "15:42:55 - cmdstanpy - INFO - Chain [1] done processing\n",
      "15:42:55 - cmdstanpy - INFO - Chain [1] start processing\n",
      "15:42:55 - cmdstanpy - INFO - Chain [1] done processing\n",
      "15:42:55 - cmdstanpy - INFO - Chain [1] start processing\n"
     ]
    },
    {
     "name": "stdout",
     "output_type": "stream",
     "text": [
      "Training with changepoint_prior_scale=0.5, seasonality_prior_scale=10.0\n"
     ]
    },
    {
     "name": "stderr",
     "output_type": "stream",
     "text": [
      "15:42:56 - cmdstanpy - INFO - Chain [1] done processing\n"
     ]
    },
    {
     "data": {
      "application/vnd.jupyter.widget-view+json": {
       "model_id": "7d91b5d5ff45410bb9434c8adcff6763",
       "version_major": 2,
       "version_minor": 0
      },
      "text/plain": [
       "  0%|          | 0/10 [00:00<?, ?it/s]"
      ]
     },
     "metadata": {},
     "output_type": "display_data"
    },
    {
     "name": "stderr",
     "output_type": "stream",
     "text": [
      "15:42:56 - cmdstanpy - INFO - Chain [1] start processing\n",
      "15:42:56 - cmdstanpy - INFO - Chain [1] done processing\n",
      "15:42:56 - cmdstanpy - INFO - Chain [1] start processing\n",
      "15:42:56 - cmdstanpy - INFO - Chain [1] done processing\n",
      "15:42:56 - cmdstanpy - INFO - Chain [1] start processing\n",
      "15:42:56 - cmdstanpy - INFO - Chain [1] done processing\n",
      "15:42:56 - cmdstanpy - INFO - Chain [1] start processing\n",
      "15:42:56 - cmdstanpy - INFO - Chain [1] done processing\n",
      "15:42:56 - cmdstanpy - INFO - Chain [1] start processing\n",
      "15:42:56 - cmdstanpy - INFO - Chain [1] done processing\n",
      "15:42:57 - cmdstanpy - INFO - Chain [1] start processing\n",
      "15:42:57 - cmdstanpy - INFO - Chain [1] done processing\n",
      "15:42:57 - cmdstanpy - INFO - Chain [1] start processing\n",
      "15:42:57 - cmdstanpy - INFO - Chain [1] done processing\n",
      "15:42:57 - cmdstanpy - INFO - Chain [1] start processing\n",
      "15:42:57 - cmdstanpy - INFO - Chain [1] done processing\n",
      "15:42:57 - cmdstanpy - INFO - Chain [1] start processing\n",
      "15:42:57 - cmdstanpy - INFO - Chain [1] done processing\n",
      "15:42:57 - cmdstanpy - INFO - Chain [1] start processing\n",
      "15:42:57 - cmdstanpy - INFO - Chain [1] done processing\n",
      "Tuning cs subdisciplines:  45%|████████▌          | 18/40 [04:27<04:48, 13.13s/it, Processing cs.GT]"
     ]
    },
    {
     "name": "stdout",
     "output_type": "stream",
     "text": [
      "\n",
      "Best Parameters:\n",
      "changepoint_prior_scale    0.100000\n",
      "seasonality_prior_scale    1.000000\n",
      "rmse                       8.862509\n",
      "Name: 2, dtype: float64\n"
     ]
    },
    {
     "name": "stderr",
     "output_type": "stream",
     "text": [
      "15:42:58 - cmdstanpy - INFO - Chain [1] start processing\n",
      "15:42:58 - cmdstanpy - INFO - Chain [1] done processing\n"
     ]
    },
    {
     "name": "stdout",
     "output_type": "stream",
     "text": [
      "Training with changepoint_prior_scale=0.01, seasonality_prior_scale=1.0\n"
     ]
    },
    {
     "data": {
      "application/vnd.jupyter.widget-view+json": {
       "model_id": "7deca28ee0f845be9999227d91e7a05e",
       "version_major": 2,
       "version_minor": 0
      },
      "text/plain": [
       "  0%|          | 0/11 [00:00<?, ?it/s]"
      ]
     },
     "metadata": {},
     "output_type": "display_data"
    },
    {
     "name": "stderr",
     "output_type": "stream",
     "text": [
      "15:42:58 - cmdstanpy - INFO - Chain [1] start processing\n",
      "15:42:58 - cmdstanpy - INFO - Chain [1] done processing\n",
      "15:42:58 - cmdstanpy - INFO - Chain [1] start processing\n",
      "15:42:58 - cmdstanpy - INFO - Chain [1] done processing\n",
      "15:42:58 - cmdstanpy - INFO - Chain [1] start processing\n",
      "15:42:58 - cmdstanpy - INFO - Chain [1] done processing\n",
      "15:42:58 - cmdstanpy - INFO - Chain [1] start processing\n",
      "15:42:58 - cmdstanpy - INFO - Chain [1] done processing\n",
      "15:42:59 - cmdstanpy - INFO - Chain [1] start processing\n",
      "15:42:59 - cmdstanpy - INFO - Chain [1] done processing\n",
      "15:42:59 - cmdstanpy - INFO - Chain [1] start processing\n",
      "15:42:59 - cmdstanpy - INFO - Chain [1] done processing\n",
      "15:42:59 - cmdstanpy - INFO - Chain [1] start processing\n",
      "15:42:59 - cmdstanpy - INFO - Chain [1] done processing\n",
      "15:42:59 - cmdstanpy - INFO - Chain [1] start processing\n",
      "15:42:59 - cmdstanpy - INFO - Chain [1] done processing\n",
      "15:42:59 - cmdstanpy - INFO - Chain [1] start processing\n",
      "15:42:59 - cmdstanpy - INFO - Chain [1] done processing\n",
      "15:42:59 - cmdstanpy - INFO - Chain [1] start processing\n",
      "15:42:59 - cmdstanpy - INFO - Chain [1] done processing\n",
      "15:43:00 - cmdstanpy - INFO - Chain [1] start processing\n",
      "15:43:00 - cmdstanpy - INFO - Chain [1] done processing\n",
      "15:43:00 - cmdstanpy - INFO - Chain [1] start processing\n",
      "15:43:00 - cmdstanpy - INFO - Chain [1] done processing\n"
     ]
    },
    {
     "name": "stdout",
     "output_type": "stream",
     "text": [
      "Training with changepoint_prior_scale=0.01, seasonality_prior_scale=10.0\n"
     ]
    },
    {
     "data": {
      "application/vnd.jupyter.widget-view+json": {
       "model_id": "a5862a079d674c03b0e8bb6a8616ad07",
       "version_major": 2,
       "version_minor": 0
      },
      "text/plain": [
       "  0%|          | 0/11 [00:00<?, ?it/s]"
      ]
     },
     "metadata": {},
     "output_type": "display_data"
    },
    {
     "name": "stderr",
     "output_type": "stream",
     "text": [
      "15:43:00 - cmdstanpy - INFO - Chain [1] start processing\n",
      "15:43:00 - cmdstanpy - INFO - Chain [1] done processing\n",
      "15:43:00 - cmdstanpy - INFO - Chain [1] start processing\n",
      "15:43:00 - cmdstanpy - INFO - Chain [1] done processing\n",
      "15:43:00 - cmdstanpy - INFO - Chain [1] start processing\n",
      "15:43:00 - cmdstanpy - INFO - Chain [1] done processing\n",
      "15:43:01 - cmdstanpy - INFO - Chain [1] start processing\n",
      "15:43:01 - cmdstanpy - INFO - Chain [1] done processing\n",
      "15:43:01 - cmdstanpy - INFO - Chain [1] start processing\n",
      "15:43:01 - cmdstanpy - INFO - Chain [1] done processing\n",
      "15:43:01 - cmdstanpy - INFO - Chain [1] start processing\n",
      "15:43:01 - cmdstanpy - INFO - Chain [1] done processing\n",
      "15:43:01 - cmdstanpy - INFO - Chain [1] start processing\n",
      "15:43:01 - cmdstanpy - INFO - Chain [1] done processing\n",
      "15:43:01 - cmdstanpy - INFO - Chain [1] start processing\n",
      "15:43:01 - cmdstanpy - INFO - Chain [1] done processing\n",
      "15:43:01 - cmdstanpy - INFO - Chain [1] start processing\n",
      "15:43:01 - cmdstanpy - INFO - Chain [1] done processing\n",
      "15:43:02 - cmdstanpy - INFO - Chain [1] start processing\n",
      "15:43:02 - cmdstanpy - INFO - Chain [1] done processing\n",
      "15:43:02 - cmdstanpy - INFO - Chain [1] start processing\n",
      "15:43:02 - cmdstanpy - INFO - Chain [1] done processing\n",
      "15:43:02 - cmdstanpy - INFO - Chain [1] start processing\n",
      "15:43:02 - cmdstanpy - INFO - Chain [1] done processing\n"
     ]
    },
    {
     "name": "stdout",
     "output_type": "stream",
     "text": [
      "Training with changepoint_prior_scale=0.1, seasonality_prior_scale=1.0\n"
     ]
    },
    {
     "data": {
      "application/vnd.jupyter.widget-view+json": {
       "model_id": "dd314eec34844bcda9a5d30f2259b1fc",
       "version_major": 2,
       "version_minor": 0
      },
      "text/plain": [
       "  0%|          | 0/11 [00:00<?, ?it/s]"
      ]
     },
     "metadata": {},
     "output_type": "display_data"
    },
    {
     "name": "stderr",
     "output_type": "stream",
     "text": [
      "15:43:02 - cmdstanpy - INFO - Chain [1] start processing\n",
      "15:43:02 - cmdstanpy - INFO - Chain [1] done processing\n",
      "15:43:02 - cmdstanpy - INFO - Chain [1] start processing\n",
      "15:43:02 - cmdstanpy - INFO - Chain [1] done processing\n",
      "15:43:03 - cmdstanpy - INFO - Chain [1] start processing\n",
      "15:43:03 - cmdstanpy - INFO - Chain [1] done processing\n",
      "15:43:03 - cmdstanpy - INFO - Chain [1] start processing\n",
      "15:43:03 - cmdstanpy - INFO - Chain [1] done processing\n",
      "15:43:03 - cmdstanpy - INFO - Chain [1] start processing\n",
      "15:43:03 - cmdstanpy - INFO - Chain [1] done processing\n",
      "15:43:03 - cmdstanpy - INFO - Chain [1] start processing\n",
      "15:43:03 - cmdstanpy - INFO - Chain [1] done processing\n",
      "15:43:03 - cmdstanpy - INFO - Chain [1] start processing\n",
      "15:43:03 - cmdstanpy - INFO - Chain [1] done processing\n",
      "15:43:03 - cmdstanpy - INFO - Chain [1] start processing\n",
      "15:43:03 - cmdstanpy - INFO - Chain [1] done processing\n",
      "15:43:03 - cmdstanpy - INFO - Chain [1] start processing\n",
      "15:43:04 - cmdstanpy - INFO - Chain [1] done processing\n",
      "15:43:04 - cmdstanpy - INFO - Chain [1] start processing\n",
      "15:43:04 - cmdstanpy - INFO - Chain [1] done processing\n",
      "15:43:04 - cmdstanpy - INFO - Chain [1] start processing\n",
      "15:43:04 - cmdstanpy - INFO - Chain [1] done processing\n",
      "15:43:04 - cmdstanpy - INFO - Chain [1] start processing\n",
      "15:43:04 - cmdstanpy - INFO - Chain [1] done processing\n"
     ]
    },
    {
     "name": "stdout",
     "output_type": "stream",
     "text": [
      "Training with changepoint_prior_scale=0.1, seasonality_prior_scale=10.0\n"
     ]
    },
    {
     "data": {
      "application/vnd.jupyter.widget-view+json": {
       "model_id": "397e01f6b1b0446397126c7edca8d6c0",
       "version_major": 2,
       "version_minor": 0
      },
      "text/plain": [
       "  0%|          | 0/11 [00:00<?, ?it/s]"
      ]
     },
     "metadata": {},
     "output_type": "display_data"
    },
    {
     "name": "stderr",
     "output_type": "stream",
     "text": [
      "15:43:04 - cmdstanpy - INFO - Chain [1] start processing\n",
      "15:43:04 - cmdstanpy - INFO - Chain [1] done processing\n",
      "15:43:04 - cmdstanpy - INFO - Chain [1] start processing\n",
      "15:43:04 - cmdstanpy - INFO - Chain [1] done processing\n",
      "15:43:05 - cmdstanpy - INFO - Chain [1] start processing\n",
      "15:43:05 - cmdstanpy - INFO - Chain [1] done processing\n",
      "15:43:05 - cmdstanpy - INFO - Chain [1] start processing\n",
      "15:43:05 - cmdstanpy - INFO - Chain [1] done processing\n",
      "15:43:05 - cmdstanpy - INFO - Chain [1] start processing\n",
      "15:43:05 - cmdstanpy - INFO - Chain [1] done processing\n",
      "15:43:05 - cmdstanpy - INFO - Chain [1] start processing\n",
      "15:43:05 - cmdstanpy - INFO - Chain [1] done processing\n",
      "15:43:05 - cmdstanpy - INFO - Chain [1] start processing\n",
      "15:43:05 - cmdstanpy - INFO - Chain [1] done processing\n",
      "15:43:05 - cmdstanpy - INFO - Chain [1] start processing\n",
      "15:43:05 - cmdstanpy - INFO - Chain [1] done processing\n",
      "15:43:05 - cmdstanpy - INFO - Chain [1] start processing\n",
      "15:43:05 - cmdstanpy - INFO - Chain [1] done processing\n",
      "15:43:06 - cmdstanpy - INFO - Chain [1] start processing\n",
      "15:43:06 - cmdstanpy - INFO - Chain [1] done processing\n",
      "15:43:06 - cmdstanpy - INFO - Chain [1] start processing\n",
      "15:43:06 - cmdstanpy - INFO - Chain [1] done processing\n",
      "15:43:06 - cmdstanpy - INFO - Chain [1] start processing\n"
     ]
    },
    {
     "name": "stdout",
     "output_type": "stream",
     "text": [
      "Training with changepoint_prior_scale=0.5, seasonality_prior_scale=1.0\n"
     ]
    },
    {
     "name": "stderr",
     "output_type": "stream",
     "text": [
      "15:43:06 - cmdstanpy - INFO - Chain [1] done processing\n"
     ]
    },
    {
     "data": {
      "application/vnd.jupyter.widget-view+json": {
       "model_id": "f14364ddbc724fe1838af23fb6638c0d",
       "version_major": 2,
       "version_minor": 0
      },
      "text/plain": [
       "  0%|          | 0/11 [00:00<?, ?it/s]"
      ]
     },
     "metadata": {},
     "output_type": "display_data"
    },
    {
     "name": "stderr",
     "output_type": "stream",
     "text": [
      "15:43:06 - cmdstanpy - INFO - Chain [1] start processing\n",
      "15:43:07 - cmdstanpy - INFO - Chain [1] done processing\n",
      "15:43:07 - cmdstanpy - INFO - Chain [1] start processing\n",
      "15:43:07 - cmdstanpy - INFO - Chain [1] done processing\n",
      "15:43:07 - cmdstanpy - INFO - Chain [1] start processing\n",
      "15:43:07 - cmdstanpy - INFO - Chain [1] done processing\n",
      "15:43:07 - cmdstanpy - INFO - Chain [1] start processing\n",
      "15:43:07 - cmdstanpy - INFO - Chain [1] done processing\n",
      "15:43:07 - cmdstanpy - INFO - Chain [1] start processing\n",
      "15:43:07 - cmdstanpy - INFO - Chain [1] done processing\n",
      "15:43:07 - cmdstanpy - INFO - Chain [1] start processing\n",
      "15:43:07 - cmdstanpy - INFO - Chain [1] done processing\n",
      "15:43:08 - cmdstanpy - INFO - Chain [1] start processing\n",
      "15:43:08 - cmdstanpy - INFO - Chain [1] done processing\n",
      "15:43:08 - cmdstanpy - INFO - Chain [1] start processing\n",
      "15:43:08 - cmdstanpy - INFO - Chain [1] done processing\n",
      "15:43:08 - cmdstanpy - INFO - Chain [1] start processing\n",
      "15:43:08 - cmdstanpy - INFO - Chain [1] done processing\n",
      "15:43:08 - cmdstanpy - INFO - Chain [1] start processing\n",
      "15:43:08 - cmdstanpy - INFO - Chain [1] done processing\n",
      "15:43:08 - cmdstanpy - INFO - Chain [1] start processing\n",
      "15:43:09 - cmdstanpy - INFO - Chain [1] done processing\n",
      "15:43:09 - cmdstanpy - INFO - Chain [1] start processing\n"
     ]
    },
    {
     "name": "stdout",
     "output_type": "stream",
     "text": [
      "Training with changepoint_prior_scale=0.5, seasonality_prior_scale=10.0\n"
     ]
    },
    {
     "name": "stderr",
     "output_type": "stream",
     "text": [
      "15:43:10 - cmdstanpy - INFO - Chain [1] done processing\n"
     ]
    },
    {
     "data": {
      "application/vnd.jupyter.widget-view+json": {
       "model_id": "436c1605cf7547a3b4e6019cbb51d22d",
       "version_major": 2,
       "version_minor": 0
      },
      "text/plain": [
       "  0%|          | 0/11 [00:00<?, ?it/s]"
      ]
     },
     "metadata": {},
     "output_type": "display_data"
    },
    {
     "name": "stderr",
     "output_type": "stream",
     "text": [
      "15:43:10 - cmdstanpy - INFO - Chain [1] start processing\n",
      "15:43:10 - cmdstanpy - INFO - Chain [1] done processing\n",
      "15:43:10 - cmdstanpy - INFO - Chain [1] start processing\n",
      "15:43:10 - cmdstanpy - INFO - Chain [1] done processing\n",
      "15:43:10 - cmdstanpy - INFO - Chain [1] start processing\n",
      "15:43:10 - cmdstanpy - INFO - Chain [1] done processing\n",
      "15:43:10 - cmdstanpy - INFO - Chain [1] start processing\n",
      "15:43:10 - cmdstanpy - INFO - Chain [1] done processing\n",
      "15:43:10 - cmdstanpy - INFO - Chain [1] start processing\n",
      "15:43:10 - cmdstanpy - INFO - Chain [1] done processing\n",
      "15:43:11 - cmdstanpy - INFO - Chain [1] start processing\n",
      "15:43:11 - cmdstanpy - INFO - Chain [1] done processing\n",
      "15:43:11 - cmdstanpy - INFO - Chain [1] start processing\n",
      "15:43:11 - cmdstanpy - INFO - Chain [1] done processing\n",
      "15:43:11 - cmdstanpy - INFO - Chain [1] start processing\n",
      "15:43:11 - cmdstanpy - INFO - Chain [1] done processing\n",
      "15:43:11 - cmdstanpy - INFO - Chain [1] start processing\n",
      "15:43:11 - cmdstanpy - INFO - Chain [1] done processing\n",
      "15:43:11 - cmdstanpy - INFO - Chain [1] start processing\n",
      "15:43:11 - cmdstanpy - INFO - Chain [1] done processing\n",
      "15:43:12 - cmdstanpy - INFO - Chain [1] start processing\n",
      "15:43:12 - cmdstanpy - INFO - Chain [1] done processing\n",
      "Tuning cs subdisciplines:  48%|█████████          | 19/40 [04:41<04:44, 13.55s/it, Processing cs.HC]"
     ]
    },
    {
     "name": "stdout",
     "output_type": "stream",
     "text": [
      "\n",
      "Best Parameters:\n",
      "changepoint_prior_scale     0.100000\n",
      "seasonality_prior_scale    10.000000\n",
      "rmse                        9.029641\n",
      "Name: 3, dtype: float64\n"
     ]
    },
    {
     "name": "stderr",
     "output_type": "stream",
     "text": [
      "15:43:12 - cmdstanpy - INFO - Chain [1] start processing\n",
      "15:43:12 - cmdstanpy - INFO - Chain [1] done processing\n"
     ]
    },
    {
     "name": "stdout",
     "output_type": "stream",
     "text": [
      "Training with changepoint_prior_scale=0.01, seasonality_prior_scale=1.0\n"
     ]
    },
    {
     "data": {
      "application/vnd.jupyter.widget-view+json": {
       "model_id": "91a9f3ab56e1442493ec3176361b2f37",
       "version_major": 2,
       "version_minor": 0
      },
      "text/plain": [
       "  0%|          | 0/11 [00:00<?, ?it/s]"
      ]
     },
     "metadata": {},
     "output_type": "display_data"
    },
    {
     "name": "stderr",
     "output_type": "stream",
     "text": [
      "15:43:12 - cmdstanpy - INFO - Chain [1] start processing\n",
      "15:43:12 - cmdstanpy - INFO - Chain [1] done processing\n",
      "15:43:13 - cmdstanpy - INFO - Chain [1] start processing\n",
      "15:43:13 - cmdstanpy - INFO - Chain [1] done processing\n",
      "15:43:13 - cmdstanpy - INFO - Chain [1] start processing\n",
      "15:43:13 - cmdstanpy - INFO - Chain [1] done processing\n",
      "15:43:13 - cmdstanpy - INFO - Chain [1] start processing\n",
      "15:43:13 - cmdstanpy - INFO - Chain [1] done processing\n",
      "15:43:13 - cmdstanpy - INFO - Chain [1] start processing\n",
      "15:43:13 - cmdstanpy - INFO - Chain [1] done processing\n",
      "15:43:13 - cmdstanpy - INFO - Chain [1] start processing\n",
      "15:43:13 - cmdstanpy - INFO - Chain [1] done processing\n",
      "15:43:13 - cmdstanpy - INFO - Chain [1] start processing\n",
      "15:43:14 - cmdstanpy - INFO - Chain [1] done processing\n",
      "15:43:14 - cmdstanpy - INFO - Chain [1] start processing\n",
      "15:43:14 - cmdstanpy - INFO - Chain [1] done processing\n",
      "15:43:14 - cmdstanpy - INFO - Chain [1] start processing\n",
      "15:43:14 - cmdstanpy - INFO - Chain [1] done processing\n",
      "15:43:14 - cmdstanpy - INFO - Chain [1] start processing\n",
      "15:43:14 - cmdstanpy - INFO - Chain [1] done processing\n",
      "15:43:14 - cmdstanpy - INFO - Chain [1] start processing\n",
      "15:43:14 - cmdstanpy - INFO - Chain [1] done processing\n",
      "15:43:14 - cmdstanpy - INFO - Chain [1] start processing\n",
      "15:43:15 - cmdstanpy - INFO - Chain [1] done processing\n"
     ]
    },
    {
     "name": "stdout",
     "output_type": "stream",
     "text": [
      "Training with changepoint_prior_scale=0.01, seasonality_prior_scale=10.0\n"
     ]
    },
    {
     "data": {
      "application/vnd.jupyter.widget-view+json": {
       "model_id": "397f89923fae4ea1a31440d495c865bd",
       "version_major": 2,
       "version_minor": 0
      },
      "text/plain": [
       "  0%|          | 0/11 [00:00<?, ?it/s]"
      ]
     },
     "metadata": {},
     "output_type": "display_data"
    },
    {
     "name": "stderr",
     "output_type": "stream",
     "text": [
      "15:43:15 - cmdstanpy - INFO - Chain [1] start processing\n",
      "15:43:15 - cmdstanpy - INFO - Chain [1] done processing\n",
      "15:43:15 - cmdstanpy - INFO - Chain [1] start processing\n",
      "15:43:15 - cmdstanpy - INFO - Chain [1] done processing\n",
      "15:43:15 - cmdstanpy - INFO - Chain [1] start processing\n",
      "15:43:15 - cmdstanpy - INFO - Chain [1] done processing\n",
      "15:43:15 - cmdstanpy - INFO - Chain [1] start processing\n",
      "15:43:15 - cmdstanpy - INFO - Chain [1] done processing\n",
      "15:43:15 - cmdstanpy - INFO - Chain [1] start processing\n",
      "15:43:15 - cmdstanpy - INFO - Chain [1] done processing\n",
      "15:43:15 - cmdstanpy - INFO - Chain [1] start processing\n",
      "15:43:15 - cmdstanpy - INFO - Chain [1] done processing\n",
      "15:43:16 - cmdstanpy - INFO - Chain [1] start processing\n",
      "15:43:16 - cmdstanpy - INFO - Chain [1] done processing\n",
      "15:43:16 - cmdstanpy - INFO - Chain [1] start processing\n",
      "15:43:16 - cmdstanpy - INFO - Chain [1] done processing\n",
      "15:43:16 - cmdstanpy - INFO - Chain [1] start processing\n",
      "15:43:16 - cmdstanpy - INFO - Chain [1] done processing\n",
      "15:43:16 - cmdstanpy - INFO - Chain [1] start processing\n",
      "15:43:16 - cmdstanpy - INFO - Chain [1] done processing\n",
      "15:43:16 - cmdstanpy - INFO - Chain [1] start processing\n",
      "15:43:16 - cmdstanpy - INFO - Chain [1] done processing\n",
      "15:43:17 - cmdstanpy - INFO - Chain [1] start processing\n",
      "15:43:17 - cmdstanpy - INFO - Chain [1] done processing\n"
     ]
    },
    {
     "name": "stdout",
     "output_type": "stream",
     "text": [
      "Training with changepoint_prior_scale=0.1, seasonality_prior_scale=1.0\n"
     ]
    },
    {
     "data": {
      "application/vnd.jupyter.widget-view+json": {
       "model_id": "7822f9a91b914d398d5f94ffe2a2a078",
       "version_major": 2,
       "version_minor": 0
      },
      "text/plain": [
       "  0%|          | 0/11 [00:00<?, ?it/s]"
      ]
     },
     "metadata": {},
     "output_type": "display_data"
    },
    {
     "name": "stderr",
     "output_type": "stream",
     "text": [
      "15:43:17 - cmdstanpy - INFO - Chain [1] start processing\n",
      "15:43:17 - cmdstanpy - INFO - Chain [1] done processing\n",
      "15:43:17 - cmdstanpy - INFO - Chain [1] start processing\n",
      "15:43:17 - cmdstanpy - INFO - Chain [1] done processing\n",
      "15:43:17 - cmdstanpy - INFO - Chain [1] start processing\n",
      "15:43:17 - cmdstanpy - INFO - Chain [1] done processing\n",
      "15:43:17 - cmdstanpy - INFO - Chain [1] start processing\n",
      "15:43:18 - cmdstanpy - INFO - Chain [1] done processing\n",
      "15:43:18 - cmdstanpy - INFO - Chain [1] start processing\n",
      "15:43:18 - cmdstanpy - INFO - Chain [1] done processing\n",
      "15:43:18 - cmdstanpy - INFO - Chain [1] start processing\n",
      "15:43:18 - cmdstanpy - INFO - Chain [1] done processing\n",
      "15:43:18 - cmdstanpy - INFO - Chain [1] start processing\n",
      "15:43:18 - cmdstanpy - INFO - Chain [1] done processing\n",
      "15:43:18 - cmdstanpy - INFO - Chain [1] start processing\n",
      "15:43:18 - cmdstanpy - INFO - Chain [1] done processing\n",
      "15:43:19 - cmdstanpy - INFO - Chain [1] start processing\n",
      "15:43:19 - cmdstanpy - INFO - Chain [1] done processing\n",
      "15:43:19 - cmdstanpy - INFO - Chain [1] start processing\n",
      "15:43:19 - cmdstanpy - INFO - Chain [1] done processing\n",
      "15:43:19 - cmdstanpy - INFO - Chain [1] start processing\n",
      "15:43:19 - cmdstanpy - INFO - Chain [1] done processing\n",
      "15:43:19 - cmdstanpy - INFO - Chain [1] start processing\n"
     ]
    },
    {
     "name": "stdout",
     "output_type": "stream",
     "text": [
      "Training with changepoint_prior_scale=0.1, seasonality_prior_scale=10.0\n"
     ]
    },
    {
     "name": "stderr",
     "output_type": "stream",
     "text": [
      "15:43:19 - cmdstanpy - INFO - Chain [1] done processing\n"
     ]
    },
    {
     "data": {
      "application/vnd.jupyter.widget-view+json": {
       "model_id": "236dc435947f4de091a5ee48cb4c4900",
       "version_major": 2,
       "version_minor": 0
      },
      "text/plain": [
       "  0%|          | 0/11 [00:00<?, ?it/s]"
      ]
     },
     "metadata": {},
     "output_type": "display_data"
    },
    {
     "name": "stderr",
     "output_type": "stream",
     "text": [
      "15:43:20 - cmdstanpy - INFO - Chain [1] start processing\n",
      "15:43:20 - cmdstanpy - INFO - Chain [1] done processing\n",
      "15:43:20 - cmdstanpy - INFO - Chain [1] start processing\n",
      "15:43:20 - cmdstanpy - INFO - Chain [1] done processing\n",
      "15:43:20 - cmdstanpy - INFO - Chain [1] start processing\n",
      "15:43:20 - cmdstanpy - INFO - Chain [1] done processing\n",
      "15:43:20 - cmdstanpy - INFO - Chain [1] start processing\n",
      "15:43:20 - cmdstanpy - INFO - Chain [1] done processing\n",
      "15:43:20 - cmdstanpy - INFO - Chain [1] start processing\n",
      "15:43:20 - cmdstanpy - INFO - Chain [1] done processing\n",
      "15:43:20 - cmdstanpy - INFO - Chain [1] start processing\n",
      "15:43:21 - cmdstanpy - INFO - Chain [1] done processing\n",
      "15:43:21 - cmdstanpy - INFO - Chain [1] start processing\n",
      "15:43:21 - cmdstanpy - INFO - Chain [1] done processing\n",
      "15:43:21 - cmdstanpy - INFO - Chain [1] start processing\n",
      "15:43:21 - cmdstanpy - INFO - Chain [1] done processing\n",
      "15:43:21 - cmdstanpy - INFO - Chain [1] start processing\n",
      "15:43:21 - cmdstanpy - INFO - Chain [1] done processing\n",
      "15:43:21 - cmdstanpy - INFO - Chain [1] start processing\n",
      "15:43:21 - cmdstanpy - INFO - Chain [1] done processing\n",
      "15:43:22 - cmdstanpy - INFO - Chain [1] start processing\n",
      "15:43:22 - cmdstanpy - INFO - Chain [1] done processing\n",
      "15:43:22 - cmdstanpy - INFO - Chain [1] start processing\n"
     ]
    },
    {
     "name": "stdout",
     "output_type": "stream",
     "text": [
      "Training with changepoint_prior_scale=0.5, seasonality_prior_scale=1.0\n"
     ]
    },
    {
     "name": "stderr",
     "output_type": "stream",
     "text": [
      "15:43:22 - cmdstanpy - INFO - Chain [1] done processing\n"
     ]
    },
    {
     "data": {
      "application/vnd.jupyter.widget-view+json": {
       "model_id": "dd8939e3f8094062ad8524cee212fc81",
       "version_major": 2,
       "version_minor": 0
      },
      "text/plain": [
       "  0%|          | 0/11 [00:00<?, ?it/s]"
      ]
     },
     "metadata": {},
     "output_type": "display_data"
    },
    {
     "name": "stderr",
     "output_type": "stream",
     "text": [
      "15:43:22 - cmdstanpy - INFO - Chain [1] start processing\n",
      "15:43:22 - cmdstanpy - INFO - Chain [1] done processing\n",
      "15:43:22 - cmdstanpy - INFO - Chain [1] start processing\n",
      "15:43:23 - cmdstanpy - INFO - Chain [1] done processing\n",
      "15:43:23 - cmdstanpy - INFO - Chain [1] start processing\n",
      "15:43:23 - cmdstanpy - INFO - Chain [1] done processing\n",
      "15:43:23 - cmdstanpy - INFO - Chain [1] start processing\n",
      "15:43:23 - cmdstanpy - INFO - Chain [1] done processing\n",
      "15:43:23 - cmdstanpy - INFO - Chain [1] start processing\n",
      "15:43:23 - cmdstanpy - INFO - Chain [1] done processing\n",
      "15:43:23 - cmdstanpy - INFO - Chain [1] start processing\n",
      "15:43:23 - cmdstanpy - INFO - Chain [1] done processing\n",
      "15:43:24 - cmdstanpy - INFO - Chain [1] start processing\n",
      "15:43:24 - cmdstanpy - INFO - Chain [1] done processing\n",
      "15:43:24 - cmdstanpy - INFO - Chain [1] start processing\n",
      "15:43:24 - cmdstanpy - INFO - Chain [1] done processing\n",
      "15:43:24 - cmdstanpy - INFO - Chain [1] start processing\n",
      "15:43:24 - cmdstanpy - INFO - Chain [1] done processing\n",
      "15:43:24 - cmdstanpy - INFO - Chain [1] start processing\n",
      "15:43:24 - cmdstanpy - INFO - Chain [1] done processing\n",
      "15:43:25 - cmdstanpy - INFO - Chain [1] start processing\n",
      "15:43:25 - cmdstanpy - INFO - Chain [1] done processing\n",
      "15:43:25 - cmdstanpy - INFO - Chain [1] start processing\n"
     ]
    },
    {
     "name": "stdout",
     "output_type": "stream",
     "text": [
      "Training with changepoint_prior_scale=0.5, seasonality_prior_scale=10.0\n"
     ]
    },
    {
     "name": "stderr",
     "output_type": "stream",
     "text": [
      "15:43:26 - cmdstanpy - INFO - Chain [1] done processing\n"
     ]
    },
    {
     "data": {
      "application/vnd.jupyter.widget-view+json": {
       "model_id": "6a48b05d7a18457894c483e973438980",
       "version_major": 2,
       "version_minor": 0
      },
      "text/plain": [
       "  0%|          | 0/11 [00:00<?, ?it/s]"
      ]
     },
     "metadata": {},
     "output_type": "display_data"
    },
    {
     "name": "stderr",
     "output_type": "stream",
     "text": [
      "15:43:26 - cmdstanpy - INFO - Chain [1] start processing\n",
      "15:43:26 - cmdstanpy - INFO - Chain [1] done processing\n",
      "15:43:26 - cmdstanpy - INFO - Chain [1] start processing\n",
      "15:43:26 - cmdstanpy - INFO - Chain [1] done processing\n",
      "15:43:26 - cmdstanpy - INFO - Chain [1] start processing\n",
      "15:43:26 - cmdstanpy - INFO - Chain [1] done processing\n",
      "15:43:27 - cmdstanpy - INFO - Chain [1] start processing\n",
      "15:43:27 - cmdstanpy - INFO - Chain [1] done processing\n",
      "15:43:27 - cmdstanpy - INFO - Chain [1] start processing\n",
      "15:43:27 - cmdstanpy - INFO - Chain [1] done processing\n",
      "15:43:27 - cmdstanpy - INFO - Chain [1] start processing\n",
      "15:43:27 - cmdstanpy - INFO - Chain [1] done processing\n",
      "15:43:27 - cmdstanpy - INFO - Chain [1] start processing\n",
      "15:43:27 - cmdstanpy - INFO - Chain [1] done processing\n",
      "15:43:27 - cmdstanpy - INFO - Chain [1] start processing\n",
      "15:43:28 - cmdstanpy - INFO - Chain [1] done processing\n",
      "15:43:28 - cmdstanpy - INFO - Chain [1] start processing\n",
      "15:43:28 - cmdstanpy - INFO - Chain [1] done processing\n",
      "15:43:28 - cmdstanpy - INFO - Chain [1] start processing\n",
      "15:43:28 - cmdstanpy - INFO - Chain [1] done processing\n",
      "15:43:29 - cmdstanpy - INFO - Chain [1] start processing\n",
      "15:43:29 - cmdstanpy - INFO - Chain [1] done processing\n",
      "Tuning cs subdisciplines:  50%|█████████▌         | 20/40 [04:59<04:57, 14.85s/it, Processing cs.IR]"
     ]
    },
    {
     "name": "stdout",
     "output_type": "stream",
     "text": [
      "\n",
      "Best Parameters:\n",
      "changepoint_prior_scale     0.01000\n",
      "seasonality_prior_scale    10.00000\n",
      "rmse                       24.58401\n",
      "Name: 1, dtype: float64\n"
     ]
    },
    {
     "name": "stderr",
     "output_type": "stream",
     "text": [
      "15:43:31 - cmdstanpy - INFO - Chain [1] start processing\n",
      "15:43:31 - cmdstanpy - INFO - Chain [1] done processing\n"
     ]
    },
    {
     "name": "stdout",
     "output_type": "stream",
     "text": [
      "Training with changepoint_prior_scale=0.01, seasonality_prior_scale=1.0\n"
     ]
    },
    {
     "data": {
      "application/vnd.jupyter.widget-view+json": {
       "model_id": "ff0516b87c434fbe8e3d2d50a2afad3d",
       "version_major": 2,
       "version_minor": 0
      },
      "text/plain": [
       "  0%|          | 0/11 [00:00<?, ?it/s]"
      ]
     },
     "metadata": {},
     "output_type": "display_data"
    },
    {
     "name": "stderr",
     "output_type": "stream",
     "text": [
      "15:43:31 - cmdstanpy - INFO - Chain [1] start processing\n",
      "15:43:31 - cmdstanpy - INFO - Chain [1] done processing\n",
      "15:43:31 - cmdstanpy - INFO - Chain [1] start processing\n",
      "15:43:31 - cmdstanpy - INFO - Chain [1] done processing\n",
      "15:43:32 - cmdstanpy - INFO - Chain [1] start processing\n",
      "15:43:32 - cmdstanpy - INFO - Chain [1] done processing\n",
      "15:43:32 - cmdstanpy - INFO - Chain [1] start processing\n",
      "15:43:32 - cmdstanpy - INFO - Chain [1] done processing\n",
      "15:43:32 - cmdstanpy - INFO - Chain [1] start processing\n",
      "15:43:32 - cmdstanpy - INFO - Chain [1] done processing\n",
      "15:43:32 - cmdstanpy - INFO - Chain [1] start processing\n",
      "15:43:33 - cmdstanpy - INFO - Chain [1] done processing\n",
      "15:43:33 - cmdstanpy - INFO - Chain [1] start processing\n",
      "15:43:33 - cmdstanpy - INFO - Chain [1] done processing\n",
      "15:43:33 - cmdstanpy - INFO - Chain [1] start processing\n",
      "15:43:33 - cmdstanpy - INFO - Chain [1] done processing\n",
      "15:43:33 - cmdstanpy - INFO - Chain [1] start processing\n",
      "15:43:33 - cmdstanpy - INFO - Chain [1] done processing\n",
      "15:43:33 - cmdstanpy - INFO - Chain [1] start processing\n",
      "15:43:34 - cmdstanpy - INFO - Chain [1] done processing\n",
      "15:43:34 - cmdstanpy - INFO - Chain [1] start processing\n",
      "15:43:34 - cmdstanpy - INFO - Chain [1] done processing\n",
      "15:43:34 - cmdstanpy - INFO - Chain [1] start processing\n",
      "15:43:34 - cmdstanpy - INFO - Chain [1] done processing\n"
     ]
    },
    {
     "name": "stdout",
     "output_type": "stream",
     "text": [
      "Training with changepoint_prior_scale=0.01, seasonality_prior_scale=10.0\n"
     ]
    },
    {
     "data": {
      "application/vnd.jupyter.widget-view+json": {
       "model_id": "116b6d5d1ae741928920e3a6f97f8ea7",
       "version_major": 2,
       "version_minor": 0
      },
      "text/plain": [
       "  0%|          | 0/11 [00:00<?, ?it/s]"
      ]
     },
     "metadata": {},
     "output_type": "display_data"
    },
    {
     "name": "stderr",
     "output_type": "stream",
     "text": [
      "15:43:34 - cmdstanpy - INFO - Chain [1] start processing\n",
      "15:43:34 - cmdstanpy - INFO - Chain [1] done processing\n",
      "15:43:35 - cmdstanpy - INFO - Chain [1] start processing\n",
      "15:43:35 - cmdstanpy - INFO - Chain [1] done processing\n",
      "15:43:35 - cmdstanpy - INFO - Chain [1] start processing\n",
      "15:43:35 - cmdstanpy - INFO - Chain [1] done processing\n",
      "15:43:35 - cmdstanpy - INFO - Chain [1] start processing\n",
      "15:43:35 - cmdstanpy - INFO - Chain [1] done processing\n",
      "15:43:35 - cmdstanpy - INFO - Chain [1] start processing\n",
      "15:43:35 - cmdstanpy - INFO - Chain [1] done processing\n",
      "15:43:35 - cmdstanpy - INFO - Chain [1] start processing\n",
      "15:43:35 - cmdstanpy - INFO - Chain [1] done processing\n",
      "15:43:35 - cmdstanpy - INFO - Chain [1] start processing\n",
      "15:43:36 - cmdstanpy - INFO - Chain [1] done processing\n",
      "15:43:36 - cmdstanpy - INFO - Chain [1] start processing\n",
      "15:43:36 - cmdstanpy - INFO - Chain [1] done processing\n",
      "15:43:36 - cmdstanpy - INFO - Chain [1] start processing\n",
      "15:43:36 - cmdstanpy - INFO - Chain [1] done processing\n",
      "15:43:36 - cmdstanpy - INFO - Chain [1] start processing\n",
      "15:43:36 - cmdstanpy - INFO - Chain [1] done processing\n",
      "15:43:36 - cmdstanpy - INFO - Chain [1] start processing\n",
      "15:43:36 - cmdstanpy - INFO - Chain [1] done processing\n",
      "15:43:37 - cmdstanpy - INFO - Chain [1] start processing\n"
     ]
    },
    {
     "name": "stdout",
     "output_type": "stream",
     "text": [
      "Training with changepoint_prior_scale=0.1, seasonality_prior_scale=1.0\n"
     ]
    },
    {
     "name": "stderr",
     "output_type": "stream",
     "text": [
      "15:43:37 - cmdstanpy - INFO - Chain [1] done processing\n"
     ]
    },
    {
     "data": {
      "application/vnd.jupyter.widget-view+json": {
       "model_id": "a4b15849487d47b0a560ba27f791d197",
       "version_major": 2,
       "version_minor": 0
      },
      "text/plain": [
       "  0%|          | 0/11 [00:00<?, ?it/s]"
      ]
     },
     "metadata": {},
     "output_type": "display_data"
    },
    {
     "name": "stderr",
     "output_type": "stream",
     "text": [
      "15:43:37 - cmdstanpy - INFO - Chain [1] start processing\n",
      "15:43:37 - cmdstanpy - INFO - Chain [1] done processing\n",
      "15:43:37 - cmdstanpy - INFO - Chain [1] start processing\n",
      "15:43:37 - cmdstanpy - INFO - Chain [1] done processing\n",
      "15:43:37 - cmdstanpy - INFO - Chain [1] start processing\n",
      "15:43:37 - cmdstanpy - INFO - Chain [1] done processing\n",
      "15:43:38 - cmdstanpy - INFO - Chain [1] start processing\n",
      "15:43:38 - cmdstanpy - INFO - Chain [1] done processing\n",
      "15:43:38 - cmdstanpy - INFO - Chain [1] start processing\n",
      "15:43:38 - cmdstanpy - INFO - Chain [1] done processing\n",
      "15:43:38 - cmdstanpy - INFO - Chain [1] start processing\n",
      "15:43:38 - cmdstanpy - INFO - Chain [1] done processing\n",
      "15:43:38 - cmdstanpy - INFO - Chain [1] start processing\n",
      "15:43:38 - cmdstanpy - INFO - Chain [1] done processing\n",
      "15:43:38 - cmdstanpy - INFO - Chain [1] start processing\n",
      "15:43:38 - cmdstanpy - INFO - Chain [1] done processing\n",
      "15:43:38 - cmdstanpy - INFO - Chain [1] start processing\n",
      "15:43:39 - cmdstanpy - INFO - Chain [1] done processing\n",
      "15:43:39 - cmdstanpy - INFO - Chain [1] start processing\n",
      "15:43:39 - cmdstanpy - INFO - Chain [1] done processing\n",
      "15:43:39 - cmdstanpy - INFO - Chain [1] start processing\n",
      "15:43:39 - cmdstanpy - INFO - Chain [1] done processing\n",
      "15:43:39 - cmdstanpy - INFO - Chain [1] start processing\n"
     ]
    },
    {
     "name": "stdout",
     "output_type": "stream",
     "text": [
      "Training with changepoint_prior_scale=0.1, seasonality_prior_scale=10.0\n"
     ]
    },
    {
     "name": "stderr",
     "output_type": "stream",
     "text": [
      "15:43:39 - cmdstanpy - INFO - Chain [1] done processing\n"
     ]
    },
    {
     "data": {
      "application/vnd.jupyter.widget-view+json": {
       "model_id": "8596fc5ec67f40028a8afcff1c1101dc",
       "version_major": 2,
       "version_minor": 0
      },
      "text/plain": [
       "  0%|          | 0/11 [00:00<?, ?it/s]"
      ]
     },
     "metadata": {},
     "output_type": "display_data"
    },
    {
     "name": "stderr",
     "output_type": "stream",
     "text": [
      "15:43:40 - cmdstanpy - INFO - Chain [1] start processing\n",
      "15:43:40 - cmdstanpy - INFO - Chain [1] done processing\n",
      "15:43:40 - cmdstanpy - INFO - Chain [1] start processing\n",
      "15:43:40 - cmdstanpy - INFO - Chain [1] done processing\n",
      "15:43:40 - cmdstanpy - INFO - Chain [1] start processing\n",
      "15:43:40 - cmdstanpy - INFO - Chain [1] done processing\n",
      "15:43:40 - cmdstanpy - INFO - Chain [1] start processing\n",
      "15:43:40 - cmdstanpy - INFO - Chain [1] done processing\n",
      "15:43:40 - cmdstanpy - INFO - Chain [1] start processing\n",
      "15:43:41 - cmdstanpy - INFO - Chain [1] done processing\n",
      "15:43:41 - cmdstanpy - INFO - Chain [1] start processing\n",
      "15:43:41 - cmdstanpy - INFO - Chain [1] done processing\n",
      "15:43:41 - cmdstanpy - INFO - Chain [1] start processing\n",
      "15:43:41 - cmdstanpy - INFO - Chain [1] done processing\n",
      "15:43:41 - cmdstanpy - INFO - Chain [1] start processing\n",
      "15:43:41 - cmdstanpy - INFO - Chain [1] done processing\n",
      "15:43:41 - cmdstanpy - INFO - Chain [1] start processing\n",
      "15:43:41 - cmdstanpy - INFO - Chain [1] done processing\n",
      "15:43:41 - cmdstanpy - INFO - Chain [1] start processing\n",
      "15:43:42 - cmdstanpy - INFO - Chain [1] done processing\n",
      "15:43:42 - cmdstanpy - INFO - Chain [1] start processing\n",
      "15:43:42 - cmdstanpy - INFO - Chain [1] done processing\n",
      "15:43:42 - cmdstanpy - INFO - Chain [1] start processing\n"
     ]
    },
    {
     "name": "stdout",
     "output_type": "stream",
     "text": [
      "Training with changepoint_prior_scale=0.5, seasonality_prior_scale=1.0\n"
     ]
    },
    {
     "name": "stderr",
     "output_type": "stream",
     "text": [
      "15:43:42 - cmdstanpy - INFO - Chain [1] done processing\n"
     ]
    },
    {
     "data": {
      "application/vnd.jupyter.widget-view+json": {
       "model_id": "6ce6e731adc6436a9e5ae19e2159264e",
       "version_major": 2,
       "version_minor": 0
      },
      "text/plain": [
       "  0%|          | 0/11 [00:00<?, ?it/s]"
      ]
     },
     "metadata": {},
     "output_type": "display_data"
    },
    {
     "name": "stderr",
     "output_type": "stream",
     "text": [
      "15:43:42 - cmdstanpy - INFO - Chain [1] start processing\n",
      "15:43:43 - cmdstanpy - INFO - Chain [1] done processing\n",
      "15:43:43 - cmdstanpy - INFO - Chain [1] start processing\n",
      "15:43:43 - cmdstanpy - INFO - Chain [1] done processing\n",
      "15:43:43 - cmdstanpy - INFO - Chain [1] start processing\n",
      "15:43:43 - cmdstanpy - INFO - Chain [1] done processing\n",
      "15:43:43 - cmdstanpy - INFO - Chain [1] start processing\n",
      "15:43:43 - cmdstanpy - INFO - Chain [1] done processing\n",
      "15:43:43 - cmdstanpy - INFO - Chain [1] start processing\n",
      "15:43:44 - cmdstanpy - INFO - Chain [1] done processing\n",
      "15:43:44 - cmdstanpy - INFO - Chain [1] start processing\n",
      "15:43:44 - cmdstanpy - INFO - Chain [1] done processing\n",
      "15:43:44 - cmdstanpy - INFO - Chain [1] start processing\n",
      "15:43:44 - cmdstanpy - INFO - Chain [1] done processing\n",
      "15:43:44 - cmdstanpy - INFO - Chain [1] start processing\n",
      "15:43:44 - cmdstanpy - INFO - Chain [1] done processing\n",
      "15:43:44 - cmdstanpy - INFO - Chain [1] start processing\n",
      "15:43:45 - cmdstanpy - INFO - Chain [1] done processing\n",
      "15:43:45 - cmdstanpy - INFO - Chain [1] start processing\n",
      "15:43:45 - cmdstanpy - INFO - Chain [1] done processing\n",
      "15:43:45 - cmdstanpy - INFO - Chain [1] start processing\n",
      "15:43:45 - cmdstanpy - INFO - Chain [1] done processing\n",
      "15:43:46 - cmdstanpy - INFO - Chain [1] start processing\n"
     ]
    },
    {
     "name": "stdout",
     "output_type": "stream",
     "text": [
      "Training with changepoint_prior_scale=0.5, seasonality_prior_scale=10.0\n"
     ]
    },
    {
     "name": "stderr",
     "output_type": "stream",
     "text": [
      "15:43:46 - cmdstanpy - INFO - Chain [1] done processing\n"
     ]
    },
    {
     "data": {
      "application/vnd.jupyter.widget-view+json": {
       "model_id": "ed9ea6294b194ea0982e4bcd88383941",
       "version_major": 2,
       "version_minor": 0
      },
      "text/plain": [
       "  0%|          | 0/11 [00:00<?, ?it/s]"
      ]
     },
     "metadata": {},
     "output_type": "display_data"
    },
    {
     "name": "stderr",
     "output_type": "stream",
     "text": [
      "15:43:46 - cmdstanpy - INFO - Chain [1] start processing\n",
      "15:43:46 - cmdstanpy - INFO - Chain [1] done processing\n",
      "15:43:46 - cmdstanpy - INFO - Chain [1] start processing\n",
      "15:43:47 - cmdstanpy - INFO - Chain [1] done processing\n",
      "15:43:47 - cmdstanpy - INFO - Chain [1] start processing\n",
      "15:43:47 - cmdstanpy - INFO - Chain [1] done processing\n",
      "15:43:47 - cmdstanpy - INFO - Chain [1] start processing\n",
      "15:43:47 - cmdstanpy - INFO - Chain [1] done processing\n",
      "15:43:47 - cmdstanpy - INFO - Chain [1] start processing\n",
      "15:43:47 - cmdstanpy - INFO - Chain [1] done processing\n",
      "15:43:47 - cmdstanpy - INFO - Chain [1] start processing\n",
      "15:43:48 - cmdstanpy - INFO - Chain [1] done processing\n",
      "15:43:48 - cmdstanpy - INFO - Chain [1] start processing\n",
      "15:43:48 - cmdstanpy - INFO - Chain [1] done processing\n",
      "15:43:48 - cmdstanpy - INFO - Chain [1] start processing\n",
      "15:43:48 - cmdstanpy - INFO - Chain [1] done processing\n",
      "15:43:48 - cmdstanpy - INFO - Chain [1] start processing\n",
      "15:43:48 - cmdstanpy - INFO - Chain [1] done processing\n",
      "15:43:48 - cmdstanpy - INFO - Chain [1] start processing\n",
      "15:43:49 - cmdstanpy - INFO - Chain [1] done processing\n",
      "15:43:49 - cmdstanpy - INFO - Chain [1] start processing\n",
      "15:43:49 - cmdstanpy - INFO - Chain [1] done processing\n",
      "Tuning cs subdisciplines:  52%|█████████▉         | 21/40 [05:19<05:09, 16.27s/it, Processing cs.IT]"
     ]
    },
    {
     "name": "stdout",
     "output_type": "stream",
     "text": [
      "\n",
      "Best Parameters:\n",
      "changepoint_prior_scale     0.100000\n",
      "seasonality_prior_scale     1.000000\n",
      "rmse                       17.430792\n",
      "Name: 2, dtype: float64\n"
     ]
    },
    {
     "name": "stderr",
     "output_type": "stream",
     "text": [
      "15:43:50 - cmdstanpy - INFO - Chain [1] start processing\n",
      "15:43:50 - cmdstanpy - INFO - Chain [1] done processing\n"
     ]
    },
    {
     "name": "stdout",
     "output_type": "stream",
     "text": [
      "Training with changepoint_prior_scale=0.01, seasonality_prior_scale=1.0\n"
     ]
    },
    {
     "data": {
      "application/vnd.jupyter.widget-view+json": {
       "model_id": "318ced0a0ab04faa95866e4e5dec6cf8",
       "version_major": 2,
       "version_minor": 0
      },
      "text/plain": [
       "  0%|          | 0/11 [00:00<?, ?it/s]"
      ]
     },
     "metadata": {},
     "output_type": "display_data"
    },
    {
     "name": "stderr",
     "output_type": "stream",
     "text": [
      "15:43:50 - cmdstanpy - INFO - Chain [1] start processing\n",
      "15:43:50 - cmdstanpy - INFO - Chain [1] done processing\n",
      "15:43:50 - cmdstanpy - INFO - Chain [1] start processing\n",
      "15:43:50 - cmdstanpy - INFO - Chain [1] done processing\n",
      "15:43:50 - cmdstanpy - INFO - Chain [1] start processing\n",
      "15:43:50 - cmdstanpy - INFO - Chain [1] done processing\n",
      "15:43:51 - cmdstanpy - INFO - Chain [1] start processing\n",
      "15:43:51 - cmdstanpy - INFO - Chain [1] done processing\n",
      "15:43:51 - cmdstanpy - INFO - Chain [1] start processing\n",
      "15:43:51 - cmdstanpy - INFO - Chain [1] done processing\n",
      "15:43:51 - cmdstanpy - INFO - Chain [1] start processing\n",
      "15:43:51 - cmdstanpy - INFO - Chain [1] done processing\n",
      "15:43:51 - cmdstanpy - INFO - Chain [1] start processing\n",
      "15:43:51 - cmdstanpy - INFO - Chain [1] done processing\n",
      "15:43:51 - cmdstanpy - INFO - Chain [1] start processing\n",
      "15:43:51 - cmdstanpy - INFO - Chain [1] done processing\n",
      "15:43:51 - cmdstanpy - INFO - Chain [1] start processing\n",
      "15:43:51 - cmdstanpy - INFO - Chain [1] done processing\n",
      "15:43:52 - cmdstanpy - INFO - Chain [1] start processing\n",
      "15:43:52 - cmdstanpy - INFO - Chain [1] done processing\n",
      "15:43:52 - cmdstanpy - INFO - Chain [1] start processing\n",
      "15:43:52 - cmdstanpy - INFO - Chain [1] done processing\n",
      "15:43:52 - cmdstanpy - INFO - Chain [1] start processing\n",
      "15:43:52 - cmdstanpy - INFO - Chain [1] done processing\n"
     ]
    },
    {
     "name": "stdout",
     "output_type": "stream",
     "text": [
      "Training with changepoint_prior_scale=0.01, seasonality_prior_scale=10.0\n"
     ]
    },
    {
     "data": {
      "application/vnd.jupyter.widget-view+json": {
       "model_id": "e06c857557654bccbd48bcf1f0a39298",
       "version_major": 2,
       "version_minor": 0
      },
      "text/plain": [
       "  0%|          | 0/11 [00:00<?, ?it/s]"
      ]
     },
     "metadata": {},
     "output_type": "display_data"
    },
    {
     "name": "stderr",
     "output_type": "stream",
     "text": [
      "15:43:52 - cmdstanpy - INFO - Chain [1] start processing\n",
      "15:43:52 - cmdstanpy - INFO - Chain [1] done processing\n",
      "15:43:53 - cmdstanpy - INFO - Chain [1] start processing\n",
      "15:43:53 - cmdstanpy - INFO - Chain [1] done processing\n",
      "15:43:53 - cmdstanpy - INFO - Chain [1] start processing\n",
      "15:43:53 - cmdstanpy - INFO - Chain [1] done processing\n",
      "15:43:53 - cmdstanpy - INFO - Chain [1] start processing\n",
      "15:43:53 - cmdstanpy - INFO - Chain [1] done processing\n",
      "15:43:53 - cmdstanpy - INFO - Chain [1] start processing\n",
      "15:43:53 - cmdstanpy - INFO - Chain [1] done processing\n",
      "15:43:53 - cmdstanpy - INFO - Chain [1] start processing\n",
      "15:43:53 - cmdstanpy - INFO - Chain [1] done processing\n",
      "15:43:54 - cmdstanpy - INFO - Chain [1] start processing\n",
      "15:43:54 - cmdstanpy - INFO - Chain [1] done processing\n",
      "15:43:54 - cmdstanpy - INFO - Chain [1] start processing\n",
      "15:43:54 - cmdstanpy - INFO - Chain [1] done processing\n",
      "15:43:54 - cmdstanpy - INFO - Chain [1] start processing\n",
      "15:43:54 - cmdstanpy - INFO - Chain [1] done processing\n",
      "15:43:54 - cmdstanpy - INFO - Chain [1] start processing\n",
      "15:43:54 - cmdstanpy - INFO - Chain [1] done processing\n",
      "15:43:54 - cmdstanpy - INFO - Chain [1] start processing\n",
      "15:43:54 - cmdstanpy - INFO - Chain [1] done processing\n",
      "15:43:55 - cmdstanpy - INFO - Chain [1] start processing\n",
      "15:43:55 - cmdstanpy - INFO - Chain [1] done processing\n"
     ]
    },
    {
     "name": "stdout",
     "output_type": "stream",
     "text": [
      "Training with changepoint_prior_scale=0.1, seasonality_prior_scale=1.0\n"
     ]
    },
    {
     "data": {
      "application/vnd.jupyter.widget-view+json": {
       "model_id": "de92386d7de44960afe950d89669e594",
       "version_major": 2,
       "version_minor": 0
      },
      "text/plain": [
       "  0%|          | 0/11 [00:00<?, ?it/s]"
      ]
     },
     "metadata": {},
     "output_type": "display_data"
    },
    {
     "name": "stderr",
     "output_type": "stream",
     "text": [
      "15:43:55 - cmdstanpy - INFO - Chain [1] start processing\n",
      "15:43:55 - cmdstanpy - INFO - Chain [1] done processing\n",
      "15:43:55 - cmdstanpy - INFO - Chain [1] start processing\n",
      "15:43:55 - cmdstanpy - INFO - Chain [1] done processing\n",
      "15:43:55 - cmdstanpy - INFO - Chain [1] start processing\n",
      "15:43:55 - cmdstanpy - INFO - Chain [1] done processing\n",
      "15:43:55 - cmdstanpy - INFO - Chain [1] start processing\n",
      "15:43:56 - cmdstanpy - INFO - Chain [1] done processing\n",
      "15:43:56 - cmdstanpy - INFO - Chain [1] start processing\n",
      "15:43:56 - cmdstanpy - INFO - Chain [1] done processing\n",
      "15:43:56 - cmdstanpy - INFO - Chain [1] start processing\n",
      "15:43:56 - cmdstanpy - INFO - Chain [1] done processing\n",
      "15:43:56 - cmdstanpy - INFO - Chain [1] start processing\n",
      "15:43:56 - cmdstanpy - INFO - Chain [1] done processing\n",
      "15:43:56 - cmdstanpy - INFO - Chain [1] start processing\n",
      "15:43:56 - cmdstanpy - INFO - Chain [1] done processing\n",
      "15:43:56 - cmdstanpy - INFO - Chain [1] start processing\n",
      "15:43:56 - cmdstanpy - INFO - Chain [1] done processing\n",
      "15:43:56 - cmdstanpy - INFO - Chain [1] start processing\n",
      "15:43:57 - cmdstanpy - INFO - Chain [1] done processing\n",
      "15:43:57 - cmdstanpy - INFO - Chain [1] start processing\n",
      "15:43:57 - cmdstanpy - INFO - Chain [1] done processing\n",
      "15:43:57 - cmdstanpy - INFO - Chain [1] start processing\n",
      "15:43:57 - cmdstanpy - INFO - Chain [1] done processing\n"
     ]
    },
    {
     "name": "stdout",
     "output_type": "stream",
     "text": [
      "Training with changepoint_prior_scale=0.1, seasonality_prior_scale=10.0\n"
     ]
    },
    {
     "data": {
      "application/vnd.jupyter.widget-view+json": {
       "model_id": "25136ce3a7b2474db32958e48faaf7fd",
       "version_major": 2,
       "version_minor": 0
      },
      "text/plain": [
       "  0%|          | 0/11 [00:00<?, ?it/s]"
      ]
     },
     "metadata": {},
     "output_type": "display_data"
    },
    {
     "name": "stderr",
     "output_type": "stream",
     "text": [
      "15:43:57 - cmdstanpy - INFO - Chain [1] start processing\n",
      "15:43:57 - cmdstanpy - INFO - Chain [1] done processing\n",
      "15:43:57 - cmdstanpy - INFO - Chain [1] start processing\n",
      "15:43:58 - cmdstanpy - INFO - Chain [1] done processing\n",
      "15:43:58 - cmdstanpy - INFO - Chain [1] start processing\n",
      "15:43:58 - cmdstanpy - INFO - Chain [1] done processing\n",
      "15:43:58 - cmdstanpy - INFO - Chain [1] start processing\n",
      "15:43:58 - cmdstanpy - INFO - Chain [1] done processing\n",
      "15:43:58 - cmdstanpy - INFO - Chain [1] start processing\n",
      "15:43:58 - cmdstanpy - INFO - Chain [1] done processing\n",
      "15:43:58 - cmdstanpy - INFO - Chain [1] start processing\n",
      "15:43:58 - cmdstanpy - INFO - Chain [1] done processing\n",
      "15:43:58 - cmdstanpy - INFO - Chain [1] start processing\n",
      "15:43:58 - cmdstanpy - INFO - Chain [1] done processing\n",
      "15:43:58 - cmdstanpy - INFO - Chain [1] start processing\n",
      "15:43:59 - cmdstanpy - INFO - Chain [1] done processing\n",
      "15:43:59 - cmdstanpy - INFO - Chain [1] start processing\n",
      "15:43:59 - cmdstanpy - INFO - Chain [1] done processing\n",
      "15:43:59 - cmdstanpy - INFO - Chain [1] start processing\n",
      "15:43:59 - cmdstanpy - INFO - Chain [1] done processing\n",
      "15:43:59 - cmdstanpy - INFO - Chain [1] start processing\n",
      "15:43:59 - cmdstanpy - INFO - Chain [1] done processing\n",
      "15:43:59 - cmdstanpy - INFO - Chain [1] start processing\n"
     ]
    },
    {
     "name": "stdout",
     "output_type": "stream",
     "text": [
      "Training with changepoint_prior_scale=0.5, seasonality_prior_scale=1.0\n"
     ]
    },
    {
     "name": "stderr",
     "output_type": "stream",
     "text": [
      "15:44:00 - cmdstanpy - INFO - Chain [1] done processing\n"
     ]
    },
    {
     "data": {
      "application/vnd.jupyter.widget-view+json": {
       "model_id": "f4e2f9fb2f5b42cd92ed5482a580d326",
       "version_major": 2,
       "version_minor": 0
      },
      "text/plain": [
       "  0%|          | 0/11 [00:00<?, ?it/s]"
      ]
     },
     "metadata": {},
     "output_type": "display_data"
    },
    {
     "name": "stderr",
     "output_type": "stream",
     "text": [
      "15:44:00 - cmdstanpy - INFO - Chain [1] start processing\n",
      "15:44:00 - cmdstanpy - INFO - Chain [1] done processing\n",
      "15:44:00 - cmdstanpy - INFO - Chain [1] start processing\n",
      "15:44:00 - cmdstanpy - INFO - Chain [1] done processing\n",
      "15:44:00 - cmdstanpy - INFO - Chain [1] start processing\n",
      "15:44:00 - cmdstanpy - INFO - Chain [1] done processing\n",
      "15:44:00 - cmdstanpy - INFO - Chain [1] start processing\n",
      "15:44:00 - cmdstanpy - INFO - Chain [1] done processing\n",
      "15:44:01 - cmdstanpy - INFO - Chain [1] start processing\n",
      "15:44:01 - cmdstanpy - INFO - Chain [1] done processing\n",
      "15:44:01 - cmdstanpy - INFO - Chain [1] start processing\n",
      "15:44:01 - cmdstanpy - INFO - Chain [1] done processing\n",
      "15:44:01 - cmdstanpy - INFO - Chain [1] start processing\n",
      "15:44:01 - cmdstanpy - INFO - Chain [1] done processing\n",
      "15:44:01 - cmdstanpy - INFO - Chain [1] start processing\n",
      "15:44:01 - cmdstanpy - INFO - Chain [1] done processing\n",
      "15:44:01 - cmdstanpy - INFO - Chain [1] start processing\n",
      "15:44:02 - cmdstanpy - INFO - Chain [1] done processing\n",
      "15:44:02 - cmdstanpy - INFO - Chain [1] start processing\n",
      "15:44:02 - cmdstanpy - INFO - Chain [1] done processing\n",
      "15:44:02 - cmdstanpy - INFO - Chain [1] start processing\n",
      "15:44:02 - cmdstanpy - INFO - Chain [1] done processing\n",
      "15:44:02 - cmdstanpy - INFO - Chain [1] start processing\n"
     ]
    },
    {
     "name": "stdout",
     "output_type": "stream",
     "text": [
      "Training with changepoint_prior_scale=0.5, seasonality_prior_scale=10.0\n"
     ]
    },
    {
     "name": "stderr",
     "output_type": "stream",
     "text": [
      "15:44:03 - cmdstanpy - INFO - Chain [1] done processing\n"
     ]
    },
    {
     "data": {
      "application/vnd.jupyter.widget-view+json": {
       "model_id": "ede50b503bca4bf78255ee2b6b29385b",
       "version_major": 2,
       "version_minor": 0
      },
      "text/plain": [
       "  0%|          | 0/11 [00:00<?, ?it/s]"
      ]
     },
     "metadata": {},
     "output_type": "display_data"
    },
    {
     "name": "stderr",
     "output_type": "stream",
     "text": [
      "15:44:03 - cmdstanpy - INFO - Chain [1] start processing\n",
      "15:44:03 - cmdstanpy - INFO - Chain [1] done processing\n",
      "15:44:03 - cmdstanpy - INFO - Chain [1] start processing\n",
      "15:44:03 - cmdstanpy - INFO - Chain [1] done processing\n",
      "15:44:03 - cmdstanpy - INFO - Chain [1] start processing\n",
      "15:44:03 - cmdstanpy - INFO - Chain [1] done processing\n",
      "15:44:03 - cmdstanpy - INFO - Chain [1] start processing\n",
      "15:44:04 - cmdstanpy - INFO - Chain [1] done processing\n",
      "15:44:04 - cmdstanpy - INFO - Chain [1] start processing\n",
      "15:44:04 - cmdstanpy - INFO - Chain [1] done processing\n",
      "15:44:04 - cmdstanpy - INFO - Chain [1] start processing\n",
      "15:44:04 - cmdstanpy - INFO - Chain [1] done processing\n",
      "15:44:04 - cmdstanpy - INFO - Chain [1] start processing\n",
      "15:44:04 - cmdstanpy - INFO - Chain [1] done processing\n",
      "15:44:04 - cmdstanpy - INFO - Chain [1] start processing\n",
      "15:44:04 - cmdstanpy - INFO - Chain [1] done processing\n",
      "15:44:05 - cmdstanpy - INFO - Chain [1] start processing\n",
      "15:44:05 - cmdstanpy - INFO - Chain [1] done processing\n",
      "15:44:05 - cmdstanpy - INFO - Chain [1] start processing\n",
      "15:44:05 - cmdstanpy - INFO - Chain [1] done processing\n",
      "15:44:05 - cmdstanpy - INFO - Chain [1] start processing\n",
      "15:44:05 - cmdstanpy - INFO - Chain [1] done processing\n",
      "Tuning cs subdisciplines:  55%|██████████▍        | 22/40 [05:35<04:51, 16.18s/it, Processing cs.LG]"
     ]
    },
    {
     "name": "stdout",
     "output_type": "stream",
     "text": [
      "\n",
      "Best Parameters:\n",
      "changepoint_prior_scale     0.100000\n",
      "seasonality_prior_scale     1.000000\n",
      "rmse                       20.346531\n",
      "Name: 2, dtype: float64\n"
     ]
    },
    {
     "name": "stderr",
     "output_type": "stream",
     "text": [
      "15:44:06 - cmdstanpy - INFO - Chain [1] start processing\n",
      "15:44:06 - cmdstanpy - INFO - Chain [1] done processing\n"
     ]
    },
    {
     "name": "stdout",
     "output_type": "stream",
     "text": [
      "Training with changepoint_prior_scale=0.01, seasonality_prior_scale=1.0\n"
     ]
    },
    {
     "data": {
      "application/vnd.jupyter.widget-view+json": {
       "model_id": "960cac29c122406cba044c3a9788e684",
       "version_major": 2,
       "version_minor": 0
      },
      "text/plain": [
       "  0%|          | 0/11 [00:00<?, ?it/s]"
      ]
     },
     "metadata": {},
     "output_type": "display_data"
    },
    {
     "name": "stderr",
     "output_type": "stream",
     "text": [
      "15:44:06 - cmdstanpy - INFO - Chain [1] start processing\n",
      "15:44:06 - cmdstanpy - INFO - Chain [1] done processing\n",
      "15:44:06 - cmdstanpy - INFO - Chain [1] start processing\n",
      "15:44:06 - cmdstanpy - INFO - Chain [1] done processing\n",
      "15:44:06 - cmdstanpy - INFO - Chain [1] start processing\n",
      "15:44:06 - cmdstanpy - INFO - Chain [1] done processing\n",
      "15:44:06 - cmdstanpy - INFO - Chain [1] start processing\n",
      "15:44:07 - cmdstanpy - INFO - Chain [1] done processing\n",
      "15:44:07 - cmdstanpy - INFO - Chain [1] start processing\n",
      "15:44:07 - cmdstanpy - INFO - Chain [1] done processing\n",
      "15:44:07 - cmdstanpy - INFO - Chain [1] start processing\n",
      "15:44:07 - cmdstanpy - INFO - Chain [1] done processing\n",
      "15:44:07 - cmdstanpy - INFO - Chain [1] start processing\n",
      "15:44:07 - cmdstanpy - INFO - Chain [1] done processing\n",
      "15:44:07 - cmdstanpy - INFO - Chain [1] start processing\n",
      "15:44:07 - cmdstanpy - INFO - Chain [1] done processing\n",
      "15:44:07 - cmdstanpy - INFO - Chain [1] start processing\n",
      "15:44:07 - cmdstanpy - INFO - Chain [1] done processing\n",
      "15:44:08 - cmdstanpy - INFO - Chain [1] start processing\n",
      "15:44:08 - cmdstanpy - INFO - Chain [1] done processing\n",
      "15:44:08 - cmdstanpy - INFO - Chain [1] start processing\n",
      "15:44:08 - cmdstanpy - INFO - Chain [1] done processing\n",
      "15:44:08 - cmdstanpy - INFO - Chain [1] start processing\n",
      "15:44:08 - cmdstanpy - INFO - Chain [1] done processing\n"
     ]
    },
    {
     "name": "stdout",
     "output_type": "stream",
     "text": [
      "Training with changepoint_prior_scale=0.01, seasonality_prior_scale=10.0\n"
     ]
    },
    {
     "data": {
      "application/vnd.jupyter.widget-view+json": {
       "model_id": "2052985137464b2f82cc5969bd9228dc",
       "version_major": 2,
       "version_minor": 0
      },
      "text/plain": [
       "  0%|          | 0/11 [00:00<?, ?it/s]"
      ]
     },
     "metadata": {},
     "output_type": "display_data"
    },
    {
     "name": "stderr",
     "output_type": "stream",
     "text": [
      "15:44:08 - cmdstanpy - INFO - Chain [1] start processing\n",
      "15:44:08 - cmdstanpy - INFO - Chain [1] done processing\n",
      "15:44:09 - cmdstanpy - INFO - Chain [1] start processing\n",
      "15:44:09 - cmdstanpy - INFO - Chain [1] done processing\n",
      "15:44:09 - cmdstanpy - INFO - Chain [1] start processing\n",
      "15:44:09 - cmdstanpy - INFO - Chain [1] done processing\n",
      "15:44:09 - cmdstanpy - INFO - Chain [1] start processing\n",
      "15:44:09 - cmdstanpy - INFO - Chain [1] done processing\n",
      "15:44:09 - cmdstanpy - INFO - Chain [1] start processing\n",
      "15:44:09 - cmdstanpy - INFO - Chain [1] done processing\n",
      "15:44:09 - cmdstanpy - INFO - Chain [1] start processing\n",
      "15:44:09 - cmdstanpy - INFO - Chain [1] done processing\n",
      "15:44:09 - cmdstanpy - INFO - Chain [1] start processing\n",
      "15:44:09 - cmdstanpy - INFO - Chain [1] done processing\n",
      "15:44:10 - cmdstanpy - INFO - Chain [1] start processing\n",
      "15:44:10 - cmdstanpy - INFO - Chain [1] done processing\n",
      "15:44:10 - cmdstanpy - INFO - Chain [1] start processing\n",
      "15:44:10 - cmdstanpy - INFO - Chain [1] done processing\n",
      "15:44:10 - cmdstanpy - INFO - Chain [1] start processing\n",
      "15:44:10 - cmdstanpy - INFO - Chain [1] done processing\n",
      "15:44:10 - cmdstanpy - INFO - Chain [1] start processing\n",
      "15:44:10 - cmdstanpy - INFO - Chain [1] done processing\n",
      "15:44:11 - cmdstanpy - INFO - Chain [1] start processing\n"
     ]
    },
    {
     "name": "stdout",
     "output_type": "stream",
     "text": [
      "Training with changepoint_prior_scale=0.1, seasonality_prior_scale=1.0\n"
     ]
    },
    {
     "name": "stderr",
     "output_type": "stream",
     "text": [
      "15:44:11 - cmdstanpy - INFO - Chain [1] done processing\n"
     ]
    },
    {
     "data": {
      "application/vnd.jupyter.widget-view+json": {
       "model_id": "c7d6ebd7b7444a9fab3322332dcace8a",
       "version_major": 2,
       "version_minor": 0
      },
      "text/plain": [
       "  0%|          | 0/11 [00:00<?, ?it/s]"
      ]
     },
     "metadata": {},
     "output_type": "display_data"
    },
    {
     "name": "stderr",
     "output_type": "stream",
     "text": [
      "15:44:11 - cmdstanpy - INFO - Chain [1] start processing\n",
      "15:44:11 - cmdstanpy - INFO - Chain [1] done processing\n",
      "15:44:11 - cmdstanpy - INFO - Chain [1] start processing\n",
      "15:44:11 - cmdstanpy - INFO - Chain [1] done processing\n",
      "15:44:11 - cmdstanpy - INFO - Chain [1] start processing\n",
      "15:44:11 - cmdstanpy - INFO - Chain [1] done processing\n",
      "15:44:11 - cmdstanpy - INFO - Chain [1] start processing\n",
      "15:44:12 - cmdstanpy - INFO - Chain [1] done processing\n",
      "15:44:12 - cmdstanpy - INFO - Chain [1] start processing\n",
      "15:44:12 - cmdstanpy - INFO - Chain [1] done processing\n",
      "15:44:12 - cmdstanpy - INFO - Chain [1] start processing\n",
      "15:44:12 - cmdstanpy - INFO - Chain [1] done processing\n",
      "15:44:12 - cmdstanpy - INFO - Chain [1] start processing\n",
      "15:44:12 - cmdstanpy - INFO - Chain [1] done processing\n",
      "15:44:12 - cmdstanpy - INFO - Chain [1] start processing\n",
      "15:44:12 - cmdstanpy - INFO - Chain [1] done processing\n",
      "15:44:13 - cmdstanpy - INFO - Chain [1] start processing\n",
      "15:44:13 - cmdstanpy - INFO - Chain [1] done processing\n",
      "15:44:13 - cmdstanpy - INFO - Chain [1] start processing\n",
      "15:44:13 - cmdstanpy - INFO - Chain [1] done processing\n",
      "15:44:13 - cmdstanpy - INFO - Chain [1] start processing\n",
      "15:44:13 - cmdstanpy - INFO - Chain [1] done processing\n",
      "15:44:13 - cmdstanpy - INFO - Chain [1] start processing\n"
     ]
    },
    {
     "name": "stdout",
     "output_type": "stream",
     "text": [
      "Training with changepoint_prior_scale=0.1, seasonality_prior_scale=10.0\n"
     ]
    },
    {
     "name": "stderr",
     "output_type": "stream",
     "text": [
      "15:44:14 - cmdstanpy - INFO - Chain [1] done processing\n"
     ]
    },
    {
     "data": {
      "application/vnd.jupyter.widget-view+json": {
       "model_id": "ec502a8f06544c93ad779a78d36da9fb",
       "version_major": 2,
       "version_minor": 0
      },
      "text/plain": [
       "  0%|          | 0/11 [00:00<?, ?it/s]"
      ]
     },
     "metadata": {},
     "output_type": "display_data"
    },
    {
     "name": "stderr",
     "output_type": "stream",
     "text": [
      "15:44:14 - cmdstanpy - INFO - Chain [1] start processing\n",
      "15:44:14 - cmdstanpy - INFO - Chain [1] done processing\n",
      "15:44:14 - cmdstanpy - INFO - Chain [1] start processing\n",
      "15:44:14 - cmdstanpy - INFO - Chain [1] done processing\n",
      "15:44:14 - cmdstanpy - INFO - Chain [1] start processing\n",
      "15:44:14 - cmdstanpy - INFO - Chain [1] done processing\n",
      "15:44:15 - cmdstanpy - INFO - Chain [1] start processing\n",
      "15:44:15 - cmdstanpy - INFO - Chain [1] done processing\n",
      "15:44:15 - cmdstanpy - INFO - Chain [1] start processing\n",
      "15:44:15 - cmdstanpy - INFO - Chain [1] done processing\n",
      "15:44:15 - cmdstanpy - INFO - Chain [1] start processing\n",
      "15:44:15 - cmdstanpy - INFO - Chain [1] done processing\n",
      "15:44:15 - cmdstanpy - INFO - Chain [1] start processing\n",
      "15:44:15 - cmdstanpy - INFO - Chain [1] done processing\n",
      "15:44:15 - cmdstanpy - INFO - Chain [1] start processing\n",
      "15:44:16 - cmdstanpy - INFO - Chain [1] done processing\n",
      "15:44:16 - cmdstanpy - INFO - Chain [1] start processing\n",
      "15:44:16 - cmdstanpy - INFO - Chain [1] done processing\n",
      "15:44:16 - cmdstanpy - INFO - Chain [1] start processing\n",
      "15:44:16 - cmdstanpy - INFO - Chain [1] done processing\n",
      "15:44:16 - cmdstanpy - INFO - Chain [1] start processing\n",
      "15:44:16 - cmdstanpy - INFO - Chain [1] done processing\n",
      "15:44:17 - cmdstanpy - INFO - Chain [1] start processing\n"
     ]
    },
    {
     "name": "stdout",
     "output_type": "stream",
     "text": [
      "Training with changepoint_prior_scale=0.5, seasonality_prior_scale=1.0\n"
     ]
    },
    {
     "name": "stderr",
     "output_type": "stream",
     "text": [
      "15:44:17 - cmdstanpy - INFO - Chain [1] done processing\n"
     ]
    },
    {
     "data": {
      "application/vnd.jupyter.widget-view+json": {
       "model_id": "4d5f5485dc254f10916eb03fbd137ab4",
       "version_major": 2,
       "version_minor": 0
      },
      "text/plain": [
       "  0%|          | 0/11 [00:00<?, ?it/s]"
      ]
     },
     "metadata": {},
     "output_type": "display_data"
    },
    {
     "name": "stderr",
     "output_type": "stream",
     "text": [
      "15:44:17 - cmdstanpy - INFO - Chain [1] start processing\n",
      "15:44:18 - cmdstanpy - INFO - Chain [1] done processing\n",
      "15:44:18 - cmdstanpy - INFO - Chain [1] start processing\n",
      "15:44:18 - cmdstanpy - INFO - Chain [1] done processing\n",
      "15:44:18 - cmdstanpy - INFO - Chain [1] start processing\n",
      "15:44:18 - cmdstanpy - INFO - Chain [1] done processing\n",
      "15:44:18 - cmdstanpy - INFO - Chain [1] start processing\n",
      "15:44:19 - cmdstanpy - INFO - Chain [1] done processing\n",
      "15:44:19 - cmdstanpy - INFO - Chain [1] start processing\n",
      "15:44:19 - cmdstanpy - INFO - Chain [1] done processing\n",
      "15:44:19 - cmdstanpy - INFO - Chain [1] start processing\n",
      "15:44:19 - cmdstanpy - INFO - Chain [1] done processing\n",
      "15:44:19 - cmdstanpy - INFO - Chain [1] start processing\n",
      "15:44:19 - cmdstanpy - INFO - Chain [1] done processing\n",
      "15:44:19 - cmdstanpy - INFO - Chain [1] start processing\n",
      "15:44:20 - cmdstanpy - INFO - Chain [1] done processing\n",
      "15:44:20 - cmdstanpy - INFO - Chain [1] start processing\n",
      "15:44:20 - cmdstanpy - INFO - Chain [1] done processing\n",
      "15:44:20 - cmdstanpy - INFO - Chain [1] start processing\n",
      "15:44:20 - cmdstanpy - INFO - Chain [1] done processing\n",
      "15:44:20 - cmdstanpy - INFO - Chain [1] start processing\n",
      "15:44:21 - cmdstanpy - INFO - Chain [1] done processing\n",
      "15:44:21 - cmdstanpy - INFO - Chain [1] start processing\n"
     ]
    },
    {
     "name": "stdout",
     "output_type": "stream",
     "text": [
      "Training with changepoint_prior_scale=0.5, seasonality_prior_scale=10.0\n"
     ]
    },
    {
     "name": "stderr",
     "output_type": "stream",
     "text": [
      "15:44:22 - cmdstanpy - INFO - Chain [1] done processing\n"
     ]
    },
    {
     "data": {
      "application/vnd.jupyter.widget-view+json": {
       "model_id": "6e45044980f04b3da5b5d43414bd2c00",
       "version_major": 2,
       "version_minor": 0
      },
      "text/plain": [
       "  0%|          | 0/11 [00:00<?, ?it/s]"
      ]
     },
     "metadata": {},
     "output_type": "display_data"
    },
    {
     "name": "stderr",
     "output_type": "stream",
     "text": [
      "15:44:22 - cmdstanpy - INFO - Chain [1] start processing\n",
      "15:44:22 - cmdstanpy - INFO - Chain [1] done processing\n",
      "15:44:22 - cmdstanpy - INFO - Chain [1] start processing\n",
      "15:44:23 - cmdstanpy - INFO - Chain [1] done processing\n",
      "15:44:23 - cmdstanpy - INFO - Chain [1] start processing\n",
      "15:44:23 - cmdstanpy - INFO - Chain [1] done processing\n",
      "15:44:23 - cmdstanpy - INFO - Chain [1] start processing\n",
      "15:44:23 - cmdstanpy - INFO - Chain [1] done processing\n",
      "15:44:23 - cmdstanpy - INFO - Chain [1] start processing\n",
      "15:44:23 - cmdstanpy - INFO - Chain [1] done processing\n",
      "15:44:24 - cmdstanpy - INFO - Chain [1] start processing\n",
      "15:44:24 - cmdstanpy - INFO - Chain [1] done processing\n",
      "15:44:24 - cmdstanpy - INFO - Chain [1] start processing\n",
      "15:44:24 - cmdstanpy - INFO - Chain [1] done processing\n",
      "15:44:24 - cmdstanpy - INFO - Chain [1] start processing\n",
      "15:44:25 - cmdstanpy - INFO - Chain [1] done processing\n",
      "15:44:25 - cmdstanpy - INFO - Chain [1] start processing\n",
      "15:44:25 - cmdstanpy - INFO - Chain [1] done processing\n",
      "15:44:25 - cmdstanpy - INFO - Chain [1] start processing\n",
      "15:44:26 - cmdstanpy - INFO - Chain [1] done processing\n",
      "15:44:26 - cmdstanpy - INFO - Chain [1] start processing\n",
      "15:44:26 - cmdstanpy - INFO - Chain [1] done processing\n",
      "Tuning cs subdisciplines:  57%|██████████▉        | 23/40 [05:56<04:58, 17.56s/it, Processing cs.LO]"
     ]
    },
    {
     "name": "stdout",
     "output_type": "stream",
     "text": [
      "\n",
      "Best Parameters:\n",
      "changepoint_prior_scale      0.50000\n",
      "seasonality_prior_scale     10.00000\n",
      "rmse                       192.09875\n",
      "Name: 5, dtype: float64\n"
     ]
    },
    {
     "name": "stderr",
     "output_type": "stream",
     "text": [
      "15:44:26 - cmdstanpy - INFO - Chain [1] start processing\n",
      "15:44:27 - cmdstanpy - INFO - Chain [1] done processing\n"
     ]
    },
    {
     "name": "stdout",
     "output_type": "stream",
     "text": [
      "Training with changepoint_prior_scale=0.01, seasonality_prior_scale=1.0\n"
     ]
    },
    {
     "data": {
      "application/vnd.jupyter.widget-view+json": {
       "model_id": "c9b01dcbd7254f21a71a63f9549347ab",
       "version_major": 2,
       "version_minor": 0
      },
      "text/plain": [
       "  0%|          | 0/11 [00:00<?, ?it/s]"
      ]
     },
     "metadata": {},
     "output_type": "display_data"
    },
    {
     "name": "stderr",
     "output_type": "stream",
     "text": [
      "15:44:27 - cmdstanpy - INFO - Chain [1] start processing\n",
      "15:44:27 - cmdstanpy - INFO - Chain [1] done processing\n",
      "15:44:27 - cmdstanpy - INFO - Chain [1] start processing\n",
      "15:44:27 - cmdstanpy - INFO - Chain [1] done processing\n",
      "15:44:27 - cmdstanpy - INFO - Chain [1] start processing\n",
      "15:44:27 - cmdstanpy - INFO - Chain [1] done processing\n",
      "15:44:27 - cmdstanpy - INFO - Chain [1] start processing\n",
      "15:44:27 - cmdstanpy - INFO - Chain [1] done processing\n",
      "15:44:27 - cmdstanpy - INFO - Chain [1] start processing\n",
      "15:44:27 - cmdstanpy - INFO - Chain [1] done processing\n",
      "15:44:27 - cmdstanpy - INFO - Chain [1] start processing\n",
      "15:44:27 - cmdstanpy - INFO - Chain [1] done processing\n",
      "15:44:27 - cmdstanpy - INFO - Chain [1] start processing\n",
      "15:44:28 - cmdstanpy - INFO - Chain [1] done processing\n",
      "15:44:28 - cmdstanpy - INFO - Chain [1] start processing\n",
      "15:44:28 - cmdstanpy - INFO - Chain [1] done processing\n",
      "15:44:28 - cmdstanpy - INFO - Chain [1] start processing\n",
      "15:44:28 - cmdstanpy - INFO - Chain [1] done processing\n",
      "15:44:28 - cmdstanpy - INFO - Chain [1] start processing\n",
      "15:44:28 - cmdstanpy - INFO - Chain [1] done processing\n",
      "15:44:28 - cmdstanpy - INFO - Chain [1] start processing\n",
      "15:44:28 - cmdstanpy - INFO - Chain [1] done processing\n",
      "15:44:28 - cmdstanpy - INFO - Chain [1] start processing\n",
      "15:44:28 - cmdstanpy - INFO - Chain [1] done processing\n"
     ]
    },
    {
     "name": "stdout",
     "output_type": "stream",
     "text": [
      "Training with changepoint_prior_scale=0.01, seasonality_prior_scale=10.0\n"
     ]
    },
    {
     "data": {
      "application/vnd.jupyter.widget-view+json": {
       "model_id": "a4b447aa2ded4233bf2fc286fc4386d1",
       "version_major": 2,
       "version_minor": 0
      },
      "text/plain": [
       "  0%|          | 0/11 [00:00<?, ?it/s]"
      ]
     },
     "metadata": {},
     "output_type": "display_data"
    },
    {
     "name": "stderr",
     "output_type": "stream",
     "text": [
      "15:44:29 - cmdstanpy - INFO - Chain [1] start processing\n",
      "15:44:29 - cmdstanpy - INFO - Chain [1] done processing\n",
      "15:44:29 - cmdstanpy - INFO - Chain [1] start processing\n",
      "15:44:29 - cmdstanpy - INFO - Chain [1] done processing\n",
      "15:44:29 - cmdstanpy - INFO - Chain [1] start processing\n",
      "15:44:29 - cmdstanpy - INFO - Chain [1] done processing\n",
      "15:44:29 - cmdstanpy - INFO - Chain [1] start processing\n",
      "15:44:29 - cmdstanpy - INFO - Chain [1] done processing\n",
      "15:44:29 - cmdstanpy - INFO - Chain [1] start processing\n",
      "15:44:29 - cmdstanpy - INFO - Chain [1] done processing\n",
      "15:44:29 - cmdstanpy - INFO - Chain [1] start processing\n",
      "15:44:29 - cmdstanpy - INFO - Chain [1] done processing\n",
      "15:44:29 - cmdstanpy - INFO - Chain [1] start processing\n",
      "15:44:29 - cmdstanpy - INFO - Chain [1] done processing\n",
      "15:44:30 - cmdstanpy - INFO - Chain [1] start processing\n",
      "15:44:30 - cmdstanpy - INFO - Chain [1] done processing\n",
      "15:44:30 - cmdstanpy - INFO - Chain [1] start processing\n",
      "15:44:30 - cmdstanpy - INFO - Chain [1] done processing\n",
      "15:44:30 - cmdstanpy - INFO - Chain [1] start processing\n",
      "15:44:30 - cmdstanpy - INFO - Chain [1] done processing\n",
      "15:44:30 - cmdstanpy - INFO - Chain [1] start processing\n",
      "15:44:30 - cmdstanpy - INFO - Chain [1] done processing\n",
      "15:44:30 - cmdstanpy - INFO - Chain [1] start processing\n",
      "15:44:30 - cmdstanpy - INFO - Chain [1] done processing\n"
     ]
    },
    {
     "name": "stdout",
     "output_type": "stream",
     "text": [
      "Training with changepoint_prior_scale=0.1, seasonality_prior_scale=1.0\n"
     ]
    },
    {
     "data": {
      "application/vnd.jupyter.widget-view+json": {
       "model_id": "d140d15319c744479c2e901eb42c4a7d",
       "version_major": 2,
       "version_minor": 0
      },
      "text/plain": [
       "  0%|          | 0/11 [00:00<?, ?it/s]"
      ]
     },
     "metadata": {},
     "output_type": "display_data"
    },
    {
     "name": "stderr",
     "output_type": "stream",
     "text": [
      "15:44:30 - cmdstanpy - INFO - Chain [1] start processing\n",
      "15:44:30 - cmdstanpy - INFO - Chain [1] done processing\n",
      "15:44:31 - cmdstanpy - INFO - Chain [1] start processing\n",
      "15:44:31 - cmdstanpy - INFO - Chain [1] done processing\n",
      "15:44:31 - cmdstanpy - INFO - Chain [1] start processing\n",
      "15:44:31 - cmdstanpy - INFO - Chain [1] done processing\n",
      "15:44:31 - cmdstanpy - INFO - Chain [1] start processing\n",
      "15:44:31 - cmdstanpy - INFO - Chain [1] done processing\n",
      "15:44:31 - cmdstanpy - INFO - Chain [1] start processing\n",
      "15:44:31 - cmdstanpy - INFO - Chain [1] done processing\n",
      "15:44:31 - cmdstanpy - INFO - Chain [1] start processing\n",
      "15:44:31 - cmdstanpy - INFO - Chain [1] done processing\n",
      "15:44:31 - cmdstanpy - INFO - Chain [1] start processing\n",
      "15:44:31 - cmdstanpy - INFO - Chain [1] done processing\n",
      "15:44:31 - cmdstanpy - INFO - Chain [1] start processing\n",
      "15:44:31 - cmdstanpy - INFO - Chain [1] done processing\n",
      "15:44:32 - cmdstanpy - INFO - Chain [1] start processing\n",
      "15:44:32 - cmdstanpy - INFO - Chain [1] done processing\n",
      "15:44:32 - cmdstanpy - INFO - Chain [1] start processing\n",
      "15:44:32 - cmdstanpy - INFO - Chain [1] done processing\n",
      "15:44:32 - cmdstanpy - INFO - Chain [1] start processing\n",
      "15:44:32 - cmdstanpy - INFO - Chain [1] done processing\n",
      "15:44:32 - cmdstanpy - INFO - Chain [1] start processing\n",
      "15:44:32 - cmdstanpy - INFO - Chain [1] done processing\n"
     ]
    },
    {
     "name": "stdout",
     "output_type": "stream",
     "text": [
      "Training with changepoint_prior_scale=0.1, seasonality_prior_scale=10.0\n"
     ]
    },
    {
     "data": {
      "application/vnd.jupyter.widget-view+json": {
       "model_id": "a5292ff6780744daae919c07940053a9",
       "version_major": 2,
       "version_minor": 0
      },
      "text/plain": [
       "  0%|          | 0/11 [00:00<?, ?it/s]"
      ]
     },
     "metadata": {},
     "output_type": "display_data"
    },
    {
     "name": "stderr",
     "output_type": "stream",
     "text": [
      "15:44:32 - cmdstanpy - INFO - Chain [1] start processing\n",
      "15:44:32 - cmdstanpy - INFO - Chain [1] done processing\n",
      "15:44:32 - cmdstanpy - INFO - Chain [1] start processing\n",
      "15:44:33 - cmdstanpy - INFO - Chain [1] done processing\n",
      "15:44:33 - cmdstanpy - INFO - Chain [1] start processing\n",
      "15:44:33 - cmdstanpy - INFO - Chain [1] done processing\n",
      "15:44:33 - cmdstanpy - INFO - Chain [1] start processing\n",
      "15:44:33 - cmdstanpy - INFO - Chain [1] done processing\n",
      "15:44:33 - cmdstanpy - INFO - Chain [1] start processing\n",
      "15:44:33 - cmdstanpy - INFO - Chain [1] done processing\n",
      "15:44:33 - cmdstanpy - INFO - Chain [1] start processing\n",
      "15:44:33 - cmdstanpy - INFO - Chain [1] done processing\n",
      "15:44:33 - cmdstanpy - INFO - Chain [1] start processing\n",
      "15:44:33 - cmdstanpy - INFO - Chain [1] done processing\n",
      "15:44:33 - cmdstanpy - INFO - Chain [1] start processing\n",
      "15:44:33 - cmdstanpy - INFO - Chain [1] done processing\n",
      "15:44:34 - cmdstanpy - INFO - Chain [1] start processing\n",
      "15:44:34 - cmdstanpy - INFO - Chain [1] done processing\n",
      "15:44:34 - cmdstanpy - INFO - Chain [1] start processing\n",
      "15:44:34 - cmdstanpy - INFO - Chain [1] done processing\n",
      "15:44:34 - cmdstanpy - INFO - Chain [1] start processing\n",
      "15:44:34 - cmdstanpy - INFO - Chain [1] done processing\n",
      "15:44:34 - cmdstanpy - INFO - Chain [1] start processing\n"
     ]
    },
    {
     "name": "stdout",
     "output_type": "stream",
     "text": [
      "Training with changepoint_prior_scale=0.5, seasonality_prior_scale=1.0\n"
     ]
    },
    {
     "name": "stderr",
     "output_type": "stream",
     "text": [
      "15:44:34 - cmdstanpy - INFO - Chain [1] done processing\n"
     ]
    },
    {
     "data": {
      "application/vnd.jupyter.widget-view+json": {
       "model_id": "159a1548bab5453c9762581df39cb77a",
       "version_major": 2,
       "version_minor": 0
      },
      "text/plain": [
       "  0%|          | 0/11 [00:00<?, ?it/s]"
      ]
     },
     "metadata": {},
     "output_type": "display_data"
    },
    {
     "name": "stderr",
     "output_type": "stream",
     "text": [
      "15:44:34 - cmdstanpy - INFO - Chain [1] start processing\n",
      "15:44:34 - cmdstanpy - INFO - Chain [1] done processing\n",
      "15:44:35 - cmdstanpy - INFO - Chain [1] start processing\n",
      "15:44:35 - cmdstanpy - INFO - Chain [1] done processing\n",
      "15:44:35 - cmdstanpy - INFO - Chain [1] start processing\n",
      "15:44:35 - cmdstanpy - INFO - Chain [1] done processing\n",
      "15:44:35 - cmdstanpy - INFO - Chain [1] start processing\n",
      "15:44:35 - cmdstanpy - INFO - Chain [1] done processing\n",
      "15:44:35 - cmdstanpy - INFO - Chain [1] start processing\n",
      "15:44:35 - cmdstanpy - INFO - Chain [1] done processing\n",
      "15:44:35 - cmdstanpy - INFO - Chain [1] start processing\n",
      "15:44:35 - cmdstanpy - INFO - Chain [1] done processing\n",
      "15:44:35 - cmdstanpy - INFO - Chain [1] start processing\n",
      "15:44:35 - cmdstanpy - INFO - Chain [1] done processing\n",
      "15:44:36 - cmdstanpy - INFO - Chain [1] start processing\n",
      "15:44:36 - cmdstanpy - INFO - Chain [1] done processing\n",
      "15:44:36 - cmdstanpy - INFO - Chain [1] start processing\n",
      "15:44:36 - cmdstanpy - INFO - Chain [1] done processing\n",
      "15:44:36 - cmdstanpy - INFO - Chain [1] start processing\n",
      "15:44:36 - cmdstanpy - INFO - Chain [1] done processing\n",
      "15:44:36 - cmdstanpy - INFO - Chain [1] start processing\n",
      "15:44:36 - cmdstanpy - INFO - Chain [1] done processing\n",
      "15:44:37 - cmdstanpy - INFO - Chain [1] start processing\n",
      "15:44:37 - cmdstanpy - INFO - Chain [1] done processing\n"
     ]
    },
    {
     "name": "stdout",
     "output_type": "stream",
     "text": [
      "Training with changepoint_prior_scale=0.5, seasonality_prior_scale=10.0\n"
     ]
    },
    {
     "data": {
      "application/vnd.jupyter.widget-view+json": {
       "model_id": "7162b1182c074283a4fc77fb16e325da",
       "version_major": 2,
       "version_minor": 0
      },
      "text/plain": [
       "  0%|          | 0/11 [00:00<?, ?it/s]"
      ]
     },
     "metadata": {},
     "output_type": "display_data"
    },
    {
     "name": "stderr",
     "output_type": "stream",
     "text": [
      "15:44:37 - cmdstanpy - INFO - Chain [1] start processing\n",
      "15:44:37 - cmdstanpy - INFO - Chain [1] done processing\n",
      "15:44:37 - cmdstanpy - INFO - Chain [1] start processing\n",
      "15:44:37 - cmdstanpy - INFO - Chain [1] done processing\n",
      "15:44:37 - cmdstanpy - INFO - Chain [1] start processing\n",
      "15:44:37 - cmdstanpy - INFO - Chain [1] done processing\n",
      "15:44:37 - cmdstanpy - INFO - Chain [1] start processing\n",
      "15:44:37 - cmdstanpy - INFO - Chain [1] done processing\n",
      "15:44:37 - cmdstanpy - INFO - Chain [1] start processing\n",
      "15:44:37 - cmdstanpy - INFO - Chain [1] done processing\n",
      "15:44:38 - cmdstanpy - INFO - Chain [1] start processing\n",
      "15:44:38 - cmdstanpy - INFO - Chain [1] done processing\n",
      "15:44:38 - cmdstanpy - INFO - Chain [1] start processing\n",
      "15:44:38 - cmdstanpy - INFO - Chain [1] done processing\n",
      "15:44:38 - cmdstanpy - INFO - Chain [1] start processing\n",
      "15:44:38 - cmdstanpy - INFO - Chain [1] done processing\n",
      "15:44:38 - cmdstanpy - INFO - Chain [1] start processing\n",
      "15:44:38 - cmdstanpy - INFO - Chain [1] done processing\n",
      "15:44:38 - cmdstanpy - INFO - Chain [1] start processing\n",
      "15:44:38 - cmdstanpy - INFO - Chain [1] done processing\n",
      "15:44:38 - cmdstanpy - INFO - Chain [1] start processing\n",
      "15:44:38 - cmdstanpy - INFO - Chain [1] done processing\n",
      "Tuning cs subdisciplines:  60%|███████████▍       | 24/40 [06:08<04:16, 16.04s/it, Processing cs.MA]"
     ]
    },
    {
     "name": "stdout",
     "output_type": "stream",
     "text": [
      "\n",
      "Best Parameters:\n",
      "changepoint_prior_scale     0.010000\n",
      "seasonality_prior_scale    10.000000\n",
      "rmse                       10.687074\n",
      "Name: 1, dtype: float64\n"
     ]
    },
    {
     "name": "stderr",
     "output_type": "stream",
     "text": [
      "15:44:39 - cmdstanpy - INFO - Chain [1] start processing\n",
      "15:44:39 - cmdstanpy - INFO - Chain [1] done processing\n"
     ]
    },
    {
     "name": "stdout",
     "output_type": "stream",
     "text": [
      "Training with changepoint_prior_scale=0.01, seasonality_prior_scale=1.0\n"
     ]
    },
    {
     "data": {
      "application/vnd.jupyter.widget-view+json": {
       "model_id": "99c7a6c61b7740b4a85d6cf16b3a84e9",
       "version_major": 2,
       "version_minor": 0
      },
      "text/plain": [
       "  0%|          | 0/11 [00:00<?, ?it/s]"
      ]
     },
     "metadata": {},
     "output_type": "display_data"
    },
    {
     "name": "stderr",
     "output_type": "stream",
     "text": [
      "15:44:39 - cmdstanpy - INFO - Chain [1] start processing\n",
      "15:44:39 - cmdstanpy - INFO - Chain [1] done processing\n",
      "15:44:39 - cmdstanpy - INFO - Chain [1] start processing\n",
      "15:44:39 - cmdstanpy - INFO - Chain [1] done processing\n",
      "15:44:39 - cmdstanpy - INFO - Chain [1] start processing\n",
      "15:44:40 - cmdstanpy - INFO - Chain [1] done processing\n",
      "15:44:40 - cmdstanpy - INFO - Chain [1] start processing\n",
      "15:44:40 - cmdstanpy - INFO - Chain [1] done processing\n",
      "15:44:40 - cmdstanpy - INFO - Chain [1] start processing\n",
      "15:44:40 - cmdstanpy - INFO - Chain [1] done processing\n",
      "15:44:40 - cmdstanpy - INFO - Chain [1] start processing\n",
      "15:44:40 - cmdstanpy - INFO - Chain [1] done processing\n",
      "15:44:40 - cmdstanpy - INFO - Chain [1] start processing\n",
      "15:44:40 - cmdstanpy - INFO - Chain [1] done processing\n",
      "15:44:40 - cmdstanpy - INFO - Chain [1] start processing\n",
      "15:44:40 - cmdstanpy - INFO - Chain [1] done processing\n",
      "15:44:40 - cmdstanpy - INFO - Chain [1] start processing\n",
      "15:44:41 - cmdstanpy - INFO - Chain [1] done processing\n",
      "15:44:41 - cmdstanpy - INFO - Chain [1] start processing\n",
      "15:44:41 - cmdstanpy - INFO - Chain [1] done processing\n",
      "15:44:41 - cmdstanpy - INFO - Chain [1] start processing\n",
      "15:44:41 - cmdstanpy - INFO - Chain [1] done processing\n",
      "15:44:41 - cmdstanpy - INFO - Chain [1] start processing\n",
      "15:44:41 - cmdstanpy - INFO - Chain [1] done processing\n"
     ]
    },
    {
     "name": "stdout",
     "output_type": "stream",
     "text": [
      "Training with changepoint_prior_scale=0.01, seasonality_prior_scale=10.0\n"
     ]
    },
    {
     "data": {
      "application/vnd.jupyter.widget-view+json": {
       "model_id": "6060de97f698414c95d2210cce10f999",
       "version_major": 2,
       "version_minor": 0
      },
      "text/plain": [
       "  0%|          | 0/11 [00:00<?, ?it/s]"
      ]
     },
     "metadata": {},
     "output_type": "display_data"
    },
    {
     "name": "stderr",
     "output_type": "stream",
     "text": [
      "15:44:41 - cmdstanpy - INFO - Chain [1] start processing\n",
      "15:44:41 - cmdstanpy - INFO - Chain [1] done processing\n",
      "15:44:41 - cmdstanpy - INFO - Chain [1] start processing\n",
      "15:44:41 - cmdstanpy - INFO - Chain [1] done processing\n",
      "15:44:42 - cmdstanpy - INFO - Chain [1] start processing\n",
      "15:44:42 - cmdstanpy - INFO - Chain [1] done processing\n",
      "15:44:42 - cmdstanpy - INFO - Chain [1] start processing\n",
      "15:44:42 - cmdstanpy - INFO - Chain [1] done processing\n",
      "15:44:42 - cmdstanpy - INFO - Chain [1] start processing\n",
      "15:44:42 - cmdstanpy - INFO - Chain [1] done processing\n",
      "15:44:42 - cmdstanpy - INFO - Chain [1] start processing\n",
      "15:44:42 - cmdstanpy - INFO - Chain [1] done processing\n",
      "15:44:42 - cmdstanpy - INFO - Chain [1] start processing\n",
      "15:44:42 - cmdstanpy - INFO - Chain [1] done processing\n",
      "15:44:42 - cmdstanpy - INFO - Chain [1] start processing\n",
      "15:44:43 - cmdstanpy - INFO - Chain [1] done processing\n",
      "15:44:43 - cmdstanpy - INFO - Chain [1] start processing\n",
      "15:44:43 - cmdstanpy - INFO - Chain [1] done processing\n",
      "15:44:43 - cmdstanpy - INFO - Chain [1] start processing\n",
      "15:44:43 - cmdstanpy - INFO - Chain [1] done processing\n",
      "15:44:43 - cmdstanpy - INFO - Chain [1] start processing\n",
      "15:44:43 - cmdstanpy - INFO - Chain [1] done processing\n",
      "15:44:43 - cmdstanpy - INFO - Chain [1] start processing\n",
      "15:44:43 - cmdstanpy - INFO - Chain [1] done processing\n"
     ]
    },
    {
     "name": "stdout",
     "output_type": "stream",
     "text": [
      "Training with changepoint_prior_scale=0.1, seasonality_prior_scale=1.0\n"
     ]
    },
    {
     "data": {
      "application/vnd.jupyter.widget-view+json": {
       "model_id": "d1b9915ea9994b5da54b70b8674c1f68",
       "version_major": 2,
       "version_minor": 0
      },
      "text/plain": [
       "  0%|          | 0/11 [00:00<?, ?it/s]"
      ]
     },
     "metadata": {},
     "output_type": "display_data"
    },
    {
     "name": "stderr",
     "output_type": "stream",
     "text": [
      "15:44:44 - cmdstanpy - INFO - Chain [1] start processing\n",
      "15:44:44 - cmdstanpy - INFO - Chain [1] done processing\n",
      "15:44:44 - cmdstanpy - INFO - Chain [1] start processing\n",
      "15:44:44 - cmdstanpy - INFO - Chain [1] done processing\n",
      "15:44:44 - cmdstanpy - INFO - Chain [1] start processing\n",
      "15:44:44 - cmdstanpy - INFO - Chain [1] done processing\n",
      "15:44:44 - cmdstanpy - INFO - Chain [1] start processing\n",
      "15:44:44 - cmdstanpy - INFO - Chain [1] done processing\n",
      "15:44:44 - cmdstanpy - INFO - Chain [1] start processing\n",
      "15:44:44 - cmdstanpy - INFO - Chain [1] done processing\n",
      "15:44:44 - cmdstanpy - INFO - Chain [1] start processing\n",
      "15:44:44 - cmdstanpy - INFO - Chain [1] done processing\n",
      "15:44:44 - cmdstanpy - INFO - Chain [1] start processing\n",
      "15:44:45 - cmdstanpy - INFO - Chain [1] done processing\n",
      "15:44:45 - cmdstanpy - INFO - Chain [1] start processing\n",
      "15:44:45 - cmdstanpy - INFO - Chain [1] done processing\n",
      "15:44:45 - cmdstanpy - INFO - Chain [1] start processing\n",
      "15:44:45 - cmdstanpy - INFO - Chain [1] done processing\n",
      "15:44:45 - cmdstanpy - INFO - Chain [1] start processing\n",
      "15:44:45 - cmdstanpy - INFO - Chain [1] done processing\n",
      "15:44:45 - cmdstanpy - INFO - Chain [1] start processing\n",
      "15:44:45 - cmdstanpy - INFO - Chain [1] done processing\n",
      "15:44:46 - cmdstanpy - INFO - Chain [1] start processing\n",
      "15:44:46 - cmdstanpy - INFO - Chain [1] done processing\n"
     ]
    },
    {
     "name": "stdout",
     "output_type": "stream",
     "text": [
      "Training with changepoint_prior_scale=0.1, seasonality_prior_scale=10.0\n"
     ]
    },
    {
     "data": {
      "application/vnd.jupyter.widget-view+json": {
       "model_id": "35162765798c4ca4b3759af409be8813",
       "version_major": 2,
       "version_minor": 0
      },
      "text/plain": [
       "  0%|          | 0/11 [00:00<?, ?it/s]"
      ]
     },
     "metadata": {},
     "output_type": "display_data"
    },
    {
     "name": "stderr",
     "output_type": "stream",
     "text": [
      "15:44:46 - cmdstanpy - INFO - Chain [1] start processing\n",
      "15:44:46 - cmdstanpy - INFO - Chain [1] done processing\n",
      "15:44:46 - cmdstanpy - INFO - Chain [1] start processing\n",
      "15:44:46 - cmdstanpy - INFO - Chain [1] done processing\n",
      "15:44:46 - cmdstanpy - INFO - Chain [1] start processing\n",
      "15:44:46 - cmdstanpy - INFO - Chain [1] done processing\n",
      "15:44:46 - cmdstanpy - INFO - Chain [1] start processing\n",
      "15:44:46 - cmdstanpy - INFO - Chain [1] done processing\n",
      "15:44:46 - cmdstanpy - INFO - Chain [1] start processing\n",
      "15:44:46 - cmdstanpy - INFO - Chain [1] done processing\n",
      "15:44:47 - cmdstanpy - INFO - Chain [1] start processing\n",
      "15:44:47 - cmdstanpy - INFO - Chain [1] done processing\n",
      "15:44:47 - cmdstanpy - INFO - Chain [1] start processing\n",
      "15:44:47 - cmdstanpy - INFO - Chain [1] done processing\n",
      "15:44:47 - cmdstanpy - INFO - Chain [1] start processing\n",
      "15:44:47 - cmdstanpy - INFO - Chain [1] done processing\n",
      "15:44:47 - cmdstanpy - INFO - Chain [1] start processing\n",
      "15:44:47 - cmdstanpy - INFO - Chain [1] done processing\n",
      "15:44:47 - cmdstanpy - INFO - Chain [1] start processing\n",
      "15:44:47 - cmdstanpy - INFO - Chain [1] done processing\n",
      "15:44:47 - cmdstanpy - INFO - Chain [1] start processing\n",
      "15:44:47 - cmdstanpy - INFO - Chain [1] done processing\n",
      "15:44:48 - cmdstanpy - INFO - Chain [1] start processing\n"
     ]
    },
    {
     "name": "stdout",
     "output_type": "stream",
     "text": [
      "Training with changepoint_prior_scale=0.5, seasonality_prior_scale=1.0\n"
     ]
    },
    {
     "name": "stderr",
     "output_type": "stream",
     "text": [
      "15:44:48 - cmdstanpy - INFO - Chain [1] done processing\n"
     ]
    },
    {
     "data": {
      "application/vnd.jupyter.widget-view+json": {
       "model_id": "f2afac63844f4a7e8b781e34a1fba473",
       "version_major": 2,
       "version_minor": 0
      },
      "text/plain": [
       "  0%|          | 0/11 [00:00<?, ?it/s]"
      ]
     },
     "metadata": {},
     "output_type": "display_data"
    },
    {
     "name": "stderr",
     "output_type": "stream",
     "text": [
      "15:44:48 - cmdstanpy - INFO - Chain [1] start processing\n",
      "15:44:48 - cmdstanpy - INFO - Chain [1] done processing\n",
      "15:44:48 - cmdstanpy - INFO - Chain [1] start processing\n",
      "15:44:48 - cmdstanpy - INFO - Chain [1] done processing\n",
      "15:44:48 - cmdstanpy - INFO - Chain [1] start processing\n",
      "15:44:48 - cmdstanpy - INFO - Chain [1] done processing\n",
      "15:44:49 - cmdstanpy - INFO - Chain [1] start processing\n",
      "15:44:49 - cmdstanpy - INFO - Chain [1] done processing\n",
      "15:44:49 - cmdstanpy - INFO - Chain [1] start processing\n",
      "15:44:49 - cmdstanpy - INFO - Chain [1] done processing\n",
      "15:44:49 - cmdstanpy - INFO - Chain [1] start processing\n",
      "15:44:49 - cmdstanpy - INFO - Chain [1] done processing\n",
      "15:44:49 - cmdstanpy - INFO - Chain [1] start processing\n",
      "15:44:49 - cmdstanpy - INFO - Chain [1] done processing\n",
      "15:44:49 - cmdstanpy - INFO - Chain [1] start processing\n",
      "15:44:50 - cmdstanpy - INFO - Chain [1] done processing\n",
      "15:44:50 - cmdstanpy - INFO - Chain [1] start processing\n",
      "15:44:50 - cmdstanpy - INFO - Chain [1] done processing\n",
      "15:44:50 - cmdstanpy - INFO - Chain [1] start processing\n",
      "15:44:50 - cmdstanpy - INFO - Chain [1] done processing\n",
      "15:44:50 - cmdstanpy - INFO - Chain [1] start processing\n",
      "15:44:50 - cmdstanpy - INFO - Chain [1] done processing\n",
      "15:44:51 - cmdstanpy - INFO - Chain [1] start processing\n"
     ]
    },
    {
     "name": "stdout",
     "output_type": "stream",
     "text": [
      "Training with changepoint_prior_scale=0.5, seasonality_prior_scale=10.0\n"
     ]
    },
    {
     "name": "stderr",
     "output_type": "stream",
     "text": [
      "15:44:51 - cmdstanpy - INFO - Chain [1] done processing\n"
     ]
    },
    {
     "data": {
      "application/vnd.jupyter.widget-view+json": {
       "model_id": "8adc9593c9504855941efd09fdce6c29",
       "version_major": 2,
       "version_minor": 0
      },
      "text/plain": [
       "  0%|          | 0/11 [00:00<?, ?it/s]"
      ]
     },
     "metadata": {},
     "output_type": "display_data"
    },
    {
     "name": "stderr",
     "output_type": "stream",
     "text": [
      "15:44:51 - cmdstanpy - INFO - Chain [1] start processing\n",
      "15:44:51 - cmdstanpy - INFO - Chain [1] done processing\n",
      "15:44:51 - cmdstanpy - INFO - Chain [1] start processing\n",
      "15:44:52 - cmdstanpy - INFO - Chain [1] done processing\n",
      "15:44:52 - cmdstanpy - INFO - Chain [1] start processing\n",
      "15:44:52 - cmdstanpy - INFO - Chain [1] done processing\n",
      "15:44:52 - cmdstanpy - INFO - Chain [1] start processing\n",
      "15:44:52 - cmdstanpy - INFO - Chain [1] done processing\n",
      "15:44:52 - cmdstanpy - INFO - Chain [1] start processing\n",
      "15:44:52 - cmdstanpy - INFO - Chain [1] done processing\n",
      "15:44:52 - cmdstanpy - INFO - Chain [1] start processing\n",
      "15:44:52 - cmdstanpy - INFO - Chain [1] done processing\n",
      "15:44:52 - cmdstanpy - INFO - Chain [1] start processing\n",
      "15:44:53 - cmdstanpy - INFO - Chain [1] done processing\n",
      "15:44:53 - cmdstanpy - INFO - Chain [1] start processing\n",
      "15:44:53 - cmdstanpy - INFO - Chain [1] done processing\n",
      "15:44:53 - cmdstanpy - INFO - Chain [1] start processing\n",
      "15:44:53 - cmdstanpy - INFO - Chain [1] done processing\n",
      "15:44:53 - cmdstanpy - INFO - Chain [1] start processing\n",
      "15:44:53 - cmdstanpy - INFO - Chain [1] done processing\n",
      "15:44:53 - cmdstanpy - INFO - Chain [1] start processing\n",
      "15:44:54 - cmdstanpy - INFO - Chain [1] done processing\n",
      "Tuning cs subdisciplines:  62%|███████████▉       | 25/40 [06:23<03:56, 15.78s/it, Processing cs.MM]"
     ]
    },
    {
     "name": "stdout",
     "output_type": "stream",
     "text": [
      "\n",
      "Best Parameters:\n",
      "changepoint_prior_scale    0.500000\n",
      "seasonality_prior_scale    1.000000\n",
      "rmse                       8.423516\n",
      "Name: 4, dtype: float64\n"
     ]
    },
    {
     "name": "stderr",
     "output_type": "stream",
     "text": [
      "15:44:54 - cmdstanpy - INFO - Chain [1] start processing\n",
      "15:44:54 - cmdstanpy - INFO - Chain [1] done processing\n"
     ]
    },
    {
     "name": "stdout",
     "output_type": "stream",
     "text": [
      "Training with changepoint_prior_scale=0.01, seasonality_prior_scale=1.0\n"
     ]
    },
    {
     "data": {
      "application/vnd.jupyter.widget-view+json": {
       "model_id": "8653821567fb46e4ad27f16b417c59d4",
       "version_major": 2,
       "version_minor": 0
      },
      "text/plain": [
       "  0%|          | 0/10 [00:00<?, ?it/s]"
      ]
     },
     "metadata": {},
     "output_type": "display_data"
    },
    {
     "name": "stderr",
     "output_type": "stream",
     "text": [
      "15:44:54 - cmdstanpy - INFO - Chain [1] start processing\n",
      "15:44:54 - cmdstanpy - INFO - Chain [1] done processing\n",
      "15:44:54 - cmdstanpy - INFO - Chain [1] start processing\n",
      "15:44:55 - cmdstanpy - INFO - Chain [1] done processing\n",
      "15:44:55 - cmdstanpy - INFO - Chain [1] start processing\n",
      "15:44:55 - cmdstanpy - INFO - Chain [1] done processing\n",
      "15:44:55 - cmdstanpy - INFO - Chain [1] start processing\n",
      "15:44:55 - cmdstanpy - INFO - Chain [1] done processing\n",
      "15:44:55 - cmdstanpy - INFO - Chain [1] start processing\n",
      "15:44:55 - cmdstanpy - INFO - Chain [1] done processing\n",
      "15:44:55 - cmdstanpy - INFO - Chain [1] start processing\n",
      "15:44:55 - cmdstanpy - INFO - Chain [1] done processing\n",
      "15:44:55 - cmdstanpy - INFO - Chain [1] start processing\n",
      "15:44:55 - cmdstanpy - INFO - Chain [1] done processing\n",
      "15:44:55 - cmdstanpy - INFO - Chain [1] start processing\n",
      "15:44:56 - cmdstanpy - INFO - Chain [1] done processing\n",
      "15:44:56 - cmdstanpy - INFO - Chain [1] start processing\n",
      "15:44:56 - cmdstanpy - INFO - Chain [1] done processing\n",
      "15:44:56 - cmdstanpy - INFO - Chain [1] start processing\n",
      "15:44:56 - cmdstanpy - INFO - Chain [1] done processing\n",
      "15:44:56 - cmdstanpy - INFO - Chain [1] start processing\n",
      "15:44:56 - cmdstanpy - INFO - Chain [1] done processing\n"
     ]
    },
    {
     "name": "stdout",
     "output_type": "stream",
     "text": [
      "Training with changepoint_prior_scale=0.01, seasonality_prior_scale=10.0\n"
     ]
    },
    {
     "data": {
      "application/vnd.jupyter.widget-view+json": {
       "model_id": "5f0f970358e142e98b728425ac32483b",
       "version_major": 2,
       "version_minor": 0
      },
      "text/plain": [
       "  0%|          | 0/10 [00:00<?, ?it/s]"
      ]
     },
     "metadata": {},
     "output_type": "display_data"
    },
    {
     "name": "stderr",
     "output_type": "stream",
     "text": [
      "15:44:56 - cmdstanpy - INFO - Chain [1] start processing\n",
      "15:44:56 - cmdstanpy - INFO - Chain [1] done processing\n",
      "15:44:56 - cmdstanpy - INFO - Chain [1] start processing\n",
      "15:44:57 - cmdstanpy - INFO - Chain [1] done processing\n",
      "15:44:57 - cmdstanpy - INFO - Chain [1] start processing\n",
      "15:44:57 - cmdstanpy - INFO - Chain [1] done processing\n",
      "15:44:57 - cmdstanpy - INFO - Chain [1] start processing\n",
      "15:44:57 - cmdstanpy - INFO - Chain [1] done processing\n",
      "15:44:57 - cmdstanpy - INFO - Chain [1] start processing\n",
      "15:44:57 - cmdstanpy - INFO - Chain [1] done processing\n",
      "15:44:57 - cmdstanpy - INFO - Chain [1] start processing\n",
      "15:44:57 - cmdstanpy - INFO - Chain [1] done processing\n",
      "15:44:57 - cmdstanpy - INFO - Chain [1] start processing\n",
      "15:44:57 - cmdstanpy - INFO - Chain [1] done processing\n",
      "15:44:58 - cmdstanpy - INFO - Chain [1] start processing\n",
      "15:44:58 - cmdstanpy - INFO - Chain [1] done processing\n",
      "15:44:58 - cmdstanpy - INFO - Chain [1] start processing\n",
      "15:44:58 - cmdstanpy - INFO - Chain [1] done processing\n",
      "15:44:58 - cmdstanpy - INFO - Chain [1] start processing\n",
      "15:44:58 - cmdstanpy - INFO - Chain [1] done processing\n",
      "15:44:58 - cmdstanpy - INFO - Chain [1] start processing\n",
      "15:44:58 - cmdstanpy - INFO - Chain [1] done processing\n"
     ]
    },
    {
     "name": "stdout",
     "output_type": "stream",
     "text": [
      "Training with changepoint_prior_scale=0.1, seasonality_prior_scale=1.0\n"
     ]
    },
    {
     "data": {
      "application/vnd.jupyter.widget-view+json": {
       "model_id": "4999bfdc5fcd4b109ce621afb945e109",
       "version_major": 2,
       "version_minor": 0
      },
      "text/plain": [
       "  0%|          | 0/10 [00:00<?, ?it/s]"
      ]
     },
     "metadata": {},
     "output_type": "display_data"
    },
    {
     "name": "stderr",
     "output_type": "stream",
     "text": [
      "15:44:58 - cmdstanpy - INFO - Chain [1] start processing\n",
      "15:44:59 - cmdstanpy - INFO - Chain [1] done processing\n",
      "15:44:59 - cmdstanpy - INFO - Chain [1] start processing\n",
      "15:44:59 - cmdstanpy - INFO - Chain [1] done processing\n",
      "15:44:59 - cmdstanpy - INFO - Chain [1] start processing\n",
      "15:44:59 - cmdstanpy - INFO - Chain [1] done processing\n",
      "15:44:59 - cmdstanpy - INFO - Chain [1] start processing\n",
      "15:44:59 - cmdstanpy - INFO - Chain [1] done processing\n",
      "15:44:59 - cmdstanpy - INFO - Chain [1] start processing\n",
      "15:44:59 - cmdstanpy - INFO - Chain [1] done processing\n",
      "15:44:59 - cmdstanpy - INFO - Chain [1] start processing\n",
      "15:44:59 - cmdstanpy - INFO - Chain [1] done processing\n",
      "15:44:59 - cmdstanpy - INFO - Chain [1] start processing\n",
      "15:44:59 - cmdstanpy - INFO - Chain [1] done processing\n",
      "15:45:00 - cmdstanpy - INFO - Chain [1] start processing\n",
      "15:45:00 - cmdstanpy - INFO - Chain [1] done processing\n",
      "15:45:00 - cmdstanpy - INFO - Chain [1] start processing\n",
      "15:45:00 - cmdstanpy - INFO - Chain [1] done processing\n",
      "15:45:00 - cmdstanpy - INFO - Chain [1] start processing\n",
      "15:45:00 - cmdstanpy - INFO - Chain [1] done processing\n",
      "15:45:00 - cmdstanpy - INFO - Chain [1] start processing\n",
      "15:45:00 - cmdstanpy - INFO - Chain [1] done processing\n"
     ]
    },
    {
     "name": "stdout",
     "output_type": "stream",
     "text": [
      "Training with changepoint_prior_scale=0.1, seasonality_prior_scale=10.0\n"
     ]
    },
    {
     "data": {
      "application/vnd.jupyter.widget-view+json": {
       "model_id": "63962c1814de4700a8df9fa4bfaeb810",
       "version_major": 2,
       "version_minor": 0
      },
      "text/plain": [
       "  0%|          | 0/10 [00:00<?, ?it/s]"
      ]
     },
     "metadata": {},
     "output_type": "display_data"
    },
    {
     "name": "stderr",
     "output_type": "stream",
     "text": [
      "15:45:00 - cmdstanpy - INFO - Chain [1] start processing\n",
      "15:45:00 - cmdstanpy - INFO - Chain [1] done processing\n",
      "15:45:01 - cmdstanpy - INFO - Chain [1] start processing\n",
      "15:45:01 - cmdstanpy - INFO - Chain [1] done processing\n",
      "15:45:01 - cmdstanpy - INFO - Chain [1] start processing\n",
      "15:45:01 - cmdstanpy - INFO - Chain [1] done processing\n",
      "15:45:01 - cmdstanpy - INFO - Chain [1] start processing\n",
      "15:45:01 - cmdstanpy - INFO - Chain [1] done processing\n",
      "15:45:01 - cmdstanpy - INFO - Chain [1] start processing\n",
      "15:45:01 - cmdstanpy - INFO - Chain [1] done processing\n",
      "15:45:01 - cmdstanpy - INFO - Chain [1] start processing\n",
      "15:45:01 - cmdstanpy - INFO - Chain [1] done processing\n",
      "15:45:01 - cmdstanpy - INFO - Chain [1] start processing\n",
      "15:45:02 - cmdstanpy - INFO - Chain [1] done processing\n",
      "15:45:02 - cmdstanpy - INFO - Chain [1] start processing\n",
      "15:45:02 - cmdstanpy - INFO - Chain [1] done processing\n",
      "15:45:02 - cmdstanpy - INFO - Chain [1] start processing\n",
      "15:45:02 - cmdstanpy - INFO - Chain [1] done processing\n",
      "15:45:02 - cmdstanpy - INFO - Chain [1] start processing\n",
      "15:45:02 - cmdstanpy - INFO - Chain [1] done processing\n",
      "15:45:02 - cmdstanpy - INFO - Chain [1] start processing\n"
     ]
    },
    {
     "name": "stdout",
     "output_type": "stream",
     "text": [
      "Training with changepoint_prior_scale=0.5, seasonality_prior_scale=1.0\n"
     ]
    },
    {
     "name": "stderr",
     "output_type": "stream",
     "text": [
      "15:45:03 - cmdstanpy - INFO - Chain [1] done processing\n"
     ]
    },
    {
     "data": {
      "application/vnd.jupyter.widget-view+json": {
       "model_id": "2fce42c2dd5e4e9aa432489ce614188a",
       "version_major": 2,
       "version_minor": 0
      },
      "text/plain": [
       "  0%|          | 0/10 [00:00<?, ?it/s]"
      ]
     },
     "metadata": {},
     "output_type": "display_data"
    },
    {
     "name": "stderr",
     "output_type": "stream",
     "text": [
      "15:45:03 - cmdstanpy - INFO - Chain [1] start processing\n",
      "15:45:03 - cmdstanpy - INFO - Chain [1] done processing\n",
      "15:45:03 - cmdstanpy - INFO - Chain [1] start processing\n",
      "15:45:03 - cmdstanpy - INFO - Chain [1] done processing\n",
      "15:45:03 - cmdstanpy - INFO - Chain [1] start processing\n",
      "15:45:03 - cmdstanpy - INFO - Chain [1] done processing\n",
      "15:45:03 - cmdstanpy - INFO - Chain [1] start processing\n",
      "15:45:03 - cmdstanpy - INFO - Chain [1] done processing\n",
      "15:45:04 - cmdstanpy - INFO - Chain [1] start processing\n",
      "15:45:04 - cmdstanpy - INFO - Chain [1] done processing\n",
      "15:45:04 - cmdstanpy - INFO - Chain [1] start processing\n",
      "15:45:04 - cmdstanpy - INFO - Chain [1] done processing\n",
      "15:45:04 - cmdstanpy - INFO - Chain [1] start processing\n",
      "15:45:04 - cmdstanpy - INFO - Chain [1] done processing\n",
      "15:45:04 - cmdstanpy - INFO - Chain [1] start processing\n",
      "15:45:04 - cmdstanpy - INFO - Chain [1] done processing\n",
      "15:45:04 - cmdstanpy - INFO - Chain [1] start processing\n",
      "15:45:05 - cmdstanpy - INFO - Chain [1] done processing\n",
      "15:45:05 - cmdstanpy - INFO - Chain [1] start processing\n",
      "15:45:05 - cmdstanpy - INFO - Chain [1] done processing\n",
      "15:45:05 - cmdstanpy - INFO - Chain [1] start processing\n"
     ]
    },
    {
     "name": "stdout",
     "output_type": "stream",
     "text": [
      "Training with changepoint_prior_scale=0.5, seasonality_prior_scale=10.0\n"
     ]
    },
    {
     "name": "stderr",
     "output_type": "stream",
     "text": [
      "15:45:06 - cmdstanpy - INFO - Chain [1] done processing\n"
     ]
    },
    {
     "data": {
      "application/vnd.jupyter.widget-view+json": {
       "model_id": "e219c881327b4ce391f1f6b1413b006b",
       "version_major": 2,
       "version_minor": 0
      },
      "text/plain": [
       "  0%|          | 0/10 [00:00<?, ?it/s]"
      ]
     },
     "metadata": {},
     "output_type": "display_data"
    },
    {
     "name": "stderr",
     "output_type": "stream",
     "text": [
      "15:45:06 - cmdstanpy - INFO - Chain [1] start processing\n",
      "15:45:06 - cmdstanpy - INFO - Chain [1] done processing\n",
      "15:45:06 - cmdstanpy - INFO - Chain [1] start processing\n",
      "15:45:06 - cmdstanpy - INFO - Chain [1] done processing\n",
      "15:45:06 - cmdstanpy - INFO - Chain [1] start processing\n",
      "15:45:06 - cmdstanpy - INFO - Chain [1] done processing\n",
      "15:45:06 - cmdstanpy - INFO - Chain [1] start processing\n",
      "15:45:06 - cmdstanpy - INFO - Chain [1] done processing\n",
      "15:45:06 - cmdstanpy - INFO - Chain [1] start processing\n",
      "15:45:06 - cmdstanpy - INFO - Chain [1] done processing\n",
      "15:45:07 - cmdstanpy - INFO - Chain [1] start processing\n",
      "15:45:07 - cmdstanpy - INFO - Chain [1] done processing\n",
      "15:45:07 - cmdstanpy - INFO - Chain [1] start processing\n",
      "15:45:07 - cmdstanpy - INFO - Chain [1] done processing\n",
      "15:45:07 - cmdstanpy - INFO - Chain [1] start processing\n",
      "15:45:07 - cmdstanpy - INFO - Chain [1] done processing\n",
      "15:45:07 - cmdstanpy - INFO - Chain [1] start processing\n",
      "15:45:07 - cmdstanpy - INFO - Chain [1] done processing\n",
      "15:45:08 - cmdstanpy - INFO - Chain [1] start processing\n",
      "15:45:08 - cmdstanpy - INFO - Chain [1] done processing\n",
      "Tuning cs subdisciplines:  65%|████████████▎      | 26/40 [06:37<03:33, 15.26s/it, Processing cs.MS]"
     ]
    },
    {
     "name": "stdout",
     "output_type": "stream",
     "text": [
      "\n",
      "Best Parameters:\n",
      "changepoint_prior_scale     0.010000\n",
      "seasonality_prior_scale    10.000000\n",
      "rmse                        7.851283\n",
      "Name: 1, dtype: float64\n"
     ]
    },
    {
     "name": "stderr",
     "output_type": "stream",
     "text": [
      "15:45:08 - cmdstanpy - INFO - Chain [1] start processing\n",
      "15:45:08 - cmdstanpy - INFO - Chain [1] done processing\n"
     ]
    },
    {
     "name": "stdout",
     "output_type": "stream",
     "text": [
      "Training with changepoint_prior_scale=0.01, seasonality_prior_scale=1.0\n"
     ]
    },
    {
     "data": {
      "application/vnd.jupyter.widget-view+json": {
       "model_id": "884e15e2e6bc4039a0fd308cac67a345",
       "version_major": 2,
       "version_minor": 0
      },
      "text/plain": [
       "  0%|          | 0/11 [00:00<?, ?it/s]"
      ]
     },
     "metadata": {},
     "output_type": "display_data"
    },
    {
     "name": "stderr",
     "output_type": "stream",
     "text": [
      "15:45:08 - cmdstanpy - INFO - Chain [1] start processing\n",
      "15:45:08 - cmdstanpy - INFO - Chain [1] done processing\n",
      "15:45:08 - cmdstanpy - INFO - Chain [1] start processing\n",
      "15:45:08 - cmdstanpy - INFO - Chain [1] done processing\n",
      "15:45:09 - cmdstanpy - INFO - Chain [1] start processing\n",
      "15:45:09 - cmdstanpy - INFO - Chain [1] done processing\n",
      "15:45:09 - cmdstanpy - INFO - Chain [1] start processing\n",
      "15:45:09 - cmdstanpy - INFO - Chain [1] done processing\n",
      "15:45:09 - cmdstanpy - INFO - Chain [1] start processing\n",
      "15:45:09 - cmdstanpy - INFO - Chain [1] done processing\n",
      "15:45:09 - cmdstanpy - INFO - Chain [1] start processing\n",
      "15:45:09 - cmdstanpy - INFO - Chain [1] done processing\n",
      "15:45:09 - cmdstanpy - INFO - Chain [1] start processing\n",
      "15:45:09 - cmdstanpy - INFO - Chain [1] done processing\n",
      "15:45:09 - cmdstanpy - INFO - Chain [1] start processing\n",
      "15:45:09 - cmdstanpy - INFO - Chain [1] done processing\n",
      "15:45:09 - cmdstanpy - INFO - Chain [1] start processing\n",
      "15:45:09 - cmdstanpy - INFO - Chain [1] done processing\n",
      "15:45:09 - cmdstanpy - INFO - Chain [1] start processing\n",
      "15:45:10 - cmdstanpy - INFO - Chain [1] done processing\n",
      "15:45:10 - cmdstanpy - INFO - Chain [1] start processing\n",
      "15:45:10 - cmdstanpy - INFO - Chain [1] done processing\n",
      "15:45:10 - cmdstanpy - INFO - Chain [1] start processing\n",
      "15:45:10 - cmdstanpy - INFO - Chain [1] done processing\n"
     ]
    },
    {
     "name": "stdout",
     "output_type": "stream",
     "text": [
      "Training with changepoint_prior_scale=0.01, seasonality_prior_scale=10.0\n"
     ]
    },
    {
     "data": {
      "application/vnd.jupyter.widget-view+json": {
       "model_id": "e9f4813406e947808e239e6c55eaa21e",
       "version_major": 2,
       "version_minor": 0
      },
      "text/plain": [
       "  0%|          | 0/11 [00:00<?, ?it/s]"
      ]
     },
     "metadata": {},
     "output_type": "display_data"
    },
    {
     "name": "stderr",
     "output_type": "stream",
     "text": [
      "15:45:10 - cmdstanpy - INFO - Chain [1] start processing\n",
      "15:45:10 - cmdstanpy - INFO - Chain [1] done processing\n",
      "15:45:10 - cmdstanpy - INFO - Chain [1] start processing\n",
      "15:45:10 - cmdstanpy - INFO - Chain [1] done processing\n",
      "15:45:10 - cmdstanpy - INFO - Chain [1] start processing\n",
      "15:45:10 - cmdstanpy - INFO - Chain [1] done processing\n",
      "15:45:11 - cmdstanpy - INFO - Chain [1] start processing\n",
      "15:45:11 - cmdstanpy - INFO - Chain [1] done processing\n",
      "15:45:11 - cmdstanpy - INFO - Chain [1] start processing\n",
      "15:45:11 - cmdstanpy - INFO - Chain [1] done processing\n",
      "15:45:11 - cmdstanpy - INFO - Chain [1] start processing\n",
      "15:45:11 - cmdstanpy - INFO - Chain [1] done processing\n",
      "15:45:11 - cmdstanpy - INFO - Chain [1] start processing\n",
      "15:45:11 - cmdstanpy - INFO - Chain [1] done processing\n",
      "15:45:11 - cmdstanpy - INFO - Chain [1] start processing\n",
      "15:45:11 - cmdstanpy - INFO - Chain [1] done processing\n",
      "15:45:11 - cmdstanpy - INFO - Chain [1] start processing\n",
      "15:45:11 - cmdstanpy - INFO - Chain [1] done processing\n",
      "15:45:11 - cmdstanpy - INFO - Chain [1] start processing\n",
      "15:45:11 - cmdstanpy - INFO - Chain [1] done processing\n",
      "15:45:12 - cmdstanpy - INFO - Chain [1] start processing\n",
      "15:45:12 - cmdstanpy - INFO - Chain [1] done processing\n",
      "15:45:12 - cmdstanpy - INFO - Chain [1] start processing\n",
      "15:45:12 - cmdstanpy - INFO - Chain [1] done processing\n"
     ]
    },
    {
     "name": "stdout",
     "output_type": "stream",
     "text": [
      "Training with changepoint_prior_scale=0.1, seasonality_prior_scale=1.0\n"
     ]
    },
    {
     "data": {
      "application/vnd.jupyter.widget-view+json": {
       "model_id": "08161a96084a41088ae79136cf42f7d1",
       "version_major": 2,
       "version_minor": 0
      },
      "text/plain": [
       "  0%|          | 0/11 [00:00<?, ?it/s]"
      ]
     },
     "metadata": {},
     "output_type": "display_data"
    },
    {
     "name": "stderr",
     "output_type": "stream",
     "text": [
      "15:45:12 - cmdstanpy - INFO - Chain [1] start processing\n",
      "15:45:12 - cmdstanpy - INFO - Chain [1] done processing\n",
      "15:45:12 - cmdstanpy - INFO - Chain [1] start processing\n",
      "15:45:12 - cmdstanpy - INFO - Chain [1] done processing\n",
      "15:45:12 - cmdstanpy - INFO - Chain [1] start processing\n",
      "15:45:12 - cmdstanpy - INFO - Chain [1] done processing\n",
      "15:45:12 - cmdstanpy - INFO - Chain [1] start processing\n",
      "15:45:12 - cmdstanpy - INFO - Chain [1] done processing\n",
      "15:45:13 - cmdstanpy - INFO - Chain [1] start processing\n",
      "15:45:13 - cmdstanpy - INFO - Chain [1] done processing\n",
      "15:45:13 - cmdstanpy - INFO - Chain [1] start processing\n",
      "15:45:13 - cmdstanpy - INFO - Chain [1] done processing\n",
      "15:45:13 - cmdstanpy - INFO - Chain [1] start processing\n",
      "15:45:13 - cmdstanpy - INFO - Chain [1] done processing\n",
      "15:45:13 - cmdstanpy - INFO - Chain [1] start processing\n",
      "15:45:13 - cmdstanpy - INFO - Chain [1] done processing\n",
      "15:45:13 - cmdstanpy - INFO - Chain [1] start processing\n",
      "15:45:13 - cmdstanpy - INFO - Chain [1] done processing\n",
      "15:45:13 - cmdstanpy - INFO - Chain [1] start processing\n",
      "15:45:13 - cmdstanpy - INFO - Chain [1] done processing\n",
      "15:45:13 - cmdstanpy - INFO - Chain [1] start processing\n",
      "15:45:13 - cmdstanpy - INFO - Chain [1] done processing\n",
      "15:45:14 - cmdstanpy - INFO - Chain [1] start processing\n",
      "15:45:14 - cmdstanpy - INFO - Chain [1] done processing\n"
     ]
    },
    {
     "name": "stdout",
     "output_type": "stream",
     "text": [
      "Training with changepoint_prior_scale=0.1, seasonality_prior_scale=10.0\n"
     ]
    },
    {
     "data": {
      "application/vnd.jupyter.widget-view+json": {
       "model_id": "05d5d6dd8708404b9b4b79d04d0c430f",
       "version_major": 2,
       "version_minor": 0
      },
      "text/plain": [
       "  0%|          | 0/11 [00:00<?, ?it/s]"
      ]
     },
     "metadata": {},
     "output_type": "display_data"
    },
    {
     "name": "stderr",
     "output_type": "stream",
     "text": [
      "15:45:14 - cmdstanpy - INFO - Chain [1] start processing\n",
      "15:45:14 - cmdstanpy - INFO - Chain [1] done processing\n",
      "15:45:14 - cmdstanpy - INFO - Chain [1] start processing\n",
      "15:45:14 - cmdstanpy - INFO - Chain [1] done processing\n",
      "15:45:14 - cmdstanpy - INFO - Chain [1] start processing\n",
      "15:45:14 - cmdstanpy - INFO - Chain [1] done processing\n",
      "15:45:14 - cmdstanpy - INFO - Chain [1] start processing\n",
      "15:45:14 - cmdstanpy - INFO - Chain [1] done processing\n",
      "15:45:14 - cmdstanpy - INFO - Chain [1] start processing\n",
      "15:45:14 - cmdstanpy - INFO - Chain [1] done processing\n",
      "15:45:14 - cmdstanpy - INFO - Chain [1] start processing\n",
      "15:45:14 - cmdstanpy - INFO - Chain [1] done processing\n",
      "15:45:14 - cmdstanpy - INFO - Chain [1] start processing\n",
      "15:45:15 - cmdstanpy - INFO - Chain [1] done processing\n",
      "15:45:15 - cmdstanpy - INFO - Chain [1] start processing\n",
      "15:45:15 - cmdstanpy - INFO - Chain [1] done processing\n",
      "15:45:15 - cmdstanpy - INFO - Chain [1] start processing\n",
      "15:45:15 - cmdstanpy - INFO - Chain [1] done processing\n",
      "15:45:15 - cmdstanpy - INFO - Chain [1] start processing\n",
      "15:45:15 - cmdstanpy - INFO - Chain [1] done processing\n",
      "15:45:15 - cmdstanpy - INFO - Chain [1] start processing\n",
      "15:45:15 - cmdstanpy - INFO - Chain [1] done processing\n",
      "15:45:15 - cmdstanpy - INFO - Chain [1] start processing\n",
      "15:45:15 - cmdstanpy - INFO - Chain [1] done processing\n"
     ]
    },
    {
     "name": "stdout",
     "output_type": "stream",
     "text": [
      "Training with changepoint_prior_scale=0.5, seasonality_prior_scale=1.0\n"
     ]
    },
    {
     "data": {
      "application/vnd.jupyter.widget-view+json": {
       "model_id": "7728f91600dc46de996ca924db2cc705",
       "version_major": 2,
       "version_minor": 0
      },
      "text/plain": [
       "  0%|          | 0/11 [00:00<?, ?it/s]"
      ]
     },
     "metadata": {},
     "output_type": "display_data"
    },
    {
     "name": "stderr",
     "output_type": "stream",
     "text": [
      "15:45:16 - cmdstanpy - INFO - Chain [1] start processing\n",
      "15:45:16 - cmdstanpy - INFO - Chain [1] done processing\n",
      "15:45:16 - cmdstanpy - INFO - Chain [1] start processing\n",
      "15:45:16 - cmdstanpy - INFO - Chain [1] done processing\n",
      "15:45:16 - cmdstanpy - INFO - Chain [1] start processing\n",
      "15:45:16 - cmdstanpy - INFO - Chain [1] done processing\n",
      "15:45:16 - cmdstanpy - INFO - Chain [1] start processing\n",
      "15:45:16 - cmdstanpy - INFO - Chain [1] done processing\n",
      "15:45:16 - cmdstanpy - INFO - Chain [1] start processing\n",
      "15:45:16 - cmdstanpy - INFO - Chain [1] done processing\n",
      "15:45:16 - cmdstanpy - INFO - Chain [1] start processing\n",
      "15:45:16 - cmdstanpy - INFO - Chain [1] done processing\n",
      "15:45:16 - cmdstanpy - INFO - Chain [1] start processing\n",
      "15:45:16 - cmdstanpy - INFO - Chain [1] done processing\n",
      "15:45:17 - cmdstanpy - INFO - Chain [1] start processing\n",
      "15:45:17 - cmdstanpy - INFO - Chain [1] done processing\n",
      "15:45:17 - cmdstanpy - INFO - Chain [1] start processing\n",
      "15:45:17 - cmdstanpy - INFO - Chain [1] done processing\n",
      "15:45:17 - cmdstanpy - INFO - Chain [1] start processing\n",
      "15:45:17 - cmdstanpy - INFO - Chain [1] done processing\n",
      "15:45:17 - cmdstanpy - INFO - Chain [1] start processing\n",
      "15:45:17 - cmdstanpy - INFO - Chain [1] done processing\n",
      "15:45:17 - cmdstanpy - INFO - Chain [1] start processing\n",
      "15:45:17 - cmdstanpy - INFO - Chain [1] done processing\n"
     ]
    },
    {
     "name": "stdout",
     "output_type": "stream",
     "text": [
      "Training with changepoint_prior_scale=0.5, seasonality_prior_scale=10.0\n"
     ]
    },
    {
     "data": {
      "application/vnd.jupyter.widget-view+json": {
       "model_id": "95f0b38c0965479784967ea04feee8c2",
       "version_major": 2,
       "version_minor": 0
      },
      "text/plain": [
       "  0%|          | 0/11 [00:00<?, ?it/s]"
      ]
     },
     "metadata": {},
     "output_type": "display_data"
    },
    {
     "name": "stderr",
     "output_type": "stream",
     "text": [
      "15:45:18 - cmdstanpy - INFO - Chain [1] start processing\n",
      "15:45:18 - cmdstanpy - INFO - Chain [1] done processing\n",
      "15:45:18 - cmdstanpy - INFO - Chain [1] start processing\n",
      "15:45:18 - cmdstanpy - INFO - Chain [1] done processing\n",
      "15:45:18 - cmdstanpy - INFO - Chain [1] start processing\n",
      "15:45:18 - cmdstanpy - INFO - Chain [1] done processing\n",
      "15:45:18 - cmdstanpy - INFO - Chain [1] start processing\n",
      "15:45:18 - cmdstanpy - INFO - Chain [1] done processing\n",
      "15:45:18 - cmdstanpy - INFO - Chain [1] start processing\n",
      "15:45:18 - cmdstanpy - INFO - Chain [1] done processing\n",
      "15:45:18 - cmdstanpy - INFO - Chain [1] start processing\n",
      "15:45:18 - cmdstanpy - INFO - Chain [1] done processing\n",
      "15:45:18 - cmdstanpy - INFO - Chain [1] start processing\n",
      "15:45:18 - cmdstanpy - INFO - Chain [1] done processing\n",
      "15:45:19 - cmdstanpy - INFO - Chain [1] start processing\n",
      "15:45:19 - cmdstanpy - INFO - Chain [1] done processing\n",
      "15:45:19 - cmdstanpy - INFO - Chain [1] start processing\n",
      "15:45:19 - cmdstanpy - INFO - Chain [1] done processing\n",
      "15:45:19 - cmdstanpy - INFO - Chain [1] start processing\n",
      "15:45:19 - cmdstanpy - INFO - Chain [1] done processing\n",
      "15:45:19 - cmdstanpy - INFO - Chain [1] start processing\n",
      "15:45:19 - cmdstanpy - INFO - Chain [1] done processing\n",
      "Tuning cs subdisciplines:  68%|████████████▊      | 27/40 [06:49<03:03, 14.10s/it, Processing cs.NA]"
     ]
    },
    {
     "name": "stdout",
     "output_type": "stream",
     "text": [
      "\n",
      "Best Parameters:\n",
      "changepoint_prior_scale     0.010000\n",
      "seasonality_prior_scale    10.000000\n",
      "rmse                        2.016101\n",
      "Name: 1, dtype: float64\n"
     ]
    },
    {
     "name": "stderr",
     "output_type": "stream",
     "text": [
      "15:45:20 - cmdstanpy - INFO - Chain [1] start processing\n",
      "15:45:20 - cmdstanpy - INFO - Chain [1] done processing\n"
     ]
    },
    {
     "name": "stdout",
     "output_type": "stream",
     "text": [
      "Training with changepoint_prior_scale=0.01, seasonality_prior_scale=1.0\n"
     ]
    },
    {
     "data": {
      "application/vnd.jupyter.widget-view+json": {
       "model_id": "c0eeba1c02ba46fbb67a2f66d84a22e9",
       "version_major": 2,
       "version_minor": 0
      },
      "text/plain": [
       "  0%|          | 0/11 [00:00<?, ?it/s]"
      ]
     },
     "metadata": {},
     "output_type": "display_data"
    },
    {
     "name": "stderr",
     "output_type": "stream",
     "text": [
      "15:45:20 - cmdstanpy - INFO - Chain [1] start processing\n",
      "15:45:20 - cmdstanpy - INFO - Chain [1] done processing\n",
      "15:45:20 - cmdstanpy - INFO - Chain [1] start processing\n",
      "15:45:20 - cmdstanpy - INFO - Chain [1] done processing\n",
      "15:45:20 - cmdstanpy - INFO - Chain [1] start processing\n",
      "15:45:20 - cmdstanpy - INFO - Chain [1] done processing\n",
      "15:45:20 - cmdstanpy - INFO - Chain [1] start processing\n",
      "15:45:20 - cmdstanpy - INFO - Chain [1] done processing\n",
      "15:45:20 - cmdstanpy - INFO - Chain [1] start processing\n",
      "15:45:20 - cmdstanpy - INFO - Chain [1] done processing\n",
      "15:45:20 - cmdstanpy - INFO - Chain [1] start processing\n",
      "15:45:21 - cmdstanpy - INFO - Chain [1] done processing\n",
      "15:45:21 - cmdstanpy - INFO - Chain [1] start processing\n",
      "15:45:21 - cmdstanpy - INFO - Chain [1] done processing\n",
      "15:45:21 - cmdstanpy - INFO - Chain [1] start processing\n",
      "15:45:21 - cmdstanpy - INFO - Chain [1] done processing\n",
      "15:45:21 - cmdstanpy - INFO - Chain [1] start processing\n",
      "15:45:21 - cmdstanpy - INFO - Chain [1] done processing\n",
      "15:45:21 - cmdstanpy - INFO - Chain [1] start processing\n",
      "15:45:21 - cmdstanpy - INFO - Chain [1] done processing\n",
      "15:45:21 - cmdstanpy - INFO - Chain [1] start processing\n",
      "15:45:21 - cmdstanpy - INFO - Chain [1] done processing\n",
      "15:45:22 - cmdstanpy - INFO - Chain [1] start processing\n",
      "15:45:22 - cmdstanpy - INFO - Chain [1] done processing\n"
     ]
    },
    {
     "name": "stdout",
     "output_type": "stream",
     "text": [
      "Training with changepoint_prior_scale=0.01, seasonality_prior_scale=10.0\n"
     ]
    },
    {
     "data": {
      "application/vnd.jupyter.widget-view+json": {
       "model_id": "99f70f782b6d49f986a62b82483d4564",
       "version_major": 2,
       "version_minor": 0
      },
      "text/plain": [
       "  0%|          | 0/11 [00:00<?, ?it/s]"
      ]
     },
     "metadata": {},
     "output_type": "display_data"
    },
    {
     "name": "stderr",
     "output_type": "stream",
     "text": [
      "15:45:22 - cmdstanpy - INFO - Chain [1] start processing\n",
      "15:45:22 - cmdstanpy - INFO - Chain [1] done processing\n",
      "15:45:22 - cmdstanpy - INFO - Chain [1] start processing\n",
      "15:45:22 - cmdstanpy - INFO - Chain [1] done processing\n",
      "15:45:22 - cmdstanpy - INFO - Chain [1] start processing\n",
      "15:45:22 - cmdstanpy - INFO - Chain [1] done processing\n",
      "15:45:22 - cmdstanpy - INFO - Chain [1] start processing\n",
      "15:45:22 - cmdstanpy - INFO - Chain [1] done processing\n",
      "15:45:22 - cmdstanpy - INFO - Chain [1] start processing\n",
      "15:45:22 - cmdstanpy - INFO - Chain [1] done processing\n",
      "15:45:22 - cmdstanpy - INFO - Chain [1] start processing\n",
      "15:45:22 - cmdstanpy - INFO - Chain [1] done processing\n",
      "15:45:23 - cmdstanpy - INFO - Chain [1] start processing\n",
      "15:45:23 - cmdstanpy - INFO - Chain [1] done processing\n",
      "15:45:23 - cmdstanpy - INFO - Chain [1] start processing\n",
      "15:45:23 - cmdstanpy - INFO - Chain [1] done processing\n",
      "15:45:23 - cmdstanpy - INFO - Chain [1] start processing\n",
      "15:45:23 - cmdstanpy - INFO - Chain [1] done processing\n",
      "15:45:23 - cmdstanpy - INFO - Chain [1] start processing\n",
      "15:45:23 - cmdstanpy - INFO - Chain [1] done processing\n",
      "15:45:23 - cmdstanpy - INFO - Chain [1] start processing\n",
      "15:45:23 - cmdstanpy - INFO - Chain [1] done processing\n",
      "15:45:23 - cmdstanpy - INFO - Chain [1] start processing\n",
      "15:45:24 - cmdstanpy - INFO - Chain [1] done processing\n"
     ]
    },
    {
     "name": "stdout",
     "output_type": "stream",
     "text": [
      "Training with changepoint_prior_scale=0.1, seasonality_prior_scale=1.0\n"
     ]
    },
    {
     "data": {
      "application/vnd.jupyter.widget-view+json": {
       "model_id": "2f594c63e3164dadb8208fe20be9ada3",
       "version_major": 2,
       "version_minor": 0
      },
      "text/plain": [
       "  0%|          | 0/11 [00:00<?, ?it/s]"
      ]
     },
     "metadata": {},
     "output_type": "display_data"
    },
    {
     "name": "stderr",
     "output_type": "stream",
     "text": [
      "15:45:24 - cmdstanpy - INFO - Chain [1] start processing\n",
      "15:45:24 - cmdstanpy - INFO - Chain [1] done processing\n",
      "15:45:24 - cmdstanpy - INFO - Chain [1] start processing\n",
      "15:45:24 - cmdstanpy - INFO - Chain [1] done processing\n",
      "15:45:24 - cmdstanpy - INFO - Chain [1] start processing\n",
      "15:45:24 - cmdstanpy - INFO - Chain [1] done processing\n",
      "15:45:24 - cmdstanpy - INFO - Chain [1] start processing\n",
      "15:45:24 - cmdstanpy - INFO - Chain [1] done processing\n",
      "15:45:24 - cmdstanpy - INFO - Chain [1] start processing\n",
      "15:45:25 - cmdstanpy - INFO - Chain [1] done processing\n",
      "15:45:25 - cmdstanpy - INFO - Chain [1] start processing\n",
      "15:45:25 - cmdstanpy - INFO - Chain [1] done processing\n",
      "15:45:25 - cmdstanpy - INFO - Chain [1] start processing\n",
      "15:45:25 - cmdstanpy - INFO - Chain [1] done processing\n",
      "15:45:25 - cmdstanpy - INFO - Chain [1] start processing\n",
      "15:45:25 - cmdstanpy - INFO - Chain [1] done processing\n",
      "15:45:25 - cmdstanpy - INFO - Chain [1] start processing\n",
      "15:45:26 - cmdstanpy - INFO - Chain [1] done processing\n",
      "15:45:26 - cmdstanpy - INFO - Chain [1] start processing\n",
      "15:45:26 - cmdstanpy - INFO - Chain [1] done processing\n",
      "15:45:26 - cmdstanpy - INFO - Chain [1] start processing\n",
      "15:45:26 - cmdstanpy - INFO - Chain [1] done processing\n",
      "15:45:26 - cmdstanpy - INFO - Chain [1] start processing\n"
     ]
    },
    {
     "name": "stdout",
     "output_type": "stream",
     "text": [
      "Training with changepoint_prior_scale=0.1, seasonality_prior_scale=10.0\n"
     ]
    },
    {
     "name": "stderr",
     "output_type": "stream",
     "text": [
      "15:45:27 - cmdstanpy - INFO - Chain [1] done processing\n"
     ]
    },
    {
     "data": {
      "application/vnd.jupyter.widget-view+json": {
       "model_id": "6075d7ddac724ff482266b16f84749fc",
       "version_major": 2,
       "version_minor": 0
      },
      "text/plain": [
       "  0%|          | 0/11 [00:00<?, ?it/s]"
      ]
     },
     "metadata": {},
     "output_type": "display_data"
    },
    {
     "name": "stderr",
     "output_type": "stream",
     "text": [
      "15:45:27 - cmdstanpy - INFO - Chain [1] start processing\n",
      "15:45:27 - cmdstanpy - INFO - Chain [1] done processing\n",
      "15:45:27 - cmdstanpy - INFO - Chain [1] start processing\n",
      "15:45:27 - cmdstanpy - INFO - Chain [1] done processing\n",
      "15:45:27 - cmdstanpy - INFO - Chain [1] start processing\n",
      "15:45:27 - cmdstanpy - INFO - Chain [1] done processing\n",
      "15:45:27 - cmdstanpy - INFO - Chain [1] start processing\n",
      "15:45:27 - cmdstanpy - INFO - Chain [1] done processing\n",
      "15:45:27 - cmdstanpy - INFO - Chain [1] start processing\n",
      "15:45:28 - cmdstanpy - INFO - Chain [1] done processing\n",
      "15:45:28 - cmdstanpy - INFO - Chain [1] start processing\n",
      "15:45:28 - cmdstanpy - INFO - Chain [1] done processing\n",
      "15:45:28 - cmdstanpy - INFO - Chain [1] start processing\n",
      "15:45:28 - cmdstanpy - INFO - Chain [1] done processing\n",
      "15:45:28 - cmdstanpy - INFO - Chain [1] start processing\n",
      "15:45:28 - cmdstanpy - INFO - Chain [1] done processing\n",
      "15:45:28 - cmdstanpy - INFO - Chain [1] start processing\n",
      "15:45:29 - cmdstanpy - INFO - Chain [1] done processing\n",
      "15:45:29 - cmdstanpy - INFO - Chain [1] start processing\n",
      "15:45:29 - cmdstanpy - INFO - Chain [1] done processing\n",
      "15:45:29 - cmdstanpy - INFO - Chain [1] start processing\n",
      "15:45:29 - cmdstanpy - INFO - Chain [1] done processing\n",
      "15:45:29 - cmdstanpy - INFO - Chain [1] start processing\n"
     ]
    },
    {
     "name": "stdout",
     "output_type": "stream",
     "text": [
      "Training with changepoint_prior_scale=0.5, seasonality_prior_scale=1.0\n"
     ]
    },
    {
     "name": "stderr",
     "output_type": "stream",
     "text": [
      "15:45:30 - cmdstanpy - INFO - Chain [1] done processing\n"
     ]
    },
    {
     "data": {
      "application/vnd.jupyter.widget-view+json": {
       "model_id": "3d014db7af5f4e8fb7086c5b7486f098",
       "version_major": 2,
       "version_minor": 0
      },
      "text/plain": [
       "  0%|          | 0/11 [00:00<?, ?it/s]"
      ]
     },
     "metadata": {},
     "output_type": "display_data"
    },
    {
     "name": "stderr",
     "output_type": "stream",
     "text": [
      "15:45:30 - cmdstanpy - INFO - Chain [1] start processing\n",
      "15:45:30 - cmdstanpy - INFO - Chain [1] done processing\n",
      "15:45:30 - cmdstanpy - INFO - Chain [1] start processing\n",
      "15:45:30 - cmdstanpy - INFO - Chain [1] done processing\n",
      "15:45:30 - cmdstanpy - INFO - Chain [1] start processing\n",
      "15:45:30 - cmdstanpy - INFO - Chain [1] done processing\n",
      "15:45:30 - cmdstanpy - INFO - Chain [1] start processing\n",
      "15:45:31 - cmdstanpy - INFO - Chain [1] done processing\n",
      "15:45:31 - cmdstanpy - INFO - Chain [1] start processing\n",
      "15:45:31 - cmdstanpy - INFO - Chain [1] done processing\n",
      "15:45:31 - cmdstanpy - INFO - Chain [1] start processing\n",
      "15:45:31 - cmdstanpy - INFO - Chain [1] done processing\n",
      "15:45:31 - cmdstanpy - INFO - Chain [1] start processing\n",
      "15:45:31 - cmdstanpy - INFO - Chain [1] done processing\n",
      "15:45:32 - cmdstanpy - INFO - Chain [1] start processing\n",
      "15:45:32 - cmdstanpy - INFO - Chain [1] done processing\n",
      "15:45:32 - cmdstanpy - INFO - Chain [1] start processing\n",
      "15:45:32 - cmdstanpy - INFO - Chain [1] done processing\n",
      "15:45:32 - cmdstanpy - INFO - Chain [1] start processing\n",
      "15:45:33 - cmdstanpy - INFO - Chain [1] done processing\n",
      "15:45:33 - cmdstanpy - INFO - Chain [1] start processing\n",
      "15:45:33 - cmdstanpy - INFO - Chain [1] done processing\n",
      "15:45:33 - cmdstanpy - INFO - Chain [1] start processing\n"
     ]
    },
    {
     "name": "stdout",
     "output_type": "stream",
     "text": [
      "Training with changepoint_prior_scale=0.5, seasonality_prior_scale=10.0\n"
     ]
    },
    {
     "name": "stderr",
     "output_type": "stream",
     "text": [
      "15:45:34 - cmdstanpy - INFO - Chain [1] done processing\n"
     ]
    },
    {
     "data": {
      "application/vnd.jupyter.widget-view+json": {
       "model_id": "e2b6ecad9b544503926a011879a8227b",
       "version_major": 2,
       "version_minor": 0
      },
      "text/plain": [
       "  0%|          | 0/11 [00:00<?, ?it/s]"
      ]
     },
     "metadata": {},
     "output_type": "display_data"
    },
    {
     "name": "stderr",
     "output_type": "stream",
     "text": [
      "15:45:34 - cmdstanpy - INFO - Chain [1] start processing\n",
      "15:45:34 - cmdstanpy - INFO - Chain [1] done processing\n",
      "15:45:34 - cmdstanpy - INFO - Chain [1] start processing\n",
      "15:45:35 - cmdstanpy - INFO - Chain [1] done processing\n",
      "15:45:35 - cmdstanpy - INFO - Chain [1] start processing\n",
      "15:45:35 - cmdstanpy - INFO - Chain [1] done processing\n",
      "15:45:35 - cmdstanpy - INFO - Chain [1] start processing\n",
      "15:45:35 - cmdstanpy - INFO - Chain [1] done processing\n",
      "15:45:35 - cmdstanpy - INFO - Chain [1] start processing\n",
      "15:45:36 - cmdstanpy - INFO - Chain [1] done processing\n",
      "15:45:36 - cmdstanpy - INFO - Chain [1] start processing\n",
      "15:45:37 - cmdstanpy - INFO - Chain [1] done processing\n",
      "15:45:37 - cmdstanpy - INFO - Chain [1] start processing\n",
      "15:45:37 - cmdstanpy - INFO - Chain [1] done processing\n",
      "15:45:38 - cmdstanpy - INFO - Chain [1] start processing\n",
      "15:45:38 - cmdstanpy - INFO - Chain [1] done processing\n",
      "15:45:38 - cmdstanpy - INFO - Chain [1] start processing\n",
      "15:45:38 - cmdstanpy - INFO - Chain [1] done processing\n",
      "15:45:38 - cmdstanpy - INFO - Chain [1] start processing\n",
      "15:45:39 - cmdstanpy - INFO - Chain [1] done processing\n",
      "15:45:39 - cmdstanpy - INFO - Chain [1] start processing\n",
      "15:45:40 - cmdstanpy - INFO - Chain [1] done processing\n",
      "Tuning cs subdisciplines:  70%|█████████████▎     | 28/40 [07:09<03:12, 16.02s/it, Processing cs.NE]"
     ]
    },
    {
     "name": "stdout",
     "output_type": "stream",
     "text": [
      "\n",
      "Best Parameters:\n",
      "changepoint_prior_scale     0.500000\n",
      "seasonality_prior_scale    10.000000\n",
      "rmse                       28.984322\n",
      "Name: 5, dtype: float64\n"
     ]
    },
    {
     "name": "stderr",
     "output_type": "stream",
     "text": [
      "15:45:40 - cmdstanpy - INFO - Chain [1] start processing\n",
      "15:45:40 - cmdstanpy - INFO - Chain [1] done processing\n"
     ]
    },
    {
     "name": "stdout",
     "output_type": "stream",
     "text": [
      "Training with changepoint_prior_scale=0.01, seasonality_prior_scale=1.0\n"
     ]
    },
    {
     "data": {
      "application/vnd.jupyter.widget-view+json": {
       "model_id": "be7eba84b1ef4995b8023f987e67d71b",
       "version_major": 2,
       "version_minor": 0
      },
      "text/plain": [
       "  0%|          | 0/11 [00:00<?, ?it/s]"
      ]
     },
     "metadata": {},
     "output_type": "display_data"
    },
    {
     "name": "stderr",
     "output_type": "stream",
     "text": [
      "15:45:40 - cmdstanpy - INFO - Chain [1] start processing\n",
      "15:45:40 - cmdstanpy - INFO - Chain [1] done processing\n",
      "15:45:41 - cmdstanpy - INFO - Chain [1] start processing\n",
      "15:45:41 - cmdstanpy - INFO - Chain [1] done processing\n",
      "15:45:41 - cmdstanpy - INFO - Chain [1] start processing\n",
      "15:45:41 - cmdstanpy - INFO - Chain [1] done processing\n",
      "15:45:41 - cmdstanpy - INFO - Chain [1] start processing\n",
      "15:45:41 - cmdstanpy - INFO - Chain [1] done processing\n",
      "15:45:41 - cmdstanpy - INFO - Chain [1] start processing\n",
      "15:45:41 - cmdstanpy - INFO - Chain [1] done processing\n",
      "15:45:41 - cmdstanpy - INFO - Chain [1] start processing\n",
      "15:45:41 - cmdstanpy - INFO - Chain [1] done processing\n",
      "15:45:41 - cmdstanpy - INFO - Chain [1] start processing\n",
      "15:45:41 - cmdstanpy - INFO - Chain [1] done processing\n",
      "15:45:42 - cmdstanpy - INFO - Chain [1] start processing\n",
      "15:45:42 - cmdstanpy - INFO - Chain [1] done processing\n",
      "15:45:42 - cmdstanpy - INFO - Chain [1] start processing\n",
      "15:45:42 - cmdstanpy - INFO - Chain [1] done processing\n",
      "15:45:42 - cmdstanpy - INFO - Chain [1] start processing\n",
      "15:45:42 - cmdstanpy - INFO - Chain [1] done processing\n",
      "15:45:42 - cmdstanpy - INFO - Chain [1] start processing\n",
      "15:45:42 - cmdstanpy - INFO - Chain [1] done processing\n",
      "15:45:42 - cmdstanpy - INFO - Chain [1] start processing\n",
      "15:45:42 - cmdstanpy - INFO - Chain [1] done processing\n"
     ]
    },
    {
     "name": "stdout",
     "output_type": "stream",
     "text": [
      "Training with changepoint_prior_scale=0.01, seasonality_prior_scale=10.0\n"
     ]
    },
    {
     "data": {
      "application/vnd.jupyter.widget-view+json": {
       "model_id": "f9fe53b76a434bba9c79858dd68ef045",
       "version_major": 2,
       "version_minor": 0
      },
      "text/plain": [
       "  0%|          | 0/11 [00:00<?, ?it/s]"
      ]
     },
     "metadata": {},
     "output_type": "display_data"
    },
    {
     "name": "stderr",
     "output_type": "stream",
     "text": [
      "15:45:42 - cmdstanpy - INFO - Chain [1] start processing\n",
      "15:45:43 - cmdstanpy - INFO - Chain [1] done processing\n",
      "15:45:43 - cmdstanpy - INFO - Chain [1] start processing\n",
      "15:45:43 - cmdstanpy - INFO - Chain [1] done processing\n",
      "15:45:43 - cmdstanpy - INFO - Chain [1] start processing\n",
      "15:45:43 - cmdstanpy - INFO - Chain [1] done processing\n",
      "15:45:43 - cmdstanpy - INFO - Chain [1] start processing\n",
      "15:45:43 - cmdstanpy - INFO - Chain [1] done processing\n",
      "15:45:43 - cmdstanpy - INFO - Chain [1] start processing\n",
      "15:45:43 - cmdstanpy - INFO - Chain [1] done processing\n",
      "15:45:43 - cmdstanpy - INFO - Chain [1] start processing\n",
      "15:45:43 - cmdstanpy - INFO - Chain [1] done processing\n",
      "15:45:43 - cmdstanpy - INFO - Chain [1] start processing\n",
      "15:45:43 - cmdstanpy - INFO - Chain [1] done processing\n",
      "15:45:44 - cmdstanpy - INFO - Chain [1] start processing\n",
      "15:45:44 - cmdstanpy - INFO - Chain [1] done processing\n",
      "15:45:44 - cmdstanpy - INFO - Chain [1] start processing\n",
      "15:45:44 - cmdstanpy - INFO - Chain [1] done processing\n",
      "15:45:44 - cmdstanpy - INFO - Chain [1] start processing\n",
      "15:45:44 - cmdstanpy - INFO - Chain [1] done processing\n",
      "15:45:44 - cmdstanpy - INFO - Chain [1] start processing\n",
      "15:45:44 - cmdstanpy - INFO - Chain [1] done processing\n",
      "15:45:44 - cmdstanpy - INFO - Chain [1] start processing\n",
      "15:45:44 - cmdstanpy - INFO - Chain [1] done processing\n"
     ]
    },
    {
     "name": "stdout",
     "output_type": "stream",
     "text": [
      "Training with changepoint_prior_scale=0.1, seasonality_prior_scale=1.0\n"
     ]
    },
    {
     "data": {
      "application/vnd.jupyter.widget-view+json": {
       "model_id": "4abc8396f0524d41b0e23d82f58b6597",
       "version_major": 2,
       "version_minor": 0
      },
      "text/plain": [
       "  0%|          | 0/11 [00:00<?, ?it/s]"
      ]
     },
     "metadata": {},
     "output_type": "display_data"
    },
    {
     "name": "stderr",
     "output_type": "stream",
     "text": [
      "15:45:45 - cmdstanpy - INFO - Chain [1] start processing\n",
      "15:45:45 - cmdstanpy - INFO - Chain [1] done processing\n",
      "15:45:45 - cmdstanpy - INFO - Chain [1] start processing\n",
      "15:45:45 - cmdstanpy - INFO - Chain [1] done processing\n",
      "15:45:45 - cmdstanpy - INFO - Chain [1] start processing\n",
      "15:45:45 - cmdstanpy - INFO - Chain [1] done processing\n",
      "15:45:45 - cmdstanpy - INFO - Chain [1] start processing\n",
      "15:45:45 - cmdstanpy - INFO - Chain [1] done processing\n",
      "15:45:45 - cmdstanpy - INFO - Chain [1] start processing\n",
      "15:45:45 - cmdstanpy - INFO - Chain [1] done processing\n",
      "15:45:45 - cmdstanpy - INFO - Chain [1] start processing\n",
      "15:45:45 - cmdstanpy - INFO - Chain [1] done processing\n",
      "15:45:45 - cmdstanpy - INFO - Chain [1] start processing\n",
      "15:45:46 - cmdstanpy - INFO - Chain [1] done processing\n",
      "15:45:46 - cmdstanpy - INFO - Chain [1] start processing\n",
      "15:45:46 - cmdstanpy - INFO - Chain [1] done processing\n",
      "15:45:46 - cmdstanpy - INFO - Chain [1] start processing\n",
      "15:45:46 - cmdstanpy - INFO - Chain [1] done processing\n",
      "15:45:46 - cmdstanpy - INFO - Chain [1] start processing\n",
      "15:45:46 - cmdstanpy - INFO - Chain [1] done processing\n",
      "15:45:46 - cmdstanpy - INFO - Chain [1] start processing\n",
      "15:45:46 - cmdstanpy - INFO - Chain [1] done processing\n",
      "15:45:47 - cmdstanpy - INFO - Chain [1] start processing\n",
      "15:45:47 - cmdstanpy - INFO - Chain [1] done processing\n"
     ]
    },
    {
     "name": "stdout",
     "output_type": "stream",
     "text": [
      "Training with changepoint_prior_scale=0.1, seasonality_prior_scale=10.0\n"
     ]
    },
    {
     "data": {
      "application/vnd.jupyter.widget-view+json": {
       "model_id": "d488b68943fd45959504e9f448596367",
       "version_major": 2,
       "version_minor": 0
      },
      "text/plain": [
       "  0%|          | 0/11 [00:00<?, ?it/s]"
      ]
     },
     "metadata": {},
     "output_type": "display_data"
    },
    {
     "name": "stderr",
     "output_type": "stream",
     "text": [
      "15:45:47 - cmdstanpy - INFO - Chain [1] start processing\n",
      "15:45:47 - cmdstanpy - INFO - Chain [1] done processing\n",
      "15:45:47 - cmdstanpy - INFO - Chain [1] start processing\n",
      "15:45:47 - cmdstanpy - INFO - Chain [1] done processing\n",
      "15:45:47 - cmdstanpy - INFO - Chain [1] start processing\n",
      "15:45:47 - cmdstanpy - INFO - Chain [1] done processing\n",
      "15:45:47 - cmdstanpy - INFO - Chain [1] start processing\n",
      "15:45:47 - cmdstanpy - INFO - Chain [1] done processing\n",
      "15:45:48 - cmdstanpy - INFO - Chain [1] start processing\n",
      "15:45:48 - cmdstanpy - INFO - Chain [1] done processing\n",
      "15:45:48 - cmdstanpy - INFO - Chain [1] start processing\n",
      "15:45:48 - cmdstanpy - INFO - Chain [1] done processing\n",
      "15:45:48 - cmdstanpy - INFO - Chain [1] start processing\n",
      "15:45:48 - cmdstanpy - INFO - Chain [1] done processing\n",
      "15:45:48 - cmdstanpy - INFO - Chain [1] start processing\n",
      "15:45:48 - cmdstanpy - INFO - Chain [1] done processing\n",
      "15:45:48 - cmdstanpy - INFO - Chain [1] start processing\n",
      "15:45:48 - cmdstanpy - INFO - Chain [1] done processing\n",
      "15:45:48 - cmdstanpy - INFO - Chain [1] start processing\n",
      "15:45:49 - cmdstanpy - INFO - Chain [1] done processing\n",
      "15:45:49 - cmdstanpy - INFO - Chain [1] start processing\n",
      "15:45:49 - cmdstanpy - INFO - Chain [1] done processing\n",
      "15:45:49 - cmdstanpy - INFO - Chain [1] start processing\n"
     ]
    },
    {
     "name": "stdout",
     "output_type": "stream",
     "text": [
      "Training with changepoint_prior_scale=0.5, seasonality_prior_scale=1.0\n"
     ]
    },
    {
     "name": "stderr",
     "output_type": "stream",
     "text": [
      "15:45:49 - cmdstanpy - INFO - Chain [1] done processing\n"
     ]
    },
    {
     "data": {
      "application/vnd.jupyter.widget-view+json": {
       "model_id": "3ff7d6a942f14aeca2e22646af7ae37b",
       "version_major": 2,
       "version_minor": 0
      },
      "text/plain": [
       "  0%|          | 0/11 [00:00<?, ?it/s]"
      ]
     },
     "metadata": {},
     "output_type": "display_data"
    },
    {
     "name": "stderr",
     "output_type": "stream",
     "text": [
      "15:45:49 - cmdstanpy - INFO - Chain [1] start processing\n",
      "15:45:49 - cmdstanpy - INFO - Chain [1] done processing\n",
      "15:45:50 - cmdstanpy - INFO - Chain [1] start processing\n",
      "15:45:50 - cmdstanpy - INFO - Chain [1] done processing\n",
      "15:45:50 - cmdstanpy - INFO - Chain [1] start processing\n",
      "15:45:50 - cmdstanpy - INFO - Chain [1] done processing\n",
      "15:45:50 - cmdstanpy - INFO - Chain [1] start processing\n",
      "15:45:50 - cmdstanpy - INFO - Chain [1] done processing\n",
      "15:45:50 - cmdstanpy - INFO - Chain [1] start processing\n",
      "15:45:50 - cmdstanpy - INFO - Chain [1] done processing\n",
      "15:45:50 - cmdstanpy - INFO - Chain [1] start processing\n",
      "15:45:50 - cmdstanpy - INFO - Chain [1] done processing\n",
      "15:45:50 - cmdstanpy - INFO - Chain [1] start processing\n",
      "15:45:50 - cmdstanpy - INFO - Chain [1] done processing\n",
      "15:45:51 - cmdstanpy - INFO - Chain [1] start processing\n",
      "15:45:51 - cmdstanpy - INFO - Chain [1] done processing\n",
      "15:45:51 - cmdstanpy - INFO - Chain [1] start processing\n",
      "15:45:51 - cmdstanpy - INFO - Chain [1] done processing\n",
      "15:45:51 - cmdstanpy - INFO - Chain [1] start processing\n",
      "15:45:51 - cmdstanpy - INFO - Chain [1] done processing\n",
      "15:45:51 - cmdstanpy - INFO - Chain [1] start processing\n",
      "15:45:51 - cmdstanpy - INFO - Chain [1] done processing\n",
      "15:45:52 - cmdstanpy - INFO - Chain [1] start processing\n"
     ]
    },
    {
     "name": "stdout",
     "output_type": "stream",
     "text": [
      "Training with changepoint_prior_scale=0.5, seasonality_prior_scale=10.0\n"
     ]
    },
    {
     "name": "stderr",
     "output_type": "stream",
     "text": [
      "15:45:52 - cmdstanpy - INFO - Chain [1] done processing\n"
     ]
    },
    {
     "data": {
      "application/vnd.jupyter.widget-view+json": {
       "model_id": "34fb23d8c845480288c3922e5a0fdce2",
       "version_major": 2,
       "version_minor": 0
      },
      "text/plain": [
       "  0%|          | 0/11 [00:00<?, ?it/s]"
      ]
     },
     "metadata": {},
     "output_type": "display_data"
    },
    {
     "name": "stderr",
     "output_type": "stream",
     "text": [
      "15:45:52 - cmdstanpy - INFO - Chain [1] start processing\n",
      "15:45:52 - cmdstanpy - INFO - Chain [1] done processing\n",
      "15:45:52 - cmdstanpy - INFO - Chain [1] start processing\n",
      "15:45:52 - cmdstanpy - INFO - Chain [1] done processing\n",
      "15:45:53 - cmdstanpy - INFO - Chain [1] start processing\n",
      "15:45:53 - cmdstanpy - INFO - Chain [1] done processing\n",
      "15:45:53 - cmdstanpy - INFO - Chain [1] start processing\n",
      "15:45:53 - cmdstanpy - INFO - Chain [1] done processing\n",
      "15:45:53 - cmdstanpy - INFO - Chain [1] start processing\n",
      "15:45:53 - cmdstanpy - INFO - Chain [1] done processing\n",
      "15:45:53 - cmdstanpy - INFO - Chain [1] start processing\n",
      "15:45:53 - cmdstanpy - INFO - Chain [1] done processing\n",
      "15:45:53 - cmdstanpy - INFO - Chain [1] start processing\n",
      "15:45:53 - cmdstanpy - INFO - Chain [1] done processing\n",
      "15:45:53 - cmdstanpy - INFO - Chain [1] start processing\n",
      "15:45:54 - cmdstanpy - INFO - Chain [1] done processing\n",
      "15:45:54 - cmdstanpy - INFO - Chain [1] start processing\n",
      "15:45:54 - cmdstanpy - INFO - Chain [1] done processing\n",
      "15:45:54 - cmdstanpy - INFO - Chain [1] start processing\n",
      "15:45:54 - cmdstanpy - INFO - Chain [1] done processing\n",
      "15:45:54 - cmdstanpy - INFO - Chain [1] start processing\n",
      "15:45:54 - cmdstanpy - INFO - Chain [1] done processing\n",
      "Tuning cs subdisciplines:  72%|█████████████▊     | 29/40 [07:24<02:52, 15.68s/it, Processing cs.NI]"
     ]
    },
    {
     "name": "stdout",
     "output_type": "stream",
     "text": [
      "\n",
      "Best Parameters:\n",
      "changepoint_prior_scale     0.500000\n",
      "seasonality_prior_scale     1.000000\n",
      "rmse                       11.097617\n",
      "Name: 4, dtype: float64\n"
     ]
    },
    {
     "name": "stderr",
     "output_type": "stream",
     "text": [
      "15:45:55 - cmdstanpy - INFO - Chain [1] start processing\n",
      "15:45:55 - cmdstanpy - INFO - Chain [1] done processing\n"
     ]
    },
    {
     "name": "stdout",
     "output_type": "stream",
     "text": [
      "Training with changepoint_prior_scale=0.01, seasonality_prior_scale=1.0\n"
     ]
    },
    {
     "data": {
      "application/vnd.jupyter.widget-view+json": {
       "model_id": "d886749da86c460fb3fb1f7c5d645c11",
       "version_major": 2,
       "version_minor": 0
      },
      "text/plain": [
       "  0%|          | 0/11 [00:00<?, ?it/s]"
      ]
     },
     "metadata": {},
     "output_type": "display_data"
    },
    {
     "name": "stderr",
     "output_type": "stream",
     "text": [
      "15:45:55 - cmdstanpy - INFO - Chain [1] start processing\n",
      "15:45:55 - cmdstanpy - INFO - Chain [1] done processing\n",
      "15:45:55 - cmdstanpy - INFO - Chain [1] start processing\n",
      "15:45:55 - cmdstanpy - INFO - Chain [1] done processing\n",
      "15:45:55 - cmdstanpy - INFO - Chain [1] start processing\n",
      "15:45:55 - cmdstanpy - INFO - Chain [1] done processing\n",
      "15:45:56 - cmdstanpy - INFO - Chain [1] start processing\n",
      "15:45:56 - cmdstanpy - INFO - Chain [1] done processing\n",
      "15:45:56 - cmdstanpy - INFO - Chain [1] start processing\n",
      "15:45:56 - cmdstanpy - INFO - Chain [1] done processing\n",
      "15:45:56 - cmdstanpy - INFO - Chain [1] start processing\n",
      "15:45:56 - cmdstanpy - INFO - Chain [1] done processing\n",
      "15:45:56 - cmdstanpy - INFO - Chain [1] start processing\n",
      "15:45:56 - cmdstanpy - INFO - Chain [1] done processing\n",
      "15:45:56 - cmdstanpy - INFO - Chain [1] start processing\n",
      "15:45:56 - cmdstanpy - INFO - Chain [1] done processing\n",
      "15:45:56 - cmdstanpy - INFO - Chain [1] start processing\n",
      "15:45:56 - cmdstanpy - INFO - Chain [1] done processing\n",
      "15:45:56 - cmdstanpy - INFO - Chain [1] start processing\n",
      "15:45:56 - cmdstanpy - INFO - Chain [1] done processing\n",
      "15:45:57 - cmdstanpy - INFO - Chain [1] start processing\n",
      "15:45:57 - cmdstanpy - INFO - Chain [1] done processing\n",
      "15:45:57 - cmdstanpy - INFO - Chain [1] start processing\n",
      "15:45:57 - cmdstanpy - INFO - Chain [1] done processing\n"
     ]
    },
    {
     "name": "stdout",
     "output_type": "stream",
     "text": [
      "Training with changepoint_prior_scale=0.01, seasonality_prior_scale=10.0\n"
     ]
    },
    {
     "data": {
      "application/vnd.jupyter.widget-view+json": {
       "model_id": "d518dab7fbfd40f8a52d4f2708842962",
       "version_major": 2,
       "version_minor": 0
      },
      "text/plain": [
       "  0%|          | 0/11 [00:00<?, ?it/s]"
      ]
     },
     "metadata": {},
     "output_type": "display_data"
    },
    {
     "name": "stderr",
     "output_type": "stream",
     "text": [
      "15:45:57 - cmdstanpy - INFO - Chain [1] start processing\n",
      "15:45:57 - cmdstanpy - INFO - Chain [1] done processing\n",
      "15:45:57 - cmdstanpy - INFO - Chain [1] start processing\n",
      "15:45:57 - cmdstanpy - INFO - Chain [1] done processing\n",
      "15:45:57 - cmdstanpy - INFO - Chain [1] start processing\n",
      "15:45:57 - cmdstanpy - INFO - Chain [1] done processing\n",
      "15:45:57 - cmdstanpy - INFO - Chain [1] start processing\n",
      "15:45:58 - cmdstanpy - INFO - Chain [1] done processing\n",
      "15:45:58 - cmdstanpy - INFO - Chain [1] start processing\n",
      "15:45:58 - cmdstanpy - INFO - Chain [1] done processing\n",
      "15:45:58 - cmdstanpy - INFO - Chain [1] start processing\n",
      "15:45:58 - cmdstanpy - INFO - Chain [1] done processing\n",
      "15:45:58 - cmdstanpy - INFO - Chain [1] start processing\n",
      "15:45:58 - cmdstanpy - INFO - Chain [1] done processing\n",
      "15:45:58 - cmdstanpy - INFO - Chain [1] start processing\n",
      "15:45:58 - cmdstanpy - INFO - Chain [1] done processing\n",
      "15:45:58 - cmdstanpy - INFO - Chain [1] start processing\n",
      "15:45:58 - cmdstanpy - INFO - Chain [1] done processing\n",
      "15:45:58 - cmdstanpy - INFO - Chain [1] start processing\n",
      "15:45:58 - cmdstanpy - INFO - Chain [1] done processing\n",
      "15:45:58 - cmdstanpy - INFO - Chain [1] start processing\n",
      "15:45:59 - cmdstanpy - INFO - Chain [1] done processing\n",
      "15:45:59 - cmdstanpy - INFO - Chain [1] start processing\n",
      "15:45:59 - cmdstanpy - INFO - Chain [1] done processing\n"
     ]
    },
    {
     "name": "stdout",
     "output_type": "stream",
     "text": [
      "Training with changepoint_prior_scale=0.1, seasonality_prior_scale=1.0\n"
     ]
    },
    {
     "data": {
      "application/vnd.jupyter.widget-view+json": {
       "model_id": "2f33ecd106a44d1e9863d9852c1a4c52",
       "version_major": 2,
       "version_minor": 0
      },
      "text/plain": [
       "  0%|          | 0/11 [00:00<?, ?it/s]"
      ]
     },
     "metadata": {},
     "output_type": "display_data"
    },
    {
     "name": "stderr",
     "output_type": "stream",
     "text": [
      "15:45:59 - cmdstanpy - INFO - Chain [1] start processing\n",
      "15:45:59 - cmdstanpy - INFO - Chain [1] done processing\n",
      "15:45:59 - cmdstanpy - INFO - Chain [1] start processing\n",
      "15:45:59 - cmdstanpy - INFO - Chain [1] done processing\n",
      "15:45:59 - cmdstanpy - INFO - Chain [1] start processing\n",
      "15:45:59 - cmdstanpy - INFO - Chain [1] done processing\n",
      "15:45:59 - cmdstanpy - INFO - Chain [1] start processing\n",
      "15:46:00 - cmdstanpy - INFO - Chain [1] done processing\n",
      "15:46:00 - cmdstanpy - INFO - Chain [1] start processing\n",
      "15:46:00 - cmdstanpy - INFO - Chain [1] done processing\n",
      "15:46:00 - cmdstanpy - INFO - Chain [1] start processing\n",
      "15:46:00 - cmdstanpy - INFO - Chain [1] done processing\n",
      "15:46:00 - cmdstanpy - INFO - Chain [1] start processing\n",
      "15:46:00 - cmdstanpy - INFO - Chain [1] done processing\n",
      "15:46:00 - cmdstanpy - INFO - Chain [1] start processing\n",
      "15:46:00 - cmdstanpy - INFO - Chain [1] done processing\n",
      "15:46:00 - cmdstanpy - INFO - Chain [1] start processing\n",
      "15:46:00 - cmdstanpy - INFO - Chain [1] done processing\n",
      "15:46:00 - cmdstanpy - INFO - Chain [1] start processing\n",
      "15:46:00 - cmdstanpy - INFO - Chain [1] done processing\n",
      "15:46:01 - cmdstanpy - INFO - Chain [1] start processing\n",
      "15:46:01 - cmdstanpy - INFO - Chain [1] done processing\n",
      "15:46:01 - cmdstanpy - INFO - Chain [1] start processing\n",
      "15:46:01 - cmdstanpy - INFO - Chain [1] done processing\n"
     ]
    },
    {
     "name": "stdout",
     "output_type": "stream",
     "text": [
      "Training with changepoint_prior_scale=0.1, seasonality_prior_scale=10.0\n"
     ]
    },
    {
     "data": {
      "application/vnd.jupyter.widget-view+json": {
       "model_id": "a80601fee45043c390e0507668e60f03",
       "version_major": 2,
       "version_minor": 0
      },
      "text/plain": [
       "  0%|          | 0/11 [00:00<?, ?it/s]"
      ]
     },
     "metadata": {},
     "output_type": "display_data"
    },
    {
     "name": "stderr",
     "output_type": "stream",
     "text": [
      "15:46:01 - cmdstanpy - INFO - Chain [1] start processing\n",
      "15:46:01 - cmdstanpy - INFO - Chain [1] done processing\n",
      "15:46:01 - cmdstanpy - INFO - Chain [1] start processing\n",
      "15:46:01 - cmdstanpy - INFO - Chain [1] done processing\n",
      "15:46:01 - cmdstanpy - INFO - Chain [1] start processing\n",
      "15:46:02 - cmdstanpy - INFO - Chain [1] done processing\n",
      "15:46:02 - cmdstanpy - INFO - Chain [1] start processing\n",
      "15:46:02 - cmdstanpy - INFO - Chain [1] done processing\n",
      "15:46:02 - cmdstanpy - INFO - Chain [1] start processing\n",
      "15:46:02 - cmdstanpy - INFO - Chain [1] done processing\n",
      "15:46:02 - cmdstanpy - INFO - Chain [1] start processing\n",
      "15:46:02 - cmdstanpy - INFO - Chain [1] done processing\n",
      "15:46:02 - cmdstanpy - INFO - Chain [1] start processing\n",
      "15:46:02 - cmdstanpy - INFO - Chain [1] done processing\n",
      "15:46:02 - cmdstanpy - INFO - Chain [1] start processing\n",
      "15:46:02 - cmdstanpy - INFO - Chain [1] done processing\n",
      "15:46:03 - cmdstanpy - INFO - Chain [1] start processing\n",
      "15:46:03 - cmdstanpy - INFO - Chain [1] done processing\n",
      "15:46:03 - cmdstanpy - INFO - Chain [1] start processing\n",
      "15:46:03 - cmdstanpy - INFO - Chain [1] done processing\n",
      "15:46:03 - cmdstanpy - INFO - Chain [1] start processing\n",
      "15:46:03 - cmdstanpy - INFO - Chain [1] done processing\n",
      "15:46:03 - cmdstanpy - INFO - Chain [1] start processing\n"
     ]
    },
    {
     "name": "stdout",
     "output_type": "stream",
     "text": [
      "Training with changepoint_prior_scale=0.5, seasonality_prior_scale=1.0\n"
     ]
    },
    {
     "name": "stderr",
     "output_type": "stream",
     "text": [
      "15:46:04 - cmdstanpy - INFO - Chain [1] done processing\n"
     ]
    },
    {
     "data": {
      "application/vnd.jupyter.widget-view+json": {
       "model_id": "273f32c05ce9499282e158702eb91077",
       "version_major": 2,
       "version_minor": 0
      },
      "text/plain": [
       "  0%|          | 0/11 [00:00<?, ?it/s]"
      ]
     },
     "metadata": {},
     "output_type": "display_data"
    },
    {
     "name": "stderr",
     "output_type": "stream",
     "text": [
      "15:46:04 - cmdstanpy - INFO - Chain [1] start processing\n",
      "15:46:04 - cmdstanpy - INFO - Chain [1] done processing\n",
      "15:46:04 - cmdstanpy - INFO - Chain [1] start processing\n",
      "15:46:04 - cmdstanpy - INFO - Chain [1] done processing\n",
      "15:46:04 - cmdstanpy - INFO - Chain [1] start processing\n",
      "15:46:04 - cmdstanpy - INFO - Chain [1] done processing\n",
      "15:46:04 - cmdstanpy - INFO - Chain [1] start processing\n",
      "15:46:04 - cmdstanpy - INFO - Chain [1] done processing\n",
      "15:46:04 - cmdstanpy - INFO - Chain [1] start processing\n",
      "15:46:05 - cmdstanpy - INFO - Chain [1] done processing\n",
      "15:46:05 - cmdstanpy - INFO - Chain [1] start processing\n",
      "15:46:05 - cmdstanpy - INFO - Chain [1] done processing\n",
      "15:46:05 - cmdstanpy - INFO - Chain [1] start processing\n",
      "15:46:05 - cmdstanpy - INFO - Chain [1] done processing\n",
      "15:46:05 - cmdstanpy - INFO - Chain [1] start processing\n",
      "15:46:05 - cmdstanpy - INFO - Chain [1] done processing\n",
      "15:46:05 - cmdstanpy - INFO - Chain [1] start processing\n",
      "15:46:06 - cmdstanpy - INFO - Chain [1] done processing\n",
      "15:46:06 - cmdstanpy - INFO - Chain [1] start processing\n",
      "15:46:06 - cmdstanpy - INFO - Chain [1] done processing\n",
      "15:46:06 - cmdstanpy - INFO - Chain [1] start processing\n",
      "15:46:06 - cmdstanpy - INFO - Chain [1] done processing\n",
      "15:46:06 - cmdstanpy - INFO - Chain [1] start processing\n"
     ]
    },
    {
     "name": "stdout",
     "output_type": "stream",
     "text": [
      "Training with changepoint_prior_scale=0.5, seasonality_prior_scale=10.0\n"
     ]
    },
    {
     "name": "stderr",
     "output_type": "stream",
     "text": [
      "15:46:07 - cmdstanpy - INFO - Chain [1] done processing\n"
     ]
    },
    {
     "data": {
      "application/vnd.jupyter.widget-view+json": {
       "model_id": "369a135b0e9a41af8d42dca3c4222e35",
       "version_major": 2,
       "version_minor": 0
      },
      "text/plain": [
       "  0%|          | 0/11 [00:00<?, ?it/s]"
      ]
     },
     "metadata": {},
     "output_type": "display_data"
    },
    {
     "name": "stderr",
     "output_type": "stream",
     "text": [
      "15:46:07 - cmdstanpy - INFO - Chain [1] start processing\n",
      "15:46:07 - cmdstanpy - INFO - Chain [1] done processing\n",
      "15:46:07 - cmdstanpy - INFO - Chain [1] start processing\n",
      "15:46:07 - cmdstanpy - INFO - Chain [1] done processing\n",
      "15:46:07 - cmdstanpy - INFO - Chain [1] start processing\n",
      "15:46:07 - cmdstanpy - INFO - Chain [1] done processing\n",
      "15:46:08 - cmdstanpy - INFO - Chain [1] start processing\n",
      "15:46:08 - cmdstanpy - INFO - Chain [1] done processing\n",
      "15:46:08 - cmdstanpy - INFO - Chain [1] start processing\n",
      "15:46:08 - cmdstanpy - INFO - Chain [1] done processing\n",
      "15:46:08 - cmdstanpy - INFO - Chain [1] start processing\n",
      "15:46:08 - cmdstanpy - INFO - Chain [1] done processing\n",
      "15:46:08 - cmdstanpy - INFO - Chain [1] start processing\n",
      "15:46:08 - cmdstanpy - INFO - Chain [1] done processing\n",
      "15:46:08 - cmdstanpy - INFO - Chain [1] start processing\n",
      "15:46:09 - cmdstanpy - INFO - Chain [1] done processing\n",
      "15:46:09 - cmdstanpy - INFO - Chain [1] start processing\n",
      "15:46:09 - cmdstanpy - INFO - Chain [1] done processing\n",
      "15:46:09 - cmdstanpy - INFO - Chain [1] start processing\n",
      "15:46:09 - cmdstanpy - INFO - Chain [1] done processing\n",
      "15:46:09 - cmdstanpy - INFO - Chain [1] start processing\n",
      "15:46:09 - cmdstanpy - INFO - Chain [1] done processing\n",
      "Tuning cs subdisciplines:  75%|██████████████▎    | 30/40 [07:39<02:34, 15.44s/it, Processing cs.OH]"
     ]
    },
    {
     "name": "stdout",
     "output_type": "stream",
     "text": [
      "\n",
      "Best Parameters:\n",
      "changepoint_prior_scale     0.500000\n",
      "seasonality_prior_scale     1.000000\n",
      "rmse                       13.117536\n",
      "Name: 4, dtype: float64\n"
     ]
    },
    {
     "name": "stderr",
     "output_type": "stream",
     "text": [
      "15:46:10 - cmdstanpy - INFO - Chain [1] start processing\n",
      "15:46:10 - cmdstanpy - INFO - Chain [1] done processing\n"
     ]
    },
    {
     "name": "stdout",
     "output_type": "stream",
     "text": [
      "Training with changepoint_prior_scale=0.01, seasonality_prior_scale=1.0\n"
     ]
    },
    {
     "data": {
      "application/vnd.jupyter.widget-view+json": {
       "model_id": "62c0365709a84360bf5bf0a973a345f9",
       "version_major": 2,
       "version_minor": 0
      },
      "text/plain": [
       "  0%|          | 0/10 [00:00<?, ?it/s]"
      ]
     },
     "metadata": {},
     "output_type": "display_data"
    },
    {
     "name": "stderr",
     "output_type": "stream",
     "text": [
      "15:46:10 - cmdstanpy - INFO - Chain [1] start processing\n",
      "15:46:10 - cmdstanpy - INFO - Chain [1] done processing\n",
      "15:46:10 - cmdstanpy - INFO - Chain [1] start processing\n",
      "15:46:10 - cmdstanpy - INFO - Chain [1] done processing\n",
      "15:46:10 - cmdstanpy - INFO - Chain [1] start processing\n",
      "15:46:10 - cmdstanpy - INFO - Chain [1] done processing\n",
      "15:46:10 - cmdstanpy - INFO - Chain [1] start processing\n",
      "15:46:10 - cmdstanpy - INFO - Chain [1] done processing\n",
      "15:46:10 - cmdstanpy - INFO - Chain [1] start processing\n",
      "15:46:11 - cmdstanpy - INFO - Chain [1] done processing\n",
      "15:46:11 - cmdstanpy - INFO - Chain [1] start processing\n",
      "15:46:11 - cmdstanpy - INFO - Chain [1] done processing\n",
      "15:46:11 - cmdstanpy - INFO - Chain [1] start processing\n",
      "15:46:11 - cmdstanpy - INFO - Chain [1] done processing\n",
      "15:46:11 - cmdstanpy - INFO - Chain [1] start processing\n",
      "15:46:11 - cmdstanpy - INFO - Chain [1] done processing\n",
      "15:46:11 - cmdstanpy - INFO - Chain [1] start processing\n",
      "15:46:11 - cmdstanpy - INFO - Chain [1] done processing\n",
      "15:46:11 - cmdstanpy - INFO - Chain [1] start processing\n",
      "15:46:11 - cmdstanpy - INFO - Chain [1] done processing\n",
      "15:46:11 - cmdstanpy - INFO - Chain [1] start processing\n",
      "15:46:11 - cmdstanpy - INFO - Chain [1] done processing\n"
     ]
    },
    {
     "name": "stdout",
     "output_type": "stream",
     "text": [
      "Training with changepoint_prior_scale=0.01, seasonality_prior_scale=10.0\n"
     ]
    },
    {
     "data": {
      "application/vnd.jupyter.widget-view+json": {
       "model_id": "92dc4ccf8f814e409337addafa259cd4",
       "version_major": 2,
       "version_minor": 0
      },
      "text/plain": [
       "  0%|          | 0/10 [00:00<?, ?it/s]"
      ]
     },
     "metadata": {},
     "output_type": "display_data"
    },
    {
     "name": "stderr",
     "output_type": "stream",
     "text": [
      "15:46:12 - cmdstanpy - INFO - Chain [1] start processing\n",
      "15:46:12 - cmdstanpy - INFO - Chain [1] done processing\n",
      "15:46:12 - cmdstanpy - INFO - Chain [1] start processing\n",
      "15:46:12 - cmdstanpy - INFO - Chain [1] done processing\n",
      "15:46:12 - cmdstanpy - INFO - Chain [1] start processing\n",
      "15:46:12 - cmdstanpy - INFO - Chain [1] done processing\n",
      "15:46:12 - cmdstanpy - INFO - Chain [1] start processing\n",
      "15:46:12 - cmdstanpy - INFO - Chain [1] done processing\n",
      "15:46:12 - cmdstanpy - INFO - Chain [1] start processing\n",
      "15:46:12 - cmdstanpy - INFO - Chain [1] done processing\n",
      "15:46:12 - cmdstanpy - INFO - Chain [1] start processing\n",
      "15:46:12 - cmdstanpy - INFO - Chain [1] done processing\n",
      "15:46:12 - cmdstanpy - INFO - Chain [1] start processing\n",
      "15:46:12 - cmdstanpy - INFO - Chain [1] done processing\n",
      "15:46:12 - cmdstanpy - INFO - Chain [1] start processing\n",
      "15:46:13 - cmdstanpy - INFO - Chain [1] done processing\n",
      "15:46:13 - cmdstanpy - INFO - Chain [1] start processing\n",
      "15:46:13 - cmdstanpy - INFO - Chain [1] done processing\n",
      "15:46:13 - cmdstanpy - INFO - Chain [1] start processing\n",
      "15:46:13 - cmdstanpy - INFO - Chain [1] done processing\n",
      "15:46:13 - cmdstanpy - INFO - Chain [1] start processing\n",
      "15:46:13 - cmdstanpy - INFO - Chain [1] done processing\n"
     ]
    },
    {
     "name": "stdout",
     "output_type": "stream",
     "text": [
      "Training with changepoint_prior_scale=0.1, seasonality_prior_scale=1.0\n"
     ]
    },
    {
     "data": {
      "application/vnd.jupyter.widget-view+json": {
       "model_id": "13c462e9984743f1845c114628bc6832",
       "version_major": 2,
       "version_minor": 0
      },
      "text/plain": [
       "  0%|          | 0/10 [00:00<?, ?it/s]"
      ]
     },
     "metadata": {},
     "output_type": "display_data"
    },
    {
     "name": "stderr",
     "output_type": "stream",
     "text": [
      "15:46:13 - cmdstanpy - INFO - Chain [1] start processing\n",
      "15:46:13 - cmdstanpy - INFO - Chain [1] done processing\n",
      "15:46:13 - cmdstanpy - INFO - Chain [1] start processing\n",
      "15:46:13 - cmdstanpy - INFO - Chain [1] done processing\n",
      "15:46:13 - cmdstanpy - INFO - Chain [1] start processing\n",
      "15:46:14 - cmdstanpy - INFO - Chain [1] done processing\n",
      "15:46:14 - cmdstanpy - INFO - Chain [1] start processing\n",
      "15:46:14 - cmdstanpy - INFO - Chain [1] done processing\n",
      "15:46:14 - cmdstanpy - INFO - Chain [1] start processing\n",
      "15:46:14 - cmdstanpy - INFO - Chain [1] done processing\n",
      "15:46:14 - cmdstanpy - INFO - Chain [1] start processing\n",
      "15:46:14 - cmdstanpy - INFO - Chain [1] done processing\n",
      "15:46:14 - cmdstanpy - INFO - Chain [1] start processing\n",
      "15:46:14 - cmdstanpy - INFO - Chain [1] done processing\n",
      "15:46:14 - cmdstanpy - INFO - Chain [1] start processing\n",
      "15:46:14 - cmdstanpy - INFO - Chain [1] done processing\n",
      "15:46:14 - cmdstanpy - INFO - Chain [1] start processing\n",
      "15:46:14 - cmdstanpy - INFO - Chain [1] done processing\n",
      "15:46:14 - cmdstanpy - INFO - Chain [1] start processing\n",
      "15:46:15 - cmdstanpy - INFO - Chain [1] done processing\n",
      "15:46:15 - cmdstanpy - INFO - Chain [1] start processing\n",
      "15:46:15 - cmdstanpy - INFO - Chain [1] done processing\n"
     ]
    },
    {
     "name": "stdout",
     "output_type": "stream",
     "text": [
      "Training with changepoint_prior_scale=0.1, seasonality_prior_scale=10.0\n"
     ]
    },
    {
     "data": {
      "application/vnd.jupyter.widget-view+json": {
       "model_id": "14e02b7b78834dc19d153d5a4c4b8f4d",
       "version_major": 2,
       "version_minor": 0
      },
      "text/plain": [
       "  0%|          | 0/10 [00:00<?, ?it/s]"
      ]
     },
     "metadata": {},
     "output_type": "display_data"
    },
    {
     "name": "stderr",
     "output_type": "stream",
     "text": [
      "15:46:15 - cmdstanpy - INFO - Chain [1] start processing\n",
      "15:46:15 - cmdstanpy - INFO - Chain [1] done processing\n",
      "15:46:15 - cmdstanpy - INFO - Chain [1] start processing\n",
      "15:46:15 - cmdstanpy - INFO - Chain [1] done processing\n",
      "15:46:15 - cmdstanpy - INFO - Chain [1] start processing\n",
      "15:46:15 - cmdstanpy - INFO - Chain [1] done processing\n",
      "15:46:15 - cmdstanpy - INFO - Chain [1] start processing\n",
      "15:46:15 - cmdstanpy - INFO - Chain [1] done processing\n",
      "15:46:15 - cmdstanpy - INFO - Chain [1] start processing\n",
      "15:46:16 - cmdstanpy - INFO - Chain [1] done processing\n",
      "15:46:16 - cmdstanpy - INFO - Chain [1] start processing\n",
      "15:46:16 - cmdstanpy - INFO - Chain [1] done processing\n",
      "15:46:16 - cmdstanpy - INFO - Chain [1] start processing\n",
      "15:46:16 - cmdstanpy - INFO - Chain [1] done processing\n",
      "15:46:16 - cmdstanpy - INFO - Chain [1] start processing\n",
      "15:46:16 - cmdstanpy - INFO - Chain [1] done processing\n",
      "15:46:16 - cmdstanpy - INFO - Chain [1] start processing\n",
      "15:46:16 - cmdstanpy - INFO - Chain [1] done processing\n",
      "15:46:16 - cmdstanpy - INFO - Chain [1] start processing\n",
      "15:46:16 - cmdstanpy - INFO - Chain [1] done processing\n",
      "15:46:17 - cmdstanpy - INFO - Chain [1] start processing\n"
     ]
    },
    {
     "name": "stdout",
     "output_type": "stream",
     "text": [
      "Training with changepoint_prior_scale=0.5, seasonality_prior_scale=1.0\n"
     ]
    },
    {
     "name": "stderr",
     "output_type": "stream",
     "text": [
      "15:46:17 - cmdstanpy - INFO - Chain [1] done processing\n"
     ]
    },
    {
     "data": {
      "application/vnd.jupyter.widget-view+json": {
       "model_id": "f5cfec6008b748adbfb16bc126310a91",
       "version_major": 2,
       "version_minor": 0
      },
      "text/plain": [
       "  0%|          | 0/10 [00:00<?, ?it/s]"
      ]
     },
     "metadata": {},
     "output_type": "display_data"
    },
    {
     "name": "stderr",
     "output_type": "stream",
     "text": [
      "15:46:17 - cmdstanpy - INFO - Chain [1] start processing\n",
      "15:46:17 - cmdstanpy - INFO - Chain [1] done processing\n",
      "15:46:17 - cmdstanpy - INFO - Chain [1] start processing\n",
      "15:46:17 - cmdstanpy - INFO - Chain [1] done processing\n",
      "15:46:17 - cmdstanpy - INFO - Chain [1] start processing\n",
      "15:46:17 - cmdstanpy - INFO - Chain [1] done processing\n",
      "15:46:18 - cmdstanpy - INFO - Chain [1] start processing\n",
      "15:46:18 - cmdstanpy - INFO - Chain [1] done processing\n",
      "15:46:18 - cmdstanpy - INFO - Chain [1] start processing\n",
      "15:46:18 - cmdstanpy - INFO - Chain [1] done processing\n",
      "15:46:18 - cmdstanpy - INFO - Chain [1] start processing\n",
      "15:46:18 - cmdstanpy - INFO - Chain [1] done processing\n",
      "15:46:18 - cmdstanpy - INFO - Chain [1] start processing\n",
      "15:46:18 - cmdstanpy - INFO - Chain [1] done processing\n",
      "15:46:18 - cmdstanpy - INFO - Chain [1] start processing\n",
      "15:46:19 - cmdstanpy - INFO - Chain [1] done processing\n",
      "15:46:19 - cmdstanpy - INFO - Chain [1] start processing\n",
      "15:46:19 - cmdstanpy - INFO - Chain [1] done processing\n",
      "15:46:19 - cmdstanpy - INFO - Chain [1] start processing\n",
      "15:46:19 - cmdstanpy - INFO - Chain [1] done processing\n",
      "15:46:19 - cmdstanpy - INFO - Chain [1] start processing\n"
     ]
    },
    {
     "name": "stdout",
     "output_type": "stream",
     "text": [
      "Training with changepoint_prior_scale=0.5, seasonality_prior_scale=10.0\n"
     ]
    },
    {
     "name": "stderr",
     "output_type": "stream",
     "text": [
      "15:46:20 - cmdstanpy - INFO - Chain [1] done processing\n"
     ]
    },
    {
     "data": {
      "application/vnd.jupyter.widget-view+json": {
       "model_id": "cdd612e46a4c4803aec51c2e41d52fcb",
       "version_major": 2,
       "version_minor": 0
      },
      "text/plain": [
       "  0%|          | 0/10 [00:00<?, ?it/s]"
      ]
     },
     "metadata": {},
     "output_type": "display_data"
    },
    {
     "name": "stderr",
     "output_type": "stream",
     "text": [
      "15:46:20 - cmdstanpy - INFO - Chain [1] start processing\n",
      "15:46:20 - cmdstanpy - INFO - Chain [1] done processing\n",
      "15:46:20 - cmdstanpy - INFO - Chain [1] start processing\n",
      "15:46:20 - cmdstanpy - INFO - Chain [1] done processing\n",
      "15:46:20 - cmdstanpy - INFO - Chain [1] start processing\n",
      "15:46:20 - cmdstanpy - INFO - Chain [1] done processing\n",
      "15:46:20 - cmdstanpy - INFO - Chain [1] start processing\n",
      "15:46:21 - cmdstanpy - INFO - Chain [1] done processing\n",
      "15:46:21 - cmdstanpy - INFO - Chain [1] start processing\n",
      "15:46:21 - cmdstanpy - INFO - Chain [1] done processing\n",
      "15:46:21 - cmdstanpy - INFO - Chain [1] start processing\n",
      "15:46:21 - cmdstanpy - INFO - Chain [1] done processing\n",
      "15:46:21 - cmdstanpy - INFO - Chain [1] start processing\n",
      "15:46:21 - cmdstanpy - INFO - Chain [1] done processing\n",
      "15:46:21 - cmdstanpy - INFO - Chain [1] start processing\n",
      "15:46:22 - cmdstanpy - INFO - Chain [1] done processing\n",
      "15:46:22 - cmdstanpy - INFO - Chain [1] start processing\n",
      "15:46:22 - cmdstanpy - INFO - Chain [1] done processing\n",
      "15:46:22 - cmdstanpy - INFO - Chain [1] start processing\n",
      "15:46:22 - cmdstanpy - INFO - Chain [1] done processing\n",
      "Tuning cs subdisciplines:  78%|██████████████▋    | 31/40 [07:52<02:11, 14.63s/it, Processing cs.OS]"
     ]
    },
    {
     "name": "stdout",
     "output_type": "stream",
     "text": [
      "\n",
      "Best Parameters:\n",
      "changepoint_prior_scale    0.010000\n",
      "seasonality_prior_scale    1.000000\n",
      "rmse                       1.123621\n",
      "Name: 0, dtype: float64\n"
     ]
    },
    {
     "name": "stderr",
     "output_type": "stream",
     "text": [
      "15:46:23 - cmdstanpy - INFO - Chain [1] start processing\n",
      "15:46:23 - cmdstanpy - INFO - Chain [1] done processing\n"
     ]
    },
    {
     "name": "stdout",
     "output_type": "stream",
     "text": [
      "Training with changepoint_prior_scale=0.01, seasonality_prior_scale=1.0\n"
     ]
    },
    {
     "data": {
      "application/vnd.jupyter.widget-view+json": {
       "model_id": "f8808a428841436989bc0e398989c36b",
       "version_major": 2,
       "version_minor": 0
      },
      "text/plain": [
       "  0%|          | 0/10 [00:00<?, ?it/s]"
      ]
     },
     "metadata": {},
     "output_type": "display_data"
    },
    {
     "name": "stderr",
     "output_type": "stream",
     "text": [
      "15:46:23 - cmdstanpy - INFO - Chain [1] start processing\n",
      "15:46:23 - cmdstanpy - INFO - Chain [1] done processing\n",
      "15:46:23 - cmdstanpy - INFO - Chain [1] start processing\n",
      "15:46:23 - cmdstanpy - INFO - Chain [1] done processing\n",
      "15:46:23 - cmdstanpy - INFO - Chain [1] start processing\n",
      "15:46:23 - cmdstanpy - INFO - Chain [1] done processing\n",
      "15:46:23 - cmdstanpy - INFO - Chain [1] start processing\n",
      "15:46:23 - cmdstanpy - INFO - Chain [1] done processing\n",
      "15:46:23 - cmdstanpy - INFO - Chain [1] start processing\n",
      "15:46:23 - cmdstanpy - INFO - Chain [1] done processing\n",
      "15:46:23 - cmdstanpy - INFO - Chain [1] start processing\n",
      "15:46:23 - cmdstanpy - INFO - Chain [1] done processing\n",
      "15:46:23 - cmdstanpy - INFO - Chain [1] start processing\n",
      "15:46:23 - cmdstanpy - INFO - Chain [1] done processing\n",
      "15:46:23 - cmdstanpy - INFO - Chain [1] start processing\n",
      "15:46:23 - cmdstanpy - INFO - Chain [1] done processing\n",
      "15:46:24 - cmdstanpy - INFO - Chain [1] start processing\n",
      "15:46:24 - cmdstanpy - INFO - Chain [1] done processing\n",
      "15:46:24 - cmdstanpy - INFO - Chain [1] start processing\n",
      "15:46:24 - cmdstanpy - INFO - Chain [1] done processing\n",
      "15:46:24 - cmdstanpy - INFO - Chain [1] start processing\n",
      "15:46:24 - cmdstanpy - INFO - Chain [1] done processing\n"
     ]
    },
    {
     "name": "stdout",
     "output_type": "stream",
     "text": [
      "Training with changepoint_prior_scale=0.01, seasonality_prior_scale=10.0\n"
     ]
    },
    {
     "data": {
      "application/vnd.jupyter.widget-view+json": {
       "model_id": "e30eb04a1aef44e38bca5e1a9797b3a4",
       "version_major": 2,
       "version_minor": 0
      },
      "text/plain": [
       "  0%|          | 0/10 [00:00<?, ?it/s]"
      ]
     },
     "metadata": {},
     "output_type": "display_data"
    },
    {
     "name": "stderr",
     "output_type": "stream",
     "text": [
      "15:46:24 - cmdstanpy - INFO - Chain [1] start processing\n",
      "15:46:24 - cmdstanpy - INFO - Chain [1] done processing\n",
      "15:46:24 - cmdstanpy - INFO - Chain [1] start processing\n",
      "15:46:24 - cmdstanpy - INFO - Chain [1] done processing\n",
      "15:46:24 - cmdstanpy - INFO - Chain [1] start processing\n",
      "15:46:24 - cmdstanpy - INFO - Chain [1] done processing\n",
      "15:46:24 - cmdstanpy - INFO - Chain [1] start processing\n",
      "15:46:24 - cmdstanpy - INFO - Chain [1] done processing\n",
      "15:46:24 - cmdstanpy - INFO - Chain [1] start processing\n",
      "15:46:25 - cmdstanpy - INFO - Chain [1] done processing\n",
      "15:46:25 - cmdstanpy - INFO - Chain [1] start processing\n",
      "15:46:25 - cmdstanpy - INFO - Chain [1] done processing\n",
      "15:46:25 - cmdstanpy - INFO - Chain [1] start processing\n",
      "15:46:25 - cmdstanpy - INFO - Chain [1] done processing\n",
      "15:46:25 - cmdstanpy - INFO - Chain [1] start processing\n",
      "15:46:25 - cmdstanpy - INFO - Chain [1] done processing\n",
      "15:46:25 - cmdstanpy - INFO - Chain [1] start processing\n",
      "15:46:25 - cmdstanpy - INFO - Chain [1] done processing\n",
      "15:46:25 - cmdstanpy - INFO - Chain [1] start processing\n",
      "15:46:25 - cmdstanpy - INFO - Chain [1] done processing\n",
      "15:46:25 - cmdstanpy - INFO - Chain [1] start processing\n",
      "15:46:25 - cmdstanpy - INFO - Chain [1] done processing\n"
     ]
    },
    {
     "name": "stdout",
     "output_type": "stream",
     "text": [
      "Training with changepoint_prior_scale=0.1, seasonality_prior_scale=1.0\n"
     ]
    },
    {
     "data": {
      "application/vnd.jupyter.widget-view+json": {
       "model_id": "6a7248dce7274e4a93d6e7deb0d032d5",
       "version_major": 2,
       "version_minor": 0
      },
      "text/plain": [
       "  0%|          | 0/10 [00:00<?, ?it/s]"
      ]
     },
     "metadata": {},
     "output_type": "display_data"
    },
    {
     "name": "stderr",
     "output_type": "stream",
     "text": [
      "15:46:25 - cmdstanpy - INFO - Chain [1] start processing\n",
      "15:46:25 - cmdstanpy - INFO - Chain [1] done processing\n",
      "15:46:25 - cmdstanpy - INFO - Chain [1] start processing\n",
      "15:46:26 - cmdstanpy - INFO - Chain [1] done processing\n",
      "15:46:26 - cmdstanpy - INFO - Chain [1] start processing\n",
      "15:46:26 - cmdstanpy - INFO - Chain [1] done processing\n",
      "15:46:26 - cmdstanpy - INFO - Chain [1] start processing\n",
      "15:46:26 - cmdstanpy - INFO - Chain [1] done processing\n",
      "15:46:26 - cmdstanpy - INFO - Chain [1] start processing\n",
      "15:46:26 - cmdstanpy - INFO - Chain [1] done processing\n",
      "15:46:26 - cmdstanpy - INFO - Chain [1] start processing\n",
      "15:46:26 - cmdstanpy - INFO - Chain [1] done processing\n",
      "15:46:26 - cmdstanpy - INFO - Chain [1] start processing\n",
      "15:46:26 - cmdstanpy - INFO - Chain [1] done processing\n",
      "15:46:26 - cmdstanpy - INFO - Chain [1] start processing\n",
      "15:46:26 - cmdstanpy - INFO - Chain [1] done processing\n",
      "15:46:26 - cmdstanpy - INFO - Chain [1] start processing\n",
      "15:46:26 - cmdstanpy - INFO - Chain [1] done processing\n",
      "15:46:26 - cmdstanpy - INFO - Chain [1] start processing\n",
      "15:46:26 - cmdstanpy - INFO - Chain [1] done processing\n",
      "15:46:27 - cmdstanpy - INFO - Chain [1] start processing\n",
      "15:46:27 - cmdstanpy - INFO - Chain [1] done processing\n"
     ]
    },
    {
     "name": "stdout",
     "output_type": "stream",
     "text": [
      "Training with changepoint_prior_scale=0.1, seasonality_prior_scale=10.0\n"
     ]
    },
    {
     "data": {
      "application/vnd.jupyter.widget-view+json": {
       "model_id": "df6e067f9a9644548f478dc9a559ce60",
       "version_major": 2,
       "version_minor": 0
      },
      "text/plain": [
       "  0%|          | 0/10 [00:00<?, ?it/s]"
      ]
     },
     "metadata": {},
     "output_type": "display_data"
    },
    {
     "name": "stderr",
     "output_type": "stream",
     "text": [
      "15:46:27 - cmdstanpy - INFO - Chain [1] start processing\n",
      "15:46:27 - cmdstanpy - INFO - Chain [1] done processing\n",
      "15:46:27 - cmdstanpy - INFO - Chain [1] start processing\n",
      "15:46:27 - cmdstanpy - INFO - Chain [1] done processing\n",
      "15:46:27 - cmdstanpy - INFO - Chain [1] start processing\n",
      "15:46:27 - cmdstanpy - INFO - Chain [1] done processing\n",
      "15:46:27 - cmdstanpy - INFO - Chain [1] start processing\n",
      "15:46:27 - cmdstanpy - INFO - Chain [1] done processing\n",
      "15:46:27 - cmdstanpy - INFO - Chain [1] start processing\n",
      "15:46:27 - cmdstanpy - INFO - Chain [1] done processing\n",
      "15:46:28 - cmdstanpy - INFO - Chain [1] start processing\n",
      "15:46:28 - cmdstanpy - INFO - Chain [1] done processing\n",
      "15:46:28 - cmdstanpy - INFO - Chain [1] start processing\n",
      "15:46:28 - cmdstanpy - INFO - Chain [1] done processing\n",
      "15:46:28 - cmdstanpy - INFO - Chain [1] start processing\n",
      "15:46:28 - cmdstanpy - INFO - Chain [1] done processing\n",
      "15:46:28 - cmdstanpy - INFO - Chain [1] start processing\n",
      "15:46:28 - cmdstanpy - INFO - Chain [1] done processing\n",
      "15:46:28 - cmdstanpy - INFO - Chain [1] start processing\n",
      "15:46:28 - cmdstanpy - INFO - Chain [1] done processing\n",
      "15:46:28 - cmdstanpy - INFO - Chain [1] start processing\n",
      "15:46:28 - cmdstanpy - INFO - Chain [1] done processing\n"
     ]
    },
    {
     "name": "stdout",
     "output_type": "stream",
     "text": [
      "Training with changepoint_prior_scale=0.5, seasonality_prior_scale=1.0\n"
     ]
    },
    {
     "data": {
      "application/vnd.jupyter.widget-view+json": {
       "model_id": "d0da16244dd0423db874d18ebb32af58",
       "version_major": 2,
       "version_minor": 0
      },
      "text/plain": [
       "  0%|          | 0/10 [00:00<?, ?it/s]"
      ]
     },
     "metadata": {},
     "output_type": "display_data"
    },
    {
     "name": "stderr",
     "output_type": "stream",
     "text": [
      "15:46:28 - cmdstanpy - INFO - Chain [1] start processing\n",
      "15:46:28 - cmdstanpy - INFO - Chain [1] done processing\n",
      "15:46:29 - cmdstanpy - INFO - Chain [1] start processing\n",
      "15:46:29 - cmdstanpy - INFO - Chain [1] done processing\n",
      "15:46:29 - cmdstanpy - INFO - Chain [1] start processing\n",
      "15:46:29 - cmdstanpy - INFO - Chain [1] done processing\n",
      "15:46:29 - cmdstanpy - INFO - Chain [1] start processing\n",
      "15:46:29 - cmdstanpy - INFO - Chain [1] done processing\n",
      "15:46:29 - cmdstanpy - INFO - Chain [1] start processing\n",
      "15:46:29 - cmdstanpy - INFO - Chain [1] done processing\n",
      "15:46:29 - cmdstanpy - INFO - Chain [1] start processing\n",
      "15:46:29 - cmdstanpy - INFO - Chain [1] done processing\n",
      "15:46:29 - cmdstanpy - INFO - Chain [1] start processing\n",
      "15:46:29 - cmdstanpy - INFO - Chain [1] done processing\n",
      "15:46:29 - cmdstanpy - INFO - Chain [1] start processing\n",
      "15:46:29 - cmdstanpy - INFO - Chain [1] done processing\n",
      "15:46:29 - cmdstanpy - INFO - Chain [1] start processing\n",
      "15:46:30 - cmdstanpy - INFO - Chain [1] done processing\n",
      "15:46:30 - cmdstanpy - INFO - Chain [1] start processing\n",
      "15:46:30 - cmdstanpy - INFO - Chain [1] done processing\n",
      "15:46:30 - cmdstanpy - INFO - Chain [1] start processing\n",
      "15:46:30 - cmdstanpy - INFO - Chain [1] done processing\n"
     ]
    },
    {
     "name": "stdout",
     "output_type": "stream",
     "text": [
      "Training with changepoint_prior_scale=0.5, seasonality_prior_scale=10.0\n"
     ]
    },
    {
     "data": {
      "application/vnd.jupyter.widget-view+json": {
       "model_id": "130f6aabfe65450bbc022093706d47e6",
       "version_major": 2,
       "version_minor": 0
      },
      "text/plain": [
       "  0%|          | 0/10 [00:00<?, ?it/s]"
      ]
     },
     "metadata": {},
     "output_type": "display_data"
    },
    {
     "name": "stderr",
     "output_type": "stream",
     "text": [
      "15:46:30 - cmdstanpy - INFO - Chain [1] start processing\n",
      "15:46:30 - cmdstanpy - INFO - Chain [1] done processing\n",
      "15:46:30 - cmdstanpy - INFO - Chain [1] start processing\n",
      "15:46:30 - cmdstanpy - INFO - Chain [1] done processing\n",
      "15:46:30 - cmdstanpy - INFO - Chain [1] start processing\n",
      "15:46:30 - cmdstanpy - INFO - Chain [1] done processing\n",
      "15:46:30 - cmdstanpy - INFO - Chain [1] start processing\n",
      "15:46:30 - cmdstanpy - INFO - Chain [1] done processing\n",
      "15:46:30 - cmdstanpy - INFO - Chain [1] start processing\n",
      "15:46:31 - cmdstanpy - INFO - Chain [1] done processing\n",
      "15:46:31 - cmdstanpy - INFO - Chain [1] start processing\n",
      "15:46:31 - cmdstanpy - INFO - Chain [1] done processing\n",
      "15:46:31 - cmdstanpy - INFO - Chain [1] start processing\n",
      "15:46:31 - cmdstanpy - INFO - Chain [1] done processing\n",
      "15:46:31 - cmdstanpy - INFO - Chain [1] start processing\n",
      "15:46:31 - cmdstanpy - INFO - Chain [1] done processing\n",
      "15:46:31 - cmdstanpy - INFO - Chain [1] start processing\n",
      "15:46:31 - cmdstanpy - INFO - Chain [1] done processing\n",
      "15:46:31 - cmdstanpy - INFO - Chain [1] start processing\n",
      "15:46:31 - cmdstanpy - INFO - Chain [1] done processing\n",
      "Tuning cs subdisciplines:  80%|███████████████▏   | 32/40 [08:01<01:43, 12.99s/it, Processing cs.PF]"
     ]
    },
    {
     "name": "stdout",
     "output_type": "stream",
     "text": [
      "\n",
      "Best Parameters:\n",
      "changepoint_prior_scale     0.01000\n",
      "seasonality_prior_scale    10.00000\n",
      "rmse                        1.28548\n",
      "Name: 1, dtype: float64\n"
     ]
    },
    {
     "name": "stderr",
     "output_type": "stream",
     "text": [
      "15:46:32 - cmdstanpy - INFO - Chain [1] start processing\n",
      "15:46:32 - cmdstanpy - INFO - Chain [1] done processing\n"
     ]
    },
    {
     "name": "stdout",
     "output_type": "stream",
     "text": [
      "Training with changepoint_prior_scale=0.01, seasonality_prior_scale=1.0\n"
     ]
    },
    {
     "data": {
      "application/vnd.jupyter.widget-view+json": {
       "model_id": "aab1c60780dc4e68800da1e9bc4071c9",
       "version_major": 2,
       "version_minor": 0
      },
      "text/plain": [
       "  0%|          | 0/11 [00:00<?, ?it/s]"
      ]
     },
     "metadata": {},
     "output_type": "display_data"
    },
    {
     "name": "stderr",
     "output_type": "stream",
     "text": [
      "15:46:32 - cmdstanpy - INFO - Chain [1] start processing\n",
      "15:46:32 - cmdstanpy - INFO - Chain [1] done processing\n",
      "15:46:32 - cmdstanpy - INFO - Chain [1] start processing\n",
      "15:46:32 - cmdstanpy - INFO - Chain [1] done processing\n",
      "15:46:32 - cmdstanpy - INFO - Chain [1] start processing\n",
      "15:46:32 - cmdstanpy - INFO - Chain [1] done processing\n",
      "15:46:32 - cmdstanpy - INFO - Chain [1] start processing\n",
      "15:46:32 - cmdstanpy - INFO - Chain [1] done processing\n",
      "15:46:32 - cmdstanpy - INFO - Chain [1] start processing\n",
      "15:46:33 - cmdstanpy - INFO - Chain [1] done processing\n",
      "15:46:33 - cmdstanpy - INFO - Chain [1] start processing\n",
      "15:46:33 - cmdstanpy - INFO - Chain [1] done processing\n",
      "15:46:33 - cmdstanpy - INFO - Chain [1] start processing\n",
      "15:46:33 - cmdstanpy - INFO - Chain [1] done processing\n",
      "15:46:33 - cmdstanpy - INFO - Chain [1] start processing\n",
      "15:46:33 - cmdstanpy - INFO - Chain [1] done processing\n",
      "15:46:33 - cmdstanpy - INFO - Chain [1] start processing\n",
      "15:46:33 - cmdstanpy - INFO - Chain [1] done processing\n",
      "15:46:33 - cmdstanpy - INFO - Chain [1] start processing\n",
      "15:46:33 - cmdstanpy - INFO - Chain [1] done processing\n",
      "15:46:33 - cmdstanpy - INFO - Chain [1] start processing\n",
      "15:46:34 - cmdstanpy - INFO - Chain [1] done processing\n",
      "15:46:34 - cmdstanpy - INFO - Chain [1] start processing\n",
      "15:46:34 - cmdstanpy - INFO - Chain [1] done processing\n"
     ]
    },
    {
     "name": "stdout",
     "output_type": "stream",
     "text": [
      "Training with changepoint_prior_scale=0.01, seasonality_prior_scale=10.0\n"
     ]
    },
    {
     "data": {
      "application/vnd.jupyter.widget-view+json": {
       "model_id": "289fbca5cb9e4b25bf8e017ba7f90485",
       "version_major": 2,
       "version_minor": 0
      },
      "text/plain": [
       "  0%|          | 0/11 [00:00<?, ?it/s]"
      ]
     },
     "metadata": {},
     "output_type": "display_data"
    },
    {
     "name": "stderr",
     "output_type": "stream",
     "text": [
      "15:46:34 - cmdstanpy - INFO - Chain [1] start processing\n",
      "15:46:34 - cmdstanpy - INFO - Chain [1] done processing\n",
      "15:46:34 - cmdstanpy - INFO - Chain [1] start processing\n",
      "15:46:34 - cmdstanpy - INFO - Chain [1] done processing\n",
      "15:46:34 - cmdstanpy - INFO - Chain [1] start processing\n",
      "15:46:34 - cmdstanpy - INFO - Chain [1] done processing\n",
      "15:46:34 - cmdstanpy - INFO - Chain [1] start processing\n",
      "15:46:34 - cmdstanpy - INFO - Chain [1] done processing\n",
      "15:46:34 - cmdstanpy - INFO - Chain [1] start processing\n",
      "15:46:35 - cmdstanpy - INFO - Chain [1] done processing\n",
      "15:46:35 - cmdstanpy - INFO - Chain [1] start processing\n",
      "15:46:35 - cmdstanpy - INFO - Chain [1] done processing\n",
      "15:46:35 - cmdstanpy - INFO - Chain [1] start processing\n",
      "15:46:35 - cmdstanpy - INFO - Chain [1] done processing\n",
      "15:46:35 - cmdstanpy - INFO - Chain [1] start processing\n",
      "15:46:35 - cmdstanpy - INFO - Chain [1] done processing\n",
      "15:46:35 - cmdstanpy - INFO - Chain [1] start processing\n",
      "15:46:35 - cmdstanpy - INFO - Chain [1] done processing\n",
      "15:46:35 - cmdstanpy - INFO - Chain [1] start processing\n",
      "15:46:35 - cmdstanpy - INFO - Chain [1] done processing\n",
      "15:46:35 - cmdstanpy - INFO - Chain [1] start processing\n",
      "15:46:35 - cmdstanpy - INFO - Chain [1] done processing\n",
      "15:46:36 - cmdstanpy - INFO - Chain [1] start processing\n",
      "15:46:36 - cmdstanpy - INFO - Chain [1] done processing\n"
     ]
    },
    {
     "name": "stdout",
     "output_type": "stream",
     "text": [
      "Training with changepoint_prior_scale=0.1, seasonality_prior_scale=1.0\n"
     ]
    },
    {
     "data": {
      "application/vnd.jupyter.widget-view+json": {
       "model_id": "305201deeb80409b9f15c5388f79a43e",
       "version_major": 2,
       "version_minor": 0
      },
      "text/plain": [
       "  0%|          | 0/11 [00:00<?, ?it/s]"
      ]
     },
     "metadata": {},
     "output_type": "display_data"
    },
    {
     "name": "stderr",
     "output_type": "stream",
     "text": [
      "15:46:36 - cmdstanpy - INFO - Chain [1] start processing\n",
      "15:46:36 - cmdstanpy - INFO - Chain [1] done processing\n",
      "15:46:36 - cmdstanpy - INFO - Chain [1] start processing\n",
      "15:46:36 - cmdstanpy - INFO - Chain [1] done processing\n",
      "15:46:36 - cmdstanpy - INFO - Chain [1] start processing\n",
      "15:46:36 - cmdstanpy - INFO - Chain [1] done processing\n",
      "15:46:36 - cmdstanpy - INFO - Chain [1] start processing\n",
      "15:46:36 - cmdstanpy - INFO - Chain [1] done processing\n",
      "15:46:37 - cmdstanpy - INFO - Chain [1] start processing\n",
      "15:46:37 - cmdstanpy - INFO - Chain [1] done processing\n",
      "15:46:37 - cmdstanpy - INFO - Chain [1] start processing\n",
      "15:46:37 - cmdstanpy - INFO - Chain [1] done processing\n",
      "15:46:37 - cmdstanpy - INFO - Chain [1] start processing\n",
      "15:46:37 - cmdstanpy - INFO - Chain [1] done processing\n",
      "15:46:37 - cmdstanpy - INFO - Chain [1] start processing\n",
      "15:46:37 - cmdstanpy - INFO - Chain [1] done processing\n",
      "15:46:37 - cmdstanpy - INFO - Chain [1] start processing\n",
      "15:46:37 - cmdstanpy - INFO - Chain [1] done processing\n",
      "15:46:37 - cmdstanpy - INFO - Chain [1] start processing\n",
      "15:46:37 - cmdstanpy - INFO - Chain [1] done processing\n",
      "15:46:38 - cmdstanpy - INFO - Chain [1] start processing\n",
      "15:46:38 - cmdstanpy - INFO - Chain [1] done processing\n",
      "15:46:38 - cmdstanpy - INFO - Chain [1] start processing\n",
      "15:46:38 - cmdstanpy - INFO - Chain [1] done processing\n"
     ]
    },
    {
     "name": "stdout",
     "output_type": "stream",
     "text": [
      "Training with changepoint_prior_scale=0.1, seasonality_prior_scale=10.0\n"
     ]
    },
    {
     "data": {
      "application/vnd.jupyter.widget-view+json": {
       "model_id": "1720d945e6aa41b39ef3ee03baf350e1",
       "version_major": 2,
       "version_minor": 0
      },
      "text/plain": [
       "  0%|          | 0/11 [00:00<?, ?it/s]"
      ]
     },
     "metadata": {},
     "output_type": "display_data"
    },
    {
     "name": "stderr",
     "output_type": "stream",
     "text": [
      "15:46:38 - cmdstanpy - INFO - Chain [1] start processing\n",
      "15:46:38 - cmdstanpy - INFO - Chain [1] done processing\n",
      "15:46:38 - cmdstanpy - INFO - Chain [1] start processing\n",
      "15:46:38 - cmdstanpy - INFO - Chain [1] done processing\n",
      "15:46:38 - cmdstanpy - INFO - Chain [1] start processing\n",
      "15:46:38 - cmdstanpy - INFO - Chain [1] done processing\n",
      "15:46:39 - cmdstanpy - INFO - Chain [1] start processing\n",
      "15:46:39 - cmdstanpy - INFO - Chain [1] done processing\n",
      "15:46:39 - cmdstanpy - INFO - Chain [1] start processing\n",
      "15:46:39 - cmdstanpy - INFO - Chain [1] done processing\n",
      "15:46:39 - cmdstanpy - INFO - Chain [1] start processing\n",
      "15:46:39 - cmdstanpy - INFO - Chain [1] done processing\n",
      "15:46:39 - cmdstanpy - INFO - Chain [1] start processing\n",
      "15:46:39 - cmdstanpy - INFO - Chain [1] done processing\n",
      "15:46:39 - cmdstanpy - INFO - Chain [1] start processing\n",
      "15:46:39 - cmdstanpy - INFO - Chain [1] done processing\n",
      "15:46:39 - cmdstanpy - INFO - Chain [1] start processing\n",
      "15:46:39 - cmdstanpy - INFO - Chain [1] done processing\n",
      "15:46:39 - cmdstanpy - INFO - Chain [1] start processing\n",
      "15:46:40 - cmdstanpy - INFO - Chain [1] done processing\n",
      "15:46:40 - cmdstanpy - INFO - Chain [1] start processing\n",
      "15:46:40 - cmdstanpy - INFO - Chain [1] done processing\n",
      "15:46:40 - cmdstanpy - INFO - Chain [1] start processing\n",
      "15:46:40 - cmdstanpy - INFO - Chain [1] done processing\n"
     ]
    },
    {
     "name": "stdout",
     "output_type": "stream",
     "text": [
      "Training with changepoint_prior_scale=0.5, seasonality_prior_scale=1.0\n"
     ]
    },
    {
     "data": {
      "application/vnd.jupyter.widget-view+json": {
       "model_id": "9cdd6fd5c0824b428d41389c11610631",
       "version_major": 2,
       "version_minor": 0
      },
      "text/plain": [
       "  0%|          | 0/11 [00:00<?, ?it/s]"
      ]
     },
     "metadata": {},
     "output_type": "display_data"
    },
    {
     "name": "stderr",
     "output_type": "stream",
     "text": [
      "15:46:40 - cmdstanpy - INFO - Chain [1] start processing\n",
      "15:46:40 - cmdstanpy - INFO - Chain [1] done processing\n",
      "15:46:40 - cmdstanpy - INFO - Chain [1] start processing\n",
      "15:46:40 - cmdstanpy - INFO - Chain [1] done processing\n",
      "15:46:40 - cmdstanpy - INFO - Chain [1] start processing\n",
      "15:46:41 - cmdstanpy - INFO - Chain [1] done processing\n",
      "15:46:41 - cmdstanpy - INFO - Chain [1] start processing\n",
      "15:46:41 - cmdstanpy - INFO - Chain [1] done processing\n",
      "15:46:41 - cmdstanpy - INFO - Chain [1] start processing\n",
      "15:46:41 - cmdstanpy - INFO - Chain [1] done processing\n",
      "15:46:41 - cmdstanpy - INFO - Chain [1] start processing\n",
      "15:46:41 - cmdstanpy - INFO - Chain [1] done processing\n",
      "15:46:41 - cmdstanpy - INFO - Chain [1] start processing\n",
      "15:46:41 - cmdstanpy - INFO - Chain [1] done processing\n",
      "15:46:41 - cmdstanpy - INFO - Chain [1] start processing\n",
      "15:46:41 - cmdstanpy - INFO - Chain [1] done processing\n",
      "15:46:42 - cmdstanpy - INFO - Chain [1] start processing\n",
      "15:46:42 - cmdstanpy - INFO - Chain [1] done processing\n",
      "15:46:42 - cmdstanpy - INFO - Chain [1] start processing\n",
      "15:46:42 - cmdstanpy - INFO - Chain [1] done processing\n",
      "15:46:42 - cmdstanpy - INFO - Chain [1] start processing\n",
      "15:46:42 - cmdstanpy - INFO - Chain [1] done processing\n",
      "15:46:42 - cmdstanpy - INFO - Chain [1] start processing\n",
      "15:46:43 - cmdstanpy - INFO - Chain [1] done processing\n"
     ]
    },
    {
     "name": "stdout",
     "output_type": "stream",
     "text": [
      "Training with changepoint_prior_scale=0.5, seasonality_prior_scale=10.0\n"
     ]
    },
    {
     "data": {
      "application/vnd.jupyter.widget-view+json": {
       "model_id": "685ce7f0b9f14b958f37ddcf81549348",
       "version_major": 2,
       "version_minor": 0
      },
      "text/plain": [
       "  0%|          | 0/11 [00:00<?, ?it/s]"
      ]
     },
     "metadata": {},
     "output_type": "display_data"
    },
    {
     "name": "stderr",
     "output_type": "stream",
     "text": [
      "15:46:43 - cmdstanpy - INFO - Chain [1] start processing\n",
      "15:46:43 - cmdstanpy - INFO - Chain [1] done processing\n",
      "15:46:43 - cmdstanpy - INFO - Chain [1] start processing\n",
      "15:46:43 - cmdstanpy - INFO - Chain [1] done processing\n",
      "15:46:43 - cmdstanpy - INFO - Chain [1] start processing\n",
      "15:46:43 - cmdstanpy - INFO - Chain [1] done processing\n",
      "15:46:43 - cmdstanpy - INFO - Chain [1] start processing\n",
      "15:46:43 - cmdstanpy - INFO - Chain [1] done processing\n",
      "15:46:43 - cmdstanpy - INFO - Chain [1] start processing\n",
      "15:46:43 - cmdstanpy - INFO - Chain [1] done processing\n",
      "15:46:43 - cmdstanpy - INFO - Chain [1] start processing\n",
      "15:46:44 - cmdstanpy - INFO - Chain [1] done processing\n",
      "15:46:44 - cmdstanpy - INFO - Chain [1] start processing\n",
      "15:46:44 - cmdstanpy - INFO - Chain [1] done processing\n",
      "15:46:44 - cmdstanpy - INFO - Chain [1] start processing\n",
      "15:46:44 - cmdstanpy - INFO - Chain [1] done processing\n",
      "15:46:44 - cmdstanpy - INFO - Chain [1] start processing\n",
      "15:46:44 - cmdstanpy - INFO - Chain [1] done processing\n",
      "15:46:44 - cmdstanpy - INFO - Chain [1] start processing\n",
      "15:46:44 - cmdstanpy - INFO - Chain [1] done processing\n",
      "15:46:45 - cmdstanpy - INFO - Chain [1] start processing\n",
      "15:46:45 - cmdstanpy - INFO - Chain [1] done processing\n",
      "Tuning cs subdisciplines:  82%|███████████████▋   | 33/40 [08:14<01:31, 13.12s/it, Processing cs.PL]"
     ]
    },
    {
     "name": "stdout",
     "output_type": "stream",
     "text": [
      "\n",
      "Best Parameters:\n",
      "changepoint_prior_scale    0.50000\n",
      "seasonality_prior_scale    1.00000\n",
      "rmse                       3.84097\n",
      "Name: 4, dtype: float64\n"
     ]
    },
    {
     "name": "stderr",
     "output_type": "stream",
     "text": [
      "15:46:45 - cmdstanpy - INFO - Chain [1] start processing\n",
      "15:46:45 - cmdstanpy - INFO - Chain [1] done processing\n"
     ]
    },
    {
     "name": "stdout",
     "output_type": "stream",
     "text": [
      "Training with changepoint_prior_scale=0.01, seasonality_prior_scale=1.0\n"
     ]
    },
    {
     "data": {
      "application/vnd.jupyter.widget-view+json": {
       "model_id": "1eae32bde1a040568eca3aa9ef1158af",
       "version_major": 2,
       "version_minor": 0
      },
      "text/plain": [
       "  0%|          | 0/11 [00:00<?, ?it/s]"
      ]
     },
     "metadata": {},
     "output_type": "display_data"
    },
    {
     "name": "stderr",
     "output_type": "stream",
     "text": [
      "15:46:45 - cmdstanpy - INFO - Chain [1] start processing\n",
      "15:46:45 - cmdstanpy - INFO - Chain [1] done processing\n",
      "15:46:45 - cmdstanpy - INFO - Chain [1] start processing\n",
      "15:46:45 - cmdstanpy - INFO - Chain [1] done processing\n",
      "15:46:46 - cmdstanpy - INFO - Chain [1] start processing\n",
      "15:46:46 - cmdstanpy - INFO - Chain [1] done processing\n",
      "15:46:46 - cmdstanpy - INFO - Chain [1] start processing\n",
      "15:46:46 - cmdstanpy - INFO - Chain [1] done processing\n",
      "15:46:46 - cmdstanpy - INFO - Chain [1] start processing\n",
      "15:46:46 - cmdstanpy - INFO - Chain [1] done processing\n",
      "15:46:46 - cmdstanpy - INFO - Chain [1] start processing\n",
      "15:46:46 - cmdstanpy - INFO - Chain [1] done processing\n",
      "15:46:46 - cmdstanpy - INFO - Chain [1] start processing\n",
      "15:46:46 - cmdstanpy - INFO - Chain [1] done processing\n",
      "15:46:46 - cmdstanpy - INFO - Chain [1] start processing\n",
      "15:46:46 - cmdstanpy - INFO - Chain [1] done processing\n",
      "15:46:46 - cmdstanpy - INFO - Chain [1] start processing\n",
      "15:46:46 - cmdstanpy - INFO - Chain [1] done processing\n",
      "15:46:47 - cmdstanpy - INFO - Chain [1] start processing\n",
      "15:46:47 - cmdstanpy - INFO - Chain [1] done processing\n",
      "15:46:47 - cmdstanpy - INFO - Chain [1] start processing\n",
      "15:46:47 - cmdstanpy - INFO - Chain [1] done processing\n",
      "15:46:47 - cmdstanpy - INFO - Chain [1] start processing\n",
      "15:46:47 - cmdstanpy - INFO - Chain [1] done processing\n"
     ]
    },
    {
     "name": "stdout",
     "output_type": "stream",
     "text": [
      "Training with changepoint_prior_scale=0.01, seasonality_prior_scale=10.0\n"
     ]
    },
    {
     "data": {
      "application/vnd.jupyter.widget-view+json": {
       "model_id": "b823569acc28405f8da843e3776fb010",
       "version_major": 2,
       "version_minor": 0
      },
      "text/plain": [
       "  0%|          | 0/11 [00:00<?, ?it/s]"
      ]
     },
     "metadata": {},
     "output_type": "display_data"
    },
    {
     "name": "stderr",
     "output_type": "stream",
     "text": [
      "15:46:47 - cmdstanpy - INFO - Chain [1] start processing\n",
      "15:46:47 - cmdstanpy - INFO - Chain [1] done processing\n",
      "15:46:47 - cmdstanpy - INFO - Chain [1] start processing\n",
      "15:46:47 - cmdstanpy - INFO - Chain [1] done processing\n",
      "15:46:47 - cmdstanpy - INFO - Chain [1] start processing\n",
      "15:46:47 - cmdstanpy - INFO - Chain [1] done processing\n",
      "15:46:48 - cmdstanpy - INFO - Chain [1] start processing\n",
      "15:46:48 - cmdstanpy - INFO - Chain [1] done processing\n",
      "15:46:48 - cmdstanpy - INFO - Chain [1] start processing\n",
      "15:46:48 - cmdstanpy - INFO - Chain [1] done processing\n",
      "15:46:48 - cmdstanpy - INFO - Chain [1] start processing\n",
      "15:46:48 - cmdstanpy - INFO - Chain [1] done processing\n",
      "15:46:48 - cmdstanpy - INFO - Chain [1] start processing\n",
      "15:46:48 - cmdstanpy - INFO - Chain [1] done processing\n",
      "15:46:48 - cmdstanpy - INFO - Chain [1] start processing\n",
      "15:46:48 - cmdstanpy - INFO - Chain [1] done processing\n",
      "15:46:48 - cmdstanpy - INFO - Chain [1] start processing\n",
      "15:46:48 - cmdstanpy - INFO - Chain [1] done processing\n",
      "15:46:48 - cmdstanpy - INFO - Chain [1] start processing\n",
      "15:46:49 - cmdstanpy - INFO - Chain [1] done processing\n",
      "15:46:49 - cmdstanpy - INFO - Chain [1] start processing\n",
      "15:46:49 - cmdstanpy - INFO - Chain [1] done processing\n",
      "15:46:49 - cmdstanpy - INFO - Chain [1] start processing\n",
      "15:46:49 - cmdstanpy - INFO - Chain [1] done processing\n"
     ]
    },
    {
     "name": "stdout",
     "output_type": "stream",
     "text": [
      "Training with changepoint_prior_scale=0.1, seasonality_prior_scale=1.0\n"
     ]
    },
    {
     "data": {
      "application/vnd.jupyter.widget-view+json": {
       "model_id": "39105d564e0943128806d0293f8e1658",
       "version_major": 2,
       "version_minor": 0
      },
      "text/plain": [
       "  0%|          | 0/11 [00:00<?, ?it/s]"
      ]
     },
     "metadata": {},
     "output_type": "display_data"
    },
    {
     "name": "stderr",
     "output_type": "stream",
     "text": [
      "15:46:49 - cmdstanpy - INFO - Chain [1] start processing\n",
      "15:46:49 - cmdstanpy - INFO - Chain [1] done processing\n",
      "15:46:49 - cmdstanpy - INFO - Chain [1] start processing\n",
      "15:46:49 - cmdstanpy - INFO - Chain [1] done processing\n",
      "15:46:49 - cmdstanpy - INFO - Chain [1] start processing\n",
      "15:46:49 - cmdstanpy - INFO - Chain [1] done processing\n",
      "15:46:50 - cmdstanpy - INFO - Chain [1] start processing\n",
      "15:46:50 - cmdstanpy - INFO - Chain [1] done processing\n",
      "15:46:50 - cmdstanpy - INFO - Chain [1] start processing\n",
      "15:46:50 - cmdstanpy - INFO - Chain [1] done processing\n",
      "15:46:50 - cmdstanpy - INFO - Chain [1] start processing\n",
      "15:46:50 - cmdstanpy - INFO - Chain [1] done processing\n",
      "15:46:50 - cmdstanpy - INFO - Chain [1] start processing\n",
      "15:46:50 - cmdstanpy - INFO - Chain [1] done processing\n",
      "15:46:50 - cmdstanpy - INFO - Chain [1] start processing\n",
      "15:46:50 - cmdstanpy - INFO - Chain [1] done processing\n",
      "15:46:50 - cmdstanpy - INFO - Chain [1] start processing\n",
      "15:46:50 - cmdstanpy - INFO - Chain [1] done processing\n",
      "15:46:50 - cmdstanpy - INFO - Chain [1] start processing\n",
      "15:46:51 - cmdstanpy - INFO - Chain [1] done processing\n",
      "15:46:51 - cmdstanpy - INFO - Chain [1] start processing\n",
      "15:46:51 - cmdstanpy - INFO - Chain [1] done processing\n",
      "15:46:51 - cmdstanpy - INFO - Chain [1] start processing\n",
      "15:46:51 - cmdstanpy - INFO - Chain [1] done processing\n"
     ]
    },
    {
     "name": "stdout",
     "output_type": "stream",
     "text": [
      "Training with changepoint_prior_scale=0.1, seasonality_prior_scale=10.0\n"
     ]
    },
    {
     "data": {
      "application/vnd.jupyter.widget-view+json": {
       "model_id": "b1a3677441e842f58626ecb6d8312acf",
       "version_major": 2,
       "version_minor": 0
      },
      "text/plain": [
       "  0%|          | 0/11 [00:00<?, ?it/s]"
      ]
     },
     "metadata": {},
     "output_type": "display_data"
    },
    {
     "name": "stderr",
     "output_type": "stream",
     "text": [
      "15:46:51 - cmdstanpy - INFO - Chain [1] start processing\n",
      "15:46:51 - cmdstanpy - INFO - Chain [1] done processing\n",
      "15:46:51 - cmdstanpy - INFO - Chain [1] start processing\n",
      "15:46:51 - cmdstanpy - INFO - Chain [1] done processing\n",
      "15:46:51 - cmdstanpy - INFO - Chain [1] start processing\n",
      "15:46:51 - cmdstanpy - INFO - Chain [1] done processing\n",
      "15:46:52 - cmdstanpy - INFO - Chain [1] start processing\n",
      "15:46:52 - cmdstanpy - INFO - Chain [1] done processing\n",
      "15:46:52 - cmdstanpy - INFO - Chain [1] start processing\n",
      "15:46:52 - cmdstanpy - INFO - Chain [1] done processing\n",
      "15:46:52 - cmdstanpy - INFO - Chain [1] start processing\n",
      "15:46:52 - cmdstanpy - INFO - Chain [1] done processing\n",
      "15:46:52 - cmdstanpy - INFO - Chain [1] start processing\n",
      "15:46:52 - cmdstanpy - INFO - Chain [1] done processing\n",
      "15:46:52 - cmdstanpy - INFO - Chain [1] start processing\n",
      "15:46:52 - cmdstanpy - INFO - Chain [1] done processing\n",
      "15:46:52 - cmdstanpy - INFO - Chain [1] start processing\n",
      "15:46:52 - cmdstanpy - INFO - Chain [1] done processing\n",
      "15:46:52 - cmdstanpy - INFO - Chain [1] start processing\n",
      "15:46:53 - cmdstanpy - INFO - Chain [1] done processing\n",
      "15:46:53 - cmdstanpy - INFO - Chain [1] start processing\n",
      "15:46:53 - cmdstanpy - INFO - Chain [1] done processing\n",
      "15:46:53 - cmdstanpy - INFO - Chain [1] start processing\n",
      "15:46:53 - cmdstanpy - INFO - Chain [1] done processing\n"
     ]
    },
    {
     "name": "stdout",
     "output_type": "stream",
     "text": [
      "Training with changepoint_prior_scale=0.5, seasonality_prior_scale=1.0\n"
     ]
    },
    {
     "data": {
      "application/vnd.jupyter.widget-view+json": {
       "model_id": "9af8de06c45447b6bae2b9afb63245d9",
       "version_major": 2,
       "version_minor": 0
      },
      "text/plain": [
       "  0%|          | 0/11 [00:00<?, ?it/s]"
      ]
     },
     "metadata": {},
     "output_type": "display_data"
    },
    {
     "name": "stderr",
     "output_type": "stream",
     "text": [
      "15:46:53 - cmdstanpy - INFO - Chain [1] start processing\n",
      "15:46:53 - cmdstanpy - INFO - Chain [1] done processing\n",
      "15:46:53 - cmdstanpy - INFO - Chain [1] start processing\n",
      "15:46:53 - cmdstanpy - INFO - Chain [1] done processing\n",
      "15:46:53 - cmdstanpy - INFO - Chain [1] start processing\n",
      "15:46:54 - cmdstanpy - INFO - Chain [1] done processing\n",
      "15:46:54 - cmdstanpy - INFO - Chain [1] start processing\n",
      "15:46:54 - cmdstanpy - INFO - Chain [1] done processing\n",
      "15:46:54 - cmdstanpy - INFO - Chain [1] start processing\n",
      "15:46:54 - cmdstanpy - INFO - Chain [1] done processing\n",
      "15:46:54 - cmdstanpy - INFO - Chain [1] start processing\n",
      "15:46:54 - cmdstanpy - INFO - Chain [1] done processing\n",
      "15:46:54 - cmdstanpy - INFO - Chain [1] start processing\n",
      "15:46:54 - cmdstanpy - INFO - Chain [1] done processing\n",
      "15:46:54 - cmdstanpy - INFO - Chain [1] start processing\n",
      "15:46:54 - cmdstanpy - INFO - Chain [1] done processing\n",
      "15:46:55 - cmdstanpy - INFO - Chain [1] start processing\n",
      "15:46:55 - cmdstanpy - INFO - Chain [1] done processing\n",
      "15:46:55 - cmdstanpy - INFO - Chain [1] start processing\n",
      "15:46:55 - cmdstanpy - INFO - Chain [1] done processing\n",
      "15:46:55 - cmdstanpy - INFO - Chain [1] start processing\n",
      "15:46:55 - cmdstanpy - INFO - Chain [1] done processing\n",
      "15:46:55 - cmdstanpy - INFO - Chain [1] start processing\n"
     ]
    },
    {
     "name": "stdout",
     "output_type": "stream",
     "text": [
      "Training with changepoint_prior_scale=0.5, seasonality_prior_scale=10.0\n"
     ]
    },
    {
     "name": "stderr",
     "output_type": "stream",
     "text": [
      "15:46:56 - cmdstanpy - INFO - Chain [1] done processing\n"
     ]
    },
    {
     "data": {
      "application/vnd.jupyter.widget-view+json": {
       "model_id": "3c04939f8722450495245a2704f55594",
       "version_major": 2,
       "version_minor": 0
      },
      "text/plain": [
       "  0%|          | 0/11 [00:00<?, ?it/s]"
      ]
     },
     "metadata": {},
     "output_type": "display_data"
    },
    {
     "name": "stderr",
     "output_type": "stream",
     "text": [
      "15:46:56 - cmdstanpy - INFO - Chain [1] start processing\n",
      "15:46:56 - cmdstanpy - INFO - Chain [1] done processing\n",
      "15:46:56 - cmdstanpy - INFO - Chain [1] start processing\n",
      "15:46:56 - cmdstanpy - INFO - Chain [1] done processing\n",
      "15:46:56 - cmdstanpy - INFO - Chain [1] start processing\n",
      "15:46:56 - cmdstanpy - INFO - Chain [1] done processing\n",
      "15:46:56 - cmdstanpy - INFO - Chain [1] start processing\n",
      "15:46:56 - cmdstanpy - INFO - Chain [1] done processing\n",
      "15:46:56 - cmdstanpy - INFO - Chain [1] start processing\n",
      "15:46:56 - cmdstanpy - INFO - Chain [1] done processing\n",
      "15:46:56 - cmdstanpy - INFO - Chain [1] start processing\n",
      "15:46:57 - cmdstanpy - INFO - Chain [1] done processing\n",
      "15:46:57 - cmdstanpy - INFO - Chain [1] start processing\n",
      "15:46:57 - cmdstanpy - INFO - Chain [1] done processing\n",
      "15:46:57 - cmdstanpy - INFO - Chain [1] start processing\n",
      "15:46:57 - cmdstanpy - INFO - Chain [1] done processing\n",
      "15:46:57 - cmdstanpy - INFO - Chain [1] start processing\n",
      "15:46:57 - cmdstanpy - INFO - Chain [1] done processing\n",
      "15:46:57 - cmdstanpy - INFO - Chain [1] start processing\n",
      "15:46:57 - cmdstanpy - INFO - Chain [1] done processing\n",
      "15:46:57 - cmdstanpy - INFO - Chain [1] start processing\n",
      "15:46:58 - cmdstanpy - INFO - Chain [1] done processing\n",
      "Tuning cs subdisciplines:  85%|████████████████▏  | 34/40 [08:27<01:18, 13.05s/it, Processing cs.RO]"
     ]
    },
    {
     "name": "stdout",
     "output_type": "stream",
     "text": [
      "\n",
      "Best Parameters:\n",
      "changepoint_prior_scale    0.010000\n",
      "seasonality_prior_scale    1.000000\n",
      "rmse                       6.081072\n",
      "Name: 0, dtype: float64\n"
     ]
    },
    {
     "name": "stderr",
     "output_type": "stream",
     "text": [
      "15:46:58 - cmdstanpy - INFO - Chain [1] start processing\n",
      "15:46:58 - cmdstanpy - INFO - Chain [1] done processing\n"
     ]
    },
    {
     "name": "stdout",
     "output_type": "stream",
     "text": [
      "Training with changepoint_prior_scale=0.01, seasonality_prior_scale=1.0\n"
     ]
    },
    {
     "data": {
      "application/vnd.jupyter.widget-view+json": {
       "model_id": "282e0e5c59534027a488fa27ef1467e1",
       "version_major": 2,
       "version_minor": 0
      },
      "text/plain": [
       "  0%|          | 0/11 [00:00<?, ?it/s]"
      ]
     },
     "metadata": {},
     "output_type": "display_data"
    },
    {
     "name": "stderr",
     "output_type": "stream",
     "text": [
      "15:46:58 - cmdstanpy - INFO - Chain [1] start processing\n",
      "15:46:58 - cmdstanpy - INFO - Chain [1] done processing\n",
      "15:46:58 - cmdstanpy - INFO - Chain [1] start processing\n",
      "15:46:58 - cmdstanpy - INFO - Chain [1] done processing\n",
      "15:46:59 - cmdstanpy - INFO - Chain [1] start processing\n",
      "15:46:59 - cmdstanpy - INFO - Chain [1] done processing\n",
      "15:46:59 - cmdstanpy - INFO - Chain [1] start processing\n",
      "15:46:59 - cmdstanpy - INFO - Chain [1] done processing\n",
      "15:46:59 - cmdstanpy - INFO - Chain [1] start processing\n",
      "15:46:59 - cmdstanpy - INFO - Chain [1] done processing\n",
      "15:46:59 - cmdstanpy - INFO - Chain [1] start processing\n",
      "15:46:59 - cmdstanpy - INFO - Chain [1] done processing\n",
      "15:46:59 - cmdstanpy - INFO - Chain [1] start processing\n",
      "15:46:59 - cmdstanpy - INFO - Chain [1] done processing\n",
      "15:46:59 - cmdstanpy - INFO - Chain [1] start processing\n",
      "15:47:00 - cmdstanpy - INFO - Chain [1] done processing\n",
      "15:47:00 - cmdstanpy - INFO - Chain [1] start processing\n",
      "15:47:00 - cmdstanpy - INFO - Chain [1] done processing\n",
      "15:47:00 - cmdstanpy - INFO - Chain [1] start processing\n",
      "15:47:00 - cmdstanpy - INFO - Chain [1] done processing\n",
      "15:47:00 - cmdstanpy - INFO - Chain [1] start processing\n",
      "15:47:00 - cmdstanpy - INFO - Chain [1] done processing\n",
      "15:47:00 - cmdstanpy - INFO - Chain [1] start processing\n",
      "15:47:00 - cmdstanpy - INFO - Chain [1] done processing\n"
     ]
    },
    {
     "name": "stdout",
     "output_type": "stream",
     "text": [
      "Training with changepoint_prior_scale=0.01, seasonality_prior_scale=10.0\n"
     ]
    },
    {
     "data": {
      "application/vnd.jupyter.widget-view+json": {
       "model_id": "48931159ce5442af8f6eeb72ec3833f9",
       "version_major": 2,
       "version_minor": 0
      },
      "text/plain": [
       "  0%|          | 0/11 [00:00<?, ?it/s]"
      ]
     },
     "metadata": {},
     "output_type": "display_data"
    },
    {
     "name": "stderr",
     "output_type": "stream",
     "text": [
      "15:47:00 - cmdstanpy - INFO - Chain [1] start processing\n",
      "15:47:01 - cmdstanpy - INFO - Chain [1] done processing\n",
      "15:47:01 - cmdstanpy - INFO - Chain [1] start processing\n",
      "15:47:01 - cmdstanpy - INFO - Chain [1] done processing\n",
      "15:47:01 - cmdstanpy - INFO - Chain [1] start processing\n",
      "15:47:01 - cmdstanpy - INFO - Chain [1] done processing\n",
      "15:47:01 - cmdstanpy - INFO - Chain [1] start processing\n",
      "15:47:01 - cmdstanpy - INFO - Chain [1] done processing\n",
      "15:47:01 - cmdstanpy - INFO - Chain [1] start processing\n",
      "15:47:01 - cmdstanpy - INFO - Chain [1] done processing\n",
      "15:47:01 - cmdstanpy - INFO - Chain [1] start processing\n",
      "15:47:01 - cmdstanpy - INFO - Chain [1] done processing\n",
      "15:47:01 - cmdstanpy - INFO - Chain [1] start processing\n",
      "15:47:02 - cmdstanpy - INFO - Chain [1] done processing\n",
      "15:47:02 - cmdstanpy - INFO - Chain [1] start processing\n",
      "15:47:02 - cmdstanpy - INFO - Chain [1] done processing\n",
      "15:47:02 - cmdstanpy - INFO - Chain [1] start processing\n",
      "15:47:02 - cmdstanpy - INFO - Chain [1] done processing\n",
      "15:47:02 - cmdstanpy - INFO - Chain [1] start processing\n",
      "15:47:02 - cmdstanpy - INFO - Chain [1] done processing\n",
      "15:47:02 - cmdstanpy - INFO - Chain [1] start processing\n",
      "15:47:02 - cmdstanpy - INFO - Chain [1] done processing\n",
      "15:47:03 - cmdstanpy - INFO - Chain [1] start processing\n",
      "15:47:03 - cmdstanpy - INFO - Chain [1] done processing\n"
     ]
    },
    {
     "name": "stdout",
     "output_type": "stream",
     "text": [
      "Training with changepoint_prior_scale=0.1, seasonality_prior_scale=1.0\n"
     ]
    },
    {
     "data": {
      "application/vnd.jupyter.widget-view+json": {
       "model_id": "316e80cb721f44729f251a14c7a12b62",
       "version_major": 2,
       "version_minor": 0
      },
      "text/plain": [
       "  0%|          | 0/11 [00:00<?, ?it/s]"
      ]
     },
     "metadata": {},
     "output_type": "display_data"
    },
    {
     "name": "stderr",
     "output_type": "stream",
     "text": [
      "15:47:03 - cmdstanpy - INFO - Chain [1] start processing\n",
      "15:47:03 - cmdstanpy - INFO - Chain [1] done processing\n",
      "15:47:03 - cmdstanpy - INFO - Chain [1] start processing\n",
      "15:47:03 - cmdstanpy - INFO - Chain [1] done processing\n",
      "15:47:03 - cmdstanpy - INFO - Chain [1] start processing\n",
      "15:47:03 - cmdstanpy - INFO - Chain [1] done processing\n",
      "15:47:03 - cmdstanpy - INFO - Chain [1] start processing\n",
      "15:47:03 - cmdstanpy - INFO - Chain [1] done processing\n",
      "15:47:04 - cmdstanpy - INFO - Chain [1] start processing\n",
      "15:47:04 - cmdstanpy - INFO - Chain [1] done processing\n",
      "15:47:04 - cmdstanpy - INFO - Chain [1] start processing\n",
      "15:47:04 - cmdstanpy - INFO - Chain [1] done processing\n",
      "15:47:04 - cmdstanpy - INFO - Chain [1] start processing\n",
      "15:47:04 - cmdstanpy - INFO - Chain [1] done processing\n",
      "15:47:04 - cmdstanpy - INFO - Chain [1] start processing\n",
      "15:47:04 - cmdstanpy - INFO - Chain [1] done processing\n",
      "15:47:04 - cmdstanpy - INFO - Chain [1] start processing\n",
      "15:47:04 - cmdstanpy - INFO - Chain [1] done processing\n",
      "15:47:04 - cmdstanpy - INFO - Chain [1] start processing\n",
      "15:47:04 - cmdstanpy - INFO - Chain [1] done processing\n",
      "15:47:05 - cmdstanpy - INFO - Chain [1] start processing\n",
      "15:47:05 - cmdstanpy - INFO - Chain [1] done processing\n",
      "15:47:05 - cmdstanpy - INFO - Chain [1] start processing\n"
     ]
    },
    {
     "name": "stdout",
     "output_type": "stream",
     "text": [
      "Training with changepoint_prior_scale=0.1, seasonality_prior_scale=10.0\n"
     ]
    },
    {
     "name": "stderr",
     "output_type": "stream",
     "text": [
      "15:47:05 - cmdstanpy - INFO - Chain [1] done processing\n"
     ]
    },
    {
     "data": {
      "application/vnd.jupyter.widget-view+json": {
       "model_id": "a646f2d09ca446f1b99d1cd45b16d80c",
       "version_major": 2,
       "version_minor": 0
      },
      "text/plain": [
       "  0%|          | 0/11 [00:00<?, ?it/s]"
      ]
     },
     "metadata": {},
     "output_type": "display_data"
    },
    {
     "name": "stderr",
     "output_type": "stream",
     "text": [
      "15:47:05 - cmdstanpy - INFO - Chain [1] start processing\n",
      "15:47:05 - cmdstanpy - INFO - Chain [1] done processing\n",
      "15:47:05 - cmdstanpy - INFO - Chain [1] start processing\n",
      "15:47:05 - cmdstanpy - INFO - Chain [1] done processing\n",
      "15:47:06 - cmdstanpy - INFO - Chain [1] start processing\n",
      "15:47:06 - cmdstanpy - INFO - Chain [1] done processing\n",
      "15:47:06 - cmdstanpy - INFO - Chain [1] start processing\n",
      "15:47:06 - cmdstanpy - INFO - Chain [1] done processing\n",
      "15:47:06 - cmdstanpy - INFO - Chain [1] start processing\n",
      "15:47:06 - cmdstanpy - INFO - Chain [1] done processing\n",
      "15:47:06 - cmdstanpy - INFO - Chain [1] start processing\n",
      "15:47:06 - cmdstanpy - INFO - Chain [1] done processing\n",
      "15:47:06 - cmdstanpy - INFO - Chain [1] start processing\n",
      "15:47:06 - cmdstanpy - INFO - Chain [1] done processing\n",
      "15:47:06 - cmdstanpy - INFO - Chain [1] start processing\n",
      "15:47:07 - cmdstanpy - INFO - Chain [1] done processing\n",
      "15:47:07 - cmdstanpy - INFO - Chain [1] start processing\n",
      "15:47:07 - cmdstanpy - INFO - Chain [1] done processing\n",
      "15:47:07 - cmdstanpy - INFO - Chain [1] start processing\n",
      "15:47:07 - cmdstanpy - INFO - Chain [1] done processing\n",
      "15:47:07 - cmdstanpy - INFO - Chain [1] start processing\n",
      "15:47:07 - cmdstanpy - INFO - Chain [1] done processing\n",
      "15:47:07 - cmdstanpy - INFO - Chain [1] start processing\n"
     ]
    },
    {
     "name": "stdout",
     "output_type": "stream",
     "text": [
      "Training with changepoint_prior_scale=0.5, seasonality_prior_scale=1.0\n"
     ]
    },
    {
     "name": "stderr",
     "output_type": "stream",
     "text": [
      "15:47:08 - cmdstanpy - INFO - Chain [1] done processing\n"
     ]
    },
    {
     "data": {
      "application/vnd.jupyter.widget-view+json": {
       "model_id": "7f74f38b469c4359a91063b48a33d887",
       "version_major": 2,
       "version_minor": 0
      },
      "text/plain": [
       "  0%|          | 0/11 [00:00<?, ?it/s]"
      ]
     },
     "metadata": {},
     "output_type": "display_data"
    },
    {
     "name": "stderr",
     "output_type": "stream",
     "text": [
      "15:47:08 - cmdstanpy - INFO - Chain [1] start processing\n",
      "15:47:08 - cmdstanpy - INFO - Chain [1] done processing\n",
      "15:47:08 - cmdstanpy - INFO - Chain [1] start processing\n",
      "15:47:08 - cmdstanpy - INFO - Chain [1] done processing\n",
      "15:47:08 - cmdstanpy - INFO - Chain [1] start processing\n",
      "15:47:08 - cmdstanpy - INFO - Chain [1] done processing\n",
      "15:47:08 - cmdstanpy - INFO - Chain [1] start processing\n",
      "15:47:08 - cmdstanpy - INFO - Chain [1] done processing\n",
      "15:47:09 - cmdstanpy - INFO - Chain [1] start processing\n",
      "15:47:09 - cmdstanpy - INFO - Chain [1] done processing\n",
      "15:47:09 - cmdstanpy - INFO - Chain [1] start processing\n",
      "15:47:09 - cmdstanpy - INFO - Chain [1] done processing\n",
      "15:47:09 - cmdstanpy - INFO - Chain [1] start processing\n",
      "15:47:09 - cmdstanpy - INFO - Chain [1] done processing\n",
      "15:47:09 - cmdstanpy - INFO - Chain [1] start processing\n",
      "15:47:09 - cmdstanpy - INFO - Chain [1] done processing\n",
      "15:47:09 - cmdstanpy - INFO - Chain [1] start processing\n",
      "15:47:10 - cmdstanpy - INFO - Chain [1] done processing\n",
      "15:47:10 - cmdstanpy - INFO - Chain [1] start processing\n",
      "15:47:10 - cmdstanpy - INFO - Chain [1] done processing\n",
      "15:47:10 - cmdstanpy - INFO - Chain [1] start processing\n",
      "15:47:10 - cmdstanpy - INFO - Chain [1] done processing\n",
      "15:47:10 - cmdstanpy - INFO - Chain [1] start processing\n"
     ]
    },
    {
     "name": "stdout",
     "output_type": "stream",
     "text": [
      "Training with changepoint_prior_scale=0.5, seasonality_prior_scale=10.0\n"
     ]
    },
    {
     "name": "stderr",
     "output_type": "stream",
     "text": [
      "15:47:11 - cmdstanpy - INFO - Chain [1] done processing\n"
     ]
    },
    {
     "data": {
      "application/vnd.jupyter.widget-view+json": {
       "model_id": "1e6376636e994e32bd1688edbde1f512",
       "version_major": 2,
       "version_minor": 0
      },
      "text/plain": [
       "  0%|          | 0/11 [00:00<?, ?it/s]"
      ]
     },
     "metadata": {},
     "output_type": "display_data"
    },
    {
     "name": "stderr",
     "output_type": "stream",
     "text": [
      "15:47:11 - cmdstanpy - INFO - Chain [1] start processing\n",
      "15:47:11 - cmdstanpy - INFO - Chain [1] done processing\n",
      "15:47:11 - cmdstanpy - INFO - Chain [1] start processing\n",
      "15:47:12 - cmdstanpy - INFO - Chain [1] done processing\n",
      "15:47:12 - cmdstanpy - INFO - Chain [1] start processing\n",
      "15:47:12 - cmdstanpy - INFO - Chain [1] done processing\n",
      "15:47:12 - cmdstanpy - INFO - Chain [1] start processing\n",
      "15:47:12 - cmdstanpy - INFO - Chain [1] done processing\n",
      "15:47:12 - cmdstanpy - INFO - Chain [1] start processing\n",
      "15:47:12 - cmdstanpy - INFO - Chain [1] done processing\n",
      "15:47:13 - cmdstanpy - INFO - Chain [1] start processing\n",
      "15:47:13 - cmdstanpy - INFO - Chain [1] done processing\n",
      "15:47:13 - cmdstanpy - INFO - Chain [1] start processing\n",
      "15:47:13 - cmdstanpy - INFO - Chain [1] done processing\n",
      "15:47:13 - cmdstanpy - INFO - Chain [1] start processing\n",
      "15:47:13 - cmdstanpy - INFO - Chain [1] done processing\n",
      "15:47:13 - cmdstanpy - INFO - Chain [1] start processing\n",
      "15:47:13 - cmdstanpy - INFO - Chain [1] done processing\n",
      "15:47:13 - cmdstanpy - INFO - Chain [1] start processing\n",
      "15:47:14 - cmdstanpy - INFO - Chain [1] done processing\n",
      "15:47:14 - cmdstanpy - INFO - Chain [1] start processing\n",
      "15:47:14 - cmdstanpy - INFO - Chain [1] done processing\n",
      "Tuning cs subdisciplines:  88%|████████████████▋  | 35/40 [08:44<01:10, 14.11s/it, Processing cs.SC]"
     ]
    },
    {
     "name": "stdout",
     "output_type": "stream",
     "text": [
      "\n",
      "Best Parameters:\n",
      "changepoint_prior_scale     0.010000\n",
      "seasonality_prior_scale    10.000000\n",
      "rmse                       42.025525\n",
      "Name: 1, dtype: float64\n"
     ]
    },
    {
     "name": "stderr",
     "output_type": "stream",
     "text": [
      "15:47:15 - cmdstanpy - INFO - Chain [1] start processing\n",
      "15:47:15 - cmdstanpy - INFO - Chain [1] done processing\n"
     ]
    },
    {
     "name": "stdout",
     "output_type": "stream",
     "text": [
      "Training with changepoint_prior_scale=0.01, seasonality_prior_scale=1.0\n"
     ]
    },
    {
     "data": {
      "application/vnd.jupyter.widget-view+json": {
       "model_id": "bcd59d44089d458896424c9d94ecc096",
       "version_major": 2,
       "version_minor": 0
      },
      "text/plain": [
       "  0%|          | 0/11 [00:00<?, ?it/s]"
      ]
     },
     "metadata": {},
     "output_type": "display_data"
    },
    {
     "name": "stderr",
     "output_type": "stream",
     "text": [
      "15:47:15 - cmdstanpy - INFO - Chain [1] start processing\n",
      "15:47:15 - cmdstanpy - INFO - Chain [1] done processing\n",
      "15:47:15 - cmdstanpy - INFO - Chain [1] start processing\n",
      "15:47:15 - cmdstanpy - INFO - Chain [1] done processing\n",
      "15:47:15 - cmdstanpy - INFO - Chain [1] start processing\n",
      "15:47:15 - cmdstanpy - INFO - Chain [1] done processing\n",
      "15:47:15 - cmdstanpy - INFO - Chain [1] start processing\n",
      "15:47:15 - cmdstanpy - INFO - Chain [1] done processing\n",
      "15:47:15 - cmdstanpy - INFO - Chain [1] start processing\n",
      "15:47:15 - cmdstanpy - INFO - Chain [1] done processing\n",
      "15:47:15 - cmdstanpy - INFO - Chain [1] start processing\n",
      "15:47:15 - cmdstanpy - INFO - Chain [1] done processing\n",
      "15:47:16 - cmdstanpy - INFO - Chain [1] start processing\n",
      "15:47:16 - cmdstanpy - INFO - Chain [1] done processing\n",
      "15:47:16 - cmdstanpy - INFO - Chain [1] start processing\n",
      "15:47:16 - cmdstanpy - INFO - Chain [1] done processing\n",
      "15:47:16 - cmdstanpy - INFO - Chain [1] start processing\n",
      "15:47:16 - cmdstanpy - INFO - Chain [1] done processing\n",
      "15:47:16 - cmdstanpy - INFO - Chain [1] start processing\n",
      "15:47:16 - cmdstanpy - INFO - Chain [1] done processing\n",
      "15:47:16 - cmdstanpy - INFO - Chain [1] start processing\n",
      "15:47:16 - cmdstanpy - INFO - Chain [1] done processing\n",
      "15:47:16 - cmdstanpy - INFO - Chain [1] start processing\n",
      "15:47:16 - cmdstanpy - INFO - Chain [1] done processing\n"
     ]
    },
    {
     "name": "stdout",
     "output_type": "stream",
     "text": [
      "Training with changepoint_prior_scale=0.01, seasonality_prior_scale=10.0\n"
     ]
    },
    {
     "data": {
      "application/vnd.jupyter.widget-view+json": {
       "model_id": "fa538836cd6545ec953e4881f6810232",
       "version_major": 2,
       "version_minor": 0
      },
      "text/plain": [
       "  0%|          | 0/11 [00:00<?, ?it/s]"
      ]
     },
     "metadata": {},
     "output_type": "display_data"
    },
    {
     "name": "stderr",
     "output_type": "stream",
     "text": [
      "15:47:16 - cmdstanpy - INFO - Chain [1] start processing\n",
      "15:47:17 - cmdstanpy - INFO - Chain [1] done processing\n",
      "15:47:17 - cmdstanpy - INFO - Chain [1] start processing\n",
      "15:47:17 - cmdstanpy - INFO - Chain [1] done processing\n",
      "15:47:17 - cmdstanpy - INFO - Chain [1] start processing\n",
      "15:47:17 - cmdstanpy - INFO - Chain [1] done processing\n",
      "15:47:17 - cmdstanpy - INFO - Chain [1] start processing\n",
      "15:47:17 - cmdstanpy - INFO - Chain [1] done processing\n",
      "15:47:17 - cmdstanpy - INFO - Chain [1] start processing\n",
      "15:47:17 - cmdstanpy - INFO - Chain [1] done processing\n",
      "15:47:17 - cmdstanpy - INFO - Chain [1] start processing\n",
      "15:47:17 - cmdstanpy - INFO - Chain [1] done processing\n",
      "15:47:17 - cmdstanpy - INFO - Chain [1] start processing\n",
      "15:47:17 - cmdstanpy - INFO - Chain [1] done processing\n",
      "15:47:17 - cmdstanpy - INFO - Chain [1] start processing\n",
      "15:47:17 - cmdstanpy - INFO - Chain [1] done processing\n",
      "15:47:18 - cmdstanpy - INFO - Chain [1] start processing\n",
      "15:47:18 - cmdstanpy - INFO - Chain [1] done processing\n",
      "15:47:18 - cmdstanpy - INFO - Chain [1] start processing\n",
      "15:47:18 - cmdstanpy - INFO - Chain [1] done processing\n",
      "15:47:18 - cmdstanpy - INFO - Chain [1] start processing\n",
      "15:47:18 - cmdstanpy - INFO - Chain [1] done processing\n",
      "15:47:18 - cmdstanpy - INFO - Chain [1] start processing\n",
      "15:47:18 - cmdstanpy - INFO - Chain [1] done processing\n"
     ]
    },
    {
     "name": "stdout",
     "output_type": "stream",
     "text": [
      "Training with changepoint_prior_scale=0.1, seasonality_prior_scale=1.0\n"
     ]
    },
    {
     "data": {
      "application/vnd.jupyter.widget-view+json": {
       "model_id": "4bdb8c61a280467ca54d32a659dd6a7c",
       "version_major": 2,
       "version_minor": 0
      },
      "text/plain": [
       "  0%|          | 0/11 [00:00<?, ?it/s]"
      ]
     },
     "metadata": {},
     "output_type": "display_data"
    },
    {
     "name": "stderr",
     "output_type": "stream",
     "text": [
      "15:47:18 - cmdstanpy - INFO - Chain [1] start processing\n",
      "15:47:18 - cmdstanpy - INFO - Chain [1] done processing\n",
      "15:47:18 - cmdstanpy - INFO - Chain [1] start processing\n",
      "15:47:18 - cmdstanpy - INFO - Chain [1] done processing\n",
      "15:47:18 - cmdstanpy - INFO - Chain [1] start processing\n",
      "15:47:18 - cmdstanpy - INFO - Chain [1] done processing\n",
      "15:47:19 - cmdstanpy - INFO - Chain [1] start processing\n",
      "15:47:19 - cmdstanpy - INFO - Chain [1] done processing\n",
      "15:47:19 - cmdstanpy - INFO - Chain [1] start processing\n",
      "15:47:19 - cmdstanpy - INFO - Chain [1] done processing\n",
      "15:47:19 - cmdstanpy - INFO - Chain [1] start processing\n",
      "15:47:19 - cmdstanpy - INFO - Chain [1] done processing\n",
      "15:47:19 - cmdstanpy - INFO - Chain [1] start processing\n",
      "15:47:19 - cmdstanpy - INFO - Chain [1] done processing\n",
      "15:47:19 - cmdstanpy - INFO - Chain [1] start processing\n",
      "15:47:19 - cmdstanpy - INFO - Chain [1] done processing\n",
      "15:47:19 - cmdstanpy - INFO - Chain [1] start processing\n",
      "15:47:19 - cmdstanpy - INFO - Chain [1] done processing\n",
      "15:47:19 - cmdstanpy - INFO - Chain [1] start processing\n",
      "15:47:19 - cmdstanpy - INFO - Chain [1] done processing\n",
      "15:47:20 - cmdstanpy - INFO - Chain [1] start processing\n",
      "15:47:20 - cmdstanpy - INFO - Chain [1] done processing\n",
      "15:47:20 - cmdstanpy - INFO - Chain [1] start processing\n",
      "15:47:20 - cmdstanpy - INFO - Chain [1] done processing\n"
     ]
    },
    {
     "name": "stdout",
     "output_type": "stream",
     "text": [
      "Training with changepoint_prior_scale=0.1, seasonality_prior_scale=10.0\n"
     ]
    },
    {
     "data": {
      "application/vnd.jupyter.widget-view+json": {
       "model_id": "33565ae937e94b24bad57e0446fbd2b0",
       "version_major": 2,
       "version_minor": 0
      },
      "text/plain": [
       "  0%|          | 0/11 [00:00<?, ?it/s]"
      ]
     },
     "metadata": {},
     "output_type": "display_data"
    },
    {
     "name": "stderr",
     "output_type": "stream",
     "text": [
      "15:47:20 - cmdstanpy - INFO - Chain [1] start processing\n",
      "15:47:20 - cmdstanpy - INFO - Chain [1] done processing\n",
      "15:47:20 - cmdstanpy - INFO - Chain [1] start processing\n",
      "15:47:20 - cmdstanpy - INFO - Chain [1] done processing\n",
      "15:47:20 - cmdstanpy - INFO - Chain [1] start processing\n",
      "15:47:20 - cmdstanpy - INFO - Chain [1] done processing\n",
      "15:47:20 - cmdstanpy - INFO - Chain [1] start processing\n",
      "15:47:20 - cmdstanpy - INFO - Chain [1] done processing\n",
      "15:47:21 - cmdstanpy - INFO - Chain [1] start processing\n",
      "15:47:21 - cmdstanpy - INFO - Chain [1] done processing\n",
      "15:47:21 - cmdstanpy - INFO - Chain [1] start processing\n",
      "15:47:21 - cmdstanpy - INFO - Chain [1] done processing\n",
      "15:47:21 - cmdstanpy - INFO - Chain [1] start processing\n",
      "15:47:21 - cmdstanpy - INFO - Chain [1] done processing\n",
      "15:47:21 - cmdstanpy - INFO - Chain [1] start processing\n",
      "15:47:21 - cmdstanpy - INFO - Chain [1] done processing\n",
      "15:47:21 - cmdstanpy - INFO - Chain [1] start processing\n",
      "15:47:21 - cmdstanpy - INFO - Chain [1] done processing\n",
      "15:47:21 - cmdstanpy - INFO - Chain [1] start processing\n",
      "15:47:21 - cmdstanpy - INFO - Chain [1] done processing\n",
      "15:47:21 - cmdstanpy - INFO - Chain [1] start processing\n",
      "15:47:21 - cmdstanpy - INFO - Chain [1] done processing\n",
      "15:47:22 - cmdstanpy - INFO - Chain [1] start processing\n",
      "15:47:22 - cmdstanpy - INFO - Chain [1] done processing\n"
     ]
    },
    {
     "name": "stdout",
     "output_type": "stream",
     "text": [
      "Training with changepoint_prior_scale=0.5, seasonality_prior_scale=1.0\n"
     ]
    },
    {
     "data": {
      "application/vnd.jupyter.widget-view+json": {
       "model_id": "db7d96b29f87427bb4dc2508be43d9a6",
       "version_major": 2,
       "version_minor": 0
      },
      "text/plain": [
       "  0%|          | 0/11 [00:00<?, ?it/s]"
      ]
     },
     "metadata": {},
     "output_type": "display_data"
    },
    {
     "name": "stderr",
     "output_type": "stream",
     "text": [
      "15:47:22 - cmdstanpy - INFO - Chain [1] start processing\n",
      "15:47:22 - cmdstanpy - INFO - Chain [1] done processing\n",
      "15:47:22 - cmdstanpy - INFO - Chain [1] start processing\n",
      "15:47:22 - cmdstanpy - INFO - Chain [1] done processing\n",
      "15:47:22 - cmdstanpy - INFO - Chain [1] start processing\n",
      "15:47:22 - cmdstanpy - INFO - Chain [1] done processing\n",
      "15:47:22 - cmdstanpy - INFO - Chain [1] start processing\n",
      "15:47:22 - cmdstanpy - INFO - Chain [1] done processing\n",
      "15:47:22 - cmdstanpy - INFO - Chain [1] start processing\n",
      "15:47:23 - cmdstanpy - INFO - Chain [1] done processing\n",
      "15:47:23 - cmdstanpy - INFO - Chain [1] start processing\n",
      "15:47:23 - cmdstanpy - INFO - Chain [1] done processing\n",
      "15:47:23 - cmdstanpy - INFO - Chain [1] start processing\n",
      "15:47:23 - cmdstanpy - INFO - Chain [1] done processing\n",
      "15:47:23 - cmdstanpy - INFO - Chain [1] start processing\n",
      "15:47:23 - cmdstanpy - INFO - Chain [1] done processing\n",
      "15:47:23 - cmdstanpy - INFO - Chain [1] start processing\n",
      "15:47:23 - cmdstanpy - INFO - Chain [1] done processing\n",
      "15:47:23 - cmdstanpy - INFO - Chain [1] start processing\n",
      "15:47:23 - cmdstanpy - INFO - Chain [1] done processing\n",
      "15:47:23 - cmdstanpy - INFO - Chain [1] start processing\n",
      "15:47:24 - cmdstanpy - INFO - Chain [1] done processing\n",
      "15:47:24 - cmdstanpy - INFO - Chain [1] start processing\n"
     ]
    },
    {
     "name": "stdout",
     "output_type": "stream",
     "text": [
      "Training with changepoint_prior_scale=0.5, seasonality_prior_scale=10.0\n"
     ]
    },
    {
     "name": "stderr",
     "output_type": "stream",
     "text": [
      "15:47:24 - cmdstanpy - INFO - Chain [1] done processing\n"
     ]
    },
    {
     "data": {
      "application/vnd.jupyter.widget-view+json": {
       "model_id": "0803ee91e7f74a3b9c2ff8e408eb1185",
       "version_major": 2,
       "version_minor": 0
      },
      "text/plain": [
       "  0%|          | 0/11 [00:00<?, ?it/s]"
      ]
     },
     "metadata": {},
     "output_type": "display_data"
    },
    {
     "name": "stderr",
     "output_type": "stream",
     "text": [
      "15:47:24 - cmdstanpy - INFO - Chain [1] start processing\n",
      "15:47:24 - cmdstanpy - INFO - Chain [1] done processing\n",
      "15:47:24 - cmdstanpy - INFO - Chain [1] start processing\n",
      "15:47:24 - cmdstanpy - INFO - Chain [1] done processing\n",
      "15:47:24 - cmdstanpy - INFO - Chain [1] start processing\n",
      "15:47:24 - cmdstanpy - INFO - Chain [1] done processing\n",
      "15:47:25 - cmdstanpy - INFO - Chain [1] start processing\n",
      "15:47:25 - cmdstanpy - INFO - Chain [1] done processing\n",
      "15:47:25 - cmdstanpy - INFO - Chain [1] start processing\n",
      "15:47:25 - cmdstanpy - INFO - Chain [1] done processing\n",
      "15:47:25 - cmdstanpy - INFO - Chain [1] start processing\n",
      "15:47:25 - cmdstanpy - INFO - Chain [1] done processing\n",
      "15:47:25 - cmdstanpy - INFO - Chain [1] start processing\n",
      "15:47:25 - cmdstanpy - INFO - Chain [1] done processing\n",
      "15:47:25 - cmdstanpy - INFO - Chain [1] start processing\n",
      "15:47:25 - cmdstanpy - INFO - Chain [1] done processing\n",
      "15:47:25 - cmdstanpy - INFO - Chain [1] start processing\n",
      "15:47:25 - cmdstanpy - INFO - Chain [1] done processing\n",
      "15:47:26 - cmdstanpy - INFO - Chain [1] start processing\n",
      "15:47:26 - cmdstanpy - INFO - Chain [1] done processing\n",
      "15:47:26 - cmdstanpy - INFO - Chain [1] start processing\n",
      "15:47:26 - cmdstanpy - INFO - Chain [1] done processing\n",
      "Tuning cs subdisciplines:  90%|█████████████████  | 36/40 [08:55<00:53, 13.36s/it, Processing cs.SD]"
     ]
    },
    {
     "name": "stdout",
     "output_type": "stream",
     "text": [
      "\n",
      "Best Parameters:\n",
      "changepoint_prior_scale     0.100000\n",
      "seasonality_prior_scale    10.000000\n",
      "rmse                        2.288562\n",
      "Name: 3, dtype: float64\n"
     ]
    },
    {
     "name": "stderr",
     "output_type": "stream",
     "text": [
      "15:47:26 - cmdstanpy - INFO - Chain [1] start processing\n",
      "15:47:26 - cmdstanpy - INFO - Chain [1] done processing\n"
     ]
    },
    {
     "name": "stdout",
     "output_type": "stream",
     "text": [
      "Training with changepoint_prior_scale=0.01, seasonality_prior_scale=1.0\n"
     ]
    },
    {
     "data": {
      "application/vnd.jupyter.widget-view+json": {
       "model_id": "2d57ab6dcbbf433fbab5437ea2e240c2",
       "version_major": 2,
       "version_minor": 0
      },
      "text/plain": [
       "  0%|          | 0/10 [00:00<?, ?it/s]"
      ]
     },
     "metadata": {},
     "output_type": "display_data"
    },
    {
     "name": "stderr",
     "output_type": "stream",
     "text": [
      "15:47:26 - cmdstanpy - INFO - Chain [1] start processing\n",
      "15:47:26 - cmdstanpy - INFO - Chain [1] done processing\n",
      "15:47:27 - cmdstanpy - INFO - Chain [1] start processing\n",
      "15:47:27 - cmdstanpy - INFO - Chain [1] done processing\n",
      "15:47:27 - cmdstanpy - INFO - Chain [1] start processing\n",
      "15:47:27 - cmdstanpy - INFO - Chain [1] done processing\n",
      "15:47:27 - cmdstanpy - INFO - Chain [1] start processing\n",
      "15:47:27 - cmdstanpy - INFO - Chain [1] done processing\n",
      "15:47:27 - cmdstanpy - INFO - Chain [1] start processing\n",
      "15:47:27 - cmdstanpy - INFO - Chain [1] done processing\n",
      "15:47:27 - cmdstanpy - INFO - Chain [1] start processing\n",
      "15:47:27 - cmdstanpy - INFO - Chain [1] done processing\n",
      "15:47:27 - cmdstanpy - INFO - Chain [1] start processing\n",
      "15:47:27 - cmdstanpy - INFO - Chain [1] done processing\n",
      "15:47:27 - cmdstanpy - INFO - Chain [1] start processing\n",
      "15:47:28 - cmdstanpy - INFO - Chain [1] done processing\n",
      "15:47:28 - cmdstanpy - INFO - Chain [1] start processing\n",
      "15:47:28 - cmdstanpy - INFO - Chain [1] done processing\n",
      "15:47:28 - cmdstanpy - INFO - Chain [1] start processing\n",
      "15:47:28 - cmdstanpy - INFO - Chain [1] done processing\n",
      "15:47:28 - cmdstanpy - INFO - Chain [1] start processing\n",
      "15:47:28 - cmdstanpy - INFO - Chain [1] done processing\n"
     ]
    },
    {
     "name": "stdout",
     "output_type": "stream",
     "text": [
      "Training with changepoint_prior_scale=0.01, seasonality_prior_scale=10.0\n"
     ]
    },
    {
     "data": {
      "application/vnd.jupyter.widget-view+json": {
       "model_id": "84f0437c8e67432a9f355c6b802dd1a3",
       "version_major": 2,
       "version_minor": 0
      },
      "text/plain": [
       "  0%|          | 0/10 [00:00<?, ?it/s]"
      ]
     },
     "metadata": {},
     "output_type": "display_data"
    },
    {
     "name": "stderr",
     "output_type": "stream",
     "text": [
      "15:47:28 - cmdstanpy - INFO - Chain [1] start processing\n",
      "15:47:28 - cmdstanpy - INFO - Chain [1] done processing\n",
      "15:47:28 - cmdstanpy - INFO - Chain [1] start processing\n",
      "15:47:28 - cmdstanpy - INFO - Chain [1] done processing\n",
      "15:47:28 - cmdstanpy - INFO - Chain [1] start processing\n",
      "15:47:29 - cmdstanpy - INFO - Chain [1] done processing\n",
      "15:47:29 - cmdstanpy - INFO - Chain [1] start processing\n",
      "15:47:29 - cmdstanpy - INFO - Chain [1] done processing\n",
      "15:47:29 - cmdstanpy - INFO - Chain [1] start processing\n",
      "15:47:29 - cmdstanpy - INFO - Chain [1] done processing\n",
      "15:47:29 - cmdstanpy - INFO - Chain [1] start processing\n",
      "15:47:29 - cmdstanpy - INFO - Chain [1] done processing\n",
      "15:47:29 - cmdstanpy - INFO - Chain [1] start processing\n",
      "15:47:29 - cmdstanpy - INFO - Chain [1] done processing\n",
      "15:47:29 - cmdstanpy - INFO - Chain [1] start processing\n",
      "15:47:29 - cmdstanpy - INFO - Chain [1] done processing\n",
      "15:47:29 - cmdstanpy - INFO - Chain [1] start processing\n",
      "15:47:29 - cmdstanpy - INFO - Chain [1] done processing\n",
      "15:47:30 - cmdstanpy - INFO - Chain [1] start processing\n",
      "15:47:30 - cmdstanpy - INFO - Chain [1] done processing\n",
      "15:47:30 - cmdstanpy - INFO - Chain [1] start processing\n",
      "15:47:30 - cmdstanpy - INFO - Chain [1] done processing\n"
     ]
    },
    {
     "name": "stdout",
     "output_type": "stream",
     "text": [
      "Training with changepoint_prior_scale=0.1, seasonality_prior_scale=1.0\n"
     ]
    },
    {
     "data": {
      "application/vnd.jupyter.widget-view+json": {
       "model_id": "63b4aa0df9c14e39b8b881d4f5a83c04",
       "version_major": 2,
       "version_minor": 0
      },
      "text/plain": [
       "  0%|          | 0/10 [00:00<?, ?it/s]"
      ]
     },
     "metadata": {},
     "output_type": "display_data"
    },
    {
     "name": "stderr",
     "output_type": "stream",
     "text": [
      "15:47:30 - cmdstanpy - INFO - Chain [1] start processing\n",
      "15:47:30 - cmdstanpy - INFO - Chain [1] done processing\n",
      "15:47:30 - cmdstanpy - INFO - Chain [1] start processing\n",
      "15:47:30 - cmdstanpy - INFO - Chain [1] done processing\n",
      "15:47:30 - cmdstanpy - INFO - Chain [1] start processing\n",
      "15:47:30 - cmdstanpy - INFO - Chain [1] done processing\n",
      "15:47:30 - cmdstanpy - INFO - Chain [1] start processing\n",
      "15:47:31 - cmdstanpy - INFO - Chain [1] done processing\n",
      "15:47:31 - cmdstanpy - INFO - Chain [1] start processing\n",
      "15:47:31 - cmdstanpy - INFO - Chain [1] done processing\n",
      "15:47:31 - cmdstanpy - INFO - Chain [1] start processing\n",
      "15:47:31 - cmdstanpy - INFO - Chain [1] done processing\n",
      "15:47:31 - cmdstanpy - INFO - Chain [1] start processing\n",
      "15:47:31 - cmdstanpy - INFO - Chain [1] done processing\n",
      "15:47:31 - cmdstanpy - INFO - Chain [1] start processing\n",
      "15:47:31 - cmdstanpy - INFO - Chain [1] done processing\n",
      "15:47:31 - cmdstanpy - INFO - Chain [1] start processing\n",
      "15:47:31 - cmdstanpy - INFO - Chain [1] done processing\n",
      "15:47:31 - cmdstanpy - INFO - Chain [1] start processing\n",
      "15:47:31 - cmdstanpy - INFO - Chain [1] done processing\n",
      "15:47:32 - cmdstanpy - INFO - Chain [1] start processing\n",
      "15:47:32 - cmdstanpy - INFO - Chain [1] done processing\n"
     ]
    },
    {
     "name": "stdout",
     "output_type": "stream",
     "text": [
      "Training with changepoint_prior_scale=0.1, seasonality_prior_scale=10.0\n"
     ]
    },
    {
     "data": {
      "application/vnd.jupyter.widget-view+json": {
       "model_id": "45cb7fe71a4f4d3bb3daae18938b2eda",
       "version_major": 2,
       "version_minor": 0
      },
      "text/plain": [
       "  0%|          | 0/10 [00:00<?, ?it/s]"
      ]
     },
     "metadata": {},
     "output_type": "display_data"
    },
    {
     "name": "stderr",
     "output_type": "stream",
     "text": [
      "15:47:32 - cmdstanpy - INFO - Chain [1] start processing\n",
      "15:47:32 - cmdstanpy - INFO - Chain [1] done processing\n",
      "15:47:32 - cmdstanpy - INFO - Chain [1] start processing\n",
      "15:47:32 - cmdstanpy - INFO - Chain [1] done processing\n",
      "15:47:32 - cmdstanpy - INFO - Chain [1] start processing\n",
      "15:47:32 - cmdstanpy - INFO - Chain [1] done processing\n",
      "15:47:32 - cmdstanpy - INFO - Chain [1] start processing\n",
      "15:47:32 - cmdstanpy - INFO - Chain [1] done processing\n",
      "15:47:32 - cmdstanpy - INFO - Chain [1] start processing\n",
      "15:47:33 - cmdstanpy - INFO - Chain [1] done processing\n",
      "15:47:33 - cmdstanpy - INFO - Chain [1] start processing\n",
      "15:47:33 - cmdstanpy - INFO - Chain [1] done processing\n",
      "15:47:33 - cmdstanpy - INFO - Chain [1] start processing\n",
      "15:47:33 - cmdstanpy - INFO - Chain [1] done processing\n",
      "15:47:33 - cmdstanpy - INFO - Chain [1] start processing\n",
      "15:47:33 - cmdstanpy - INFO - Chain [1] done processing\n",
      "15:47:33 - cmdstanpy - INFO - Chain [1] start processing\n",
      "15:47:33 - cmdstanpy - INFO - Chain [1] done processing\n",
      "15:47:33 - cmdstanpy - INFO - Chain [1] start processing\n",
      "15:47:33 - cmdstanpy - INFO - Chain [1] done processing\n",
      "15:47:34 - cmdstanpy - INFO - Chain [1] start processing\n",
      "15:47:34 - cmdstanpy - INFO - Chain [1] done processing\n"
     ]
    },
    {
     "name": "stdout",
     "output_type": "stream",
     "text": [
      "Training with changepoint_prior_scale=0.5, seasonality_prior_scale=1.0\n"
     ]
    },
    {
     "data": {
      "application/vnd.jupyter.widget-view+json": {
       "model_id": "c47b1b9c9bee4734847b11538d60e52f",
       "version_major": 2,
       "version_minor": 0
      },
      "text/plain": [
       "  0%|          | 0/10 [00:00<?, ?it/s]"
      ]
     },
     "metadata": {},
     "output_type": "display_data"
    },
    {
     "name": "stderr",
     "output_type": "stream",
     "text": [
      "15:47:34 - cmdstanpy - INFO - Chain [1] start processing\n",
      "15:47:34 - cmdstanpy - INFO - Chain [1] done processing\n",
      "15:47:34 - cmdstanpy - INFO - Chain [1] start processing\n",
      "15:47:34 - cmdstanpy - INFO - Chain [1] done processing\n",
      "15:47:34 - cmdstanpy - INFO - Chain [1] start processing\n",
      "15:47:34 - cmdstanpy - INFO - Chain [1] done processing\n",
      "15:47:34 - cmdstanpy - INFO - Chain [1] start processing\n",
      "15:47:34 - cmdstanpy - INFO - Chain [1] done processing\n",
      "15:47:34 - cmdstanpy - INFO - Chain [1] start processing\n",
      "15:47:35 - cmdstanpy - INFO - Chain [1] done processing\n",
      "15:47:35 - cmdstanpy - INFO - Chain [1] start processing\n",
      "15:47:35 - cmdstanpy - INFO - Chain [1] done processing\n",
      "15:47:35 - cmdstanpy - INFO - Chain [1] start processing\n",
      "15:47:35 - cmdstanpy - INFO - Chain [1] done processing\n",
      "15:47:35 - cmdstanpy - INFO - Chain [1] start processing\n",
      "15:47:35 - cmdstanpy - INFO - Chain [1] done processing\n",
      "15:47:35 - cmdstanpy - INFO - Chain [1] start processing\n",
      "15:47:35 - cmdstanpy - INFO - Chain [1] done processing\n",
      "15:47:35 - cmdstanpy - INFO - Chain [1] start processing\n",
      "15:47:35 - cmdstanpy - INFO - Chain [1] done processing\n",
      "15:47:36 - cmdstanpy - INFO - Chain [1] start processing\n",
      "15:47:36 - cmdstanpy - INFO - Chain [1] done processing\n"
     ]
    },
    {
     "name": "stdout",
     "output_type": "stream",
     "text": [
      "Training with changepoint_prior_scale=0.5, seasonality_prior_scale=10.0\n"
     ]
    },
    {
     "data": {
      "application/vnd.jupyter.widget-view+json": {
       "model_id": "137c4fc7e89044cc80adebe3e644af5a",
       "version_major": 2,
       "version_minor": 0
      },
      "text/plain": [
       "  0%|          | 0/10 [00:00<?, ?it/s]"
      ]
     },
     "metadata": {},
     "output_type": "display_data"
    },
    {
     "name": "stderr",
     "output_type": "stream",
     "text": [
      "15:47:36 - cmdstanpy - INFO - Chain [1] start processing\n",
      "15:47:36 - cmdstanpy - INFO - Chain [1] done processing\n",
      "15:47:36 - cmdstanpy - INFO - Chain [1] start processing\n",
      "15:47:36 - cmdstanpy - INFO - Chain [1] done processing\n",
      "15:47:36 - cmdstanpy - INFO - Chain [1] start processing\n",
      "15:47:36 - cmdstanpy - INFO - Chain [1] done processing\n",
      "15:47:36 - cmdstanpy - INFO - Chain [1] start processing\n",
      "15:47:36 - cmdstanpy - INFO - Chain [1] done processing\n",
      "15:47:36 - cmdstanpy - INFO - Chain [1] start processing\n",
      "15:47:36 - cmdstanpy - INFO - Chain [1] done processing\n",
      "15:47:37 - cmdstanpy - INFO - Chain [1] start processing\n",
      "15:47:37 - cmdstanpy - INFO - Chain [1] done processing\n",
      "15:47:37 - cmdstanpy - INFO - Chain [1] start processing\n",
      "15:47:37 - cmdstanpy - INFO - Chain [1] done processing\n",
      "15:47:37 - cmdstanpy - INFO - Chain [1] start processing\n",
      "15:47:37 - cmdstanpy - INFO - Chain [1] done processing\n",
      "15:47:37 - cmdstanpy - INFO - Chain [1] start processing\n",
      "15:47:37 - cmdstanpy - INFO - Chain [1] done processing\n",
      "15:47:37 - cmdstanpy - INFO - Chain [1] start processing\n",
      "15:47:37 - cmdstanpy - INFO - Chain [1] done processing\n",
      "Tuning cs subdisciplines:  92%|█████████████████▌ | 37/40 [09:07<00:38, 12.81s/it, Processing cs.SE]"
     ]
    },
    {
     "name": "stdout",
     "output_type": "stream",
     "text": [
      "\n",
      "Best Parameters:\n",
      "changepoint_prior_scale     0.500000\n",
      "seasonality_prior_scale    10.000000\n",
      "rmse                       26.254052\n",
      "Name: 5, dtype: float64\n"
     ]
    },
    {
     "name": "stderr",
     "output_type": "stream",
     "text": [
      "15:47:38 - cmdstanpy - INFO - Chain [1] start processing\n",
      "15:47:38 - cmdstanpy - INFO - Chain [1] done processing\n"
     ]
    },
    {
     "name": "stdout",
     "output_type": "stream",
     "text": [
      "Training with changepoint_prior_scale=0.01, seasonality_prior_scale=1.0\n"
     ]
    },
    {
     "data": {
      "application/vnd.jupyter.widget-view+json": {
       "model_id": "819e9e6f5d0248dbaf268d52a17fce2c",
       "version_major": 2,
       "version_minor": 0
      },
      "text/plain": [
       "  0%|          | 0/11 [00:00<?, ?it/s]"
      ]
     },
     "metadata": {},
     "output_type": "display_data"
    },
    {
     "name": "stderr",
     "output_type": "stream",
     "text": [
      "15:47:38 - cmdstanpy - INFO - Chain [1] start processing\n",
      "15:47:38 - cmdstanpy - INFO - Chain [1] done processing\n",
      "15:47:38 - cmdstanpy - INFO - Chain [1] start processing\n",
      "15:47:38 - cmdstanpy - INFO - Chain [1] done processing\n",
      "15:47:38 - cmdstanpy - INFO - Chain [1] start processing\n",
      "15:47:38 - cmdstanpy - INFO - Chain [1] done processing\n",
      "15:47:38 - cmdstanpy - INFO - Chain [1] start processing\n",
      "15:47:38 - cmdstanpy - INFO - Chain [1] done processing\n",
      "15:47:38 - cmdstanpy - INFO - Chain [1] start processing\n",
      "15:47:39 - cmdstanpy - INFO - Chain [1] done processing\n",
      "15:47:39 - cmdstanpy - INFO - Chain [1] start processing\n",
      "15:47:39 - cmdstanpy - INFO - Chain [1] done processing\n",
      "15:47:39 - cmdstanpy - INFO - Chain [1] start processing\n",
      "15:47:39 - cmdstanpy - INFO - Chain [1] done processing\n",
      "15:47:39 - cmdstanpy - INFO - Chain [1] start processing\n",
      "15:47:39 - cmdstanpy - INFO - Chain [1] done processing\n",
      "15:47:39 - cmdstanpy - INFO - Chain [1] start processing\n",
      "15:47:39 - cmdstanpy - INFO - Chain [1] done processing\n",
      "15:47:39 - cmdstanpy - INFO - Chain [1] start processing\n",
      "15:47:39 - cmdstanpy - INFO - Chain [1] done processing\n",
      "15:47:40 - cmdstanpy - INFO - Chain [1] start processing\n",
      "15:47:40 - cmdstanpy - INFO - Chain [1] done processing\n",
      "15:47:40 - cmdstanpy - INFO - Chain [1] start processing\n",
      "15:47:40 - cmdstanpy - INFO - Chain [1] done processing\n"
     ]
    },
    {
     "name": "stdout",
     "output_type": "stream",
     "text": [
      "Training with changepoint_prior_scale=0.01, seasonality_prior_scale=10.0\n"
     ]
    },
    {
     "data": {
      "application/vnd.jupyter.widget-view+json": {
       "model_id": "ae63df7979874e71890f9d4dea8e091c",
       "version_major": 2,
       "version_minor": 0
      },
      "text/plain": [
       "  0%|          | 0/11 [00:00<?, ?it/s]"
      ]
     },
     "metadata": {},
     "output_type": "display_data"
    },
    {
     "name": "stderr",
     "output_type": "stream",
     "text": [
      "15:47:40 - cmdstanpy - INFO - Chain [1] start processing\n",
      "15:47:40 - cmdstanpy - INFO - Chain [1] done processing\n",
      "15:47:40 - cmdstanpy - INFO - Chain [1] start processing\n",
      "15:47:40 - cmdstanpy - INFO - Chain [1] done processing\n",
      "15:47:40 - cmdstanpy - INFO - Chain [1] start processing\n",
      "15:47:40 - cmdstanpy - INFO - Chain [1] done processing\n",
      "15:47:41 - cmdstanpy - INFO - Chain [1] start processing\n",
      "15:47:41 - cmdstanpy - INFO - Chain [1] done processing\n",
      "15:47:41 - cmdstanpy - INFO - Chain [1] start processing\n",
      "15:47:41 - cmdstanpy - INFO - Chain [1] done processing\n",
      "15:47:41 - cmdstanpy - INFO - Chain [1] start processing\n",
      "15:47:41 - cmdstanpy - INFO - Chain [1] done processing\n",
      "15:47:41 - cmdstanpy - INFO - Chain [1] start processing\n",
      "15:47:41 - cmdstanpy - INFO - Chain [1] done processing\n",
      "15:47:41 - cmdstanpy - INFO - Chain [1] start processing\n",
      "15:47:41 - cmdstanpy - INFO - Chain [1] done processing\n",
      "15:47:41 - cmdstanpy - INFO - Chain [1] start processing\n",
      "15:47:41 - cmdstanpy - INFO - Chain [1] done processing\n",
      "15:47:41 - cmdstanpy - INFO - Chain [1] start processing\n",
      "15:47:42 - cmdstanpy - INFO - Chain [1] done processing\n",
      "15:47:42 - cmdstanpy - INFO - Chain [1] start processing\n",
      "15:47:42 - cmdstanpy - INFO - Chain [1] done processing\n",
      "15:47:42 - cmdstanpy - INFO - Chain [1] start processing\n",
      "15:47:42 - cmdstanpy - INFO - Chain [1] done processing\n"
     ]
    },
    {
     "name": "stdout",
     "output_type": "stream",
     "text": [
      "Training with changepoint_prior_scale=0.1, seasonality_prior_scale=1.0\n"
     ]
    },
    {
     "data": {
      "application/vnd.jupyter.widget-view+json": {
       "model_id": "402359699daf454a9c94471eb0085a08",
       "version_major": 2,
       "version_minor": 0
      },
      "text/plain": [
       "  0%|          | 0/11 [00:00<?, ?it/s]"
      ]
     },
     "metadata": {},
     "output_type": "display_data"
    },
    {
     "name": "stderr",
     "output_type": "stream",
     "text": [
      "15:47:42 - cmdstanpy - INFO - Chain [1] start processing\n",
      "15:47:42 - cmdstanpy - INFO - Chain [1] done processing\n",
      "15:47:43 - cmdstanpy - INFO - Chain [1] start processing\n",
      "15:47:43 - cmdstanpy - INFO - Chain [1] done processing\n",
      "15:47:43 - cmdstanpy - INFO - Chain [1] start processing\n",
      "15:47:43 - cmdstanpy - INFO - Chain [1] done processing\n",
      "15:47:43 - cmdstanpy - INFO - Chain [1] start processing\n",
      "15:47:43 - cmdstanpy - INFO - Chain [1] done processing\n",
      "15:47:43 - cmdstanpy - INFO - Chain [1] start processing\n",
      "15:47:43 - cmdstanpy - INFO - Chain [1] done processing\n",
      "15:47:43 - cmdstanpy - INFO - Chain [1] start processing\n",
      "15:47:43 - cmdstanpy - INFO - Chain [1] done processing\n",
      "15:47:43 - cmdstanpy - INFO - Chain [1] start processing\n",
      "15:47:43 - cmdstanpy - INFO - Chain [1] done processing\n",
      "15:47:44 - cmdstanpy - INFO - Chain [1] start processing\n",
      "15:47:44 - cmdstanpy - INFO - Chain [1] done processing\n",
      "15:47:44 - cmdstanpy - INFO - Chain [1] start processing\n",
      "15:47:44 - cmdstanpy - INFO - Chain [1] done processing\n",
      "15:47:44 - cmdstanpy - INFO - Chain [1] start processing\n",
      "15:47:44 - cmdstanpy - INFO - Chain [1] done processing\n",
      "15:47:44 - cmdstanpy - INFO - Chain [1] start processing\n",
      "15:47:44 - cmdstanpy - INFO - Chain [1] done processing\n",
      "15:47:44 - cmdstanpy - INFO - Chain [1] start processing\n",
      "15:47:45 - cmdstanpy - INFO - Chain [1] done processing\n"
     ]
    },
    {
     "name": "stdout",
     "output_type": "stream",
     "text": [
      "Training with changepoint_prior_scale=0.1, seasonality_prior_scale=10.0\n"
     ]
    },
    {
     "data": {
      "application/vnd.jupyter.widget-view+json": {
       "model_id": "16799845b3e240ecad9488501cfaab8b",
       "version_major": 2,
       "version_minor": 0
      },
      "text/plain": [
       "  0%|          | 0/11 [00:00<?, ?it/s]"
      ]
     },
     "metadata": {},
     "output_type": "display_data"
    },
    {
     "name": "stderr",
     "output_type": "stream",
     "text": [
      "15:47:45 - cmdstanpy - INFO - Chain [1] start processing\n",
      "15:47:45 - cmdstanpy - INFO - Chain [1] done processing\n",
      "15:47:45 - cmdstanpy - INFO - Chain [1] start processing\n",
      "15:47:45 - cmdstanpy - INFO - Chain [1] done processing\n",
      "15:47:45 - cmdstanpy - INFO - Chain [1] start processing\n",
      "15:47:45 - cmdstanpy - INFO - Chain [1] done processing\n",
      "15:47:45 - cmdstanpy - INFO - Chain [1] start processing\n",
      "15:47:45 - cmdstanpy - INFO - Chain [1] done processing\n",
      "15:47:45 - cmdstanpy - INFO - Chain [1] start processing\n",
      "15:47:45 - cmdstanpy - INFO - Chain [1] done processing\n",
      "15:47:46 - cmdstanpy - INFO - Chain [1] start processing\n",
      "15:47:46 - cmdstanpy - INFO - Chain [1] done processing\n",
      "15:47:46 - cmdstanpy - INFO - Chain [1] start processing\n",
      "15:47:46 - cmdstanpy - INFO - Chain [1] done processing\n",
      "15:47:46 - cmdstanpy - INFO - Chain [1] start processing\n",
      "15:47:46 - cmdstanpy - INFO - Chain [1] done processing\n",
      "15:47:46 - cmdstanpy - INFO - Chain [1] start processing\n",
      "15:47:46 - cmdstanpy - INFO - Chain [1] done processing\n",
      "15:47:47 - cmdstanpy - INFO - Chain [1] start processing\n",
      "15:47:47 - cmdstanpy - INFO - Chain [1] done processing\n",
      "15:47:47 - cmdstanpy - INFO - Chain [1] start processing\n",
      "15:47:47 - cmdstanpy - INFO - Chain [1] done processing\n",
      "15:47:47 - cmdstanpy - INFO - Chain [1] start processing\n"
     ]
    },
    {
     "name": "stdout",
     "output_type": "stream",
     "text": [
      "Training with changepoint_prior_scale=0.5, seasonality_prior_scale=1.0\n"
     ]
    },
    {
     "name": "stderr",
     "output_type": "stream",
     "text": [
      "15:47:48 - cmdstanpy - INFO - Chain [1] done processing\n"
     ]
    },
    {
     "data": {
      "application/vnd.jupyter.widget-view+json": {
       "model_id": "518b9f23131548a084d588e219f4f530",
       "version_major": 2,
       "version_minor": 0
      },
      "text/plain": [
       "  0%|          | 0/11 [00:00<?, ?it/s]"
      ]
     },
     "metadata": {},
     "output_type": "display_data"
    },
    {
     "name": "stderr",
     "output_type": "stream",
     "text": [
      "15:47:48 - cmdstanpy - INFO - Chain [1] start processing\n",
      "15:47:48 - cmdstanpy - INFO - Chain [1] done processing\n",
      "15:47:48 - cmdstanpy - INFO - Chain [1] start processing\n",
      "15:47:48 - cmdstanpy - INFO - Chain [1] done processing\n",
      "15:47:48 - cmdstanpy - INFO - Chain [1] start processing\n",
      "15:47:48 - cmdstanpy - INFO - Chain [1] done processing\n",
      "15:47:48 - cmdstanpy - INFO - Chain [1] start processing\n",
      "15:47:49 - cmdstanpy - INFO - Chain [1] done processing\n",
      "15:47:49 - cmdstanpy - INFO - Chain [1] start processing\n",
      "15:47:49 - cmdstanpy - INFO - Chain [1] done processing\n",
      "15:47:49 - cmdstanpy - INFO - Chain [1] start processing\n",
      "15:47:49 - cmdstanpy - INFO - Chain [1] done processing\n",
      "15:47:49 - cmdstanpy - INFO - Chain [1] start processing\n",
      "15:47:49 - cmdstanpy - INFO - Chain [1] done processing\n",
      "15:47:49 - cmdstanpy - INFO - Chain [1] start processing\n",
      "15:47:50 - cmdstanpy - INFO - Chain [1] done processing\n",
      "15:47:50 - cmdstanpy - INFO - Chain [1] start processing\n",
      "15:47:50 - cmdstanpy - INFO - Chain [1] done processing\n",
      "15:47:50 - cmdstanpy - INFO - Chain [1] start processing\n",
      "15:47:50 - cmdstanpy - INFO - Chain [1] done processing\n",
      "15:47:50 - cmdstanpy - INFO - Chain [1] start processing\n",
      "15:47:50 - cmdstanpy - INFO - Chain [1] done processing\n",
      "15:47:51 - cmdstanpy - INFO - Chain [1] start processing\n"
     ]
    },
    {
     "name": "stdout",
     "output_type": "stream",
     "text": [
      "Training with changepoint_prior_scale=0.5, seasonality_prior_scale=10.0\n"
     ]
    },
    {
     "name": "stderr",
     "output_type": "stream",
     "text": [
      "15:47:51 - cmdstanpy - INFO - Chain [1] done processing\n"
     ]
    },
    {
     "data": {
      "application/vnd.jupyter.widget-view+json": {
       "model_id": "8605f42703f549958568085f9433e63d",
       "version_major": 2,
       "version_minor": 0
      },
      "text/plain": [
       "  0%|          | 0/11 [00:00<?, ?it/s]"
      ]
     },
     "metadata": {},
     "output_type": "display_data"
    },
    {
     "name": "stderr",
     "output_type": "stream",
     "text": [
      "15:47:51 - cmdstanpy - INFO - Chain [1] start processing\n",
      "15:47:51 - cmdstanpy - INFO - Chain [1] done processing\n",
      "15:47:51 - cmdstanpy - INFO - Chain [1] start processing\n",
      "15:47:51 - cmdstanpy - INFO - Chain [1] done processing\n",
      "15:47:51 - cmdstanpy - INFO - Chain [1] start processing\n",
      "15:47:52 - cmdstanpy - INFO - Chain [1] done processing\n",
      "15:47:52 - cmdstanpy - INFO - Chain [1] start processing\n",
      "15:47:52 - cmdstanpy - INFO - Chain [1] done processing\n",
      "15:47:52 - cmdstanpy - INFO - Chain [1] start processing\n",
      "15:47:52 - cmdstanpy - INFO - Chain [1] done processing\n",
      "15:47:52 - cmdstanpy - INFO - Chain [1] start processing\n",
      "15:47:53 - cmdstanpy - INFO - Chain [1] done processing\n",
      "15:47:53 - cmdstanpy - INFO - Chain [1] start processing\n",
      "15:47:53 - cmdstanpy - INFO - Chain [1] done processing\n",
      "15:47:53 - cmdstanpy - INFO - Chain [1] start processing\n",
      "15:47:53 - cmdstanpy - INFO - Chain [1] done processing\n",
      "15:47:53 - cmdstanpy - INFO - Chain [1] start processing\n",
      "15:47:53 - cmdstanpy - INFO - Chain [1] done processing\n",
      "15:47:53 - cmdstanpy - INFO - Chain [1] start processing\n",
      "15:47:54 - cmdstanpy - INFO - Chain [1] done processing\n",
      "15:47:54 - cmdstanpy - INFO - Chain [1] start processing\n",
      "15:47:54 - cmdstanpy - INFO - Chain [1] done processing\n",
      "Tuning cs subdisciplines:  95%|██████████████████ | 38/40 [09:24<00:28, 14.06s/it, Processing cs.SI]"
     ]
    },
    {
     "name": "stdout",
     "output_type": "stream",
     "text": [
      "\n",
      "Best Parameters:\n",
      "changepoint_prior_scale     0.01000\n",
      "seasonality_prior_scale    10.00000\n",
      "rmse                       18.62589\n",
      "Name: 1, dtype: float64\n"
     ]
    },
    {
     "name": "stderr",
     "output_type": "stream",
     "text": [
      "15:47:55 - cmdstanpy - INFO - Chain [1] start processing\n",
      "15:47:55 - cmdstanpy - INFO - Chain [1] done processing\n"
     ]
    },
    {
     "name": "stdout",
     "output_type": "stream",
     "text": [
      "Training with changepoint_prior_scale=0.01, seasonality_prior_scale=1.0\n"
     ]
    },
    {
     "data": {
      "application/vnd.jupyter.widget-view+json": {
       "model_id": "643240fe1ee74dc6bc4a283411433a33",
       "version_major": 2,
       "version_minor": 0
      },
      "text/plain": [
       "  0%|          | 0/9 [00:00<?, ?it/s]"
      ]
     },
     "metadata": {},
     "output_type": "display_data"
    },
    {
     "name": "stderr",
     "output_type": "stream",
     "text": [
      "15:47:55 - cmdstanpy - INFO - Chain [1] start processing\n",
      "15:47:55 - cmdstanpy - INFO - Chain [1] done processing\n",
      "15:47:55 - cmdstanpy - INFO - Chain [1] start processing\n",
      "15:47:55 - cmdstanpy - INFO - Chain [1] done processing\n",
      "15:47:55 - cmdstanpy - INFO - Chain [1] start processing\n",
      "15:47:55 - cmdstanpy - INFO - Chain [1] done processing\n",
      "15:47:55 - cmdstanpy - INFO - Chain [1] start processing\n",
      "15:47:55 - cmdstanpy - INFO - Chain [1] done processing\n",
      "15:47:55 - cmdstanpy - INFO - Chain [1] start processing\n",
      "15:47:55 - cmdstanpy - INFO - Chain [1] done processing\n",
      "15:47:56 - cmdstanpy - INFO - Chain [1] start processing\n",
      "15:47:56 - cmdstanpy - INFO - Chain [1] done processing\n",
      "15:47:56 - cmdstanpy - INFO - Chain [1] start processing\n",
      "15:47:56 - cmdstanpy - INFO - Chain [1] done processing\n",
      "15:47:56 - cmdstanpy - INFO - Chain [1] start processing\n",
      "15:47:56 - cmdstanpy - INFO - Chain [1] done processing\n",
      "15:47:56 - cmdstanpy - INFO - Chain [1] start processing\n",
      "15:47:56 - cmdstanpy - INFO - Chain [1] done processing\n",
      "15:47:56 - cmdstanpy - INFO - Chain [1] start processing\n",
      "15:47:56 - cmdstanpy - INFO - Chain [1] done processing\n"
     ]
    },
    {
     "name": "stdout",
     "output_type": "stream",
     "text": [
      "Training with changepoint_prior_scale=0.01, seasonality_prior_scale=10.0\n"
     ]
    },
    {
     "data": {
      "application/vnd.jupyter.widget-view+json": {
       "model_id": "58a5dd7318944112b9f90274ac7423ab",
       "version_major": 2,
       "version_minor": 0
      },
      "text/plain": [
       "  0%|          | 0/9 [00:00<?, ?it/s]"
      ]
     },
     "metadata": {},
     "output_type": "display_data"
    },
    {
     "name": "stderr",
     "output_type": "stream",
     "text": [
      "15:47:56 - cmdstanpy - INFO - Chain [1] start processing\n",
      "15:47:56 - cmdstanpy - INFO - Chain [1] done processing\n",
      "15:47:57 - cmdstanpy - INFO - Chain [1] start processing\n",
      "15:47:57 - cmdstanpy - INFO - Chain [1] done processing\n",
      "15:47:57 - cmdstanpy - INFO - Chain [1] start processing\n",
      "15:47:57 - cmdstanpy - INFO - Chain [1] done processing\n",
      "15:47:57 - cmdstanpy - INFO - Chain [1] start processing\n",
      "15:47:57 - cmdstanpy - INFO - Chain [1] done processing\n",
      "15:47:57 - cmdstanpy - INFO - Chain [1] start processing\n",
      "15:47:57 - cmdstanpy - INFO - Chain [1] done processing\n",
      "15:47:57 - cmdstanpy - INFO - Chain [1] start processing\n",
      "15:47:57 - cmdstanpy - INFO - Chain [1] done processing\n",
      "15:47:57 - cmdstanpy - INFO - Chain [1] start processing\n",
      "15:47:57 - cmdstanpy - INFO - Chain [1] done processing\n",
      "15:47:57 - cmdstanpy - INFO - Chain [1] start processing\n",
      "15:47:57 - cmdstanpy - INFO - Chain [1] done processing\n",
      "15:47:58 - cmdstanpy - INFO - Chain [1] start processing\n",
      "15:47:58 - cmdstanpy - INFO - Chain [1] done processing\n",
      "15:47:58 - cmdstanpy - INFO - Chain [1] start processing\n"
     ]
    },
    {
     "name": "stdout",
     "output_type": "stream",
     "text": [
      "Training with changepoint_prior_scale=0.1, seasonality_prior_scale=1.0\n"
     ]
    },
    {
     "name": "stderr",
     "output_type": "stream",
     "text": [
      "15:47:58 - cmdstanpy - INFO - Chain [1] done processing\n"
     ]
    },
    {
     "data": {
      "application/vnd.jupyter.widget-view+json": {
       "model_id": "1dd67156c67e44c690b55336dc8e3526",
       "version_major": 2,
       "version_minor": 0
      },
      "text/plain": [
       "  0%|          | 0/9 [00:00<?, ?it/s]"
      ]
     },
     "metadata": {},
     "output_type": "display_data"
    },
    {
     "name": "stderr",
     "output_type": "stream",
     "text": [
      "15:47:58 - cmdstanpy - INFO - Chain [1] start processing\n",
      "15:47:58 - cmdstanpy - INFO - Chain [1] done processing\n",
      "15:47:58 - cmdstanpy - INFO - Chain [1] start processing\n",
      "15:47:58 - cmdstanpy - INFO - Chain [1] done processing\n",
      "15:47:58 - cmdstanpy - INFO - Chain [1] start processing\n",
      "15:47:58 - cmdstanpy - INFO - Chain [1] done processing\n",
      "15:47:59 - cmdstanpy - INFO - Chain [1] start processing\n",
      "15:47:59 - cmdstanpy - INFO - Chain [1] done processing\n",
      "15:47:59 - cmdstanpy - INFO - Chain [1] start processing\n",
      "15:47:59 - cmdstanpy - INFO - Chain [1] done processing\n",
      "15:47:59 - cmdstanpy - INFO - Chain [1] start processing\n",
      "15:47:59 - cmdstanpy - INFO - Chain [1] done processing\n",
      "15:47:59 - cmdstanpy - INFO - Chain [1] start processing\n",
      "15:47:59 - cmdstanpy - INFO - Chain [1] done processing\n",
      "15:47:59 - cmdstanpy - INFO - Chain [1] start processing\n",
      "15:47:59 - cmdstanpy - INFO - Chain [1] done processing\n",
      "15:47:59 - cmdstanpy - INFO - Chain [1] start processing\n",
      "15:47:59 - cmdstanpy - INFO - Chain [1] done processing\n",
      "15:48:00 - cmdstanpy - INFO - Chain [1] start processing\n",
      "15:48:00 - cmdstanpy - INFO - Chain [1] done processing\n"
     ]
    },
    {
     "name": "stdout",
     "output_type": "stream",
     "text": [
      "Training with changepoint_prior_scale=0.1, seasonality_prior_scale=10.0\n"
     ]
    },
    {
     "data": {
      "application/vnd.jupyter.widget-view+json": {
       "model_id": "4afd6161c0624d48a60ff31fc1af6c8d",
       "version_major": 2,
       "version_minor": 0
      },
      "text/plain": [
       "  0%|          | 0/9 [00:00<?, ?it/s]"
      ]
     },
     "metadata": {},
     "output_type": "display_data"
    },
    {
     "name": "stderr",
     "output_type": "stream",
     "text": [
      "15:48:00 - cmdstanpy - INFO - Chain [1] start processing\n",
      "15:48:00 - cmdstanpy - INFO - Chain [1] done processing\n",
      "15:48:00 - cmdstanpy - INFO - Chain [1] start processing\n",
      "15:48:00 - cmdstanpy - INFO - Chain [1] done processing\n",
      "15:48:00 - cmdstanpy - INFO - Chain [1] start processing\n",
      "15:48:00 - cmdstanpy - INFO - Chain [1] done processing\n",
      "15:48:00 - cmdstanpy - INFO - Chain [1] start processing\n",
      "15:48:00 - cmdstanpy - INFO - Chain [1] done processing\n",
      "15:48:01 - cmdstanpy - INFO - Chain [1] start processing\n",
      "15:48:01 - cmdstanpy - INFO - Chain [1] done processing\n",
      "15:48:01 - cmdstanpy - INFO - Chain [1] start processing\n",
      "15:48:01 - cmdstanpy - INFO - Chain [1] done processing\n",
      "15:48:01 - cmdstanpy - INFO - Chain [1] start processing\n",
      "15:48:01 - cmdstanpy - INFO - Chain [1] done processing\n",
      "15:48:01 - cmdstanpy - INFO - Chain [1] start processing\n",
      "15:48:01 - cmdstanpy - INFO - Chain [1] done processing\n",
      "15:48:01 - cmdstanpy - INFO - Chain [1] start processing\n",
      "15:48:01 - cmdstanpy - INFO - Chain [1] done processing\n",
      "15:48:02 - cmdstanpy - INFO - Chain [1] start processing\n",
      "15:48:02 - cmdstanpy - INFO - Chain [1] done processing\n"
     ]
    },
    {
     "name": "stdout",
     "output_type": "stream",
     "text": [
      "Training with changepoint_prior_scale=0.5, seasonality_prior_scale=1.0\n"
     ]
    },
    {
     "data": {
      "application/vnd.jupyter.widget-view+json": {
       "model_id": "43cfc9326f7e4b28b246cd06228086ec",
       "version_major": 2,
       "version_minor": 0
      },
      "text/plain": [
       "  0%|          | 0/9 [00:00<?, ?it/s]"
      ]
     },
     "metadata": {},
     "output_type": "display_data"
    },
    {
     "name": "stderr",
     "output_type": "stream",
     "text": [
      "15:48:02 - cmdstanpy - INFO - Chain [1] start processing\n",
      "15:48:02 - cmdstanpy - INFO - Chain [1] done processing\n",
      "15:48:02 - cmdstanpy - INFO - Chain [1] start processing\n",
      "15:48:02 - cmdstanpy - INFO - Chain [1] done processing\n",
      "15:48:02 - cmdstanpy - INFO - Chain [1] start processing\n",
      "15:48:02 - cmdstanpy - INFO - Chain [1] done processing\n",
      "15:48:02 - cmdstanpy - INFO - Chain [1] start processing\n",
      "15:48:02 - cmdstanpy - INFO - Chain [1] done processing\n",
      "15:48:02 - cmdstanpy - INFO - Chain [1] start processing\n",
      "15:48:03 - cmdstanpy - INFO - Chain [1] done processing\n",
      "15:48:03 - cmdstanpy - INFO - Chain [1] start processing\n",
      "15:48:03 - cmdstanpy - INFO - Chain [1] done processing\n",
      "15:48:03 - cmdstanpy - INFO - Chain [1] start processing\n",
      "15:48:03 - cmdstanpy - INFO - Chain [1] done processing\n",
      "15:48:03 - cmdstanpy - INFO - Chain [1] start processing\n",
      "15:48:03 - cmdstanpy - INFO - Chain [1] done processing\n",
      "15:48:03 - cmdstanpy - INFO - Chain [1] start processing\n",
      "15:48:04 - cmdstanpy - INFO - Chain [1] done processing\n",
      "15:48:04 - cmdstanpy - INFO - Chain [1] start processing\n"
     ]
    },
    {
     "name": "stdout",
     "output_type": "stream",
     "text": [
      "Training with changepoint_prior_scale=0.5, seasonality_prior_scale=10.0\n"
     ]
    },
    {
     "name": "stderr",
     "output_type": "stream",
     "text": [
      "15:48:04 - cmdstanpy - INFO - Chain [1] done processing\n"
     ]
    },
    {
     "data": {
      "application/vnd.jupyter.widget-view+json": {
       "model_id": "106962b3f2324767a2949992fc32580e",
       "version_major": 2,
       "version_minor": 0
      },
      "text/plain": [
       "  0%|          | 0/9 [00:00<?, ?it/s]"
      ]
     },
     "metadata": {},
     "output_type": "display_data"
    },
    {
     "name": "stderr",
     "output_type": "stream",
     "text": [
      "15:48:04 - cmdstanpy - INFO - Chain [1] start processing\n",
      "15:48:04 - cmdstanpy - INFO - Chain [1] done processing\n",
      "15:48:04 - cmdstanpy - INFO - Chain [1] start processing\n",
      "15:48:05 - cmdstanpy - INFO - Chain [1] done processing\n",
      "15:48:05 - cmdstanpy - INFO - Chain [1] start processing\n",
      "15:48:05 - cmdstanpy - INFO - Chain [1] done processing\n",
      "15:48:05 - cmdstanpy - INFO - Chain [1] start processing\n",
      "15:48:05 - cmdstanpy - INFO - Chain [1] done processing\n",
      "15:48:05 - cmdstanpy - INFO - Chain [1] start processing\n",
      "15:48:05 - cmdstanpy - INFO - Chain [1] done processing\n",
      "15:48:05 - cmdstanpy - INFO - Chain [1] start processing\n",
      "15:48:06 - cmdstanpy - INFO - Chain [1] done processing\n",
      "15:48:06 - cmdstanpy - INFO - Chain [1] start processing\n",
      "15:48:06 - cmdstanpy - INFO - Chain [1] done processing\n",
      "15:48:06 - cmdstanpy - INFO - Chain [1] start processing\n",
      "15:48:06 - cmdstanpy - INFO - Chain [1] done processing\n",
      "15:48:06 - cmdstanpy - INFO - Chain [1] start processing\n",
      "15:48:06 - cmdstanpy - INFO - Chain [1] done processing\n",
      "Tuning cs subdisciplines:  98%|██████████████████▌| 39/40 [09:36<00:13, 13.45s/it, Processing cs.SY]"
     ]
    },
    {
     "name": "stdout",
     "output_type": "stream",
     "text": [
      "\n",
      "Best Parameters:\n",
      "changepoint_prior_scale     0.100000\n",
      "seasonality_prior_scale    10.000000\n",
      "rmse                       13.251669\n",
      "Name: 3, dtype: float64\n"
     ]
    },
    {
     "name": "stderr",
     "output_type": "stream",
     "text": [
      "15:48:07 - cmdstanpy - INFO - Chain [1] start processing\n",
      "15:48:07 - cmdstanpy - INFO - Chain [1] done processing\n"
     ]
    },
    {
     "name": "stdout",
     "output_type": "stream",
     "text": [
      "Training with changepoint_prior_scale=0.01, seasonality_prior_scale=1.0\n"
     ]
    },
    {
     "data": {
      "application/vnd.jupyter.widget-view+json": {
       "model_id": "cef10a94c9d34bf8999d8162a9804623",
       "version_major": 2,
       "version_minor": 0
      },
      "text/plain": [
       "  0%|          | 0/10 [00:00<?, ?it/s]"
      ]
     },
     "metadata": {},
     "output_type": "display_data"
    },
    {
     "name": "stderr",
     "output_type": "stream",
     "text": [
      "15:48:07 - cmdstanpy - INFO - Chain [1] start processing\n",
      "15:48:07 - cmdstanpy - INFO - Chain [1] done processing\n",
      "15:48:07 - cmdstanpy - INFO - Chain [1] start processing\n",
      "15:48:07 - cmdstanpy - INFO - Chain [1] done processing\n",
      "15:48:07 - cmdstanpy - INFO - Chain [1] start processing\n",
      "15:48:07 - cmdstanpy - INFO - Chain [1] done processing\n",
      "15:48:07 - cmdstanpy - INFO - Chain [1] start processing\n",
      "15:48:07 - cmdstanpy - INFO - Chain [1] done processing\n",
      "15:48:08 - cmdstanpy - INFO - Chain [1] start processing\n",
      "15:48:08 - cmdstanpy - INFO - Chain [1] done processing\n",
      "15:48:08 - cmdstanpy - INFO - Chain [1] start processing\n",
      "15:48:08 - cmdstanpy - INFO - Chain [1] done processing\n",
      "15:48:08 - cmdstanpy - INFO - Chain [1] start processing\n",
      "15:48:08 - cmdstanpy - INFO - Chain [1] done processing\n",
      "15:48:08 - cmdstanpy - INFO - Chain [1] start processing\n",
      "15:48:08 - cmdstanpy - INFO - Chain [1] done processing\n",
      "15:48:08 - cmdstanpy - INFO - Chain [1] start processing\n",
      "15:48:08 - cmdstanpy - INFO - Chain [1] done processing\n",
      "15:48:08 - cmdstanpy - INFO - Chain [1] start processing\n",
      "15:48:08 - cmdstanpy - INFO - Chain [1] done processing\n",
      "15:48:09 - cmdstanpy - INFO - Chain [1] start processing\n",
      "15:48:09 - cmdstanpy - INFO - Chain [1] done processing\n"
     ]
    },
    {
     "name": "stdout",
     "output_type": "stream",
     "text": [
      "Training with changepoint_prior_scale=0.01, seasonality_prior_scale=10.0\n"
     ]
    },
    {
     "data": {
      "application/vnd.jupyter.widget-view+json": {
       "model_id": "0abfb3d28622425b83884c04640d107e",
       "version_major": 2,
       "version_minor": 0
      },
      "text/plain": [
       "  0%|          | 0/10 [00:00<?, ?it/s]"
      ]
     },
     "metadata": {},
     "output_type": "display_data"
    },
    {
     "name": "stderr",
     "output_type": "stream",
     "text": [
      "15:48:09 - cmdstanpy - INFO - Chain [1] start processing\n",
      "15:48:09 - cmdstanpy - INFO - Chain [1] done processing\n",
      "15:48:09 - cmdstanpy - INFO - Chain [1] start processing\n",
      "15:48:09 - cmdstanpy - INFO - Chain [1] done processing\n",
      "15:48:09 - cmdstanpy - INFO - Chain [1] start processing\n",
      "15:48:09 - cmdstanpy - INFO - Chain [1] done processing\n",
      "15:48:09 - cmdstanpy - INFO - Chain [1] start processing\n",
      "15:48:09 - cmdstanpy - INFO - Chain [1] done processing\n",
      "15:48:09 - cmdstanpy - INFO - Chain [1] start processing\n",
      "15:48:09 - cmdstanpy - INFO - Chain [1] done processing\n",
      "15:48:10 - cmdstanpy - INFO - Chain [1] start processing\n",
      "15:48:10 - cmdstanpy - INFO - Chain [1] done processing\n",
      "15:48:10 - cmdstanpy - INFO - Chain [1] start processing\n",
      "15:48:10 - cmdstanpy - INFO - Chain [1] done processing\n",
      "15:48:10 - cmdstanpy - INFO - Chain [1] start processing\n",
      "15:48:10 - cmdstanpy - INFO - Chain [1] done processing\n",
      "15:48:10 - cmdstanpy - INFO - Chain [1] start processing\n",
      "15:48:10 - cmdstanpy - INFO - Chain [1] done processing\n",
      "15:48:10 - cmdstanpy - INFO - Chain [1] start processing\n",
      "15:48:10 - cmdstanpy - INFO - Chain [1] done processing\n",
      "15:48:10 - cmdstanpy - INFO - Chain [1] start processing\n",
      "15:48:11 - cmdstanpy - INFO - Chain [1] done processing\n"
     ]
    },
    {
     "name": "stdout",
     "output_type": "stream",
     "text": [
      "Training with changepoint_prior_scale=0.1, seasonality_prior_scale=1.0\n"
     ]
    },
    {
     "data": {
      "application/vnd.jupyter.widget-view+json": {
       "model_id": "edce9325b3904882aecaa82e1d834745",
       "version_major": 2,
       "version_minor": 0
      },
      "text/plain": [
       "  0%|          | 0/10 [00:00<?, ?it/s]"
      ]
     },
     "metadata": {},
     "output_type": "display_data"
    },
    {
     "name": "stderr",
     "output_type": "stream",
     "text": [
      "15:48:11 - cmdstanpy - INFO - Chain [1] start processing\n",
      "15:48:11 - cmdstanpy - INFO - Chain [1] done processing\n",
      "15:48:11 - cmdstanpy - INFO - Chain [1] start processing\n",
      "15:48:11 - cmdstanpy - INFO - Chain [1] done processing\n",
      "15:48:11 - cmdstanpy - INFO - Chain [1] start processing\n",
      "15:48:11 - cmdstanpy - INFO - Chain [1] done processing\n",
      "15:48:11 - cmdstanpy - INFO - Chain [1] start processing\n",
      "15:48:11 - cmdstanpy - INFO - Chain [1] done processing\n",
      "15:48:11 - cmdstanpy - INFO - Chain [1] start processing\n",
      "15:48:11 - cmdstanpy - INFO - Chain [1] done processing\n",
      "15:48:12 - cmdstanpy - INFO - Chain [1] start processing\n",
      "15:48:12 - cmdstanpy - INFO - Chain [1] done processing\n",
      "15:48:12 - cmdstanpy - INFO - Chain [1] start processing\n",
      "15:48:12 - cmdstanpy - INFO - Chain [1] done processing\n",
      "15:48:12 - cmdstanpy - INFO - Chain [1] start processing\n",
      "15:48:12 - cmdstanpy - INFO - Chain [1] done processing\n",
      "15:48:12 - cmdstanpy - INFO - Chain [1] start processing\n",
      "15:48:12 - cmdstanpy - INFO - Chain [1] done processing\n",
      "15:48:12 - cmdstanpy - INFO - Chain [1] start processing\n",
      "15:48:12 - cmdstanpy - INFO - Chain [1] done processing\n",
      "15:48:13 - cmdstanpy - INFO - Chain [1] start processing\n",
      "15:48:13 - cmdstanpy - INFO - Chain [1] done processing\n"
     ]
    },
    {
     "name": "stdout",
     "output_type": "stream",
     "text": [
      "Training with changepoint_prior_scale=0.1, seasonality_prior_scale=10.0\n"
     ]
    },
    {
     "data": {
      "application/vnd.jupyter.widget-view+json": {
       "model_id": "7a087bc1de274e8cb35cb0438e01394f",
       "version_major": 2,
       "version_minor": 0
      },
      "text/plain": [
       "  0%|          | 0/10 [00:00<?, ?it/s]"
      ]
     },
     "metadata": {},
     "output_type": "display_data"
    },
    {
     "name": "stderr",
     "output_type": "stream",
     "text": [
      "15:48:13 - cmdstanpy - INFO - Chain [1] start processing\n",
      "15:48:13 - cmdstanpy - INFO - Chain [1] done processing\n",
      "15:48:13 - cmdstanpy - INFO - Chain [1] start processing\n",
      "15:48:13 - cmdstanpy - INFO - Chain [1] done processing\n",
      "15:48:13 - cmdstanpy - INFO - Chain [1] start processing\n",
      "15:48:13 - cmdstanpy - INFO - Chain [1] done processing\n",
      "15:48:13 - cmdstanpy - INFO - Chain [1] start processing\n",
      "15:48:14 - cmdstanpy - INFO - Chain [1] done processing\n",
      "15:48:14 - cmdstanpy - INFO - Chain [1] start processing\n",
      "15:48:14 - cmdstanpy - INFO - Chain [1] done processing\n",
      "15:48:14 - cmdstanpy - INFO - Chain [1] start processing\n",
      "15:48:14 - cmdstanpy - INFO - Chain [1] done processing\n",
      "15:48:14 - cmdstanpy - INFO - Chain [1] start processing\n",
      "15:48:14 - cmdstanpy - INFO - Chain [1] done processing\n",
      "15:48:14 - cmdstanpy - INFO - Chain [1] start processing\n",
      "15:48:14 - cmdstanpy - INFO - Chain [1] done processing\n",
      "15:48:14 - cmdstanpy - INFO - Chain [1] start processing\n",
      "15:48:14 - cmdstanpy - INFO - Chain [1] done processing\n",
      "15:48:15 - cmdstanpy - INFO - Chain [1] start processing\n",
      "15:48:15 - cmdstanpy - INFO - Chain [1] done processing\n",
      "15:48:15 - cmdstanpy - INFO - Chain [1] start processing\n"
     ]
    },
    {
     "name": "stdout",
     "output_type": "stream",
     "text": [
      "Training with changepoint_prior_scale=0.5, seasonality_prior_scale=1.0\n"
     ]
    },
    {
     "name": "stderr",
     "output_type": "stream",
     "text": [
      "15:48:15 - cmdstanpy - INFO - Chain [1] done processing\n"
     ]
    },
    {
     "data": {
      "application/vnd.jupyter.widget-view+json": {
       "model_id": "a1f7cd0cc97e4d47839065a66d381aca",
       "version_major": 2,
       "version_minor": 0
      },
      "text/plain": [
       "  0%|          | 0/10 [00:00<?, ?it/s]"
      ]
     },
     "metadata": {},
     "output_type": "display_data"
    },
    {
     "name": "stderr",
     "output_type": "stream",
     "text": [
      "15:48:15 - cmdstanpy - INFO - Chain [1] start processing\n",
      "15:48:15 - cmdstanpy - INFO - Chain [1] done processing\n",
      "15:48:15 - cmdstanpy - INFO - Chain [1] start processing\n",
      "15:48:16 - cmdstanpy - INFO - Chain [1] done processing\n",
      "15:48:16 - cmdstanpy - INFO - Chain [1] start processing\n",
      "15:48:16 - cmdstanpy - INFO - Chain [1] done processing\n",
      "15:48:16 - cmdstanpy - INFO - Chain [1] start processing\n",
      "15:48:16 - cmdstanpy - INFO - Chain [1] done processing\n",
      "15:48:16 - cmdstanpy - INFO - Chain [1] start processing\n",
      "15:48:16 - cmdstanpy - INFO - Chain [1] done processing\n",
      "15:48:16 - cmdstanpy - INFO - Chain [1] start processing\n",
      "15:48:17 - cmdstanpy - INFO - Chain [1] done processing\n",
      "15:48:17 - cmdstanpy - INFO - Chain [1] start processing\n",
      "15:48:17 - cmdstanpy - INFO - Chain [1] done processing\n",
      "15:48:17 - cmdstanpy - INFO - Chain [1] start processing\n",
      "15:48:17 - cmdstanpy - INFO - Chain [1] done processing\n",
      "15:48:17 - cmdstanpy - INFO - Chain [1] start processing\n",
      "15:48:17 - cmdstanpy - INFO - Chain [1] done processing\n",
      "15:48:17 - cmdstanpy - INFO - Chain [1] start processing\n",
      "15:48:18 - cmdstanpy - INFO - Chain [1] done processing\n",
      "15:48:18 - cmdstanpy - INFO - Chain [1] start processing\n"
     ]
    },
    {
     "name": "stdout",
     "output_type": "stream",
     "text": [
      "Training with changepoint_prior_scale=0.5, seasonality_prior_scale=10.0\n"
     ]
    },
    {
     "name": "stderr",
     "output_type": "stream",
     "text": [
      "15:48:18 - cmdstanpy - INFO - Chain [1] done processing\n"
     ]
    },
    {
     "data": {
      "application/vnd.jupyter.widget-view+json": {
       "model_id": "56adf511f7ba4892947a998be28c3c93",
       "version_major": 2,
       "version_minor": 0
      },
      "text/plain": [
       "  0%|          | 0/10 [00:00<?, ?it/s]"
      ]
     },
     "metadata": {},
     "output_type": "display_data"
    },
    {
     "name": "stderr",
     "output_type": "stream",
     "text": [
      "15:48:18 - cmdstanpy - INFO - Chain [1] start processing\n",
      "15:48:19 - cmdstanpy - INFO - Chain [1] done processing\n",
      "15:48:19 - cmdstanpy - INFO - Chain [1] start processing\n",
      "15:48:19 - cmdstanpy - INFO - Chain [1] done processing\n",
      "15:48:19 - cmdstanpy - INFO - Chain [1] start processing\n",
      "15:48:19 - cmdstanpy - INFO - Chain [1] done processing\n",
      "15:48:19 - cmdstanpy - INFO - Chain [1] start processing\n",
      "15:48:19 - cmdstanpy - INFO - Chain [1] done processing\n",
      "15:48:19 - cmdstanpy - INFO - Chain [1] start processing\n",
      "15:48:19 - cmdstanpy - INFO - Chain [1] done processing\n",
      "15:48:19 - cmdstanpy - INFO - Chain [1] start processing\n",
      "15:48:20 - cmdstanpy - INFO - Chain [1] done processing\n",
      "15:48:20 - cmdstanpy - INFO - Chain [1] start processing\n",
      "15:48:20 - cmdstanpy - INFO - Chain [1] done processing\n",
      "15:48:20 - cmdstanpy - INFO - Chain [1] start processing\n",
      "15:48:20 - cmdstanpy - INFO - Chain [1] done processing\n",
      "15:48:20 - cmdstanpy - INFO - Chain [1] start processing\n",
      "15:48:21 - cmdstanpy - INFO - Chain [1] done processing\n",
      "15:48:21 - cmdstanpy - INFO - Chain [1] start processing\n",
      "15:48:21 - cmdstanpy - INFO - Chain [1] done processing\n",
      "Tuning cs subdisciplines: 100%|███████████████████| 40/40 [09:51<00:00, 14.78s/it, Processing cs.SY]"
     ]
    },
    {
     "name": "stdout",
     "output_type": "stream",
     "text": [
      "\n",
      "Best Parameters:\n",
      "changepoint_prior_scale     0.500000\n",
      "seasonality_prior_scale     1.000000\n",
      "rmse                       33.488519\n",
      "Name: 4, dtype: float64\n"
     ]
    },
    {
     "name": "stderr",
     "output_type": "stream",
     "text": [
      "\n"
     ]
    },
    {
     "ename": "ValueError",
     "evalue": "Must pass 2-d input. shape=(40, 6, 4)",
     "output_type": "error",
     "traceback": [
      "\u001b[0;31m---------------------------------------------------------------------------\u001b[0m",
      "\u001b[0;31mValueError\u001b[0m                                Traceback (most recent call last)",
      "Cell \u001b[0;32mIn[52], line 41\u001b[0m\n\u001b[1;32m     37\u001b[0m     \u001b[38;5;28mprint\u001b[39m(\u001b[38;5;124mf\u001b[39m\u001b[38;5;124m\"\u001b[39m\u001b[38;5;124mAverage Best seasonality_prior_scale across all categories: \u001b[39m\u001b[38;5;132;01m{\u001b[39;00mmean_seasonality_prior_scale\u001b[38;5;132;01m}\u001b[39;00m\u001b[38;5;124m\"\u001b[39m)\n\u001b[1;32m     39\u001b[0m     \u001b[38;5;28;01mreturn\u001b[39;00m best_params_df\n\u001b[0;32m---> 41\u001b[0m hyperparameters_df \u001b[38;5;241m=\u001b[39m \u001b[43mtune_all_hyperparameters\u001b[49m\u001b[43m(\u001b[49m\u001b[38;5;124;43m\"\u001b[39;49m\u001b[38;5;124;43mcs\u001b[39;49m\u001b[38;5;124;43m\"\u001b[39;49m\u001b[43m,\u001b[49m\u001b[43m \u001b[49m\u001b[43mcs_categories\u001b[49m\u001b[43m)\u001b[49m\n\u001b[1;32m     43\u001b[0m \u001b[38;5;28mprint\u001b[39m(hyperparameters_df)\n",
      "Cell \u001b[0;32mIn[52], line 30\u001b[0m, in \u001b[0;36mtune_all_hyperparameters\u001b[0;34m(discipline, categories)\u001b[0m\n\u001b[1;32m     27\u001b[0m         pbar\u001b[38;5;241m.\u001b[39mupdate(\u001b[38;5;241m1\u001b[39m)\n\u001b[1;32m     29\u001b[0m \u001b[38;5;66;03m# Convert the results list to a DataFrame\u001b[39;00m\n\u001b[0;32m---> 30\u001b[0m best_params_df \u001b[38;5;241m=\u001b[39m \u001b[43mpd\u001b[49m\u001b[38;5;241;43m.\u001b[39;49m\u001b[43mDataFrame\u001b[49m\u001b[43m(\u001b[49m\u001b[43mbest_params_list\u001b[49m\u001b[43m)\u001b[49m\n\u001b[1;32m     32\u001b[0m \u001b[38;5;66;03m# Calculate the mean of the best hyperparameters across all subdisciplines\u001b[39;00m\n\u001b[1;32m     33\u001b[0m mean_changepoint_prior_scale \u001b[38;5;241m=\u001b[39m best_params_df[\u001b[38;5;124m'\u001b[39m\u001b[38;5;124mchangepoint_prior_scale\u001b[39m\u001b[38;5;124m'\u001b[39m]\u001b[38;5;241m.\u001b[39mmean()\n",
      "File \u001b[0;32m~/Library/Python/3.12/lib/python/site-packages/pandas/core/frame.py:867\u001b[0m, in \u001b[0;36mDataFrame.__init__\u001b[0;34m(self, data, index, columns, dtype, copy)\u001b[0m\n\u001b[1;32m    859\u001b[0m         mgr \u001b[38;5;241m=\u001b[39m arrays_to_mgr(\n\u001b[1;32m    860\u001b[0m             arrays,\n\u001b[1;32m    861\u001b[0m             columns,\n\u001b[0;32m   (...)\u001b[0m\n\u001b[1;32m    864\u001b[0m             typ\u001b[38;5;241m=\u001b[39mmanager,\n\u001b[1;32m    865\u001b[0m         )\n\u001b[1;32m    866\u001b[0m     \u001b[38;5;28;01melse\u001b[39;00m:\n\u001b[0;32m--> 867\u001b[0m         mgr \u001b[38;5;241m=\u001b[39m \u001b[43mndarray_to_mgr\u001b[49m\u001b[43m(\u001b[49m\n\u001b[1;32m    868\u001b[0m \u001b[43m            \u001b[49m\u001b[43mdata\u001b[49m\u001b[43m,\u001b[49m\n\u001b[1;32m    869\u001b[0m \u001b[43m            \u001b[49m\u001b[43mindex\u001b[49m\u001b[43m,\u001b[49m\n\u001b[1;32m    870\u001b[0m \u001b[43m            \u001b[49m\u001b[43mcolumns\u001b[49m\u001b[43m,\u001b[49m\n\u001b[1;32m    871\u001b[0m \u001b[43m            \u001b[49m\u001b[43mdtype\u001b[49m\u001b[38;5;241;43m=\u001b[39;49m\u001b[43mdtype\u001b[49m\u001b[43m,\u001b[49m\n\u001b[1;32m    872\u001b[0m \u001b[43m            \u001b[49m\u001b[43mcopy\u001b[49m\u001b[38;5;241;43m=\u001b[39;49m\u001b[43mcopy\u001b[49m\u001b[43m,\u001b[49m\n\u001b[1;32m    873\u001b[0m \u001b[43m            \u001b[49m\u001b[43mtyp\u001b[49m\u001b[38;5;241;43m=\u001b[39;49m\u001b[43mmanager\u001b[49m\u001b[43m,\u001b[49m\n\u001b[1;32m    874\u001b[0m \u001b[43m        \u001b[49m\u001b[43m)\u001b[49m\n\u001b[1;32m    875\u001b[0m \u001b[38;5;28;01melse\u001b[39;00m:\n\u001b[1;32m    876\u001b[0m     mgr \u001b[38;5;241m=\u001b[39m dict_to_mgr(\n\u001b[1;32m    877\u001b[0m         {},\n\u001b[1;32m    878\u001b[0m         index,\n\u001b[0;32m   (...)\u001b[0m\n\u001b[1;32m    881\u001b[0m         typ\u001b[38;5;241m=\u001b[39mmanager,\n\u001b[1;32m    882\u001b[0m     )\n",
      "File \u001b[0;32m~/Library/Python/3.12/lib/python/site-packages/pandas/core/internals/construction.py:319\u001b[0m, in \u001b[0;36mndarray_to_mgr\u001b[0;34m(values, index, columns, dtype, copy, typ)\u001b[0m\n\u001b[1;32m    314\u001b[0m     values \u001b[38;5;241m=\u001b[39m _ensure_2d(values)\n\u001b[1;32m    316\u001b[0m \u001b[38;5;28;01melse\u001b[39;00m:\n\u001b[1;32m    317\u001b[0m     \u001b[38;5;66;03m# by definition an array here\u001b[39;00m\n\u001b[1;32m    318\u001b[0m     \u001b[38;5;66;03m# the dtypes will be coerced to a single dtype\u001b[39;00m\n\u001b[0;32m--> 319\u001b[0m     values \u001b[38;5;241m=\u001b[39m \u001b[43m_prep_ndarraylike\u001b[49m\u001b[43m(\u001b[49m\u001b[43mvalues\u001b[49m\u001b[43m,\u001b[49m\u001b[43m \u001b[49m\u001b[43mcopy\u001b[49m\u001b[38;5;241;43m=\u001b[39;49m\u001b[43mcopy_on_sanitize\u001b[49m\u001b[43m)\u001b[49m\n\u001b[1;32m    321\u001b[0m \u001b[38;5;28;01mif\u001b[39;00m dtype \u001b[38;5;129;01mis\u001b[39;00m \u001b[38;5;129;01mnot\u001b[39;00m \u001b[38;5;28;01mNone\u001b[39;00m \u001b[38;5;129;01mand\u001b[39;00m values\u001b[38;5;241m.\u001b[39mdtype \u001b[38;5;241m!=\u001b[39m dtype:\n\u001b[1;32m    322\u001b[0m     \u001b[38;5;66;03m# GH#40110 see similar check inside sanitize_array\u001b[39;00m\n\u001b[1;32m    323\u001b[0m     values \u001b[38;5;241m=\u001b[39m sanitize_array(\n\u001b[1;32m    324\u001b[0m         values,\n\u001b[1;32m    325\u001b[0m         \u001b[38;5;28;01mNone\u001b[39;00m,\n\u001b[0;32m   (...)\u001b[0m\n\u001b[1;32m    328\u001b[0m         allow_2d\u001b[38;5;241m=\u001b[39m\u001b[38;5;28;01mTrue\u001b[39;00m,\n\u001b[1;32m    329\u001b[0m     )\n",
      "File \u001b[0;32m~/Library/Python/3.12/lib/python/site-packages/pandas/core/internals/construction.py:582\u001b[0m, in \u001b[0;36m_prep_ndarraylike\u001b[0;34m(values, copy)\u001b[0m\n\u001b[1;32m    579\u001b[0m \u001b[38;5;28;01melse\u001b[39;00m:\n\u001b[1;32m    580\u001b[0m     values \u001b[38;5;241m=\u001b[39m convert(values)\n\u001b[0;32m--> 582\u001b[0m \u001b[38;5;28;01mreturn\u001b[39;00m \u001b[43m_ensure_2d\u001b[49m\u001b[43m(\u001b[49m\u001b[43mvalues\u001b[49m\u001b[43m)\u001b[49m\n",
      "File \u001b[0;32m~/Library/Python/3.12/lib/python/site-packages/pandas/core/internals/construction.py:592\u001b[0m, in \u001b[0;36m_ensure_2d\u001b[0;34m(values)\u001b[0m\n\u001b[1;32m    590\u001b[0m     values \u001b[38;5;241m=\u001b[39m values\u001b[38;5;241m.\u001b[39mreshape((values\u001b[38;5;241m.\u001b[39mshape[\u001b[38;5;241m0\u001b[39m], \u001b[38;5;241m1\u001b[39m))\n\u001b[1;32m    591\u001b[0m \u001b[38;5;28;01melif\u001b[39;00m values\u001b[38;5;241m.\u001b[39mndim \u001b[38;5;241m!=\u001b[39m \u001b[38;5;241m2\u001b[39m:\n\u001b[0;32m--> 592\u001b[0m     \u001b[38;5;28;01mraise\u001b[39;00m \u001b[38;5;167;01mValueError\u001b[39;00m(\u001b[38;5;124mf\u001b[39m\u001b[38;5;124m\"\u001b[39m\u001b[38;5;124mMust pass 2-d input. shape=\u001b[39m\u001b[38;5;132;01m{\u001b[39;00mvalues\u001b[38;5;241m.\u001b[39mshape\u001b[38;5;132;01m}\u001b[39;00m\u001b[38;5;124m\"\u001b[39m)\n\u001b[1;32m    593\u001b[0m \u001b[38;5;28;01mreturn\u001b[39;00m values\n",
      "\u001b[0;31mValueError\u001b[0m: Must pass 2-d input. shape=(40, 6, 4)"
     ]
    }
   ],
   "source": [
    "def tune_all_hyperparameters(discipline, categories):\n",
    "    best_params_list = []\n",
    "\n",
    " \n",
    "    with tqdm(total=len(categories), desc=f\"Tuning {discipline} subdisciplines\", ncols=100) as pbar:\n",
    "        for category_name in categories:\n",
    "\n",
    "            try:\n",
    "                # Update the progress bar description\n",
    "                pbar.set_postfix_str(f\"Processing {category_name}\")\n",
    "\n",
    "                # Load the category dataframe\n",
    "                category_df = format_pubs_by_week(filepath=f\"{discipline}_arxiv_data.csv\", subdiscipline_code=category_name)\n",
    "                category_df = category_df.to_pandas()\n",
    "                category_df = category_df[[\"year_week\", \"publications_per_week\"]]\n",
    "                category_df = category_df.rename(columns={'year_week': 'ds', 'publications_per_week': 'y'})\n",
    "\n",
    "                # Tune hyperparameters\n",
    "                best_params = hyperparameter_tuning(category_df)\n",
    "                best_params['category_name'] = category_name  # Keep track of which category this result is from\n",
    "                best_params_list.append(best_params)\n",
    "                \n",
    "            except Exception as e:\n",
    "                print(f\"\\nFailed to process category {category_name}: {e}\")\n",
    "            \n",
    "            # Update progress bar after processing each category\n",
    "            pbar.update(1)\n",
    "    \n",
    "    # Convert the results list to a DataFrame\n",
    "    best_params_df = pd.DataFrame(best_params_list)\n",
    "\n",
    "    # Calculate the mean of the best hyperparameters across all subdisciplines\n",
    "    mean_changepoint_prior_scale = best_params_df['changepoint_prior_scale'].mean()\n",
    "    mean_seasonality_prior_scale = best_params_df['seasonality_prior_scale'].mean()\n",
    "\n",
    "    print(f\"\\nAverage Best changepoint_prior_scale across all categories: {mean_changepoint_prior_scale}\")\n",
    "    print(f\"Average Best seasonality_prior_scale across all categories: {mean_seasonality_prior_scale}\")\n",
    "    \n",
    "    return best_params_df\n",
    "\n",
    "hyperparameters_df = tune_all_hyperparameters(\"cs\", cs_categories)\n",
    "\n",
    "print(hyperparameters_df)\n"
   ]
  }
 ],
 "metadata": {
  "kernelspec": {
   "display_name": "Python 3",
   "language": "python",
   "name": "python3"
  },
  "language_info": {
   "codemirror_mode": {
    "name": "ipython",
    "version": 3
   },
   "file_extension": ".py",
   "mimetype": "text/x-python",
   "name": "python",
   "nbconvert_exporter": "python",
   "pygments_lexer": "ipython3",
   "version": "3.12.8"
  }
 },
 "nbformat": 4,
 "nbformat_minor": 2
}
